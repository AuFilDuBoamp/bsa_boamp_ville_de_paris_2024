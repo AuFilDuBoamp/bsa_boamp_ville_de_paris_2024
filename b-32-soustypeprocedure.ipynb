{
 "cells": [
  {
   "cell_type": "markdown",
   "id": "368f6985",
   "metadata": {
    "papermill": {
     "duration": 0.004183,
     "end_time": "2024-10-19T09:32:29.457848",
     "exception": false,
     "start_time": "2024-10-19T09:32:29.453665",
     "status": "completed"
    },
    "tags": []
   },
   "source": [
    "# Colonne «B_32_sousTypeProcedure» (Initialisation)"
   ]
  },
  {
   "cell_type": "markdown",
   "id": "ec9c27c6",
   "metadata": {
    "papermill": {
     "duration": 0.003338,
     "end_time": "2024-10-19T09:32:29.465111",
     "exception": false,
     "start_time": "2024-10-19T09:32:29.461773",
     "status": "completed"
    },
    "tags": []
   },
   "source": [
    "# Intro"
   ]
  },
  {
   "cell_type": "markdown",
   "id": "c8bd8de1",
   "metadata": {
    "papermill": {
     "duration": 0.003168,
     "end_time": "2024-10-19T09:32:29.471776",
     "exception": false,
     "start_time": "2024-10-19T09:32:29.468608",
     "status": "completed"
    },
    "tags": []
   },
   "source": [
    "# Import(s) et réglages"
   ]
  },
  {
   "cell_type": "code",
   "execution_count": 1,
   "id": "8a29f221",
   "metadata": {
    "execution": {
     "iopub.execute_input": "2024-10-19T09:32:29.480493Z",
     "iopub.status.busy": "2024-10-19T09:32:29.480042Z",
     "iopub.status.idle": "2024-10-19T09:32:30.437550Z",
     "shell.execute_reply": "2024-10-19T09:32:30.436397Z"
    },
    "papermill": {
     "duration": 0.965801,
     "end_time": "2024-10-19T09:32:30.440971",
     "exception": false,
     "start_time": "2024-10-19T09:32:29.475170",
     "status": "completed"
    },
    "tags": []
   },
   "outputs": [],
   "source": [
    "# import\n",
    "import pandas as pd\n",
    "#réglages\n",
    "pd.set_option('display.max_colwidth', 500)\n",
    "pd.set_option('display.max_columns', 200)\n",
    "pd.set_option('display.max_rows', 200)"
   ]
  },
  {
   "cell_type": "markdown",
   "id": "628c8e8b",
   "metadata": {
    "papermill": {
     "duration": 0.003429,
     "end_time": "2024-10-19T09:32:30.448363",
     "exception": false,
     "start_time": "2024-10-19T09:32:30.444934",
     "status": "completed"
    },
    "tags": []
   },
   "source": [
    "# Téléchargement des annonces de la Ville de Paris sur Datagouv"
   ]
  },
  {
   "cell_type": "code",
   "execution_count": 2,
   "id": "e37729fb",
   "metadata": {
    "execution": {
     "iopub.execute_input": "2024-10-19T09:32:30.458409Z",
     "iopub.status.busy": "2024-10-19T09:32:30.457189Z",
     "iopub.status.idle": "2024-10-19T09:32:33.521146Z",
     "shell.execute_reply": "2024-10-19T09:32:33.520124Z"
    },
    "papermill": {
     "duration": 3.071879,
     "end_time": "2024-10-19T09:32:33.523824",
     "exception": false,
     "start_time": "2024-10-19T09:32:30.451945",
     "status": "completed"
    },
    "scrolled": true,
    "tags": []
   },
   "outputs": [],
   "source": [
    "df = pd.read_csv('https://www.data.gouv.fr/fr/datasets/r/8571acc8-2f51-4d7e-9d87-bd5b8ec210e5', dtype='string')\n",
    "\n",
    "# Adresse ressources sur datagouv\n",
    "# -> https://www.data.gouv.fr/fr/datasets/une-vie-de-siren-au-boamp-ville-de-paris-217500016/#/resources"
   ]
  },
  {
   "cell_type": "markdown",
   "id": "267d47f4",
   "metadata": {
    "papermill": {
     "duration": 0.003424,
     "end_time": "2024-10-19T09:32:33.531118",
     "exception": false,
     "start_time": "2024-10-19T09:32:33.527694",
     "status": "completed"
    },
    "tags": []
   },
   "source": [
    "# Sélection de la colonne B_32_sousTypeProcedure"
   ]
  },
  {
   "cell_type": "code",
   "execution_count": 3,
   "id": "ebf58eaa",
   "metadata": {
    "execution": {
     "iopub.execute_input": "2024-10-19T09:32:33.540453Z",
     "iopub.status.busy": "2024-10-19T09:32:33.539996Z",
     "iopub.status.idle": "2024-10-19T09:32:33.555275Z",
     "shell.execute_reply": "2024-10-19T09:32:33.554164Z"
    },
    "papermill": {
     "duration": 0.023195,
     "end_time": "2024-10-19T09:32:33.557954",
     "exception": false,
     "start_time": "2024-10-19T09:32:33.534759",
     "status": "completed"
    },
    "tags": []
   },
   "outputs": [],
   "source": [
    "df_ = df.loc[:, ['B_32_sousTypeProcedure']].copy()"
   ]
  },
  {
   "cell_type": "markdown",
   "id": "e79199cf",
   "metadata": {
    "papermill": {
     "duration": 0.003663,
     "end_time": "2024-10-19T09:32:33.565489",
     "exception": false,
     "start_time": "2024-10-19T09:32:33.561826",
     "status": "completed"
    },
    "tags": []
   },
   "source": [
    "# Lecture des dernières lignes"
   ]
  },
  {
   "cell_type": "code",
   "execution_count": 4,
   "id": "c78e6cb8",
   "metadata": {
    "execution": {
     "iopub.execute_input": "2024-10-19T09:32:33.575054Z",
     "iopub.status.busy": "2024-10-19T09:32:33.574588Z",
     "iopub.status.idle": "2024-10-19T09:32:33.591036Z",
     "shell.execute_reply": "2024-10-19T09:32:33.589945Z"
    },
    "papermill": {
     "duration": 0.02437,
     "end_time": "2024-10-19T09:32:33.593649",
     "exception": false,
     "start_time": "2024-10-19T09:32:33.569279",
     "status": "completed"
    },
    "tags": []
   },
   "outputs": [
    {
     "data": {
      "text/html": [
       "<div>\n",
       "<style scoped>\n",
       "    .dataframe tbody tr th:only-of-type {\n",
       "        vertical-align: middle;\n",
       "    }\n",
       "\n",
       "    .dataframe tbody tr th {\n",
       "        vertical-align: top;\n",
       "    }\n",
       "\n",
       "    .dataframe thead th {\n",
       "        text-align: right;\n",
       "    }\n",
       "</style>\n",
       "<table border=\"1\" class=\"dataframe\">\n",
       "  <thead>\n",
       "    <tr style=\"text-align: right;\">\n",
       "      <th></th>\n",
       "      <th>B_32_sousTypeProcedure</th>\n",
       "    </tr>\n",
       "  </thead>\n",
       "  <tbody>\n",
       "  </tbody>\n",
       "</table>\n",
       "</div>"
      ],
      "text/plain": [
       "Empty DataFrame\n",
       "Columns: [B_32_sousTypeProcedure]\n",
       "Index: []"
      ]
     },
     "execution_count": 4,
     "metadata": {},
     "output_type": "execute_result"
    }
   ],
   "source": [
    "df_.loc[df_.B_32_sousTypeProcedure.notna(),:].tail()"
   ]
  }
 ],
 "metadata": {
  "kaggle": {
   "accelerator": "none",
   "dataSources": [],
   "isGpuEnabled": false,
   "isInternetEnabled": true,
   "language": "python",
   "sourceType": "notebook"
  },
  "kernelspec": {
   "display_name": "Python 3 (ipykernel)",
   "language": "python",
   "name": "python3"
  },
  "language_info": {
   "codemirror_mode": {
    "name": "ipython",
    "version": 3
   },
   "file_extension": ".py",
   "mimetype": "text/x-python",
   "name": "python",
   "nbconvert_exporter": "python",
   "pygments_lexer": "ipython3",
   "version": "3.10.14"
  },
  "papermill": {
   "default_parameters": {},
   "duration": 7.787978,
   "end_time": "2024-10-19T09:32:34.119201",
   "environment_variables": {},
   "exception": null,
   "input_path": "__notebook__.ipynb",
   "output_path": "__notebook__.ipynb",
   "parameters": {},
   "start_time": "2024-10-19T09:32:26.331223",
   "version": "2.6.0"
  },
  "widgets": {
   "application/vnd.jupyter.widget-state+json": {
    "state": {},
    "version_major": 2,
    "version_minor": 0
   }
  }
 },
 "nbformat": 4,
 "nbformat_minor": 5
}
