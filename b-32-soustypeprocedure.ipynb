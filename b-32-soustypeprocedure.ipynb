{
 "cells": [
  {
   "cell_type": "markdown",
   "id": "41367db1",
   "metadata": {
    "papermill": {
     "duration": 0.004954,
     "end_time": "2024-10-20T08:48:27.650814",
     "exception": false,
     "start_time": "2024-10-20T08:48:27.645860",
     "status": "completed"
    },
    "tags": []
   },
   "source": [
    "# Colonne «B_32_sousTypeProcedure» (Initialisation)"
   ]
  },
  {
   "cell_type": "markdown",
   "id": "d15db87a",
   "metadata": {
    "papermill": {
     "duration": 0.003451,
     "end_time": "2024-10-20T08:48:27.658328",
     "exception": false,
     "start_time": "2024-10-20T08:48:27.654877",
     "status": "completed"
    },
    "tags": []
   },
   "source": [
    "|NAVIGATION (travaux sur les annonces BOAMP de la Ville de Paris en 2024)|\n",
    "|---|\n",
    "|[Retour à l'INDEX (kaggle)](https://www.kaggle.com/code/aufilduboamp/index-ville-de-paris-aufilduboamp)|\n",
    "|[Rubrique AuFilDuBoamp.com](https://www.aufilduboamp.com/rubrique92.html)|\n",
    "|[Dépôt GitHub](https://github.com/AuFilDuBoamp/bsa_boamp_ville_de_paris_2024/tree/main)|\n",
    "|[Dépôt DataGouv](https://www.data.gouv.fr/fr/datasets/une-vie-de-siren-au-boamp-ville-de-paris-217500016/#/resources)|"
   ]
  },
  {
   "cell_type": "markdown",
   "id": "aa1537bb",
   "metadata": {
    "papermill": {
     "duration": 0.003307,
     "end_time": "2024-10-20T08:48:27.665204",
     "exception": false,
     "start_time": "2024-10-20T08:48:27.661897",
     "status": "completed"
    },
    "tags": []
   },
   "source": [
    "# Import(s) et réglages"
   ]
  },
  {
   "cell_type": "code",
   "execution_count": 1,
   "id": "3d7fa529",
   "metadata": {
    "execution": {
     "iopub.execute_input": "2024-10-20T08:48:27.674420Z",
     "iopub.status.busy": "2024-10-20T08:48:27.673966Z",
     "iopub.status.idle": "2024-10-20T08:48:28.609616Z",
     "shell.execute_reply": "2024-10-20T08:48:28.608439Z"
    },
    "papermill": {
     "duration": 0.943764,
     "end_time": "2024-10-20T08:48:28.612588",
     "exception": false,
     "start_time": "2024-10-20T08:48:27.668824",
     "status": "completed"
    },
    "tags": []
   },
   "outputs": [],
   "source": [
    "# import\n",
    "import pandas as pd\n",
    "#réglages\n",
    "pd.set_option('display.max_colwidth', 500)\n",
    "pd.set_option('display.max_columns', 200)\n",
    "pd.set_option('display.max_rows', 200)"
   ]
  },
  {
   "cell_type": "markdown",
   "id": "dc85508b",
   "metadata": {
    "papermill": {
     "duration": 0.003481,
     "end_time": "2024-10-20T08:48:28.619979",
     "exception": false,
     "start_time": "2024-10-20T08:48:28.616498",
     "status": "completed"
    },
    "tags": []
   },
   "source": [
    "# Téléchargement des annonces de la Ville de Paris sur Datagouv"
   ]
  },
  {
   "cell_type": "code",
   "execution_count": 2,
   "id": "5317e277",
   "metadata": {
    "execution": {
     "iopub.execute_input": "2024-10-20T08:48:28.629829Z",
     "iopub.status.busy": "2024-10-20T08:48:28.629244Z",
     "iopub.status.idle": "2024-10-20T08:48:30.717120Z",
     "shell.execute_reply": "2024-10-20T08:48:30.716125Z"
    },
    "papermill": {
     "duration": 2.09618,
     "end_time": "2024-10-20T08:48:30.719855",
     "exception": false,
     "start_time": "2024-10-20T08:48:28.623675",
     "status": "completed"
    },
    "scrolled": true,
    "tags": []
   },
   "outputs": [],
   "source": [
    "df = pd.read_csv('https://www.data.gouv.fr/fr/datasets/r/8571acc8-2f51-4d7e-9d87-bd5b8ec210e5', dtype='string')\n",
    "\n",
    "# Adresse ressources sur datagouv\n",
    "# -> https://www.data.gouv.fr/fr/datasets/une-vie-de-siren-au-boamp-ville-de-paris-217500016/#/resources"
   ]
  },
  {
   "cell_type": "markdown",
   "id": "aad708c8",
   "metadata": {
    "papermill": {
     "duration": 0.003379,
     "end_time": "2024-10-20T08:48:30.727074",
     "exception": false,
     "start_time": "2024-10-20T08:48:30.723695",
     "status": "completed"
    },
    "tags": []
   },
   "source": [
    "# Sélection de la colonne B_32_sousTypeProcedure"
   ]
  },
  {
   "cell_type": "code",
   "execution_count": 3,
   "id": "dd91cdc0",
   "metadata": {
    "execution": {
     "iopub.execute_input": "2024-10-20T08:48:30.737358Z",
     "iopub.status.busy": "2024-10-20T08:48:30.735960Z",
     "iopub.status.idle": "2024-10-20T08:48:30.751320Z",
     "shell.execute_reply": "2024-10-20T08:48:30.750265Z"
    },
    "papermill": {
     "duration": 0.022957,
     "end_time": "2024-10-20T08:48:30.753742",
     "exception": false,
     "start_time": "2024-10-20T08:48:30.730785",
     "status": "completed"
    },
    "tags": []
   },
   "outputs": [],
   "source": [
    "df_ = df.loc[:, ['B_32_sousTypeProcedure']].copy()"
   ]
  },
  {
   "cell_type": "markdown",
   "id": "e2bda3d4",
   "metadata": {
    "papermill": {
     "duration": 0.003647,
     "end_time": "2024-10-20T08:48:30.761337",
     "exception": false,
     "start_time": "2024-10-20T08:48:30.757690",
     "status": "completed"
    },
    "tags": []
   },
   "source": [
    "# Lecture des dernières lignes"
   ]
  },
  {
   "cell_type": "code",
   "execution_count": 4,
   "id": "590daced",
   "metadata": {
    "execution": {
     "iopub.execute_input": "2024-10-20T08:48:30.771487Z",
     "iopub.status.busy": "2024-10-20T08:48:30.770181Z",
     "iopub.status.idle": "2024-10-20T08:48:30.786836Z",
     "shell.execute_reply": "2024-10-20T08:48:30.785751Z"
    },
    "papermill": {
     "duration": 0.02434,
     "end_time": "2024-10-20T08:48:30.789424",
     "exception": false,
     "start_time": "2024-10-20T08:48:30.765084",
     "status": "completed"
    },
    "tags": []
   },
   "outputs": [
    {
     "data": {
      "text/html": [
       "<div>\n",
       "<style scoped>\n",
       "    .dataframe tbody tr th:only-of-type {\n",
       "        vertical-align: middle;\n",
       "    }\n",
       "\n",
       "    .dataframe tbody tr th {\n",
       "        vertical-align: top;\n",
       "    }\n",
       "\n",
       "    .dataframe thead th {\n",
       "        text-align: right;\n",
       "    }\n",
       "</style>\n",
       "<table border=\"1\" class=\"dataframe\">\n",
       "  <thead>\n",
       "    <tr style=\"text-align: right;\">\n",
       "      <th></th>\n",
       "      <th>B_32_sousTypeProcedure</th>\n",
       "    </tr>\n",
       "  </thead>\n",
       "  <tbody>\n",
       "  </tbody>\n",
       "</table>\n",
       "</div>"
      ],
      "text/plain": [
       "Empty DataFrame\n",
       "Columns: [B_32_sousTypeProcedure]\n",
       "Index: []"
      ]
     },
     "execution_count": 4,
     "metadata": {},
     "output_type": "execute_result"
    }
   ],
   "source": [
    "df_.loc[df_.B_32_sousTypeProcedure.notna(),:].tail()"
   ]
  }
 ],
 "metadata": {
  "kaggle": {
   "accelerator": "none",
   "dataSources": [],
   "dockerImageVersionId": 30786,
   "isGpuEnabled": false,
   "isInternetEnabled": true,
   "language": "python",
   "sourceType": "notebook"
  },
  "kernelspec": {
   "display_name": "Python 3 (ipykernel)",
   "language": "python",
   "name": "python3"
  },
  "language_info": {
   "codemirror_mode": {
    "name": "ipython",
    "version": 3
   },
   "file_extension": ".py",
   "mimetype": "text/x-python",
   "name": "python",
   "nbconvert_exporter": "python",
   "pygments_lexer": "ipython3",
   "version": "3.10.14"
  },
  "papermill": {
   "default_parameters": {},
   "duration": 6.738403,
   "end_time": "2024-10-20T08:48:31.315702",
   "environment_variables": {},
   "exception": null,
   "input_path": "__notebook__.ipynb",
   "output_path": "__notebook__.ipynb",
   "parameters": {},
   "start_time": "2024-10-20T08:48:24.577299",
   "version": "2.6.0"
  },
  "widgets": {
   "application/vnd.jupyter.widget-state+json": {
    "state": {},
    "version_major": 2,
    "version_minor": 0
   }
  }
 },
 "nbformat": 4,
 "nbformat_minor": 5
}
