{
 "cells": [
  {
   "cell_type": "markdown",
   "id": "1b6cb100",
   "metadata": {
    "papermill": {
     "duration": 0.004528,
     "end_time": "2024-10-20T08:38:09.319590",
     "exception": false,
     "start_time": "2024-10-20T08:38:09.315062",
     "status": "completed"
    },
    "tags": []
   },
   "source": [
    "# Colonne «B_10_dc» (Initialisation)"
   ]
  },
  {
   "cell_type": "markdown",
   "id": "aeb635f8",
   "metadata": {
    "papermill": {
     "duration": 0.003579,
     "end_time": "2024-10-20T08:38:09.327437",
     "exception": false,
     "start_time": "2024-10-20T08:38:09.323858",
     "status": "completed"
    },
    "tags": []
   },
   "source": [
    "|NAVIGATION (travaux sur les annonces BOAMP de la Ville de Paris en 2024)|\n",
    "|---|\n",
    "|[Retour à l'INDEX (kaggle)](https://www.kaggle.com/code/aufilduboamp/index-ville-de-paris-aufilduboamp)|\n",
    "|[Rubrique AuFilDuBoamp.com](https://www.aufilduboamp.com/rubrique92.html)|\n",
    "|[Dépôt GitHub](https://github.com/AuFilDuBoamp/bsa_boamp_ville_de_paris_2024/tree/main)|\n",
    "|[Dépôt DataGouv](https://www.data.gouv.fr/fr/datasets/une-vie-de-siren-au-boamp-ville-de-paris-217500016/#/resources)|"
   ]
  },
  {
   "cell_type": "markdown",
   "id": "358a7f6c",
   "metadata": {
    "papermill": {
     "duration": 0.003521,
     "end_time": "2024-10-20T08:38:09.334790",
     "exception": false,
     "start_time": "2024-10-20T08:38:09.331269",
     "status": "completed"
    },
    "tags": []
   },
   "source": [
    "# Import(s) et réglages"
   ]
  },
  {
   "cell_type": "code",
   "execution_count": 1,
   "id": "c611c252",
   "metadata": {
    "execution": {
     "iopub.execute_input": "2024-10-20T08:38:09.344172Z",
     "iopub.status.busy": "2024-10-20T08:38:09.343730Z",
     "iopub.status.idle": "2024-10-20T08:38:10.240466Z",
     "shell.execute_reply": "2024-10-20T08:38:10.239378Z"
    },
    "papermill": {
     "duration": 0.904689,
     "end_time": "2024-10-20T08:38:10.243276",
     "exception": false,
     "start_time": "2024-10-20T08:38:09.338587",
     "status": "completed"
    },
    "tags": []
   },
   "outputs": [],
   "source": [
    "# import +\n",
    "import pandas as pd\n",
    "#réglages\n",
    "pd.set_option('display.max_colwidth', 500)\n",
    "pd.set_option('display.max_columns', 200)\n",
    "pd.set_option('display.max_rows', 200)"
   ]
  },
  {
   "cell_type": "markdown",
   "id": "122eafb5",
   "metadata": {
    "papermill": {
     "duration": 0.003635,
     "end_time": "2024-10-20T08:38:10.251099",
     "exception": false,
     "start_time": "2024-10-20T08:38:10.247464",
     "status": "completed"
    },
    "tags": []
   },
   "source": [
    "# Téléchargement des annonces de la Ville de Paris sur Datagouv"
   ]
  },
  {
   "cell_type": "code",
   "execution_count": 2,
   "id": "a4fef720",
   "metadata": {
    "execution": {
     "iopub.execute_input": "2024-10-20T08:38:10.261128Z",
     "iopub.status.busy": "2024-10-20T08:38:10.260013Z",
     "iopub.status.idle": "2024-10-20T08:38:12.846596Z",
     "shell.execute_reply": "2024-10-20T08:38:12.845123Z"
    },
    "papermill": {
     "duration": 2.594578,
     "end_time": "2024-10-20T08:38:12.849504",
     "exception": false,
     "start_time": "2024-10-20T08:38:10.254926",
     "status": "completed"
    },
    "scrolled": true,
    "tags": []
   },
   "outputs": [],
   "source": [
    "df = pd.read_csv('https://www.data.gouv.fr/fr/datasets/r/8571acc8-2f51-4d7e-9d87-bd5b8ec210e5', dtype='string')\n",
    "\n",
    "# Adresse ressources sur datagouv\n",
    "# -> https://www.data.gouv.fr/fr/datasets/une-vie-de-siren-au-boamp-ville-de-paris-217500016/#/resources"
   ]
  },
  {
   "cell_type": "markdown",
   "id": "32868081",
   "metadata": {
    "papermill": {
     "duration": 0.003522,
     "end_time": "2024-10-20T08:38:12.857113",
     "exception": false,
     "start_time": "2024-10-20T08:38:12.853591",
     "status": "completed"
    },
    "tags": []
   },
   "source": [
    "# Sélection de la colonne B_10_dc"
   ]
  },
  {
   "cell_type": "code",
   "execution_count": 3,
   "id": "249eddf3",
   "metadata": {
    "execution": {
     "iopub.execute_input": "2024-10-20T08:38:12.866534Z",
     "iopub.status.busy": "2024-10-20T08:38:12.866118Z",
     "iopub.status.idle": "2024-10-20T08:38:12.878946Z",
     "shell.execute_reply": "2024-10-20T08:38:12.877910Z"
    },
    "papermill": {
     "duration": 0.020389,
     "end_time": "2024-10-20T08:38:12.881251",
     "exception": false,
     "start_time": "2024-10-20T08:38:12.860862",
     "status": "completed"
    },
    "tags": []
   },
   "outputs": [],
   "source": [
    "df_ = df.loc[:, ['B_10_dc']].copy()"
   ]
  },
  {
   "cell_type": "markdown",
   "id": "d8d2ef5c",
   "metadata": {
    "papermill": {
     "duration": 0.003612,
     "end_time": "2024-10-20T08:38:12.888792",
     "exception": false,
     "start_time": "2024-10-20T08:38:12.885180",
     "status": "completed"
    },
    "tags": []
   },
   "source": [
    "# Lecture des dernières lignes"
   ]
  },
  {
   "cell_type": "code",
   "execution_count": 4,
   "id": "a0e4fa32",
   "metadata": {
    "execution": {
     "iopub.execute_input": "2024-10-20T08:38:12.898104Z",
     "iopub.status.busy": "2024-10-20T08:38:12.897672Z",
     "iopub.status.idle": "2024-10-20T08:38:12.916044Z",
     "shell.execute_reply": "2024-10-20T08:38:12.914905Z"
    },
    "papermill": {
     "duration": 0.025986,
     "end_time": "2024-10-20T08:38:12.918607",
     "exception": false,
     "start_time": "2024-10-20T08:38:12.892621",
     "status": "completed"
    },
    "tags": []
   },
   "outputs": [
    {
     "data": {
      "text/html": [
       "<div>\n",
       "<style scoped>\n",
       "    .dataframe tbody tr th:only-of-type {\n",
       "        vertical-align: middle;\n",
       "    }\n",
       "\n",
       "    .dataframe tbody tr th {\n",
       "        vertical-align: top;\n",
       "    }\n",
       "\n",
       "    .dataframe thead th {\n",
       "        text-align: right;\n",
       "    }\n",
       "</style>\n",
       "<table border=\"1\" class=\"dataframe\">\n",
       "  <thead>\n",
       "    <tr style=\"text-align: right;\">\n",
       "      <th></th>\n",
       "      <th>B_10_dc</th>\n",
       "    </tr>\n",
       "  </thead>\n",
       "  <tbody>\n",
       "    <tr>\n",
       "      <th>753</th>\n",
       "      <td>274</td>\n",
       "    </tr>\n",
       "    <tr>\n",
       "      <th>754</th>\n",
       "      <td>208</td>\n",
       "    </tr>\n",
       "    <tr>\n",
       "      <th>755</th>\n",
       "      <td>410</td>\n",
       "    </tr>\n",
       "    <tr>\n",
       "      <th>756</th>\n",
       "      <td>197</td>\n",
       "    </tr>\n",
       "    <tr>\n",
       "      <th>757</th>\n",
       "      <td>433,455</td>\n",
       "    </tr>\n",
       "  </tbody>\n",
       "</table>\n",
       "</div>"
      ],
      "text/plain": [
       "     B_10_dc\n",
       "753      274\n",
       "754      208\n",
       "755      410\n",
       "756      197\n",
       "757  433,455"
      ]
     },
     "execution_count": 4,
     "metadata": {},
     "output_type": "execute_result"
    }
   ],
   "source": [
    "df_.loc[df_.B_10_dc.notna(),:].tail()"
   ]
  }
 ],
 "metadata": {
  "kaggle": {
   "accelerator": "none",
   "dataSources": [],
   "dockerImageVersionId": 30786,
   "isGpuEnabled": false,
   "isInternetEnabled": true,
   "language": "python",
   "sourceType": "notebook"
  },
  "kernelspec": {
   "display_name": "Python 3",
   "language": "python",
   "name": "python3"
  },
  "language_info": {
   "codemirror_mode": {
    "name": "ipython",
    "version": 3
   },
   "file_extension": ".py",
   "mimetype": "text/x-python",
   "name": "python",
   "nbconvert_exporter": "python",
   "pygments_lexer": "ipython3",
   "version": "3.10.14"
  },
  "papermill": {
   "default_parameters": {},
   "duration": 7.037026,
   "end_time": "2024-10-20T08:38:13.343325",
   "environment_variables": {},
   "exception": null,
   "input_path": "__notebook__.ipynb",
   "output_path": "__notebook__.ipynb",
   "parameters": {},
   "start_time": "2024-10-20T08:38:06.306299",
   "version": "2.6.0"
  },
  "widgets": {
   "application/vnd.jupyter.widget-state+json": {
    "state": {},
    "version_major": 2,
    "version_minor": 0
   }
  }
 },
 "nbformat": 4,
 "nbformat_minor": 5
}
