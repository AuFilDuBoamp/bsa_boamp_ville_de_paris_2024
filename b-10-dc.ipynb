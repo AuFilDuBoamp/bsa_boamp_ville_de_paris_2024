{
 "cells": [
  {
   "cell_type": "markdown",
   "id": "b43bff0c",
   "metadata": {
    "papermill": {
     "duration": 0.004551,
     "end_time": "2024-10-19T12:07:14.538107",
     "exception": false,
     "start_time": "2024-10-19T12:07:14.533556",
     "status": "completed"
    },
    "tags": []
   },
   "source": [
    "# Colonne «B_10_dc» (Initialisation)"
   ]
  },
  {
   "cell_type": "markdown",
   "id": "cf2099e0",
   "metadata": {
    "papermill": {
     "duration": 0.003544,
     "end_time": "2024-10-19T12:07:14.545865",
     "exception": false,
     "start_time": "2024-10-19T12:07:14.542321",
     "status": "completed"
    },
    "tags": []
   },
   "source": [
    "# Intro"
   ]
  },
  {
   "cell_type": "markdown",
   "id": "1eb88123",
   "metadata": {
    "papermill": {
     "duration": 0.003473,
     "end_time": "2024-10-19T12:07:14.553231",
     "exception": false,
     "start_time": "2024-10-19T12:07:14.549758",
     "status": "completed"
    },
    "tags": []
   },
   "source": [
    "# Import(s) et réglages"
   ]
  },
  {
   "cell_type": "code",
   "execution_count": 1,
   "id": "9aa40829",
   "metadata": {
    "execution": {
     "iopub.execute_input": "2024-10-19T12:07:14.563072Z",
     "iopub.status.busy": "2024-10-19T12:07:14.562553Z",
     "iopub.status.idle": "2024-10-19T12:07:15.770501Z",
     "shell.execute_reply": "2024-10-19T12:07:15.769130Z"
    },
    "papermill": {
     "duration": 1.217121,
     "end_time": "2024-10-19T12:07:15.774099",
     "exception": false,
     "start_time": "2024-10-19T12:07:14.556978",
     "status": "completed"
    },
    "tags": []
   },
   "outputs": [],
   "source": [
    "# import +\n",
    "import pandas as pd\n",
    "#réglages\n",
    "pd.set_option('display.max_colwidth', 500)\n",
    "pd.set_option('display.max_columns', 200)\n",
    "pd.set_option('display.max_rows', 200)"
   ]
  },
  {
   "cell_type": "markdown",
   "id": "ba64a53c",
   "metadata": {
    "papermill": {
     "duration": 0.003664,
     "end_time": "2024-10-19T12:07:15.781919",
     "exception": false,
     "start_time": "2024-10-19T12:07:15.778255",
     "status": "completed"
    },
    "tags": []
   },
   "source": [
    "# Téléchargement des annonces de la Ville de Paris sur Datagouv"
   ]
  },
  {
   "cell_type": "code",
   "execution_count": 2,
   "id": "3f3b0126",
   "metadata": {
    "execution": {
     "iopub.execute_input": "2024-10-19T12:07:15.792014Z",
     "iopub.status.busy": "2024-10-19T12:07:15.791348Z",
     "iopub.status.idle": "2024-10-19T12:07:17.984201Z",
     "shell.execute_reply": "2024-10-19T12:07:17.982805Z"
    },
    "papermill": {
     "duration": 2.201722,
     "end_time": "2024-10-19T12:07:17.987608",
     "exception": false,
     "start_time": "2024-10-19T12:07:15.785886",
     "status": "completed"
    },
    "scrolled": true,
    "tags": []
   },
   "outputs": [],
   "source": [
    "df = pd.read_csv('https://www.data.gouv.fr/fr/datasets/r/8571acc8-2f51-4d7e-9d87-bd5b8ec210e5', dtype='string')\n",
    "\n",
    "# Adresse ressources sur datagouv\n",
    "# -> https://www.data.gouv.fr/fr/datasets/une-vie-de-siren-au-boamp-ville-de-paris-217500016/#/resources"
   ]
  },
  {
   "cell_type": "markdown",
   "id": "b18e8af7",
   "metadata": {
    "papermill": {
     "duration": 0.003727,
     "end_time": "2024-10-19T12:07:17.995707",
     "exception": false,
     "start_time": "2024-10-19T12:07:17.991980",
     "status": "completed"
    },
    "tags": []
   },
   "source": [
    "# Sélection de la colonne B_10_dc"
   ]
  },
  {
   "cell_type": "code",
   "execution_count": 3,
   "id": "d7516df2",
   "metadata": {
    "execution": {
     "iopub.execute_input": "2024-10-19T12:07:18.005942Z",
     "iopub.status.busy": "2024-10-19T12:07:18.005449Z",
     "iopub.status.idle": "2024-10-19T12:07:18.025436Z",
     "shell.execute_reply": "2024-10-19T12:07:18.024192Z"
    },
    "papermill": {
     "duration": 0.028516,
     "end_time": "2024-10-19T12:07:18.028252",
     "exception": false,
     "start_time": "2024-10-19T12:07:17.999736",
     "status": "completed"
    },
    "tags": []
   },
   "outputs": [],
   "source": [
    "df_ = df.loc[:, ['B_10_dc']].copy()"
   ]
  },
  {
   "cell_type": "markdown",
   "id": "c947a2b5",
   "metadata": {
    "papermill": {
     "duration": 0.003851,
     "end_time": "2024-10-19T12:07:18.036417",
     "exception": false,
     "start_time": "2024-10-19T12:07:18.032566",
     "status": "completed"
    },
    "tags": []
   },
   "source": [
    "# Lecture des dernières lignes"
   ]
  },
  {
   "cell_type": "code",
   "execution_count": 4,
   "id": "abc39048",
   "metadata": {
    "execution": {
     "iopub.execute_input": "2024-10-19T12:07:18.048027Z",
     "iopub.status.busy": "2024-10-19T12:07:18.046597Z",
     "iopub.status.idle": "2024-10-19T12:07:18.067648Z",
     "shell.execute_reply": "2024-10-19T12:07:18.066532Z"
    },
    "papermill": {
     "duration": 0.029738,
     "end_time": "2024-10-19T12:07:18.070560",
     "exception": false,
     "start_time": "2024-10-19T12:07:18.040822",
     "status": "completed"
    },
    "tags": []
   },
   "outputs": [
    {
     "data": {
      "text/html": [
       "<div>\n",
       "<style scoped>\n",
       "    .dataframe tbody tr th:only-of-type {\n",
       "        vertical-align: middle;\n",
       "    }\n",
       "\n",
       "    .dataframe tbody tr th {\n",
       "        vertical-align: top;\n",
       "    }\n",
       "\n",
       "    .dataframe thead th {\n",
       "        text-align: right;\n",
       "    }\n",
       "</style>\n",
       "<table border=\"1\" class=\"dataframe\">\n",
       "  <thead>\n",
       "    <tr style=\"text-align: right;\">\n",
       "      <th></th>\n",
       "      <th>B_10_dc</th>\n",
       "    </tr>\n",
       "  </thead>\n",
       "  <tbody>\n",
       "    <tr>\n",
       "      <th>753</th>\n",
       "      <td>208</td>\n",
       "    </tr>\n",
       "    <tr>\n",
       "      <th>754</th>\n",
       "      <td>410</td>\n",
       "    </tr>\n",
       "    <tr>\n",
       "      <th>755</th>\n",
       "      <td>274</td>\n",
       "    </tr>\n",
       "    <tr>\n",
       "      <th>756</th>\n",
       "      <td>197</td>\n",
       "    </tr>\n",
       "    <tr>\n",
       "      <th>757</th>\n",
       "      <td>433,455</td>\n",
       "    </tr>\n",
       "  </tbody>\n",
       "</table>\n",
       "</div>"
      ],
      "text/plain": [
       "     B_10_dc\n",
       "753      208\n",
       "754      410\n",
       "755      274\n",
       "756      197\n",
       "757  433,455"
      ]
     },
     "execution_count": 4,
     "metadata": {},
     "output_type": "execute_result"
    }
   ],
   "source": [
    "df_.loc[df_.B_10_dc.notna(),:].tail()"
   ]
  }
 ],
 "metadata": {
  "kaggle": {
   "accelerator": "none",
   "dataSources": [],
   "dockerImageVersionId": 30786,
   "isGpuEnabled": false,
   "isInternetEnabled": true,
   "language": "python",
   "sourceType": "notebook"
  },
  "kernelspec": {
   "display_name": "Python 3",
   "language": "python",
   "name": "python3"
  },
  "language_info": {
   "codemirror_mode": {
    "name": "ipython",
    "version": 3
   },
   "file_extension": ".py",
   "mimetype": "text/x-python",
   "name": "python",
   "nbconvert_exporter": "python",
   "pygments_lexer": "ipython3",
   "version": "3.10.14"
  },
  "papermill": {
   "default_parameters": {},
   "duration": 7.452312,
   "end_time": "2024-10-19T12:07:18.699046",
   "environment_variables": {},
   "exception": null,
   "input_path": "__notebook__.ipynb",
   "output_path": "__notebook__.ipynb",
   "parameters": {},
   "start_time": "2024-10-19T12:07:11.246734",
   "version": "2.6.0"
  },
  "widgets": {
   "application/vnd.jupyter.widget-state+json": {
    "state": {},
    "version_major": 2,
    "version_minor": 0
   }
  }
 },
 "nbformat": 4,
 "nbformat_minor": 5
}
