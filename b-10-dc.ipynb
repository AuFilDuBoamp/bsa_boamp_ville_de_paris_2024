{
 "cells": [
  {
   "cell_type": "markdown",
   "id": "34bbe761",
   "metadata": {
    "papermill": {
     "duration": 0.004282,
     "end_time": "2024-10-19T09:43:29.174137",
     "exception": false,
     "start_time": "2024-10-19T09:43:29.169855",
     "status": "completed"
    },
    "tags": []
   },
   "source": [
    "# Colonne «B_10_dc» (Initialisation)"
   ]
  },
  {
   "cell_type": "markdown",
   "id": "1f189143",
   "metadata": {
    "papermill": {
     "duration": 0.003273,
     "end_time": "2024-10-19T09:43:29.181419",
     "exception": false,
     "start_time": "2024-10-19T09:43:29.178146",
     "status": "completed"
    },
    "tags": []
   },
   "source": [
    "# Intro"
   ]
  },
  {
   "cell_type": "markdown",
   "id": "c00f2006",
   "metadata": {
    "papermill": {
     "duration": 0.003203,
     "end_time": "2024-10-19T09:43:29.188130",
     "exception": false,
     "start_time": "2024-10-19T09:43:29.184927",
     "status": "completed"
    },
    "tags": []
   },
   "source": [
    "# Import(s) et réglages"
   ]
  },
  {
   "cell_type": "code",
   "execution_count": 1,
   "id": "be31888e",
   "metadata": {
    "execution": {
     "iopub.execute_input": "2024-10-19T09:43:29.197144Z",
     "iopub.status.busy": "2024-10-19T09:43:29.196716Z",
     "iopub.status.idle": "2024-10-19T09:43:30.189002Z",
     "shell.execute_reply": "2024-10-19T09:43:30.187490Z"
    },
    "papermill": {
     "duration": 1.000226,
     "end_time": "2024-10-19T09:43:30.191981",
     "exception": false,
     "start_time": "2024-10-19T09:43:29.191755",
     "status": "completed"
    },
    "tags": []
   },
   "outputs": [],
   "source": [
    "# import\n",
    "import pandas as pd\n",
    "#réglages\n",
    "pd.set_option('display.max_colwidth', 500)\n",
    "pd.set_option('display.max_columns', 200)\n",
    "pd.set_option('display.max_rows', 200)"
   ]
  },
  {
   "cell_type": "markdown",
   "id": "b181eb34",
   "metadata": {
    "papermill": {
     "duration": 0.003464,
     "end_time": "2024-10-19T09:43:30.199566",
     "exception": false,
     "start_time": "2024-10-19T09:43:30.196102",
     "status": "completed"
    },
    "tags": []
   },
   "source": [
    "# Téléchargement des annonces de la Ville de Paris sur Datagouv"
   ]
  },
  {
   "cell_type": "code",
   "execution_count": 2,
   "id": "bb414320",
   "metadata": {
    "execution": {
     "iopub.execute_input": "2024-10-19T09:43:30.209148Z",
     "iopub.status.busy": "2024-10-19T09:43:30.208486Z",
     "iopub.status.idle": "2024-10-19T09:43:32.707954Z",
     "shell.execute_reply": "2024-10-19T09:43:32.706862Z"
    },
    "papermill": {
     "duration": 2.50754,
     "end_time": "2024-10-19T09:43:32.710883",
     "exception": false,
     "start_time": "2024-10-19T09:43:30.203343",
     "status": "completed"
    },
    "scrolled": true,
    "tags": []
   },
   "outputs": [],
   "source": [
    "df = pd.read_csv('https://www.data.gouv.fr/fr/datasets/r/8571acc8-2f51-4d7e-9d87-bd5b8ec210e5', dtype='string')\n",
    "\n",
    "# Adresse ressources sur datagouv\n",
    "# -> https://www.data.gouv.fr/fr/datasets/une-vie-de-siren-au-boamp-ville-de-paris-217500016/#/resources"
   ]
  },
  {
   "cell_type": "markdown",
   "id": "4565d842",
   "metadata": {
    "papermill": {
     "duration": 0.003465,
     "end_time": "2024-10-19T09:43:32.718222",
     "exception": false,
     "start_time": "2024-10-19T09:43:32.714757",
     "status": "completed"
    },
    "tags": []
   },
   "source": [
    "# Sélection de la colonne B_10_dc"
   ]
  },
  {
   "cell_type": "code",
   "execution_count": 3,
   "id": "86faabb5",
   "metadata": {
    "execution": {
     "iopub.execute_input": "2024-10-19T09:43:32.727626Z",
     "iopub.status.busy": "2024-10-19T09:43:32.727158Z",
     "iopub.status.idle": "2024-10-19T09:43:32.741493Z",
     "shell.execute_reply": "2024-10-19T09:43:32.740379Z"
    },
    "papermill": {
     "duration": 0.022295,
     "end_time": "2024-10-19T09:43:32.744179",
     "exception": false,
     "start_time": "2024-10-19T09:43:32.721884",
     "status": "completed"
    },
    "tags": []
   },
   "outputs": [],
   "source": [
    "df_ = df.loc[:, ['B_10_dc']].copy()"
   ]
  },
  {
   "cell_type": "markdown",
   "id": "908b4fdc",
   "metadata": {
    "papermill": {
     "duration": 0.003605,
     "end_time": "2024-10-19T09:43:32.751790",
     "exception": false,
     "start_time": "2024-10-19T09:43:32.748185",
     "status": "completed"
    },
    "tags": []
   },
   "source": [
    "# Lecture des dernières lignes"
   ]
  },
  {
   "cell_type": "code",
   "execution_count": 4,
   "id": "61b0fae9",
   "metadata": {
    "execution": {
     "iopub.execute_input": "2024-10-19T09:43:32.761870Z",
     "iopub.status.busy": "2024-10-19T09:43:32.761417Z",
     "iopub.status.idle": "2024-10-19T09:43:32.781211Z",
     "shell.execute_reply": "2024-10-19T09:43:32.779781Z"
    },
    "papermill": {
     "duration": 0.028054,
     "end_time": "2024-10-19T09:43:32.784213",
     "exception": false,
     "start_time": "2024-10-19T09:43:32.756159",
     "status": "completed"
    },
    "tags": []
   },
   "outputs": [
    {
     "data": {
      "text/html": [
       "<div>\n",
       "<style scoped>\n",
       "    .dataframe tbody tr th:only-of-type {\n",
       "        vertical-align: middle;\n",
       "    }\n",
       "\n",
       "    .dataframe tbody tr th {\n",
       "        vertical-align: top;\n",
       "    }\n",
       "\n",
       "    .dataframe thead th {\n",
       "        text-align: right;\n",
       "    }\n",
       "</style>\n",
       "<table border=\"1\" class=\"dataframe\">\n",
       "  <thead>\n",
       "    <tr style=\"text-align: right;\">\n",
       "      <th></th>\n",
       "      <th>B_10_dc</th>\n",
       "    </tr>\n",
       "  </thead>\n",
       "  <tbody>\n",
       "    <tr>\n",
       "      <th>753</th>\n",
       "      <td>208</td>\n",
       "    </tr>\n",
       "    <tr>\n",
       "      <th>754</th>\n",
       "      <td>410</td>\n",
       "    </tr>\n",
       "    <tr>\n",
       "      <th>755</th>\n",
       "      <td>274</td>\n",
       "    </tr>\n",
       "    <tr>\n",
       "      <th>756</th>\n",
       "      <td>197</td>\n",
       "    </tr>\n",
       "    <tr>\n",
       "      <th>757</th>\n",
       "      <td>433,455</td>\n",
       "    </tr>\n",
       "  </tbody>\n",
       "</table>\n",
       "</div>"
      ],
      "text/plain": [
       "     B_10_dc\n",
       "753      208\n",
       "754      410\n",
       "755      274\n",
       "756      197\n",
       "757  433,455"
      ]
     },
     "execution_count": 4,
     "metadata": {},
     "output_type": "execute_result"
    }
   ],
   "source": [
    "df_.loc[df_.B_10_dc.notna(),:].tail()"
   ]
  }
 ],
 "metadata": {
  "kaggle": {
   "accelerator": "none",
   "dataSources": [],
   "isGpuEnabled": false,
   "isInternetEnabled": true,
   "language": "python",
   "sourceType": "notebook"
  },
  "kernelspec": {
   "display_name": "Python 3 (ipykernel)",
   "language": "python",
   "name": "python3"
  },
  "language_info": {
   "codemirror_mode": {
    "name": "ipython",
    "version": 3
   },
   "file_extension": ".py",
   "mimetype": "text/x-python",
   "name": "python",
   "nbconvert_exporter": "python",
   "pygments_lexer": "ipython3",
   "version": "3.10.14"
  },
  "papermill": {
   "default_parameters": {},
   "duration": 9.524482,
   "end_time": "2024-10-19T09:43:35.547445",
   "environment_variables": {},
   "exception": null,
   "input_path": "__notebook__.ipynb",
   "output_path": "__notebook__.ipynb",
   "parameters": {},
   "start_time": "2024-10-19T09:43:26.022963",
   "version": "2.6.0"
  },
  "widgets": {
   "application/vnd.jupyter.widget-state+json": {
    "state": {},
    "version_major": 2,
    "version_minor": 0
   }
  }
 },
 "nbformat": 4,
 "nbformat_minor": 5
}
