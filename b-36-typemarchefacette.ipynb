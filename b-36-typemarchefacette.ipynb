{
 "cells": [
  {
   "cell_type": "markdown",
   "id": "18d4da67",
   "metadata": {
    "papermill": {
     "duration": 0.004189,
     "end_time": "2024-10-20T08:51:41.687197",
     "exception": false,
     "start_time": "2024-10-20T08:51:41.683008",
     "status": "completed"
    },
    "tags": []
   },
   "source": [
    "# Colonne «B_36_typeMarcheFacette» (Initialisation)"
   ]
  },
  {
   "cell_type": "markdown",
   "id": "ffb97979",
   "metadata": {
    "papermill": {
     "duration": 0.003344,
     "end_time": "2024-10-20T08:51:41.694562",
     "exception": false,
     "start_time": "2024-10-20T08:51:41.691218",
     "status": "completed"
    },
    "tags": []
   },
   "source": [
    "|NAVIGATION (travaux sur les annonces BOAMP de la Ville de Paris en 2024)|\n",
    "|---|\n",
    "|[Retour à l'INDEX (kaggle)](https://www.kaggle.com/code/aufilduboamp/index-ville-de-paris-aufilduboamp)|\n",
    "|[Rubrique AuFilDuBoamp.com](https://www.aufilduboamp.com/rubrique92.html)|\n",
    "|[Dépôt GitHub](https://github.com/AuFilDuBoamp/bsa_boamp_ville_de_paris_2024/tree/main)|\n",
    "|[Dépôt DataGouv](https://www.data.gouv.fr/fr/datasets/une-vie-de-siren-au-boamp-ville-de-paris-217500016/#/resources)|"
   ]
  },
  {
   "cell_type": "markdown",
   "id": "e19c6719",
   "metadata": {
    "papermill": {
     "duration": 0.003281,
     "end_time": "2024-10-20T08:51:41.701487",
     "exception": false,
     "start_time": "2024-10-20T08:51:41.698206",
     "status": "completed"
    },
    "tags": []
   },
   "source": [
    "# Import(s) et réglages"
   ]
  },
  {
   "cell_type": "code",
   "execution_count": 1,
   "id": "a4cb502c",
   "metadata": {
    "execution": {
     "iopub.execute_input": "2024-10-20T08:51:41.710717Z",
     "iopub.status.busy": "2024-10-20T08:51:41.710138Z",
     "iopub.status.idle": "2024-10-20T08:51:42.726986Z",
     "shell.execute_reply": "2024-10-20T08:51:42.725694Z"
    },
    "papermill": {
     "duration": 1.025007,
     "end_time": "2024-10-20T08:51:42.730003",
     "exception": false,
     "start_time": "2024-10-20T08:51:41.704996",
     "status": "completed"
    },
    "tags": []
   },
   "outputs": [],
   "source": [
    "# import\n",
    "import pandas as pd\n",
    "#réglages\n",
    "pd.set_option('display.max_colwidth', 500)\n",
    "pd.set_option('display.max_columns', 200)\n",
    "pd.set_option('display.max_rows', 200)"
   ]
  },
  {
   "cell_type": "markdown",
   "id": "0c69eba3",
   "metadata": {
    "papermill": {
     "duration": 0.003411,
     "end_time": "2024-10-20T08:51:42.737301",
     "exception": false,
     "start_time": "2024-10-20T08:51:42.733890",
     "status": "completed"
    },
    "tags": []
   },
   "source": [
    "# Téléchargement des annonces de la Ville de Paris sur Datagouv"
   ]
  },
  {
   "cell_type": "code",
   "execution_count": 2,
   "id": "67675651",
   "metadata": {
    "execution": {
     "iopub.execute_input": "2024-10-20T08:51:42.746990Z",
     "iopub.status.busy": "2024-10-20T08:51:42.746390Z",
     "iopub.status.idle": "2024-10-20T08:51:44.721482Z",
     "shell.execute_reply": "2024-10-20T08:51:44.720142Z"
    },
    "papermill": {
     "duration": 1.98344,
     "end_time": "2024-10-20T08:51:44.724491",
     "exception": false,
     "start_time": "2024-10-20T08:51:42.741051",
     "status": "completed"
    },
    "scrolled": true,
    "tags": []
   },
   "outputs": [],
   "source": [
    "df = pd.read_csv('https://www.data.gouv.fr/fr/datasets/r/8571acc8-2f51-4d7e-9d87-bd5b8ec210e5', dtype='string')\n",
    "\n",
    "# Adresse ressources sur datagouv\n",
    "# -> https://www.data.gouv.fr/fr/datasets/une-vie-de-siren-au-boamp-ville-de-paris-217500016/#/resources"
   ]
  },
  {
   "cell_type": "markdown",
   "id": "3972cb5c",
   "metadata": {
    "papermill": {
     "duration": 0.00367,
     "end_time": "2024-10-20T08:51:44.732365",
     "exception": false,
     "start_time": "2024-10-20T08:51:44.728695",
     "status": "completed"
    },
    "tags": []
   },
   "source": [
    "# Sélection de la colonne B_36_typeMarcheFacette"
   ]
  },
  {
   "cell_type": "code",
   "execution_count": 3,
   "id": "87730222",
   "metadata": {
    "execution": {
     "iopub.execute_input": "2024-10-20T08:51:44.742378Z",
     "iopub.status.busy": "2024-10-20T08:51:44.741871Z",
     "iopub.status.idle": "2024-10-20T08:51:44.760734Z",
     "shell.execute_reply": "2024-10-20T08:51:44.759337Z"
    },
    "papermill": {
     "duration": 0.027334,
     "end_time": "2024-10-20T08:51:44.763729",
     "exception": false,
     "start_time": "2024-10-20T08:51:44.736395",
     "status": "completed"
    },
    "tags": []
   },
   "outputs": [],
   "source": [
    "df_ = df.loc[:, ['B_36_typeMarcheFacette']].copy()"
   ]
  },
  {
   "cell_type": "markdown",
   "id": "afe793bc",
   "metadata": {
    "papermill": {
     "duration": 0.003662,
     "end_time": "2024-10-20T08:51:44.771421",
     "exception": false,
     "start_time": "2024-10-20T08:51:44.767759",
     "status": "completed"
    },
    "tags": []
   },
   "source": [
    "# Lecture des dernières lignes"
   ]
  },
  {
   "cell_type": "code",
   "execution_count": 4,
   "id": "c3c53fb8",
   "metadata": {
    "execution": {
     "iopub.execute_input": "2024-10-20T08:51:44.782367Z",
     "iopub.status.busy": "2024-10-20T08:51:44.781114Z",
     "iopub.status.idle": "2024-10-20T08:51:44.801924Z",
     "shell.execute_reply": "2024-10-20T08:51:44.800656Z"
    },
    "papermill": {
     "duration": 0.029372,
     "end_time": "2024-10-20T08:51:44.805064",
     "exception": false,
     "start_time": "2024-10-20T08:51:44.775692",
     "status": "completed"
    },
    "tags": []
   },
   "outputs": [
    {
     "data": {
      "text/html": [
       "<div>\n",
       "<style scoped>\n",
       "    .dataframe tbody tr th:only-of-type {\n",
       "        vertical-align: middle;\n",
       "    }\n",
       "\n",
       "    .dataframe tbody tr th {\n",
       "        vertical-align: top;\n",
       "    }\n",
       "\n",
       "    .dataframe thead th {\n",
       "        text-align: right;\n",
       "    }\n",
       "</style>\n",
       "<table border=\"1\" class=\"dataframe\">\n",
       "  <thead>\n",
       "    <tr style=\"text-align: right;\">\n",
       "      <th></th>\n",
       "      <th>B_36_typeMarcheFacette</th>\n",
       "    </tr>\n",
       "  </thead>\n",
       "  <tbody>\n",
       "    <tr>\n",
       "      <th>753</th>\n",
       "      <td>Services</td>\n",
       "    </tr>\n",
       "    <tr>\n",
       "      <th>754</th>\n",
       "      <td>Fournitures</td>\n",
       "    </tr>\n",
       "    <tr>\n",
       "      <th>755</th>\n",
       "      <td>Services</td>\n",
       "    </tr>\n",
       "    <tr>\n",
       "      <th>756</th>\n",
       "      <td>Services</td>\n",
       "    </tr>\n",
       "    <tr>\n",
       "      <th>757</th>\n",
       "      <td>Services</td>\n",
       "    </tr>\n",
       "  </tbody>\n",
       "</table>\n",
       "</div>"
      ],
      "text/plain": [
       "    B_36_typeMarcheFacette\n",
       "753               Services\n",
       "754            Fournitures\n",
       "755               Services\n",
       "756               Services\n",
       "757               Services"
      ]
     },
     "execution_count": 4,
     "metadata": {},
     "output_type": "execute_result"
    }
   ],
   "source": [
    "df_.loc[df_.B_36_typeMarcheFacette.notna(),:].tail()"
   ]
  }
 ],
 "metadata": {
  "kaggle": {
   "accelerator": "none",
   "dataSources": [],
   "dockerImageVersionId": 30786,
   "isGpuEnabled": false,
   "isInternetEnabled": true,
   "language": "python",
   "sourceType": "notebook"
  },
  "kernelspec": {
   "display_name": "Python 3 (ipykernel)",
   "language": "python",
   "name": "python3"
  },
  "language_info": {
   "codemirror_mode": {
    "name": "ipython",
    "version": 3
   },
   "file_extension": ".py",
   "mimetype": "text/x-python",
   "name": "python",
   "nbconvert_exporter": "python",
   "pygments_lexer": "ipython3",
   "version": "3.10.14"
  },
  "papermill": {
   "default_parameters": {},
   "duration": 7.341925,
   "end_time": "2024-10-20T08:51:45.433472",
   "environment_variables": {},
   "exception": null,
   "input_path": "__notebook__.ipynb",
   "output_path": "__notebook__.ipynb",
   "parameters": {},
   "start_time": "2024-10-20T08:51:38.091547",
   "version": "2.6.0"
  },
  "widgets": {
   "application/vnd.jupyter.widget-state+json": {
    "state": {},
    "version_major": 2,
    "version_minor": 0
   }
  }
 },
 "nbformat": 4,
 "nbformat_minor": 5
}
