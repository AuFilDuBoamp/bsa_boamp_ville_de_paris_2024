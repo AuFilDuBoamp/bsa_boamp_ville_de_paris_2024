{
 "cells": [
  {
   "cell_type": "markdown",
   "id": "8ca933fb",
   "metadata": {
    "papermill": {
     "duration": 0.00455,
     "end_time": "2024-10-19T08:59:39.219193",
     "exception": false,
     "start_time": "2024-10-19T08:59:39.214643",
     "status": "completed"
    },
    "tags": []
   },
   "source": [
    "# Colonne «B_36_typeMarcheFacette» (Initialisation)"
   ]
  },
  {
   "cell_type": "markdown",
   "id": "d2cff255",
   "metadata": {
    "papermill": {
     "duration": 0.003491,
     "end_time": "2024-10-19T08:59:39.227186",
     "exception": false,
     "start_time": "2024-10-19T08:59:39.223695",
     "status": "completed"
    },
    "tags": []
   },
   "source": [
    "# Intro"
   ]
  },
  {
   "cell_type": "markdown",
   "id": "84d4f018",
   "metadata": {
    "papermill": {
     "duration": 0.003193,
     "end_time": "2024-10-19T08:59:39.234008",
     "exception": false,
     "start_time": "2024-10-19T08:59:39.230815",
     "status": "completed"
    },
    "tags": []
   },
   "source": [
    "# Import(s) et réglages"
   ]
  },
  {
   "cell_type": "code",
   "execution_count": 1,
   "id": "8c3cb66a",
   "metadata": {
    "execution": {
     "iopub.execute_input": "2024-10-19T08:59:39.242768Z",
     "iopub.status.busy": "2024-10-19T08:59:39.242304Z",
     "iopub.status.idle": "2024-10-19T08:59:40.175434Z",
     "shell.execute_reply": "2024-10-19T08:59:40.174220Z"
    },
    "papermill": {
     "duration": 0.941312,
     "end_time": "2024-10-19T08:59:40.178740",
     "exception": false,
     "start_time": "2024-10-19T08:59:39.237428",
     "status": "completed"
    },
    "tags": []
   },
   "outputs": [],
   "source": [
    "# import\n",
    "import pandas as pd\n",
    "#réglages\n",
    "pd.set_option('display.max_colwidth', 500)\n",
    "pd.set_option('display.max_columns', 200)\n",
    "pd.set_option('display.max_rows', 200)"
   ]
  },
  {
   "cell_type": "markdown",
   "id": "f622bd5d",
   "metadata": {
    "papermill": {
     "duration": 0.003384,
     "end_time": "2024-10-19T08:59:40.186123",
     "exception": false,
     "start_time": "2024-10-19T08:59:40.182739",
     "status": "completed"
    },
    "tags": []
   },
   "source": [
    "# Téléchargement des annonces de la Ville de Paris sur Datagouv"
   ]
  },
  {
   "cell_type": "code",
   "execution_count": 2,
   "id": "eb35e27c",
   "metadata": {
    "execution": {
     "iopub.execute_input": "2024-10-19T08:59:40.195489Z",
     "iopub.status.busy": "2024-10-19T08:59:40.194922Z",
     "iopub.status.idle": "2024-10-19T08:59:40.716109Z",
     "shell.execute_reply": "2024-10-19T08:59:40.714721Z"
    },
    "papermill": {
     "duration": 0.529969,
     "end_time": "2024-10-19T08:59:40.719722",
     "exception": false,
     "start_time": "2024-10-19T08:59:40.189753",
     "status": "completed"
    },
    "scrolled": true,
    "tags": []
   },
   "outputs": [],
   "source": [
    "df = pd.read_csv('https://www.data.gouv.fr/fr/datasets/r/8571acc8-2f51-4d7e-9d87-bd5b8ec210e5', dtype='string')\n",
    "\n",
    "# Adresse ressources sur datagouv\n",
    "# -> https://www.data.gouv.fr/fr/datasets/une-vie-de-siren-au-boamp-ville-de-paris-217500016/#/resources"
   ]
  },
  {
   "cell_type": "markdown",
   "id": "e2833e9d",
   "metadata": {
    "papermill": {
     "duration": 0.003496,
     "end_time": "2024-10-19T08:59:40.727168",
     "exception": false,
     "start_time": "2024-10-19T08:59:40.723672",
     "status": "completed"
    },
    "tags": []
   },
   "source": [
    "# Sélection de la colonne B_36_typeMarcheFacette"
   ]
  },
  {
   "cell_type": "code",
   "execution_count": 3,
   "id": "97fe9439",
   "metadata": {
    "execution": {
     "iopub.execute_input": "2024-10-19T08:59:40.736577Z",
     "iopub.status.busy": "2024-10-19T08:59:40.736129Z",
     "iopub.status.idle": "2024-10-19T08:59:40.751577Z",
     "shell.execute_reply": "2024-10-19T08:59:40.750349Z"
    },
    "papermill": {
     "duration": 0.023397,
     "end_time": "2024-10-19T08:59:40.754312",
     "exception": false,
     "start_time": "2024-10-19T08:59:40.730915",
     "status": "completed"
    },
    "tags": []
   },
   "outputs": [],
   "source": [
    "df_ = df.loc[:, ['B_36_typeMarcheFacette']].copy()"
   ]
  },
  {
   "cell_type": "markdown",
   "id": "68ecd9ac",
   "metadata": {
    "papermill": {
     "duration": 0.003479,
     "end_time": "2024-10-19T08:59:40.761658",
     "exception": false,
     "start_time": "2024-10-19T08:59:40.758179",
     "status": "completed"
    },
    "tags": []
   },
   "source": [
    "# Lecture des dernières lignes"
   ]
  },
  {
   "cell_type": "code",
   "execution_count": 4,
   "id": "a3622438",
   "metadata": {
    "execution": {
     "iopub.execute_input": "2024-10-19T08:59:40.771247Z",
     "iopub.status.busy": "2024-10-19T08:59:40.770765Z",
     "iopub.status.idle": "2024-10-19T08:59:40.788089Z",
     "shell.execute_reply": "2024-10-19T08:59:40.786961Z"
    },
    "papermill": {
     "duration": 0.025117,
     "end_time": "2024-10-19T08:59:40.790503",
     "exception": false,
     "start_time": "2024-10-19T08:59:40.765386",
     "status": "completed"
    },
    "tags": []
   },
   "outputs": [
    {
     "data": {
      "text/html": [
       "<div>\n",
       "<style scoped>\n",
       "    .dataframe tbody tr th:only-of-type {\n",
       "        vertical-align: middle;\n",
       "    }\n",
       "\n",
       "    .dataframe tbody tr th {\n",
       "        vertical-align: top;\n",
       "    }\n",
       "\n",
       "    .dataframe thead th {\n",
       "        text-align: right;\n",
       "    }\n",
       "</style>\n",
       "<table border=\"1\" class=\"dataframe\">\n",
       "  <thead>\n",
       "    <tr style=\"text-align: right;\">\n",
       "      <th></th>\n",
       "      <th>B_36_typeMarcheFacette</th>\n",
       "    </tr>\n",
       "  </thead>\n",
       "  <tbody>\n",
       "    <tr>\n",
       "      <th>753</th>\n",
       "      <td>Fournitures</td>\n",
       "    </tr>\n",
       "    <tr>\n",
       "      <th>754</th>\n",
       "      <td>Services</td>\n",
       "    </tr>\n",
       "    <tr>\n",
       "      <th>755</th>\n",
       "      <td>Services</td>\n",
       "    </tr>\n",
       "    <tr>\n",
       "      <th>756</th>\n",
       "      <td>Services</td>\n",
       "    </tr>\n",
       "    <tr>\n",
       "      <th>757</th>\n",
       "      <td>Services</td>\n",
       "    </tr>\n",
       "  </tbody>\n",
       "</table>\n",
       "</div>"
      ],
      "text/plain": [
       "    B_36_typeMarcheFacette\n",
       "753            Fournitures\n",
       "754               Services\n",
       "755               Services\n",
       "756               Services\n",
       "757               Services"
      ]
     },
     "execution_count": 4,
     "metadata": {},
     "output_type": "execute_result"
    }
   ],
   "source": [
    "df_.loc[df_.B_36_typeMarcheFacette.notna(),:].tail()"
   ]
  }
 ],
 "metadata": {
  "kaggle": {
   "accelerator": "none",
   "dataSources": [],
   "isGpuEnabled": false,
   "isInternetEnabled": true,
   "language": "python",
   "sourceType": "notebook"
  },
  "kernelspec": {
   "display_name": "Python 3 (ipykernel)",
   "language": "python",
   "name": "python3"
  },
  "language_info": {
   "codemirror_mode": {
    "name": "ipython",
    "version": 3
   },
   "file_extension": ".py",
   "mimetype": "text/x-python",
   "name": "python",
   "nbconvert_exporter": "python",
   "pygments_lexer": "ipython3",
   "version": "3.10.14"
  },
  "papermill": {
   "default_parameters": {},
   "duration": 5.116436,
   "end_time": "2024-10-19T08:59:41.315259",
   "environment_variables": {},
   "exception": null,
   "input_path": "__notebook__.ipynb",
   "output_path": "__notebook__.ipynb",
   "parameters": {},
   "start_time": "2024-10-19T08:59:36.198823",
   "version": "2.6.0"
  },
  "widgets": {
   "application/vnd.jupyter.widget-state+json": {
    "state": {},
    "version_major": 2,
    "version_minor": 0
   }
  }
 },
 "nbformat": 4,
 "nbformat_minor": 5
}
