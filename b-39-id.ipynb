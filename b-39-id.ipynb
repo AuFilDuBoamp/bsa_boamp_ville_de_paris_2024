{
 "cells": [
  {
   "cell_type": "markdown",
   "id": "d0f9b56c",
   "metadata": {
    "papermill": {
     "duration": 0.003514,
     "end_time": "2024-10-19T09:30:13.413746",
     "exception": false,
     "start_time": "2024-10-19T09:30:13.410232",
     "status": "completed"
    },
    "tags": []
   },
   "source": [
    "# Colonne «B_39_id» (Initialisation)"
   ]
  },
  {
   "cell_type": "markdown",
   "id": "035fc389",
   "metadata": {
    "papermill": {
     "duration": 0.002582,
     "end_time": "2024-10-19T09:30:13.419814",
     "exception": false,
     "start_time": "2024-10-19T09:30:13.417232",
     "status": "completed"
    },
    "tags": []
   },
   "source": [
    "# Intro"
   ]
  },
  {
   "cell_type": "markdown",
   "id": "8c9ece8a",
   "metadata": {
    "papermill": {
     "duration": 0.003117,
     "end_time": "2024-10-19T09:30:13.425844",
     "exception": false,
     "start_time": "2024-10-19T09:30:13.422727",
     "status": "completed"
    },
    "tags": []
   },
   "source": [
    "# Import(s) et réglages"
   ]
  },
  {
   "cell_type": "code",
   "execution_count": 1,
   "id": "9e78463e",
   "metadata": {
    "execution": {
     "iopub.execute_input": "2024-10-19T09:30:13.433547Z",
     "iopub.status.busy": "2024-10-19T09:30:13.433084Z",
     "iopub.status.idle": "2024-10-19T09:30:14.389834Z",
     "shell.execute_reply": "2024-10-19T09:30:14.388637Z"
    },
    "papermill": {
     "duration": 0.963807,
     "end_time": "2024-10-19T09:30:14.392659",
     "exception": false,
     "start_time": "2024-10-19T09:30:13.428852",
     "status": "completed"
    },
    "tags": []
   },
   "outputs": [],
   "source": [
    "# import\n",
    "import pandas as pd\n",
    "#réglages\n",
    "pd.set_option('display.max_colwidth', 500)\n",
    "pd.set_option('display.max_columns', 200)\n",
    "pd.set_option('display.max_rows', 200)"
   ]
  },
  {
   "cell_type": "markdown",
   "id": "c2a2c1d5",
   "metadata": {
    "papermill": {
     "duration": 0.002523,
     "end_time": "2024-10-19T09:30:14.398277",
     "exception": false,
     "start_time": "2024-10-19T09:30:14.395754",
     "status": "completed"
    },
    "tags": []
   },
   "source": [
    "# Téléchargement des annonces de la Ville de Paris sur Datagouv"
   ]
  },
  {
   "cell_type": "code",
   "execution_count": 2,
   "id": "5bf65797",
   "metadata": {
    "execution": {
     "iopub.execute_input": "2024-10-19T09:30:14.405793Z",
     "iopub.status.busy": "2024-10-19T09:30:14.405242Z",
     "iopub.status.idle": "2024-10-19T09:30:15.047054Z",
     "shell.execute_reply": "2024-10-19T09:30:15.045866Z"
    },
    "papermill": {
     "duration": 0.648826,
     "end_time": "2024-10-19T09:30:15.049968",
     "exception": false,
     "start_time": "2024-10-19T09:30:14.401142",
     "status": "completed"
    },
    "scrolled": true,
    "tags": []
   },
   "outputs": [],
   "source": [
    "df = pd.read_csv('https://www.data.gouv.fr/fr/datasets/r/8571acc8-2f51-4d7e-9d87-bd5b8ec210e5', dtype='string')\n",
    "\n",
    "# Adresse ressources sur datagouv\n",
    "# -> https://www.data.gouv.fr/fr/datasets/une-vie-de-siren-au-boamp-ville-de-paris-217500016/#/resources"
   ]
  },
  {
   "cell_type": "markdown",
   "id": "d36dfa79",
   "metadata": {
    "papermill": {
     "duration": 0.002852,
     "end_time": "2024-10-19T09:30:15.055852",
     "exception": false,
     "start_time": "2024-10-19T09:30:15.053000",
     "status": "completed"
    },
    "tags": []
   },
   "source": [
    "# Sélection de la colonne B_39_id"
   ]
  },
  {
   "cell_type": "code",
   "execution_count": 3,
   "id": "2a71d978",
   "metadata": {
    "execution": {
     "iopub.execute_input": "2024-10-19T09:30:15.063660Z",
     "iopub.status.busy": "2024-10-19T09:30:15.063222Z",
     "iopub.status.idle": "2024-10-19T09:30:15.079780Z",
     "shell.execute_reply": "2024-10-19T09:30:15.078574Z"
    },
    "papermill": {
     "duration": 0.023584,
     "end_time": "2024-10-19T09:30:15.082390",
     "exception": false,
     "start_time": "2024-10-19T09:30:15.058806",
     "status": "completed"
    },
    "tags": []
   },
   "outputs": [],
   "source": [
    "df_ = df.loc[:, ['B_39_id']].copy()"
   ]
  },
  {
   "cell_type": "markdown",
   "id": "c2aba939",
   "metadata": {
    "papermill": {
     "duration": 0.002703,
     "end_time": "2024-10-19T09:30:15.088248",
     "exception": false,
     "start_time": "2024-10-19T09:30:15.085545",
     "status": "completed"
    },
    "tags": []
   },
   "source": [
    "# Lecture des dernières lignes"
   ]
  },
  {
   "cell_type": "code",
   "execution_count": 4,
   "id": "1a7d03e7",
   "metadata": {
    "execution": {
     "iopub.execute_input": "2024-10-19T09:30:15.096470Z",
     "iopub.status.busy": "2024-10-19T09:30:15.096059Z",
     "iopub.status.idle": "2024-10-19T09:30:15.115358Z",
     "shell.execute_reply": "2024-10-19T09:30:15.113592Z"
    },
    "papermill": {
     "duration": 0.026787,
     "end_time": "2024-10-19T09:30:15.118222",
     "exception": false,
     "start_time": "2024-10-19T09:30:15.091435",
     "status": "completed"
    },
    "tags": []
   },
   "outputs": [
    {
     "data": {
      "text/html": [
       "<div>\n",
       "<style scoped>\n",
       "    .dataframe tbody tr th:only-of-type {\n",
       "        vertical-align: middle;\n",
       "    }\n",
       "\n",
       "    .dataframe tbody tr th {\n",
       "        vertical-align: top;\n",
       "    }\n",
       "\n",
       "    .dataframe thead th {\n",
       "        text-align: right;\n",
       "    }\n",
       "</style>\n",
       "<table border=\"1\" class=\"dataframe\">\n",
       "  <thead>\n",
       "    <tr style=\"text-align: right;\">\n",
       "      <th></th>\n",
       "      <th>B_39_id</th>\n",
       "    </tr>\n",
       "  </thead>\n",
       "  <tbody>\n",
       "    <tr>\n",
       "      <th>753</th>\n",
       "      <td>24_1437</td>\n",
       "    </tr>\n",
       "    <tr>\n",
       "      <th>754</th>\n",
       "      <td>24_303</td>\n",
       "    </tr>\n",
       "    <tr>\n",
       "      <th>755</th>\n",
       "      <td>24_243</td>\n",
       "    </tr>\n",
       "    <tr>\n",
       "      <th>756</th>\n",
       "      <td>24_660</td>\n",
       "    </tr>\n",
       "    <tr>\n",
       "      <th>757</th>\n",
       "      <td>24_712</td>\n",
       "    </tr>\n",
       "  </tbody>\n",
       "</table>\n",
       "</div>"
      ],
      "text/plain": [
       "     B_39_id\n",
       "753  24_1437\n",
       "754   24_303\n",
       "755   24_243\n",
       "756   24_660\n",
       "757   24_712"
      ]
     },
     "execution_count": 4,
     "metadata": {},
     "output_type": "execute_result"
    }
   ],
   "source": [
    "df_.loc[df_.B_39_id.notna(),:].tail()"
   ]
  }
 ],
 "metadata": {
  "kaggle": {
   "accelerator": "none",
   "dataSources": [],
   "dockerImageVersionId": 30786,
   "isGpuEnabled": false,
   "isInternetEnabled": true,
   "language": "python",
   "sourceType": "notebook"
  },
  "kernelspec": {
   "display_name": "Python 3 (ipykernel)",
   "language": "python",
   "name": "python3"
  },
  "language_info": {
   "codemirror_mode": {
    "name": "ipython",
    "version": 3
   },
   "file_extension": ".py",
   "mimetype": "text/x-python",
   "name": "python",
   "nbconvert_exporter": "python",
   "pygments_lexer": "ipython3",
   "version": "3.10.14"
  },
  "papermill": {
   "default_parameters": {},
   "duration": 5.198063,
   "end_time": "2024-10-19T09:30:15.644272",
   "environment_variables": {},
   "exception": null,
   "input_path": "__notebook__.ipynb",
   "output_path": "__notebook__.ipynb",
   "parameters": {},
   "start_time": "2024-10-19T09:30:10.446209",
   "version": "2.6.0"
  },
  "widgets": {
   "application/vnd.jupyter.widget-state+json": {
    "state": {},
    "version_major": 2,
    "version_minor": 0
   }
  }
 },
 "nbformat": 4,
 "nbformat_minor": 5
}
