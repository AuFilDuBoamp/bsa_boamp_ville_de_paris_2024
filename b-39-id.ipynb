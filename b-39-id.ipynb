{
 "cells": [
  {
   "cell_type": "markdown",
   "id": "4f583e76",
   "metadata": {
    "papermill": {
     "duration": 0.00368,
     "end_time": "2024-10-20T08:51:29.650076",
     "exception": false,
     "start_time": "2024-10-20T08:51:29.646396",
     "status": "completed"
    },
    "tags": []
   },
   "source": [
    "# Colonne «B_39_id» (Initialisation)"
   ]
  },
  {
   "cell_type": "markdown",
   "id": "9a98830f",
   "metadata": {
    "papermill": {
     "duration": 0.002828,
     "end_time": "2024-10-20T08:51:29.656528",
     "exception": false,
     "start_time": "2024-10-20T08:51:29.653700",
     "status": "completed"
    },
    "tags": []
   },
   "source": [
    "|NAVIGATION (travaux sur les annonces BOAMP de la Ville de Paris en 2024)|\n",
    "|---|\n",
    "|[Retour à l'INDEX (kaggle)](https://www.kaggle.com/code/aufilduboamp/index-ville-de-paris-aufilduboamp)|\n",
    "|[Rubrique AuFilDuBoamp.com](https://www.aufilduboamp.com/rubrique92.html)|\n",
    "|[Dépôt GitHub](https://github.com/AuFilDuBoamp/bsa_boamp_ville_de_paris_2024/tree/main)|\n",
    "|[Dépôt DataGouv](https://www.data.gouv.fr/fr/datasets/une-vie-de-siren-au-boamp-ville-de-paris-217500016/#/resources)|"
   ]
  },
  {
   "cell_type": "markdown",
   "id": "9e48fafd",
   "metadata": {
    "papermill": {
     "duration": 0.002707,
     "end_time": "2024-10-20T08:51:29.662347",
     "exception": false,
     "start_time": "2024-10-20T08:51:29.659640",
     "status": "completed"
    },
    "tags": []
   },
   "source": [
    "# Import(s) et réglages"
   ]
  },
  {
   "cell_type": "code",
   "execution_count": 1,
   "id": "27f7d06e",
   "metadata": {
    "execution": {
     "iopub.execute_input": "2024-10-20T08:51:29.670356Z",
     "iopub.status.busy": "2024-10-20T08:51:29.669787Z",
     "iopub.status.idle": "2024-10-20T08:51:30.714815Z",
     "shell.execute_reply": "2024-10-20T08:51:30.713000Z"
    },
    "papermill": {
     "duration": 1.053223,
     "end_time": "2024-10-20T08:51:30.718569",
     "exception": false,
     "start_time": "2024-10-20T08:51:29.665346",
     "status": "completed"
    },
    "tags": []
   },
   "outputs": [],
   "source": [
    "# import\n",
    "import pandas as pd\n",
    "#réglages\n",
    "pd.set_option('display.max_colwidth', 500)\n",
    "pd.set_option('display.max_columns', 200)\n",
    "pd.set_option('display.max_rows', 200)"
   ]
  },
  {
   "cell_type": "markdown",
   "id": "3f2ecba9",
   "metadata": {
    "papermill": {
     "duration": 0.003229,
     "end_time": "2024-10-20T08:51:30.725704",
     "exception": false,
     "start_time": "2024-10-20T08:51:30.722475",
     "status": "completed"
    },
    "tags": []
   },
   "source": [
    "# Téléchargement des annonces de la Ville de Paris sur Datagouv"
   ]
  },
  {
   "cell_type": "code",
   "execution_count": 2,
   "id": "f0d3eea0",
   "metadata": {
    "execution": {
     "iopub.execute_input": "2024-10-20T08:51:30.734991Z",
     "iopub.status.busy": "2024-10-20T08:51:30.734310Z",
     "iopub.status.idle": "2024-10-20T08:51:31.360294Z",
     "shell.execute_reply": "2024-10-20T08:51:31.358721Z"
    },
    "papermill": {
     "duration": 0.634592,
     "end_time": "2024-10-20T08:51:31.363700",
     "exception": false,
     "start_time": "2024-10-20T08:51:30.729108",
     "status": "completed"
    },
    "scrolled": true,
    "tags": []
   },
   "outputs": [],
   "source": [
    "df = pd.read_csv('https://www.data.gouv.fr/fr/datasets/r/8571acc8-2f51-4d7e-9d87-bd5b8ec210e5', dtype='string')\n",
    "\n",
    "# Adresse ressources sur datagouv\n",
    "# -> https://www.data.gouv.fr/fr/datasets/une-vie-de-siren-au-boamp-ville-de-paris-217500016/#/resources"
   ]
  },
  {
   "cell_type": "markdown",
   "id": "abc4baea",
   "metadata": {
    "papermill": {
     "duration": 0.003748,
     "end_time": "2024-10-20T08:51:31.371327",
     "exception": false,
     "start_time": "2024-10-20T08:51:31.367579",
     "status": "completed"
    },
    "tags": []
   },
   "source": [
    "# Sélection de la colonne B_39_id"
   ]
  },
  {
   "cell_type": "code",
   "execution_count": 3,
   "id": "ba1833f7",
   "metadata": {
    "execution": {
     "iopub.execute_input": "2024-10-20T08:51:31.381128Z",
     "iopub.status.busy": "2024-10-20T08:51:31.380571Z",
     "iopub.status.idle": "2024-10-20T08:51:31.396565Z",
     "shell.execute_reply": "2024-10-20T08:51:31.395266Z"
    },
    "papermill": {
     "duration": 0.024607,
     "end_time": "2024-10-20T08:51:31.399545",
     "exception": false,
     "start_time": "2024-10-20T08:51:31.374938",
     "status": "completed"
    },
    "tags": []
   },
   "outputs": [],
   "source": [
    "df_ = df.loc[:, ['B_39_id']].copy()"
   ]
  },
  {
   "cell_type": "markdown",
   "id": "debd2966",
   "metadata": {
    "papermill": {
     "duration": 0.003312,
     "end_time": "2024-10-20T08:51:31.406603",
     "exception": false,
     "start_time": "2024-10-20T08:51:31.403291",
     "status": "completed"
    },
    "tags": []
   },
   "source": [
    "# Lecture des dernières lignes"
   ]
  },
  {
   "cell_type": "code",
   "execution_count": 4,
   "id": "182b8fd4",
   "metadata": {
    "execution": {
     "iopub.execute_input": "2024-10-20T08:51:31.416473Z",
     "iopub.status.busy": "2024-10-20T08:51:31.415357Z",
     "iopub.status.idle": "2024-10-20T08:51:31.438708Z",
     "shell.execute_reply": "2024-10-20T08:51:31.437276Z"
    },
    "papermill": {
     "duration": 0.031875,
     "end_time": "2024-10-20T08:51:31.441993",
     "exception": false,
     "start_time": "2024-10-20T08:51:31.410118",
     "status": "completed"
    },
    "tags": []
   },
   "outputs": [
    {
     "data": {
      "text/html": [
       "<div>\n",
       "<style scoped>\n",
       "    .dataframe tbody tr th:only-of-type {\n",
       "        vertical-align: middle;\n",
       "    }\n",
       "\n",
       "    .dataframe tbody tr th {\n",
       "        vertical-align: top;\n",
       "    }\n",
       "\n",
       "    .dataframe thead th {\n",
       "        text-align: right;\n",
       "    }\n",
       "</style>\n",
       "<table border=\"1\" class=\"dataframe\">\n",
       "  <thead>\n",
       "    <tr style=\"text-align: right;\">\n",
       "      <th></th>\n",
       "      <th>B_39_id</th>\n",
       "    </tr>\n",
       "  </thead>\n",
       "  <tbody>\n",
       "    <tr>\n",
       "      <th>753</th>\n",
       "      <td>24_243</td>\n",
       "    </tr>\n",
       "    <tr>\n",
       "      <th>754</th>\n",
       "      <td>24_1437</td>\n",
       "    </tr>\n",
       "    <tr>\n",
       "      <th>755</th>\n",
       "      <td>24_303</td>\n",
       "    </tr>\n",
       "    <tr>\n",
       "      <th>756</th>\n",
       "      <td>24_660</td>\n",
       "    </tr>\n",
       "    <tr>\n",
       "      <th>757</th>\n",
       "      <td>24_712</td>\n",
       "    </tr>\n",
       "  </tbody>\n",
       "</table>\n",
       "</div>"
      ],
      "text/plain": [
       "     B_39_id\n",
       "753   24_243\n",
       "754  24_1437\n",
       "755   24_303\n",
       "756   24_660\n",
       "757   24_712"
      ]
     },
     "execution_count": 4,
     "metadata": {},
     "output_type": "execute_result"
    }
   ],
   "source": [
    "df_.loc[df_.B_39_id.notna(),:].tail()"
   ]
  }
 ],
 "metadata": {
  "kaggle": {
   "accelerator": "none",
   "dataSources": [],
   "dockerImageVersionId": 30786,
   "isGpuEnabled": false,
   "isInternetEnabled": true,
   "language": "python",
   "sourceType": "notebook"
  },
  "kernelspec": {
   "display_name": "Python 3 (ipykernel)",
   "language": "python",
   "name": "python3"
  },
  "language_info": {
   "codemirror_mode": {
    "name": "ipython",
    "version": 3
   },
   "file_extension": ".py",
   "mimetype": "text/x-python",
   "name": "python",
   "nbconvert_exporter": "python",
   "pygments_lexer": "ipython3",
   "version": "3.10.14"
  },
  "papermill": {
   "default_parameters": {},
   "duration": 5.763431,
   "end_time": "2024-10-20T08:51:32.072517",
   "environment_variables": {},
   "exception": null,
   "input_path": "__notebook__.ipynb",
   "output_path": "__notebook__.ipynb",
   "parameters": {},
   "start_time": "2024-10-20T08:51:26.309086",
   "version": "2.6.0"
  },
  "widgets": {
   "application/vnd.jupyter.widget-state+json": {
    "state": {},
    "version_major": 2,
    "version_minor": 0
   }
  }
 },
 "nbformat": 4,
 "nbformat_minor": 5
}
