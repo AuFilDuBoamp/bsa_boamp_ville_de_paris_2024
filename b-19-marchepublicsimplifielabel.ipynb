{
 "cells": [
  {
   "cell_type": "markdown",
   "id": "1ebd49a2",
   "metadata": {
    "papermill": {
     "duration": 0.00342,
     "end_time": "2024-10-19T09:38:19.181217",
     "exception": false,
     "start_time": "2024-10-19T09:38:19.177797",
     "status": "completed"
    },
    "tags": []
   },
   "source": [
    "# Colonne «B_19_marchePublicSimplifieLabel» (Initialisation)"
   ]
  },
  {
   "cell_type": "markdown",
   "id": "05866100",
   "metadata": {
    "papermill": {
     "duration": 0.002462,
     "end_time": "2024-10-19T09:38:19.186768",
     "exception": false,
     "start_time": "2024-10-19T09:38:19.184306",
     "status": "completed"
    },
    "tags": []
   },
   "source": [
    "# Intro"
   ]
  },
  {
   "cell_type": "markdown",
   "id": "d3684234",
   "metadata": {
    "papermill": {
     "duration": 0.002448,
     "end_time": "2024-10-19T09:38:19.191955",
     "exception": false,
     "start_time": "2024-10-19T09:38:19.189507",
     "status": "completed"
    },
    "tags": []
   },
   "source": [
    "# Import(s) et réglages"
   ]
  },
  {
   "cell_type": "code",
   "execution_count": 1,
   "id": "88b6af48",
   "metadata": {
    "execution": {
     "iopub.execute_input": "2024-10-19T09:38:19.199535Z",
     "iopub.status.busy": "2024-10-19T09:38:19.198972Z",
     "iopub.status.idle": "2024-10-19T09:38:20.126160Z",
     "shell.execute_reply": "2024-10-19T09:38:20.124929Z"
    },
    "papermill": {
     "duration": 0.934196,
     "end_time": "2024-10-19T09:38:20.128891",
     "exception": false,
     "start_time": "2024-10-19T09:38:19.194695",
     "status": "completed"
    },
    "tags": []
   },
   "outputs": [],
   "source": [
    "# import\n",
    "import pandas as pd\n",
    "#réglages\n",
    "pd.set_option('display.max_colwidth', 500)\n",
    "pd.set_option('display.max_columns', 200)\n",
    "pd.set_option('display.max_rows', 200)"
   ]
  },
  {
   "cell_type": "markdown",
   "id": "642fecbe",
   "metadata": {
    "papermill": {
     "duration": 0.002549,
     "end_time": "2024-10-19T09:38:20.134514",
     "exception": false,
     "start_time": "2024-10-19T09:38:20.131965",
     "status": "completed"
    },
    "tags": []
   },
   "source": [
    "# Téléchargement des annonces de la Ville de Paris sur Datagouv"
   ]
  },
  {
   "cell_type": "code",
   "execution_count": 2,
   "id": "926c12f7",
   "metadata": {
    "execution": {
     "iopub.execute_input": "2024-10-19T09:38:20.142281Z",
     "iopub.status.busy": "2024-10-19T09:38:20.141401Z",
     "iopub.status.idle": "2024-10-19T09:38:25.002804Z",
     "shell.execute_reply": "2024-10-19T09:38:25.001619Z"
    },
    "papermill": {
     "duration": 4.86839,
     "end_time": "2024-10-19T09:38:25.005669",
     "exception": false,
     "start_time": "2024-10-19T09:38:20.137279",
     "status": "completed"
    },
    "scrolled": true,
    "tags": []
   },
   "outputs": [],
   "source": [
    "df = pd.read_csv('https://www.data.gouv.fr/fr/datasets/r/8571acc8-2f51-4d7e-9d87-bd5b8ec210e5', dtype='string')\n",
    "\n",
    "# Adresse ressources sur datagouv\n",
    "# -> https://www.data.gouv.fr/fr/datasets/une-vie-de-siren-au-boamp-ville-de-paris-217500016/#/resources"
   ]
  },
  {
   "cell_type": "markdown",
   "id": "5c7f2d6b",
   "metadata": {
    "papermill": {
     "duration": 0.002748,
     "end_time": "2024-10-19T09:38:25.012007",
     "exception": false,
     "start_time": "2024-10-19T09:38:25.009259",
     "status": "completed"
    },
    "tags": []
   },
   "source": [
    "# Sélection de la colonne B_19_marchePublicSimplifieLabel"
   ]
  },
  {
   "cell_type": "code",
   "execution_count": 3,
   "id": "6ce6c8d6",
   "metadata": {
    "execution": {
     "iopub.execute_input": "2024-10-19T09:38:25.019546Z",
     "iopub.status.busy": "2024-10-19T09:38:25.019136Z",
     "iopub.status.idle": "2024-10-19T09:38:25.034285Z",
     "shell.execute_reply": "2024-10-19T09:38:25.032794Z"
    },
    "papermill": {
     "duration": 0.022098,
     "end_time": "2024-10-19T09:38:25.037056",
     "exception": false,
     "start_time": "2024-10-19T09:38:25.014958",
     "status": "completed"
    },
    "tags": []
   },
   "outputs": [],
   "source": [
    "df_ = df.loc[:, ['B_19_marchePublicSimplifieLabel']].copy()"
   ]
  },
  {
   "cell_type": "markdown",
   "id": "c371a233",
   "metadata": {
    "papermill": {
     "duration": 0.002755,
     "end_time": "2024-10-19T09:38:25.042951",
     "exception": false,
     "start_time": "2024-10-19T09:38:25.040196",
     "status": "completed"
    },
    "tags": []
   },
   "source": [
    "# Lecture des dernières lignes"
   ]
  },
  {
   "cell_type": "code",
   "execution_count": 4,
   "id": "de906916",
   "metadata": {
    "execution": {
     "iopub.execute_input": "2024-10-19T09:38:25.051367Z",
     "iopub.status.busy": "2024-10-19T09:38:25.050139Z",
     "iopub.status.idle": "2024-10-19T09:38:25.065930Z",
     "shell.execute_reply": "2024-10-19T09:38:25.064874Z"
    },
    "papermill": {
     "duration": 0.022455,
     "end_time": "2024-10-19T09:38:25.068406",
     "exception": false,
     "start_time": "2024-10-19T09:38:25.045951",
     "status": "completed"
    },
    "tags": []
   },
   "outputs": [
    {
     "data": {
      "text/html": [
       "<div>\n",
       "<style scoped>\n",
       "    .dataframe tbody tr th:only-of-type {\n",
       "        vertical-align: middle;\n",
       "    }\n",
       "\n",
       "    .dataframe tbody tr th {\n",
       "        vertical-align: top;\n",
       "    }\n",
       "\n",
       "    .dataframe thead th {\n",
       "        text-align: right;\n",
       "    }\n",
       "</style>\n",
       "<table border=\"1\" class=\"dataframe\">\n",
       "  <thead>\n",
       "    <tr style=\"text-align: right;\">\n",
       "      <th></th>\n",
       "      <th>B_19_marchePublicSimplifieLabel</th>\n",
       "    </tr>\n",
       "  </thead>\n",
       "  <tbody>\n",
       "  </tbody>\n",
       "</table>\n",
       "</div>"
      ],
      "text/plain": [
       "Empty DataFrame\n",
       "Columns: [B_19_marchePublicSimplifieLabel]\n",
       "Index: []"
      ]
     },
     "execution_count": 4,
     "metadata": {},
     "output_type": "execute_result"
    }
   ],
   "source": [
    "df_.loc[df_.B_19_marchePublicSimplifieLabel.notna(),:].tail()"
   ]
  }
 ],
 "metadata": {
  "kaggle": {
   "accelerator": "none",
   "dataSources": [],
   "isGpuEnabled": false,
   "isInternetEnabled": true,
   "language": "python",
   "sourceType": "notebook"
  },
  "kernelspec": {
   "display_name": "Python 3 (ipykernel)",
   "language": "python",
   "name": "python3"
  },
  "language_info": {
   "codemirror_mode": {
    "name": "ipython",
    "version": 3
   },
   "file_extension": ".py",
   "mimetype": "text/x-python",
   "name": "python",
   "nbconvert_exporter": "python",
   "pygments_lexer": "ipython3",
   "version": "3.10.14"
  },
  "papermill": {
   "default_parameters": {},
   "duration": 9.346446,
   "end_time": "2024-10-19T09:38:25.592655",
   "environment_variables": {},
   "exception": null,
   "input_path": "__notebook__.ipynb",
   "output_path": "__notebook__.ipynb",
   "parameters": {},
   "start_time": "2024-10-19T09:38:16.246209",
   "version": "2.6.0"
  },
  "widgets": {
   "application/vnd.jupyter.widget-state+json": {
    "state": {},
    "version_major": 2,
    "version_minor": 0
   }
  }
 },
 "nbformat": 4,
 "nbformat_minor": 5
}
