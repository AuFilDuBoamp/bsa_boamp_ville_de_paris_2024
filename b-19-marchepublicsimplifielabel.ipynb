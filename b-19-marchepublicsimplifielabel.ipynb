{
 "cells": [
  {
   "cell_type": "markdown",
   "id": "56e4e521",
   "metadata": {
    "papermill": {
     "duration": 0.004705,
     "end_time": "2024-10-20T08:41:54.244558",
     "exception": false,
     "start_time": "2024-10-20T08:41:54.239853",
     "status": "completed"
    },
    "tags": []
   },
   "source": [
    "# Colonne «B_19_marchePublicSimplifieLabel» (Initialisation)"
   ]
  },
  {
   "cell_type": "markdown",
   "id": "222cd47e",
   "metadata": {
    "papermill": {
     "duration": 0.003418,
     "end_time": "2024-10-20T08:41:54.252090",
     "exception": false,
     "start_time": "2024-10-20T08:41:54.248672",
     "status": "completed"
    },
    "tags": []
   },
   "source": [
    "|NAVIGATION (travaux sur les annonces BOAMP de la Ville de Paris en 2024)|\n",
    "|---|\n",
    "|[Retour à l'INDEX (kaggle)](https://www.kaggle.com/code/aufilduboamp/index-ville-de-paris-aufilduboamp)|\n",
    "|[Rubrique AuFilDuBoamp.com](https://www.aufilduboamp.com/rubrique92.html)|\n",
    "|[Dépôt GitHub](https://github.com/AuFilDuBoamp/bsa_boamp_ville_de_paris_2024/tree/main)|\n",
    "|[Dépôt DataGouv](https://www.data.gouv.fr/fr/datasets/une-vie-de-siren-au-boamp-ville-de-paris-217500016/#/resources)|"
   ]
  },
  {
   "cell_type": "markdown",
   "id": "43db0f0d",
   "metadata": {
    "papermill": {
     "duration": 0.003631,
     "end_time": "2024-10-20T08:41:54.259503",
     "exception": false,
     "start_time": "2024-10-20T08:41:54.255872",
     "status": "completed"
    },
    "tags": []
   },
   "source": [
    "# Import(s) et réglages"
   ]
  },
  {
   "cell_type": "code",
   "execution_count": 1,
   "id": "0825e95f",
   "metadata": {
    "execution": {
     "iopub.execute_input": "2024-10-20T08:41:54.268841Z",
     "iopub.status.busy": "2024-10-20T08:41:54.268390Z",
     "iopub.status.idle": "2024-10-20T08:41:55.376346Z",
     "shell.execute_reply": "2024-10-20T08:41:55.374990Z"
    },
    "papermill": {
     "duration": 1.116589,
     "end_time": "2024-10-20T08:41:55.379758",
     "exception": false,
     "start_time": "2024-10-20T08:41:54.263169",
     "status": "completed"
    },
    "tags": []
   },
   "outputs": [],
   "source": [
    "# import\n",
    "import pandas as pd\n",
    "#réglages\n",
    "pd.set_option('display.max_colwidth', 500)\n",
    "pd.set_option('display.max_columns', 200)\n",
    "pd.set_option('display.max_rows', 200)"
   ]
  },
  {
   "cell_type": "markdown",
   "id": "b6932917",
   "metadata": {
    "papermill": {
     "duration": 0.003911,
     "end_time": "2024-10-20T08:41:55.387746",
     "exception": false,
     "start_time": "2024-10-20T08:41:55.383835",
     "status": "completed"
    },
    "tags": []
   },
   "source": [
    "# Téléchargement des annonces de la Ville de Paris sur Datagouv"
   ]
  },
  {
   "cell_type": "code",
   "execution_count": 2,
   "id": "183d7361",
   "metadata": {
    "execution": {
     "iopub.execute_input": "2024-10-20T08:41:55.398141Z",
     "iopub.status.busy": "2024-10-20T08:41:55.397524Z",
     "iopub.status.idle": "2024-10-20T08:41:58.105217Z",
     "shell.execute_reply": "2024-10-20T08:41:58.104004Z"
    },
    "papermill": {
     "duration": 2.716005,
     "end_time": "2024-10-20T08:41:58.108291",
     "exception": false,
     "start_time": "2024-10-20T08:41:55.392286",
     "status": "completed"
    },
    "scrolled": true,
    "tags": []
   },
   "outputs": [],
   "source": [
    "df = pd.read_csv('https://www.data.gouv.fr/fr/datasets/r/8571acc8-2f51-4d7e-9d87-bd5b8ec210e5', dtype='string')\n",
    "\n",
    "# Adresse ressources sur datagouv\n",
    "# -> https://www.data.gouv.fr/fr/datasets/une-vie-de-siren-au-boamp-ville-de-paris-217500016/#/resources"
   ]
  },
  {
   "cell_type": "markdown",
   "id": "336109ff",
   "metadata": {
    "papermill": {
     "duration": 0.003606,
     "end_time": "2024-10-20T08:41:58.116142",
     "exception": false,
     "start_time": "2024-10-20T08:41:58.112536",
     "status": "completed"
    },
    "tags": []
   },
   "source": [
    "# Sélection de la colonne B_19_marchePublicSimplifieLabel"
   ]
  },
  {
   "cell_type": "code",
   "execution_count": 3,
   "id": "32ba14fa",
   "metadata": {
    "execution": {
     "iopub.execute_input": "2024-10-20T08:41:58.125954Z",
     "iopub.status.busy": "2024-10-20T08:41:58.125389Z",
     "iopub.status.idle": "2024-10-20T08:41:58.142839Z",
     "shell.execute_reply": "2024-10-20T08:41:58.141293Z"
    },
    "papermill": {
     "duration": 0.026211,
     "end_time": "2024-10-20T08:41:58.146227",
     "exception": false,
     "start_time": "2024-10-20T08:41:58.120016",
     "status": "completed"
    },
    "tags": []
   },
   "outputs": [],
   "source": [
    "df_ = df.loc[:, ['B_19_marchePublicSimplifieLabel']].copy()"
   ]
  },
  {
   "cell_type": "markdown",
   "id": "986a6556",
   "metadata": {
    "papermill": {
     "duration": 0.003623,
     "end_time": "2024-10-20T08:41:58.153834",
     "exception": false,
     "start_time": "2024-10-20T08:41:58.150211",
     "status": "completed"
    },
    "tags": []
   },
   "source": [
    "# Lecture des dernières lignes"
   ]
  },
  {
   "cell_type": "code",
   "execution_count": 4,
   "id": "78ba3c74",
   "metadata": {
    "execution": {
     "iopub.execute_input": "2024-10-20T08:41:58.163573Z",
     "iopub.status.busy": "2024-10-20T08:41:58.163114Z",
     "iopub.status.idle": "2024-10-20T08:41:58.182895Z",
     "shell.execute_reply": "2024-10-20T08:41:58.181017Z"
    },
    "papermill": {
     "duration": 0.028022,
     "end_time": "2024-10-20T08:41:58.185771",
     "exception": false,
     "start_time": "2024-10-20T08:41:58.157749",
     "status": "completed"
    },
    "tags": []
   },
   "outputs": [
    {
     "data": {
      "text/html": [
       "<div>\n",
       "<style scoped>\n",
       "    .dataframe tbody tr th:only-of-type {\n",
       "        vertical-align: middle;\n",
       "    }\n",
       "\n",
       "    .dataframe tbody tr th {\n",
       "        vertical-align: top;\n",
       "    }\n",
       "\n",
       "    .dataframe thead th {\n",
       "        text-align: right;\n",
       "    }\n",
       "</style>\n",
       "<table border=\"1\" class=\"dataframe\">\n",
       "  <thead>\n",
       "    <tr style=\"text-align: right;\">\n",
       "      <th></th>\n",
       "      <th>B_19_marchePublicSimplifieLabel</th>\n",
       "    </tr>\n",
       "  </thead>\n",
       "  <tbody>\n",
       "  </tbody>\n",
       "</table>\n",
       "</div>"
      ],
      "text/plain": [
       "Empty DataFrame\n",
       "Columns: [B_19_marchePublicSimplifieLabel]\n",
       "Index: []"
      ]
     },
     "execution_count": 4,
     "metadata": {},
     "output_type": "execute_result"
    }
   ],
   "source": [
    "df_.loc[df_.B_19_marchePublicSimplifieLabel.notna(),:].tail()"
   ]
  }
 ],
 "metadata": {
  "kaggle": {
   "accelerator": "none",
   "dataSources": [],
   "dockerImageVersionId": 30786,
   "isGpuEnabled": false,
   "isInternetEnabled": true,
   "language": "python",
   "sourceType": "notebook"
  },
  "kernelspec": {
   "display_name": "Python 3 (ipykernel)",
   "language": "python",
   "name": "python3"
  },
  "language_info": {
   "codemirror_mode": {
    "name": "ipython",
    "version": 3
   },
   "file_extension": ".py",
   "mimetype": "text/x-python",
   "name": "python",
   "nbconvert_exporter": "python",
   "pygments_lexer": "ipython3",
   "version": "3.10.14"
  },
  "papermill": {
   "default_parameters": {},
   "duration": 7.948338,
   "end_time": "2024-10-20T08:41:58.714466",
   "environment_variables": {},
   "exception": null,
   "input_path": "__notebook__.ipynb",
   "output_path": "__notebook__.ipynb",
   "parameters": {},
   "start_time": "2024-10-20T08:41:50.766128",
   "version": "2.6.0"
  },
  "widgets": {
   "application/vnd.jupyter.widget-state+json": {
    "state": {},
    "version_major": 2,
    "version_minor": 0
   }
  }
 },
 "nbformat": 4,
 "nbformat_minor": 5
}
