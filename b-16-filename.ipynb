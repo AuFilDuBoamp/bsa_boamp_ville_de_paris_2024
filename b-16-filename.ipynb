{
 "cells": [
  {
   "cell_type": "markdown",
   "id": "6eb9dbec",
   "metadata": {
    "papermill": {
     "duration": 0.003155,
     "end_time": "2024-10-19T09:41:12.915979",
     "exception": false,
     "start_time": "2024-10-19T09:41:12.912824",
     "status": "completed"
    },
    "tags": []
   },
   "source": [
    "# Colonne «B_16_filename» (Initialisation)"
   ]
  },
  {
   "cell_type": "markdown",
   "id": "761141d5",
   "metadata": {
    "papermill": {
     "duration": 0.002422,
     "end_time": "2024-10-19T09:41:12.921415",
     "exception": false,
     "start_time": "2024-10-19T09:41:12.918993",
     "status": "completed"
    },
    "tags": []
   },
   "source": [
    "# Intro"
   ]
  },
  {
   "cell_type": "markdown",
   "id": "c877eeb2",
   "metadata": {
    "papermill": {
     "duration": 0.002294,
     "end_time": "2024-10-19T09:41:12.926280",
     "exception": false,
     "start_time": "2024-10-19T09:41:12.923986",
     "status": "completed"
    },
    "tags": []
   },
   "source": [
    "# Import(s) et réglages"
   ]
  },
  {
   "cell_type": "code",
   "execution_count": 1,
   "id": "d39636ba",
   "metadata": {
    "execution": {
     "iopub.execute_input": "2024-10-19T09:41:12.933200Z",
     "iopub.status.busy": "2024-10-19T09:41:12.932741Z",
     "iopub.status.idle": "2024-10-19T09:41:13.802855Z",
     "shell.execute_reply": "2024-10-19T09:41:13.801625Z"
    },
    "papermill": {
     "duration": 0.876823,
     "end_time": "2024-10-19T09:41:13.805556",
     "exception": false,
     "start_time": "2024-10-19T09:41:12.928733",
     "status": "completed"
    },
    "tags": []
   },
   "outputs": [],
   "source": [
    "# import\n",
    "import pandas as pd\n",
    "#réglages\n",
    "pd.set_option('display.max_colwidth', 500)\n",
    "pd.set_option('display.max_columns', 200)\n",
    "pd.set_option('display.max_rows', 200)"
   ]
  },
  {
   "cell_type": "markdown",
   "id": "c21e2eed",
   "metadata": {
    "papermill": {
     "duration": 0.002467,
     "end_time": "2024-10-19T09:41:13.810975",
     "exception": false,
     "start_time": "2024-10-19T09:41:13.808508",
     "status": "completed"
    },
    "tags": []
   },
   "source": [
    "# Téléchargement des annonces de la Ville de Paris sur Datagouv"
   ]
  },
  {
   "cell_type": "code",
   "execution_count": 2,
   "id": "62dc0dbc",
   "metadata": {
    "execution": {
     "iopub.execute_input": "2024-10-19T09:41:13.818186Z",
     "iopub.status.busy": "2024-10-19T09:41:13.817641Z",
     "iopub.status.idle": "2024-10-19T09:41:17.820368Z",
     "shell.execute_reply": "2024-10-19T09:41:17.819324Z"
    },
    "papermill": {
     "duration": 4.009331,
     "end_time": "2024-10-19T09:41:17.823023",
     "exception": false,
     "start_time": "2024-10-19T09:41:13.813692",
     "status": "completed"
    },
    "scrolled": true,
    "tags": []
   },
   "outputs": [],
   "source": [
    "df = pd.read_csv('https://www.data.gouv.fr/fr/datasets/r/8571acc8-2f51-4d7e-9d87-bd5b8ec210e5', dtype='string')\n",
    "\n",
    "# Adresse ressources sur datagouv\n",
    "# -> https://www.data.gouv.fr/fr/datasets/une-vie-de-siren-au-boamp-ville-de-paris-217500016/#/resources"
   ]
  },
  {
   "cell_type": "markdown",
   "id": "4dd97043",
   "metadata": {
    "papermill": {
     "duration": 0.002577,
     "end_time": "2024-10-19T09:41:17.828455",
     "exception": false,
     "start_time": "2024-10-19T09:41:17.825878",
     "status": "completed"
    },
    "tags": []
   },
   "source": [
    "# Sélection de la colonne B_16_filename"
   ]
  },
  {
   "cell_type": "code",
   "execution_count": 3,
   "id": "107e6793",
   "metadata": {
    "execution": {
     "iopub.execute_input": "2024-10-19T09:41:17.836551Z",
     "iopub.status.busy": "2024-10-19T09:41:17.835265Z",
     "iopub.status.idle": "2024-10-19T09:41:17.850936Z",
     "shell.execute_reply": "2024-10-19T09:41:17.849697Z"
    },
    "papermill": {
     "duration": 0.021942,
     "end_time": "2024-10-19T09:41:17.853100",
     "exception": false,
     "start_time": "2024-10-19T09:41:17.831158",
     "status": "completed"
    },
    "tags": []
   },
   "outputs": [],
   "source": [
    "df_ = df.loc[:, ['B_16_filename']].copy()"
   ]
  },
  {
   "cell_type": "markdown",
   "id": "ddc6f4f2",
   "metadata": {
    "papermill": {
     "duration": 0.002566,
     "end_time": "2024-10-19T09:41:17.858452",
     "exception": false,
     "start_time": "2024-10-19T09:41:17.855886",
     "status": "completed"
    },
    "tags": []
   },
   "source": [
    "# Lecture des dernières lignes"
   ]
  },
  {
   "cell_type": "code",
   "execution_count": 4,
   "id": "302aa2ee",
   "metadata": {
    "execution": {
     "iopub.execute_input": "2024-10-19T09:41:17.866350Z",
     "iopub.status.busy": "2024-10-19T09:41:17.865128Z",
     "iopub.status.idle": "2024-10-19T09:41:17.883494Z",
     "shell.execute_reply": "2024-10-19T09:41:17.882172Z"
    },
    "papermill": {
     "duration": 0.025207,
     "end_time": "2024-10-19T09:41:17.886397",
     "exception": false,
     "start_time": "2024-10-19T09:41:17.861190",
     "status": "completed"
    },
    "tags": []
   },
   "outputs": [
    {
     "data": {
      "text/html": [
       "<div>\n",
       "<style scoped>\n",
       "    .dataframe tbody tr th:only-of-type {\n",
       "        vertical-align: middle;\n",
       "    }\n",
       "\n",
       "    .dataframe tbody tr th {\n",
       "        vertical-align: top;\n",
       "    }\n",
       "\n",
       "    .dataframe thead th {\n",
       "        text-align: right;\n",
       "    }\n",
       "</style>\n",
       "<table border=\"1\" class=\"dataframe\">\n",
       "  <thead>\n",
       "    <tr style=\"text-align: right;\">\n",
       "      <th></th>\n",
       "      <th>B_16_filename</th>\n",
       "    </tr>\n",
       "  </thead>\n",
       "  <tbody>\n",
       "    <tr>\n",
       "      <th>753</th>\n",
       "      <td>BOAMP-N-AO_2024_004011</td>\n",
       "    </tr>\n",
       "    <tr>\n",
       "      <th>754</th>\n",
       "      <td>BOAMP-J-IC-AA_2024_004010</td>\n",
       "    </tr>\n",
       "    <tr>\n",
       "      <th>755</th>\n",
       "      <td>BOAMP-J-IC-AA_2024_004010</td>\n",
       "    </tr>\n",
       "    <tr>\n",
       "      <th>756</th>\n",
       "      <td>MAPA-AO_2024_003006</td>\n",
       "    </tr>\n",
       "    <tr>\n",
       "      <th>757</th>\n",
       "      <td>MAPA-AO_2024_003006</td>\n",
       "    </tr>\n",
       "  </tbody>\n",
       "</table>\n",
       "</div>"
      ],
      "text/plain": [
       "                 B_16_filename\n",
       "753     BOAMP-N-AO_2024_004011\n",
       "754  BOAMP-J-IC-AA_2024_004010\n",
       "755  BOAMP-J-IC-AA_2024_004010\n",
       "756        MAPA-AO_2024_003006\n",
       "757        MAPA-AO_2024_003006"
      ]
     },
     "execution_count": 4,
     "metadata": {},
     "output_type": "execute_result"
    }
   ],
   "source": [
    "df_.loc[df_.B_16_filename.notna(),:].tail()"
   ]
  }
 ],
 "metadata": {
  "kaggle": {
   "accelerator": "none",
   "dataSources": [],
   "isGpuEnabled": false,
   "isInternetEnabled": true,
   "language": "python",
   "sourceType": "notebook"
  },
  "kernelspec": {
   "display_name": "Python 3 (ipykernel)",
   "language": "python",
   "name": "python3"
  },
  "language_info": {
   "codemirror_mode": {
    "name": "ipython",
    "version": 3
   },
   "file_extension": ".py",
   "mimetype": "text/x-python",
   "name": "python",
   "nbconvert_exporter": "python",
   "pygments_lexer": "ipython3",
   "version": "3.10.14"
  },
  "papermill": {
   "default_parameters": {},
   "duration": 8.633032,
   "end_time": "2024-10-19T09:41:18.410861",
   "environment_variables": {},
   "exception": null,
   "input_path": "__notebook__.ipynb",
   "output_path": "__notebook__.ipynb",
   "parameters": {},
   "start_time": "2024-10-19T09:41:09.777829",
   "version": "2.6.0"
  },
  "widgets": {
   "application/vnd.jupyter.widget-state+json": {
    "state": {},
    "version_major": 2,
    "version_minor": 0
   }
  }
 },
 "nbformat": 4,
 "nbformat_minor": 5
}
