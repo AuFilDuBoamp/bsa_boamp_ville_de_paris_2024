{
 "cells": [
  {
   "cell_type": "markdown",
   "id": "799bcef6",
   "metadata": {
    "papermill": {
     "duration": 0.004096,
     "end_time": "2024-10-20T08:41:42.047927",
     "exception": false,
     "start_time": "2024-10-20T08:41:42.043831",
     "status": "completed"
    },
    "tags": []
   },
   "source": [
    "# Colonne «B_16_filename» (Initialisation)"
   ]
  },
  {
   "cell_type": "markdown",
   "id": "97b17900",
   "metadata": {
    "papermill": {
     "duration": 0.003344,
     "end_time": "2024-10-20T08:41:42.055268",
     "exception": false,
     "start_time": "2024-10-20T08:41:42.051924",
     "status": "completed"
    },
    "tags": []
   },
   "source": [
    "|NAVIGATION (travaux sur les annonces BOAMP de la Ville de Paris en 2024)|\n",
    "|---|\n",
    "|[Retour à l'INDEX (kaggle)](https://www.kaggle.com/code/aufilduboamp/index-ville-de-paris-aufilduboamp)|\n",
    "|[Rubrique AuFilDuBoamp.com](https://www.aufilduboamp.com/rubrique92.html)|\n",
    "|[Dépôt GitHub](https://github.com/AuFilDuBoamp/bsa_boamp_ville_de_paris_2024/tree/main)|\n",
    "|[Dépôt DataGouv](https://www.data.gouv.fr/fr/datasets/une-vie-de-siren-au-boamp-ville-de-paris-217500016/#/resources)|"
   ]
  },
  {
   "cell_type": "markdown",
   "id": "8c857698",
   "metadata": {
    "papermill": {
     "duration": 0.003284,
     "end_time": "2024-10-20T08:41:42.062219",
     "exception": false,
     "start_time": "2024-10-20T08:41:42.058935",
     "status": "completed"
    },
    "tags": []
   },
   "source": [
    "# Import(s) et réglages"
   ]
  },
  {
   "cell_type": "code",
   "execution_count": 1,
   "id": "26cf17a9",
   "metadata": {
    "execution": {
     "iopub.execute_input": "2024-10-20T08:41:42.071239Z",
     "iopub.status.busy": "2024-10-20T08:41:42.070706Z",
     "iopub.status.idle": "2024-10-20T08:41:43.170000Z",
     "shell.execute_reply": "2024-10-20T08:41:43.168878Z"
    },
    "papermill": {
     "duration": 1.107076,
     "end_time": "2024-10-20T08:41:43.172834",
     "exception": false,
     "start_time": "2024-10-20T08:41:42.065758",
     "status": "completed"
    },
    "tags": []
   },
   "outputs": [],
   "source": [
    "# import\n",
    "import pandas as pd\n",
    "#réglages\n",
    "pd.set_option('display.max_colwidth', 500)\n",
    "pd.set_option('display.max_columns', 200)\n",
    "pd.set_option('display.max_rows', 200)"
   ]
  },
  {
   "cell_type": "markdown",
   "id": "f91ae249",
   "metadata": {
    "papermill": {
     "duration": 0.00339,
     "end_time": "2024-10-20T08:41:43.180209",
     "exception": false,
     "start_time": "2024-10-20T08:41:43.176819",
     "status": "completed"
    },
    "tags": []
   },
   "source": [
    "# Téléchargement des annonces de la Ville de Paris sur Datagouv"
   ]
  },
  {
   "cell_type": "code",
   "execution_count": 2,
   "id": "7ee38300",
   "metadata": {
    "execution": {
     "iopub.execute_input": "2024-10-20T08:41:43.189585Z",
     "iopub.status.busy": "2024-10-20T08:41:43.188988Z",
     "iopub.status.idle": "2024-10-20T08:41:44.892703Z",
     "shell.execute_reply": "2024-10-20T08:41:44.891591Z"
    },
    "papermill": {
     "duration": 1.711547,
     "end_time": "2024-10-20T08:41:44.895447",
     "exception": false,
     "start_time": "2024-10-20T08:41:43.183900",
     "status": "completed"
    },
    "scrolled": true,
    "tags": []
   },
   "outputs": [],
   "source": [
    "df = pd.read_csv('https://www.data.gouv.fr/fr/datasets/r/8571acc8-2f51-4d7e-9d87-bd5b8ec210e5', dtype='string')\n",
    "\n",
    "# Adresse ressources sur datagouv\n",
    "# -> https://www.data.gouv.fr/fr/datasets/une-vie-de-siren-au-boamp-ville-de-paris-217500016/#/resources"
   ]
  },
  {
   "cell_type": "markdown",
   "id": "820436f1",
   "metadata": {
    "papermill": {
     "duration": 0.0035,
     "end_time": "2024-10-20T08:41:44.902850",
     "exception": false,
     "start_time": "2024-10-20T08:41:44.899350",
     "status": "completed"
    },
    "tags": []
   },
   "source": [
    "# Sélection de la colonne B_16_filename"
   ]
  },
  {
   "cell_type": "code",
   "execution_count": 3,
   "id": "a4ad06e9",
   "metadata": {
    "execution": {
     "iopub.execute_input": "2024-10-20T08:41:44.912146Z",
     "iopub.status.busy": "2024-10-20T08:41:44.911734Z",
     "iopub.status.idle": "2024-10-20T08:41:44.928611Z",
     "shell.execute_reply": "2024-10-20T08:41:44.927245Z"
    },
    "papermill": {
     "duration": 0.025224,
     "end_time": "2024-10-20T08:41:44.931849",
     "exception": false,
     "start_time": "2024-10-20T08:41:44.906625",
     "status": "completed"
    },
    "tags": []
   },
   "outputs": [],
   "source": [
    "df_ = df.loc[:, ['B_16_filename']].copy()"
   ]
  },
  {
   "cell_type": "markdown",
   "id": "5b125aad",
   "metadata": {
    "papermill": {
     "duration": 0.00368,
     "end_time": "2024-10-20T08:41:44.939634",
     "exception": false,
     "start_time": "2024-10-20T08:41:44.935954",
     "status": "completed"
    },
    "tags": []
   },
   "source": [
    "# Lecture des dernières lignes"
   ]
  },
  {
   "cell_type": "code",
   "execution_count": 4,
   "id": "b6466a4b",
   "metadata": {
    "execution": {
     "iopub.execute_input": "2024-10-20T08:41:44.949251Z",
     "iopub.status.busy": "2024-10-20T08:41:44.948810Z",
     "iopub.status.idle": "2024-10-20T08:41:44.969320Z",
     "shell.execute_reply": "2024-10-20T08:41:44.968043Z"
    },
    "papermill": {
     "duration": 0.028652,
     "end_time": "2024-10-20T08:41:44.972131",
     "exception": false,
     "start_time": "2024-10-20T08:41:44.943479",
     "status": "completed"
    },
    "tags": []
   },
   "outputs": [
    {
     "data": {
      "text/html": [
       "<div>\n",
       "<style scoped>\n",
       "    .dataframe tbody tr th:only-of-type {\n",
       "        vertical-align: middle;\n",
       "    }\n",
       "\n",
       "    .dataframe tbody tr th {\n",
       "        vertical-align: top;\n",
       "    }\n",
       "\n",
       "    .dataframe thead th {\n",
       "        text-align: right;\n",
       "    }\n",
       "</style>\n",
       "<table border=\"1\" class=\"dataframe\">\n",
       "  <thead>\n",
       "    <tr style=\"text-align: right;\">\n",
       "      <th></th>\n",
       "      <th>B_16_filename</th>\n",
       "    </tr>\n",
       "  </thead>\n",
       "  <tbody>\n",
       "    <tr>\n",
       "      <th>753</th>\n",
       "      <td>BOAMP-J-IC-AA_2024_004010</td>\n",
       "    </tr>\n",
       "    <tr>\n",
       "      <th>754</th>\n",
       "      <td>BOAMP-N-AO_2024_004011</td>\n",
       "    </tr>\n",
       "    <tr>\n",
       "      <th>755</th>\n",
       "      <td>BOAMP-J-IC-AA_2024_004010</td>\n",
       "    </tr>\n",
       "    <tr>\n",
       "      <th>756</th>\n",
       "      <td>MAPA-AO_2024_003006</td>\n",
       "    </tr>\n",
       "    <tr>\n",
       "      <th>757</th>\n",
       "      <td>MAPA-AO_2024_003006</td>\n",
       "    </tr>\n",
       "  </tbody>\n",
       "</table>\n",
       "</div>"
      ],
      "text/plain": [
       "                 B_16_filename\n",
       "753  BOAMP-J-IC-AA_2024_004010\n",
       "754     BOAMP-N-AO_2024_004011\n",
       "755  BOAMP-J-IC-AA_2024_004010\n",
       "756        MAPA-AO_2024_003006\n",
       "757        MAPA-AO_2024_003006"
      ]
     },
     "execution_count": 4,
     "metadata": {},
     "output_type": "execute_result"
    }
   ],
   "source": [
    "df_.loc[df_.B_16_filename.notna(),:].tail()"
   ]
  }
 ],
 "metadata": {
  "kaggle": {
   "accelerator": "none",
   "dataSources": [],
   "dockerImageVersionId": 30786,
   "isGpuEnabled": false,
   "isInternetEnabled": true,
   "language": "python",
   "sourceType": "notebook"
  },
  "kernelspec": {
   "display_name": "Python 3 (ipykernel)",
   "language": "python",
   "name": "python3"
  },
  "language_info": {
   "codemirror_mode": {
    "name": "ipython",
    "version": 3
   },
   "file_extension": ".py",
   "mimetype": "text/x-python",
   "name": "python",
   "nbconvert_exporter": "python",
   "pygments_lexer": "ipython3",
   "version": "3.10.14"
  },
  "papermill": {
   "default_parameters": {},
   "duration": 6.705404,
   "end_time": "2024-10-20T08:41:45.497912",
   "environment_variables": {},
   "exception": null,
   "input_path": "__notebook__.ipynb",
   "output_path": "__notebook__.ipynb",
   "parameters": {},
   "start_time": "2024-10-20T08:41:38.792508",
   "version": "2.6.0"
  },
  "widgets": {
   "application/vnd.jupyter.widget-state+json": {
    "state": {},
    "version_major": 2,
    "version_minor": 0
   }
  }
 },
 "nbformat": 4,
 "nbformat_minor": 5
}
