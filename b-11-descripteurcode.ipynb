{
 "cells": [
  {
   "cell_type": "markdown",
   "id": "b1472234",
   "metadata": {
    "papermill": {
     "duration": 0.003261,
     "end_time": "2024-10-19T09:40:39.528758",
     "exception": false,
     "start_time": "2024-10-19T09:40:39.525497",
     "status": "completed"
    },
    "tags": []
   },
   "source": [
    "# Colonne «B_11_descripteurCode» (Initialisation)"
   ]
  },
  {
   "cell_type": "markdown",
   "id": "d1694420",
   "metadata": {
    "papermill": {
     "duration": 0.002827,
     "end_time": "2024-10-19T09:40:39.535376",
     "exception": false,
     "start_time": "2024-10-19T09:40:39.532549",
     "status": "completed"
    },
    "tags": []
   },
   "source": [
    "# Intro"
   ]
  },
  {
   "cell_type": "markdown",
   "id": "ff0d10f8",
   "metadata": {
    "papermill": {
     "duration": 0.002634,
     "end_time": "2024-10-19T09:40:39.540935",
     "exception": false,
     "start_time": "2024-10-19T09:40:39.538301",
     "status": "completed"
    },
    "tags": []
   },
   "source": [
    "# Import(s) et réglages"
   ]
  },
  {
   "cell_type": "code",
   "execution_count": 1,
   "id": "a88868f3",
   "metadata": {
    "execution": {
     "iopub.execute_input": "2024-10-19T09:40:39.548495Z",
     "iopub.status.busy": "2024-10-19T09:40:39.548073Z",
     "iopub.status.idle": "2024-10-19T09:40:40.495455Z",
     "shell.execute_reply": "2024-10-19T09:40:40.494230Z"
    },
    "papermill": {
     "duration": 0.954391,
     "end_time": "2024-10-19T09:40:40.498214",
     "exception": false,
     "start_time": "2024-10-19T09:40:39.543823",
     "status": "completed"
    },
    "tags": []
   },
   "outputs": [],
   "source": [
    "# import\n",
    "import pandas as pd\n",
    "#réglages\n",
    "pd.set_option('display.max_colwidth', 500)\n",
    "pd.set_option('display.max_columns', 200)\n",
    "pd.set_option('display.max_rows', 200)"
   ]
  },
  {
   "cell_type": "markdown",
   "id": "a069e106",
   "metadata": {
    "papermill": {
     "duration": 0.002538,
     "end_time": "2024-10-19T09:40:40.503887",
     "exception": false,
     "start_time": "2024-10-19T09:40:40.501349",
     "status": "completed"
    },
    "tags": []
   },
   "source": [
    "# Téléchargement des annonces de la Ville de Paris sur Datagouv"
   ]
  },
  {
   "cell_type": "code",
   "execution_count": 2,
   "id": "ad6b52d6",
   "metadata": {
    "execution": {
     "iopub.execute_input": "2024-10-19T09:40:40.512471Z",
     "iopub.status.busy": "2024-10-19T09:40:40.511283Z",
     "iopub.status.idle": "2024-10-19T09:40:42.613518Z",
     "shell.execute_reply": "2024-10-19T09:40:42.612311Z"
    },
    "papermill": {
     "duration": 2.110292,
     "end_time": "2024-10-19T09:40:42.616905",
     "exception": false,
     "start_time": "2024-10-19T09:40:40.506613",
     "status": "completed"
    },
    "scrolled": true,
    "tags": []
   },
   "outputs": [],
   "source": [
    "df = pd.read_csv('https://www.data.gouv.fr/fr/datasets/r/8571acc8-2f51-4d7e-9d87-bd5b8ec210e5', dtype='string')\n",
    "\n",
    "# Adresse ressources sur datagouv\n",
    "# -> https://www.data.gouv.fr/fr/datasets/une-vie-de-siren-au-boamp-ville-de-paris-217500016/#/resources"
   ]
  },
  {
   "cell_type": "markdown",
   "id": "bb9a2d5d",
   "metadata": {
    "papermill": {
     "duration": 0.003896,
     "end_time": "2024-10-19T09:40:42.625029",
     "exception": false,
     "start_time": "2024-10-19T09:40:42.621133",
     "status": "completed"
    },
    "tags": []
   },
   "source": [
    "# Sélection de la colonne B_11_descripteurCode"
   ]
  },
  {
   "cell_type": "code",
   "execution_count": 3,
   "id": "04895514",
   "metadata": {
    "execution": {
     "iopub.execute_input": "2024-10-19T09:40:42.634786Z",
     "iopub.status.busy": "2024-10-19T09:40:42.633889Z",
     "iopub.status.idle": "2024-10-19T09:40:42.649288Z",
     "shell.execute_reply": "2024-10-19T09:40:42.648179Z"
    },
    "papermill": {
     "duration": 0.023157,
     "end_time": "2024-10-19T09:40:42.652273",
     "exception": false,
     "start_time": "2024-10-19T09:40:42.629116",
     "status": "completed"
    },
    "tags": []
   },
   "outputs": [],
   "source": [
    "df_ = df.loc[:, ['B_11_descripteurCode']].copy()"
   ]
  },
  {
   "cell_type": "markdown",
   "id": "f8e35fad",
   "metadata": {
    "papermill": {
     "duration": 0.003937,
     "end_time": "2024-10-19T09:40:42.660537",
     "exception": false,
     "start_time": "2024-10-19T09:40:42.656600",
     "status": "completed"
    },
    "tags": []
   },
   "source": [
    "# Lecture des dernières lignes"
   ]
  },
  {
   "cell_type": "code",
   "execution_count": 4,
   "id": "9747e231",
   "metadata": {
    "execution": {
     "iopub.execute_input": "2024-10-19T09:40:42.670480Z",
     "iopub.status.busy": "2024-10-19T09:40:42.669394Z",
     "iopub.status.idle": "2024-10-19T09:40:42.687594Z",
     "shell.execute_reply": "2024-10-19T09:40:42.686450Z"
    },
    "papermill": {
     "duration": 0.025968,
     "end_time": "2024-10-19T09:40:42.690874",
     "exception": false,
     "start_time": "2024-10-19T09:40:42.664906",
     "status": "completed"
    },
    "tags": []
   },
   "outputs": [
    {
     "data": {
      "text/html": [
       "<div>\n",
       "<style scoped>\n",
       "    .dataframe tbody tr th:only-of-type {\n",
       "        vertical-align: middle;\n",
       "    }\n",
       "\n",
       "    .dataframe tbody tr th {\n",
       "        vertical-align: top;\n",
       "    }\n",
       "\n",
       "    .dataframe thead th {\n",
       "        text-align: right;\n",
       "    }\n",
       "</style>\n",
       "<table border=\"1\" class=\"dataframe\">\n",
       "  <thead>\n",
       "    <tr style=\"text-align: right;\">\n",
       "      <th></th>\n",
       "      <th>B_11_descripteurCode</th>\n",
       "    </tr>\n",
       "  </thead>\n",
       "  <tbody>\n",
       "    <tr>\n",
       "      <th>753</th>\n",
       "      <td>208</td>\n",
       "    </tr>\n",
       "    <tr>\n",
       "      <th>754</th>\n",
       "      <td>410</td>\n",
       "    </tr>\n",
       "    <tr>\n",
       "      <th>755</th>\n",
       "      <td>274</td>\n",
       "    </tr>\n",
       "    <tr>\n",
       "      <th>756</th>\n",
       "      <td>197</td>\n",
       "    </tr>\n",
       "    <tr>\n",
       "      <th>757</th>\n",
       "      <td>433,455</td>\n",
       "    </tr>\n",
       "  </tbody>\n",
       "</table>\n",
       "</div>"
      ],
      "text/plain": [
       "    B_11_descripteurCode\n",
       "753                  208\n",
       "754                  410\n",
       "755                  274\n",
       "756                  197\n",
       "757              433,455"
      ]
     },
     "execution_count": 4,
     "metadata": {},
     "output_type": "execute_result"
    }
   ],
   "source": [
    "df_.loc[df_.B_11_descripteurCode.notna(),:].tail()"
   ]
  }
 ],
 "metadata": {
  "kaggle": {
   "accelerator": "none",
   "dataSources": [],
   "isGpuEnabled": false,
   "isInternetEnabled": true,
   "language": "python",
   "sourceType": "notebook"
  },
  "kernelspec": {
   "display_name": "Python 3 (ipykernel)",
   "language": "python",
   "name": "python3"
  },
  "language_info": {
   "codemirror_mode": {
    "name": "ipython",
    "version": 3
   },
   "file_extension": ".py",
   "mimetype": "text/x-python",
   "name": "python",
   "nbconvert_exporter": "python",
   "pygments_lexer": "ipython3",
   "version": "3.10.14"
  },
  "papermill": {
   "default_parameters": {},
   "duration": 6.54974,
   "end_time": "2024-10-19T09:40:43.217057",
   "environment_variables": {},
   "exception": null,
   "input_path": "__notebook__.ipynb",
   "output_path": "__notebook__.ipynb",
   "parameters": {},
   "start_time": "2024-10-19T09:40:36.667317",
   "version": "2.6.0"
  },
  "widgets": {
   "application/vnd.jupyter.widget-state+json": {
    "state": {},
    "version_major": 2,
    "version_minor": 0
   }
  }
 },
 "nbformat": 4,
 "nbformat_minor": 5
}
