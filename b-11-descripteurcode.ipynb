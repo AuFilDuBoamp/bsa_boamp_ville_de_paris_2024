{
 "cells": [
  {
   "cell_type": "markdown",
   "id": "5798b48c",
   "metadata": {
    "papermill": {
     "duration": 0.003279,
     "end_time": "2024-10-20T08:40:01.350566",
     "exception": false,
     "start_time": "2024-10-20T08:40:01.347287",
     "status": "completed"
    },
    "tags": []
   },
   "source": [
    "# Colonne «B_11_descripteurCode» (Initialisation)"
   ]
  },
  {
   "cell_type": "markdown",
   "id": "1e69f1ac",
   "metadata": {
    "papermill": {
     "duration": 0.002352,
     "end_time": "2024-10-20T08:40:01.355903",
     "exception": false,
     "start_time": "2024-10-20T08:40:01.353551",
     "status": "completed"
    },
    "tags": []
   },
   "source": [
    "|NAVIGATION (travaux sur les annonces BOAMP de la Ville de Paris en 2024)|\n",
    "|---|\n",
    "|[Retour à l'INDEX (kaggle)](https://www.kaggle.com/code/aufilduboamp/index-ville-de-paris-aufilduboamp)|\n",
    "|[Rubrique AuFilDuBoamp.com](https://www.aufilduboamp.com/rubrique92.html)|\n",
    "|[Dépôt GitHub](https://github.com/AuFilDuBoamp/bsa_boamp_ville_de_paris_2024/tree/main)|\n",
    "|[Dépôt DataGouv](https://www.data.gouv.fr/fr/datasets/une-vie-de-siren-au-boamp-ville-de-paris-217500016/#/resources)|"
   ]
  },
  {
   "cell_type": "markdown",
   "id": "5660fb41",
   "metadata": {
    "papermill": {
     "duration": 0.002274,
     "end_time": "2024-10-20T08:40:01.360647",
     "exception": false,
     "start_time": "2024-10-20T08:40:01.358373",
     "status": "completed"
    },
    "tags": []
   },
   "source": [
    "# Import(s) et réglages"
   ]
  },
  {
   "cell_type": "code",
   "execution_count": 1,
   "id": "73c88aa5",
   "metadata": {
    "execution": {
     "iopub.execute_input": "2024-10-20T08:40:01.368208Z",
     "iopub.status.busy": "2024-10-20T08:40:01.367114Z",
     "iopub.status.idle": "2024-10-20T08:40:02.290631Z",
     "shell.execute_reply": "2024-10-20T08:40:02.289572Z"
    },
    "papermill": {
     "duration": 0.930079,
     "end_time": "2024-10-20T08:40:02.293198",
     "exception": false,
     "start_time": "2024-10-20T08:40:01.363119",
     "status": "completed"
    },
    "tags": []
   },
   "outputs": [],
   "source": [
    "# import\n",
    "import pandas as pd\n",
    "#réglages\n",
    "pd.set_option('display.max_colwidth', 500)\n",
    "pd.set_option('display.max_columns', 200)\n",
    "pd.set_option('display.max_rows', 200)"
   ]
  },
  {
   "cell_type": "markdown",
   "id": "cb18e739",
   "metadata": {
    "papermill": {
     "duration": 0.002587,
     "end_time": "2024-10-20T08:40:02.299974",
     "exception": false,
     "start_time": "2024-10-20T08:40:02.297387",
     "status": "completed"
    },
    "tags": []
   },
   "source": [
    "# Téléchargement des annonces de la Ville de Paris sur Datagouv"
   ]
  },
  {
   "cell_type": "code",
   "execution_count": 2,
   "id": "8a4b9195",
   "metadata": {
    "execution": {
     "iopub.execute_input": "2024-10-20T08:40:02.307094Z",
     "iopub.status.busy": "2024-10-20T08:40:02.306584Z",
     "iopub.status.idle": "2024-10-20T08:40:06.523529Z",
     "shell.execute_reply": "2024-10-20T08:40:06.522459Z"
    },
    "papermill": {
     "duration": 4.223658,
     "end_time": "2024-10-20T08:40:06.526351",
     "exception": false,
     "start_time": "2024-10-20T08:40:02.302693",
     "status": "completed"
    },
    "scrolled": true,
    "tags": []
   },
   "outputs": [],
   "source": [
    "df = pd.read_csv('https://www.data.gouv.fr/fr/datasets/r/8571acc8-2f51-4d7e-9d87-bd5b8ec210e5', dtype='string')\n",
    "\n",
    "# Adresse ressources sur datagouv\n",
    "# -> https://www.data.gouv.fr/fr/datasets/une-vie-de-siren-au-boamp-ville-de-paris-217500016/#/resources"
   ]
  },
  {
   "cell_type": "markdown",
   "id": "4626fe84",
   "metadata": {
    "papermill": {
     "duration": 0.002586,
     "end_time": "2024-10-20T08:40:06.532191",
     "exception": false,
     "start_time": "2024-10-20T08:40:06.529605",
     "status": "completed"
    },
    "tags": []
   },
   "source": [
    "# Sélection de la colonne B_11_descripteurCode"
   ]
  },
  {
   "cell_type": "code",
   "execution_count": 3,
   "id": "7d5aa095",
   "metadata": {
    "execution": {
     "iopub.execute_input": "2024-10-20T08:40:06.539506Z",
     "iopub.status.busy": "2024-10-20T08:40:06.539074Z",
     "iopub.status.idle": "2024-10-20T08:40:06.553618Z",
     "shell.execute_reply": "2024-10-20T08:40:06.552496Z"
    },
    "papermill": {
     "duration": 0.020745,
     "end_time": "2024-10-20T08:40:06.555761",
     "exception": false,
     "start_time": "2024-10-20T08:40:06.535016",
     "status": "completed"
    },
    "tags": []
   },
   "outputs": [],
   "source": [
    "df_ = df.loc[:, ['B_11_descripteurCode']].copy()"
   ]
  },
  {
   "cell_type": "markdown",
   "id": "a0f3d402",
   "metadata": {
    "papermill": {
     "duration": 0.002666,
     "end_time": "2024-10-20T08:40:06.561379",
     "exception": false,
     "start_time": "2024-10-20T08:40:06.558713",
     "status": "completed"
    },
    "tags": []
   },
   "source": [
    "# Lecture des dernières lignes"
   ]
  },
  {
   "cell_type": "code",
   "execution_count": 4,
   "id": "f8899c95",
   "metadata": {
    "execution": {
     "iopub.execute_input": "2024-10-20T08:40:06.568961Z",
     "iopub.status.busy": "2024-10-20T08:40:06.568221Z",
     "iopub.status.idle": "2024-10-20T08:40:06.585315Z",
     "shell.execute_reply": "2024-10-20T08:40:06.584253Z"
    },
    "papermill": {
     "duration": 0.023551,
     "end_time": "2024-10-20T08:40:06.587770",
     "exception": false,
     "start_time": "2024-10-20T08:40:06.564219",
     "status": "completed"
    },
    "tags": []
   },
   "outputs": [
    {
     "data": {
      "text/html": [
       "<div>\n",
       "<style scoped>\n",
       "    .dataframe tbody tr th:only-of-type {\n",
       "        vertical-align: middle;\n",
       "    }\n",
       "\n",
       "    .dataframe tbody tr th {\n",
       "        vertical-align: top;\n",
       "    }\n",
       "\n",
       "    .dataframe thead th {\n",
       "        text-align: right;\n",
       "    }\n",
       "</style>\n",
       "<table border=\"1\" class=\"dataframe\">\n",
       "  <thead>\n",
       "    <tr style=\"text-align: right;\">\n",
       "      <th></th>\n",
       "      <th>B_11_descripteurCode</th>\n",
       "    </tr>\n",
       "  </thead>\n",
       "  <tbody>\n",
       "    <tr>\n",
       "      <th>753</th>\n",
       "      <td>274</td>\n",
       "    </tr>\n",
       "    <tr>\n",
       "      <th>754</th>\n",
       "      <td>208</td>\n",
       "    </tr>\n",
       "    <tr>\n",
       "      <th>755</th>\n",
       "      <td>410</td>\n",
       "    </tr>\n",
       "    <tr>\n",
       "      <th>756</th>\n",
       "      <td>197</td>\n",
       "    </tr>\n",
       "    <tr>\n",
       "      <th>757</th>\n",
       "      <td>433,455</td>\n",
       "    </tr>\n",
       "  </tbody>\n",
       "</table>\n",
       "</div>"
      ],
      "text/plain": [
       "    B_11_descripteurCode\n",
       "753                  274\n",
       "754                  208\n",
       "755                  410\n",
       "756                  197\n",
       "757              433,455"
      ]
     },
     "execution_count": 4,
     "metadata": {},
     "output_type": "execute_result"
    }
   ],
   "source": [
    "df_.loc[df_.B_11_descripteurCode.notna(),:].tail()"
   ]
  }
 ],
 "metadata": {
  "kaggle": {
   "accelerator": "none",
   "dataSources": [],
   "dockerImageVersionId": 30786,
   "isGpuEnabled": false,
   "isInternetEnabled": true,
   "language": "python",
   "sourceType": "notebook"
  },
  "kernelspec": {
   "display_name": "Python 3 (ipykernel)",
   "language": "python",
   "name": "python3"
  },
  "language_info": {
   "codemirror_mode": {
    "name": "ipython",
    "version": 3
   },
   "file_extension": ".py",
   "mimetype": "text/x-python",
   "name": "python",
   "nbconvert_exporter": "python",
   "pygments_lexer": "ipython3",
   "version": "3.10.14"
  },
  "papermill": {
   "default_parameters": {},
   "duration": 8.43032,
   "end_time": "2024-10-20T08:40:07.010985",
   "environment_variables": {},
   "exception": null,
   "input_path": "__notebook__.ipynb",
   "output_path": "__notebook__.ipynb",
   "parameters": {},
   "start_time": "2024-10-20T08:39:58.580665",
   "version": "2.6.0"
  },
  "widgets": {
   "application/vnd.jupyter.widget-state+json": {
    "state": {},
    "version_major": 2,
    "version_minor": 0
   }
  }
 },
 "nbformat": 4,
 "nbformat_minor": 5
}
