{
 "cells": [
  {
   "cell_type": "markdown",
   "id": "4c65214d",
   "metadata": {
    "papermill": {
     "duration": 0.004268,
     "end_time": "2024-10-19T09:36:09.869904",
     "exception": false,
     "start_time": "2024-10-19T09:36:09.865636",
     "status": "completed"
    },
    "tags": []
   },
   "source": [
    "# Colonne «B_13_etat» (Initialisation)"
   ]
  },
  {
   "cell_type": "markdown",
   "id": "fb24b6dd",
   "metadata": {
    "papermill": {
     "duration": 0.00347,
     "end_time": "2024-10-19T09:36:09.877449",
     "exception": false,
     "start_time": "2024-10-19T09:36:09.873979",
     "status": "completed"
    },
    "tags": []
   },
   "source": [
    "# Intro"
   ]
  },
  {
   "cell_type": "markdown",
   "id": "a7c245d1",
   "metadata": {
    "papermill": {
     "duration": 0.003384,
     "end_time": "2024-10-19T09:36:09.884603",
     "exception": false,
     "start_time": "2024-10-19T09:36:09.881219",
     "status": "completed"
    },
    "tags": []
   },
   "source": [
    "# Import(s) et réglages"
   ]
  },
  {
   "cell_type": "code",
   "execution_count": 1,
   "id": "92ade09d",
   "metadata": {
    "execution": {
     "iopub.execute_input": "2024-10-19T09:36:09.894160Z",
     "iopub.status.busy": "2024-10-19T09:36:09.893596Z",
     "iopub.status.idle": "2024-10-19T09:36:10.890574Z",
     "shell.execute_reply": "2024-10-19T09:36:10.889371Z"
    },
    "papermill": {
     "duration": 1.005342,
     "end_time": "2024-10-19T09:36:10.893651",
     "exception": false,
     "start_time": "2024-10-19T09:36:09.888309",
     "status": "completed"
    },
    "tags": []
   },
   "outputs": [],
   "source": [
    "# import\n",
    "import pandas as pd\n",
    "#réglages\n",
    "pd.set_option('display.max_colwidth', 500)\n",
    "pd.set_option('display.max_columns', 200)\n",
    "pd.set_option('display.max_rows', 200)"
   ]
  },
  {
   "cell_type": "markdown",
   "id": "e1d41c10",
   "metadata": {
    "papermill": {
     "duration": 0.003464,
     "end_time": "2024-10-19T09:36:10.901097",
     "exception": false,
     "start_time": "2024-10-19T09:36:10.897633",
     "status": "completed"
    },
    "tags": []
   },
   "source": [
    "# Téléchargement des annonces de la Ville de Paris sur Datagouv"
   ]
  },
  {
   "cell_type": "code",
   "execution_count": 2,
   "id": "d0a0eae4",
   "metadata": {
    "execution": {
     "iopub.execute_input": "2024-10-19T09:36:10.911459Z",
     "iopub.status.busy": "2024-10-19T09:36:10.910005Z",
     "iopub.status.idle": "2024-10-19T09:36:12.878336Z",
     "shell.execute_reply": "2024-10-19T09:36:12.876840Z"
    },
    "papermill": {
     "duration": 1.976589,
     "end_time": "2024-10-19T09:36:12.881412",
     "exception": false,
     "start_time": "2024-10-19T09:36:10.904823",
     "status": "completed"
    },
    "scrolled": true,
    "tags": []
   },
   "outputs": [],
   "source": [
    "df = pd.read_csv('https://www.data.gouv.fr/fr/datasets/r/8571acc8-2f51-4d7e-9d87-bd5b8ec210e5', dtype='string')\n",
    "\n",
    "# Adresse ressources sur datagouv\n",
    "# -> https://www.data.gouv.fr/fr/datasets/une-vie-de-siren-au-boamp-ville-de-paris-217500016/#/resources"
   ]
  },
  {
   "cell_type": "markdown",
   "id": "21489654",
   "metadata": {
    "papermill": {
     "duration": 0.003493,
     "end_time": "2024-10-19T09:36:12.888817",
     "exception": false,
     "start_time": "2024-10-19T09:36:12.885324",
     "status": "completed"
    },
    "tags": []
   },
   "source": [
    "# Sélection de la colonne B_13_etat"
   ]
  },
  {
   "cell_type": "code",
   "execution_count": 3,
   "id": "9f089254",
   "metadata": {
    "execution": {
     "iopub.execute_input": "2024-10-19T09:36:12.898241Z",
     "iopub.status.busy": "2024-10-19T09:36:12.897714Z",
     "iopub.status.idle": "2024-10-19T09:36:12.912602Z",
     "shell.execute_reply": "2024-10-19T09:36:12.911229Z"
    },
    "papermill": {
     "duration": 0.02304,
     "end_time": "2024-10-19T09:36:12.915594",
     "exception": false,
     "start_time": "2024-10-19T09:36:12.892554",
     "status": "completed"
    },
    "tags": []
   },
   "outputs": [],
   "source": [
    "df_ = df.loc[:, ['B_13_etat']].copy()"
   ]
  },
  {
   "cell_type": "markdown",
   "id": "1178fa47",
   "metadata": {
    "papermill": {
     "duration": 0.003607,
     "end_time": "2024-10-19T09:36:12.923168",
     "exception": false,
     "start_time": "2024-10-19T09:36:12.919561",
     "status": "completed"
    },
    "tags": []
   },
   "source": [
    "# Lecture des dernières lignes"
   ]
  },
  {
   "cell_type": "code",
   "execution_count": 4,
   "id": "43201e90",
   "metadata": {
    "execution": {
     "iopub.execute_input": "2024-10-19T09:36:12.932591Z",
     "iopub.status.busy": "2024-10-19T09:36:12.932158Z",
     "iopub.status.idle": "2024-10-19T09:36:12.950339Z",
     "shell.execute_reply": "2024-10-19T09:36:12.949044Z"
    },
    "papermill": {
     "duration": 0.025976,
     "end_time": "2024-10-19T09:36:12.952994",
     "exception": false,
     "start_time": "2024-10-19T09:36:12.927018",
     "status": "completed"
    },
    "tags": []
   },
   "outputs": [
    {
     "data": {
      "text/html": [
       "<div>\n",
       "<style scoped>\n",
       "    .dataframe tbody tr th:only-of-type {\n",
       "        vertical-align: middle;\n",
       "    }\n",
       "\n",
       "    .dataframe tbody tr th {\n",
       "        vertical-align: top;\n",
       "    }\n",
       "\n",
       "    .dataframe thead th {\n",
       "        text-align: right;\n",
       "    }\n",
       "</style>\n",
       "<table border=\"1\" class=\"dataframe\">\n",
       "  <thead>\n",
       "    <tr style=\"text-align: right;\">\n",
       "      <th></th>\n",
       "      <th>B_13_etat</th>\n",
       "    </tr>\n",
       "  </thead>\n",
       "  <tbody>\n",
       "    <tr>\n",
       "      <th>753</th>\n",
       "      <td>RECTIFICATIF</td>\n",
       "    </tr>\n",
       "    <tr>\n",
       "      <th>754</th>\n",
       "      <td>INITIAL</td>\n",
       "    </tr>\n",
       "    <tr>\n",
       "      <th>755</th>\n",
       "      <td>INITIAL</td>\n",
       "    </tr>\n",
       "    <tr>\n",
       "      <th>756</th>\n",
       "      <td>INITIAL</td>\n",
       "    </tr>\n",
       "    <tr>\n",
       "      <th>757</th>\n",
       "      <td>INITIAL</td>\n",
       "    </tr>\n",
       "  </tbody>\n",
       "</table>\n",
       "</div>"
      ],
      "text/plain": [
       "        B_13_etat\n",
       "753  RECTIFICATIF\n",
       "754       INITIAL\n",
       "755       INITIAL\n",
       "756       INITIAL\n",
       "757       INITIAL"
      ]
     },
     "execution_count": 4,
     "metadata": {},
     "output_type": "execute_result"
    }
   ],
   "source": [
    "df_.loc[df_.B_13_etat.notna(),:].tail()"
   ]
  }
 ],
 "metadata": {
  "kaggle": {
   "accelerator": "none",
   "dataSources": [],
   "isGpuEnabled": false,
   "isInternetEnabled": true,
   "language": "python",
   "sourceType": "notebook"
  },
  "kernelspec": {
   "display_name": "Python 3 (ipykernel)",
   "language": "python",
   "name": "python3"
  },
  "language_info": {
   "codemirror_mode": {
    "name": "ipython",
    "version": 3
   },
   "file_extension": ".py",
   "mimetype": "text/x-python",
   "name": "python",
   "nbconvert_exporter": "python",
   "pygments_lexer": "ipython3",
   "version": "3.10.14"
  },
  "papermill": {
   "default_parameters": {},
   "duration": 6.714678,
   "end_time": "2024-10-19T09:36:13.479362",
   "environment_variables": {},
   "exception": null,
   "input_path": "__notebook__.ipynb",
   "output_path": "__notebook__.ipynb",
   "parameters": {},
   "start_time": "2024-10-19T09:36:06.764684",
   "version": "2.6.0"
  },
  "widgets": {
   "application/vnd.jupyter.widget-state+json": {
    "state": {},
    "version_major": 2,
    "version_minor": 0
   }
  }
 },
 "nbformat": 4,
 "nbformat_minor": 5
}
