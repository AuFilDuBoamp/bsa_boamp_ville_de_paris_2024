{
 "cells": [
  {
   "cell_type": "markdown",
   "id": "6644aeec",
   "metadata": {
    "papermill": {
     "duration": 0.003095,
     "end_time": "2024-10-20T08:39:50.582264",
     "exception": false,
     "start_time": "2024-10-20T08:39:50.579169",
     "status": "completed"
    },
    "tags": []
   },
   "source": [
    "# Colonne «B_13_etat» (Initialisation)"
   ]
  },
  {
   "cell_type": "markdown",
   "id": "2d5c69f8",
   "metadata": {
    "papermill": {
     "duration": 0.002253,
     "end_time": "2024-10-20T08:39:50.587378",
     "exception": false,
     "start_time": "2024-10-20T08:39:50.585125",
     "status": "completed"
    },
    "tags": []
   },
   "source": [
    "|NAVIGATION (travaux sur les annonces BOAMP de la Ville de Paris en 2024)|\n",
    "|---|\n",
    "|[Retour à l'INDEX (kaggle)](https://www.kaggle.com/code/aufilduboamp/index-ville-de-paris-aufilduboamp)|\n",
    "|[Rubrique AuFilDuBoamp.com](https://www.aufilduboamp.com/rubrique92.html)|\n",
    "|[Dépôt GitHub](https://github.com/AuFilDuBoamp/bsa_boamp_ville_de_paris_2024/tree/main)|\n",
    "|[Dépôt DataGouv](https://www.data.gouv.fr/fr/datasets/une-vie-de-siren-au-boamp-ville-de-paris-217500016/#/resources)|"
   ]
  },
  {
   "cell_type": "markdown",
   "id": "1d2d32c2",
   "metadata": {
    "papermill": {
     "duration": 0.002206,
     "end_time": "2024-10-20T08:39:50.592027",
     "exception": false,
     "start_time": "2024-10-20T08:39:50.589821",
     "status": "completed"
    },
    "tags": []
   },
   "source": [
    "# Import(s) et réglages"
   ]
  },
  {
   "cell_type": "code",
   "execution_count": 1,
   "id": "7279745a",
   "metadata": {
    "execution": {
     "iopub.execute_input": "2024-10-20T08:39:50.599176Z",
     "iopub.status.busy": "2024-10-20T08:39:50.598355Z",
     "iopub.status.idle": "2024-10-20T08:39:51.334728Z",
     "shell.execute_reply": "2024-10-20T08:39:51.333551Z"
    },
    "papermill": {
     "duration": 0.742868,
     "end_time": "2024-10-20T08:39:51.337319",
     "exception": false,
     "start_time": "2024-10-20T08:39:50.594451",
     "status": "completed"
    },
    "tags": []
   },
   "outputs": [],
   "source": [
    "# import\n",
    "import pandas as pd\n",
    "#réglages\n",
    "pd.set_option('display.max_colwidth', 500)\n",
    "pd.set_option('display.max_columns', 200)\n",
    "pd.set_option('display.max_rows', 200)"
   ]
  },
  {
   "cell_type": "markdown",
   "id": "b0c66652",
   "metadata": {
    "papermill": {
     "duration": 0.002795,
     "end_time": "2024-10-20T08:39:51.343109",
     "exception": false,
     "start_time": "2024-10-20T08:39:51.340314",
     "status": "completed"
    },
    "tags": []
   },
   "source": [
    "# Téléchargement des annonces de la Ville de Paris sur Datagouv"
   ]
  },
  {
   "cell_type": "code",
   "execution_count": 2,
   "id": "865ecca7",
   "metadata": {
    "execution": {
     "iopub.execute_input": "2024-10-20T08:39:51.350106Z",
     "iopub.status.busy": "2024-10-20T08:39:51.349575Z",
     "iopub.status.idle": "2024-10-20T08:39:53.263896Z",
     "shell.execute_reply": "2024-10-20T08:39:53.262952Z"
    },
    "papermill": {
     "duration": 1.920814,
     "end_time": "2024-10-20T08:39:53.266460",
     "exception": false,
     "start_time": "2024-10-20T08:39:51.345646",
     "status": "completed"
    },
    "scrolled": true,
    "tags": []
   },
   "outputs": [],
   "source": [
    "df = pd.read_csv('https://www.data.gouv.fr/fr/datasets/r/8571acc8-2f51-4d7e-9d87-bd5b8ec210e5', dtype='string')\n",
    "\n",
    "# Adresse ressources sur datagouv\n",
    "# -> https://www.data.gouv.fr/fr/datasets/une-vie-de-siren-au-boamp-ville-de-paris-217500016/#/resources"
   ]
  },
  {
   "cell_type": "markdown",
   "id": "2b644705",
   "metadata": {
    "papermill": {
     "duration": 0.002472,
     "end_time": "2024-10-20T08:39:53.271869",
     "exception": false,
     "start_time": "2024-10-20T08:39:53.269397",
     "status": "completed"
    },
    "tags": []
   },
   "source": [
    "# Sélection de la colonne B_13_etat"
   ]
  },
  {
   "cell_type": "code",
   "execution_count": 3,
   "id": "298dcf84",
   "metadata": {
    "execution": {
     "iopub.execute_input": "2024-10-20T08:39:53.279203Z",
     "iopub.status.busy": "2024-10-20T08:39:53.278273Z",
     "iopub.status.idle": "2024-10-20T08:39:53.291322Z",
     "shell.execute_reply": "2024-10-20T08:39:53.290251Z"
    },
    "papermill": {
     "duration": 0.019117,
     "end_time": "2024-10-20T08:39:53.293512",
     "exception": false,
     "start_time": "2024-10-20T08:39:53.274395",
     "status": "completed"
    },
    "tags": []
   },
   "outputs": [],
   "source": [
    "df_ = df.loc[:, ['B_13_etat']].copy()"
   ]
  },
  {
   "cell_type": "markdown",
   "id": "77e481ab",
   "metadata": {
    "papermill": {
     "duration": 0.002533,
     "end_time": "2024-10-20T08:39:53.298885",
     "exception": false,
     "start_time": "2024-10-20T08:39:53.296352",
     "status": "completed"
    },
    "tags": []
   },
   "source": [
    "# Lecture des dernières lignes"
   ]
  },
  {
   "cell_type": "code",
   "execution_count": 4,
   "id": "a9fc063f",
   "metadata": {
    "execution": {
     "iopub.execute_input": "2024-10-20T08:39:53.305674Z",
     "iopub.status.busy": "2024-10-20T08:39:53.305288Z",
     "iopub.status.idle": "2024-10-20T08:39:53.321755Z",
     "shell.execute_reply": "2024-10-20T08:39:53.320614Z"
    },
    "papermill": {
     "duration": 0.022778,
     "end_time": "2024-10-20T08:39:53.324273",
     "exception": false,
     "start_time": "2024-10-20T08:39:53.301495",
     "status": "completed"
    },
    "tags": []
   },
   "outputs": [
    {
     "data": {
      "text/html": [
       "<div>\n",
       "<style scoped>\n",
       "    .dataframe tbody tr th:only-of-type {\n",
       "        vertical-align: middle;\n",
       "    }\n",
       "\n",
       "    .dataframe tbody tr th {\n",
       "        vertical-align: top;\n",
       "    }\n",
       "\n",
       "    .dataframe thead th {\n",
       "        text-align: right;\n",
       "    }\n",
       "</style>\n",
       "<table border=\"1\" class=\"dataframe\">\n",
       "  <thead>\n",
       "    <tr style=\"text-align: right;\">\n",
       "      <th></th>\n",
       "      <th>B_13_etat</th>\n",
       "    </tr>\n",
       "  </thead>\n",
       "  <tbody>\n",
       "    <tr>\n",
       "      <th>753</th>\n",
       "      <td>INITIAL</td>\n",
       "    </tr>\n",
       "    <tr>\n",
       "      <th>754</th>\n",
       "      <td>RECTIFICATIF</td>\n",
       "    </tr>\n",
       "    <tr>\n",
       "      <th>755</th>\n",
       "      <td>INITIAL</td>\n",
       "    </tr>\n",
       "    <tr>\n",
       "      <th>756</th>\n",
       "      <td>INITIAL</td>\n",
       "    </tr>\n",
       "    <tr>\n",
       "      <th>757</th>\n",
       "      <td>INITIAL</td>\n",
       "    </tr>\n",
       "  </tbody>\n",
       "</table>\n",
       "</div>"
      ],
      "text/plain": [
       "        B_13_etat\n",
       "753       INITIAL\n",
       "754  RECTIFICATIF\n",
       "755       INITIAL\n",
       "756       INITIAL\n",
       "757       INITIAL"
      ]
     },
     "execution_count": 4,
     "metadata": {},
     "output_type": "execute_result"
    }
   ],
   "source": [
    "df_.loc[df_.B_13_etat.notna(),:].tail()"
   ]
  }
 ],
 "metadata": {
  "kaggle": {
   "accelerator": "none",
   "dataSources": [],
   "dockerImageVersionId": 30786,
   "isGpuEnabled": false,
   "isInternetEnabled": true,
   "language": "python",
   "sourceType": "notebook"
  },
  "kernelspec": {
   "display_name": "Python 3 (ipykernel)",
   "language": "python",
   "name": "python3"
  },
  "language_info": {
   "codemirror_mode": {
    "name": "ipython",
    "version": 3
   },
   "file_extension": ".py",
   "mimetype": "text/x-python",
   "name": "python",
   "nbconvert_exporter": "python",
   "pygments_lexer": "ipython3",
   "version": "3.10.14"
  },
  "papermill": {
   "default_parameters": {},
   "duration": 5.694346,
   "end_time": "2024-10-20T08:39:53.746737",
   "environment_variables": {},
   "exception": null,
   "input_path": "__notebook__.ipynb",
   "output_path": "__notebook__.ipynb",
   "parameters": {},
   "start_time": "2024-10-20T08:39:48.052391",
   "version": "2.6.0"
  },
  "widgets": {
   "application/vnd.jupyter.widget-state+json": {
    "state": {},
    "version_major": 2,
    "version_minor": 0
   }
  }
 },
 "nbformat": 4,
 "nbformat_minor": 5
}
