{
 "cells": [
  {
   "cell_type": "markdown",
   "id": "f231a70f",
   "metadata": {
    "papermill": {
     "duration": 0.003241,
     "end_time": "2024-10-20T08:43:48.824970",
     "exception": false,
     "start_time": "2024-10-20T08:43:48.821729",
     "status": "completed"
    },
    "tags": []
   },
   "source": [
    "# Colonne «B_22_natureCategoriseLibelle» (Initialisation)"
   ]
  },
  {
   "cell_type": "markdown",
   "id": "3a7283a3",
   "metadata": {
    "papermill": {
     "duration": 0.002388,
     "end_time": "2024-10-20T08:43:48.830258",
     "exception": false,
     "start_time": "2024-10-20T08:43:48.827870",
     "status": "completed"
    },
    "tags": []
   },
   "source": [
    "|NAVIGATION (travaux sur les annonces BOAMP de la Ville de Paris en 2024)|\n",
    "|---|\n",
    "|[Retour à l'INDEX (kaggle)](https://www.kaggle.com/code/aufilduboamp/index-ville-de-paris-aufilduboamp)|\n",
    "|[Rubrique AuFilDuBoamp.com](https://www.aufilduboamp.com/rubrique92.html)|\n",
    "|[Dépôt GitHub](https://github.com/AuFilDuBoamp/bsa_boamp_ville_de_paris_2024/tree/main)|\n",
    "|[Dépôt DataGouv](https://www.data.gouv.fr/fr/datasets/une-vie-de-siren-au-boamp-ville-de-paris-217500016/#/resources)|"
   ]
  },
  {
   "cell_type": "markdown",
   "id": "3233af5b",
   "metadata": {
    "papermill": {
     "duration": 0.002291,
     "end_time": "2024-10-20T08:43:48.835154",
     "exception": false,
     "start_time": "2024-10-20T08:43:48.832863",
     "status": "completed"
    },
    "tags": []
   },
   "source": [
    "# Import(s) et réglages"
   ]
  },
  {
   "cell_type": "code",
   "execution_count": 1,
   "id": "b34c1ae0",
   "metadata": {
    "execution": {
     "iopub.execute_input": "2024-10-20T08:43:48.842064Z",
     "iopub.status.busy": "2024-10-20T08:43:48.841654Z",
     "iopub.status.idle": "2024-10-20T08:43:49.769036Z",
     "shell.execute_reply": "2024-10-20T08:43:49.767995Z"
    },
    "papermill": {
     "duration": 0.933949,
     "end_time": "2024-10-20T08:43:49.771650",
     "exception": false,
     "start_time": "2024-10-20T08:43:48.837701",
     "status": "completed"
    },
    "tags": []
   },
   "outputs": [],
   "source": [
    "# import\n",
    "import pandas as pd\n",
    "#réglages\n",
    "pd.set_option('display.max_colwidth', 500)\n",
    "pd.set_option('display.max_columns', 200)\n",
    "pd.set_option('display.max_rows', 200)"
   ]
  },
  {
   "cell_type": "markdown",
   "id": "720ff3e4",
   "metadata": {
    "papermill": {
     "duration": 0.002413,
     "end_time": "2024-10-20T08:43:49.776998",
     "exception": false,
     "start_time": "2024-10-20T08:43:49.774585",
     "status": "completed"
    },
    "tags": []
   },
   "source": [
    "# Téléchargement des annonces de la Ville de Paris sur Datagouv"
   ]
  },
  {
   "cell_type": "code",
   "execution_count": 2,
   "id": "965c3436",
   "metadata": {
    "execution": {
     "iopub.execute_input": "2024-10-20T08:43:49.784127Z",
     "iopub.status.busy": "2024-10-20T08:43:49.783583Z",
     "iopub.status.idle": "2024-10-20T08:43:53.821631Z",
     "shell.execute_reply": "2024-10-20T08:43:53.820651Z"
    },
    "papermill": {
     "duration": 4.044582,
     "end_time": "2024-10-20T08:43:53.824163",
     "exception": false,
     "start_time": "2024-10-20T08:43:49.779581",
     "status": "completed"
    },
    "scrolled": true,
    "tags": []
   },
   "outputs": [],
   "source": [
    "df = pd.read_csv('https://www.data.gouv.fr/fr/datasets/r/8571acc8-2f51-4d7e-9d87-bd5b8ec210e5', dtype='string')\n",
    "\n",
    "# Adresse ressources sur datagouv\n",
    "# -> https://www.data.gouv.fr/fr/datasets/une-vie-de-siren-au-boamp-ville-de-paris-217500016/#/resources"
   ]
  },
  {
   "cell_type": "markdown",
   "id": "3e55c4d3",
   "metadata": {
    "papermill": {
     "duration": 0.002872,
     "end_time": "2024-10-20T08:43:53.830094",
     "exception": false,
     "start_time": "2024-10-20T08:43:53.827222",
     "status": "completed"
    },
    "tags": []
   },
   "source": [
    "# Sélection de la colonne B_22_natureCategoriseLibelle"
   ]
  },
  {
   "cell_type": "code",
   "execution_count": 3,
   "id": "5afe8579",
   "metadata": {
    "execution": {
     "iopub.execute_input": "2024-10-20T08:43:53.838116Z",
     "iopub.status.busy": "2024-10-20T08:43:53.837707Z",
     "iopub.status.idle": "2024-10-20T08:43:53.852687Z",
     "shell.execute_reply": "2024-10-20T08:43:53.851565Z"
    },
    "papermill": {
     "duration": 0.021382,
     "end_time": "2024-10-20T08:43:53.855046",
     "exception": false,
     "start_time": "2024-10-20T08:43:53.833664",
     "status": "completed"
    },
    "tags": []
   },
   "outputs": [],
   "source": [
    "df_ = df.loc[:, ['B_22_natureCategoriseLibelle']].copy()"
   ]
  },
  {
   "cell_type": "markdown",
   "id": "1c957a16",
   "metadata": {
    "papermill": {
     "duration": 0.002554,
     "end_time": "2024-10-20T08:43:53.860505",
     "exception": false,
     "start_time": "2024-10-20T08:43:53.857951",
     "status": "completed"
    },
    "tags": []
   },
   "source": [
    "# Lecture des dernières lignes"
   ]
  },
  {
   "cell_type": "code",
   "execution_count": 4,
   "id": "499ac757",
   "metadata": {
    "execution": {
     "iopub.execute_input": "2024-10-20T08:43:53.868137Z",
     "iopub.status.busy": "2024-10-20T08:43:53.867387Z",
     "iopub.status.idle": "2024-10-20T08:43:53.884249Z",
     "shell.execute_reply": "2024-10-20T08:43:53.883000Z"
    },
    "papermill": {
     "duration": 0.023258,
     "end_time": "2024-10-20T08:43:53.886556",
     "exception": false,
     "start_time": "2024-10-20T08:43:53.863298",
     "status": "completed"
    },
    "tags": []
   },
   "outputs": [
    {
     "data": {
      "text/html": [
       "<div>\n",
       "<style scoped>\n",
       "    .dataframe tbody tr th:only-of-type {\n",
       "        vertical-align: middle;\n",
       "    }\n",
       "\n",
       "    .dataframe tbody tr th {\n",
       "        vertical-align: top;\n",
       "    }\n",
       "\n",
       "    .dataframe thead th {\n",
       "        text-align: right;\n",
       "    }\n",
       "</style>\n",
       "<table border=\"1\" class=\"dataframe\">\n",
       "  <thead>\n",
       "    <tr style=\"text-align: right;\">\n",
       "      <th></th>\n",
       "      <th>B_22_natureCategoriseLibelle</th>\n",
       "    </tr>\n",
       "  </thead>\n",
       "  <tbody>\n",
       "    <tr>\n",
       "      <th>753</th>\n",
       "      <td>Résultat de marché/</td>\n",
       "    </tr>\n",
       "    <tr>\n",
       "      <th>754</th>\n",
       "      <td>Rectificatif/</td>\n",
       "    </tr>\n",
       "    <tr>\n",
       "      <th>755</th>\n",
       "      <td>Résultat de marché/</td>\n",
       "    </tr>\n",
       "    <tr>\n",
       "      <th>756</th>\n",
       "      <td>Avis de marché/</td>\n",
       "    </tr>\n",
       "    <tr>\n",
       "      <th>757</th>\n",
       "      <td>Avis de marché/</td>\n",
       "    </tr>\n",
       "  </tbody>\n",
       "</table>\n",
       "</div>"
      ],
      "text/plain": [
       "    B_22_natureCategoriseLibelle\n",
       "753          Résultat de marché/\n",
       "754                Rectificatif/\n",
       "755          Résultat de marché/\n",
       "756              Avis de marché/\n",
       "757              Avis de marché/"
      ]
     },
     "execution_count": 4,
     "metadata": {},
     "output_type": "execute_result"
    }
   ],
   "source": [
    "df_.loc[df_.B_22_natureCategoriseLibelle.notna(),:].tail()"
   ]
  }
 ],
 "metadata": {
  "kaggle": {
   "accelerator": "none",
   "dataSources": [],
   "dockerImageVersionId": 30786,
   "isGpuEnabled": false,
   "isInternetEnabled": true,
   "language": "python",
   "sourceType": "notebook"
  },
  "kernelspec": {
   "display_name": "Python 3 (ipykernel)",
   "language": "python",
   "name": "python3"
  },
  "language_info": {
   "codemirror_mode": {
    "name": "ipython",
    "version": 3
   },
   "file_extension": ".py",
   "mimetype": "text/x-python",
   "name": "python",
   "nbconvert_exporter": "python",
   "pygments_lexer": "ipython3",
   "version": "3.10.14"
  },
  "papermill": {
   "default_parameters": {},
   "duration": 8.350083,
   "end_time": "2024-10-20T08:43:54.410045",
   "environment_variables": {},
   "exception": null,
   "input_path": "__notebook__.ipynb",
   "output_path": "__notebook__.ipynb",
   "parameters": {},
   "start_time": "2024-10-20T08:43:46.059962",
   "version": "2.6.0"
  },
  "widgets": {
   "application/vnd.jupyter.widget-state+json": {
    "state": {},
    "version_major": 2,
    "version_minor": 0
   }
  }
 },
 "nbformat": 4,
 "nbformat_minor": 5
}
