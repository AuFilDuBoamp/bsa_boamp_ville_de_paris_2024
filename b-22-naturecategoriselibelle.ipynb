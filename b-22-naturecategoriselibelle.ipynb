{
 "cells": [
  {
   "cell_type": "markdown",
   "id": "ac944dcb",
   "metadata": {
    "papermill": {
     "duration": 0.003219,
     "end_time": "2024-10-19T09:37:54.286644",
     "exception": false,
     "start_time": "2024-10-19T09:37:54.283425",
     "status": "completed"
    },
    "tags": []
   },
   "source": [
    "# Colonne «B_22_natureCategoriseLibelle» (Initialisation)"
   ]
  },
  {
   "cell_type": "markdown",
   "id": "c6dd8ab0",
   "metadata": {
    "papermill": {
     "duration": 0.002476,
     "end_time": "2024-10-19T09:37:54.292188",
     "exception": false,
     "start_time": "2024-10-19T09:37:54.289712",
     "status": "completed"
    },
    "tags": []
   },
   "source": [
    "# Intro"
   ]
  },
  {
   "cell_type": "markdown",
   "id": "67393862",
   "metadata": {
    "papermill": {
     "duration": 0.002649,
     "end_time": "2024-10-19T09:37:54.297425",
     "exception": false,
     "start_time": "2024-10-19T09:37:54.294776",
     "status": "completed"
    },
    "tags": []
   },
   "source": [
    "# Import(s) et réglages"
   ]
  },
  {
   "cell_type": "code",
   "execution_count": 1,
   "id": "ac1ee205",
   "metadata": {
    "execution": {
     "iopub.execute_input": "2024-10-19T09:37:54.304253Z",
     "iopub.status.busy": "2024-10-19T09:37:54.303837Z",
     "iopub.status.idle": "2024-10-19T09:37:55.205535Z",
     "shell.execute_reply": "2024-10-19T09:37:55.204567Z"
    },
    "papermill": {
     "duration": 0.908134,
     "end_time": "2024-10-19T09:37:55.208138",
     "exception": false,
     "start_time": "2024-10-19T09:37:54.300004",
     "status": "completed"
    },
    "tags": []
   },
   "outputs": [],
   "source": [
    "# import\n",
    "import pandas as pd\n",
    "#réglages\n",
    "pd.set_option('display.max_colwidth', 500)\n",
    "pd.set_option('display.max_columns', 200)\n",
    "pd.set_option('display.max_rows', 200)"
   ]
  },
  {
   "cell_type": "markdown",
   "id": "d87f7a09",
   "metadata": {
    "papermill": {
     "duration": 0.002548,
     "end_time": "2024-10-19T09:37:55.213608",
     "exception": false,
     "start_time": "2024-10-19T09:37:55.211060",
     "status": "completed"
    },
    "tags": []
   },
   "source": [
    "# Téléchargement des annonces de la Ville de Paris sur Datagouv"
   ]
  },
  {
   "cell_type": "code",
   "execution_count": 2,
   "id": "fb90c0e6",
   "metadata": {
    "execution": {
     "iopub.execute_input": "2024-10-19T09:37:55.221200Z",
     "iopub.status.busy": "2024-10-19T09:37:55.220142Z",
     "iopub.status.idle": "2024-10-19T09:37:59.475167Z",
     "shell.execute_reply": "2024-10-19T09:37:59.473841Z"
    },
    "papermill": {
     "duration": 4.261613,
     "end_time": "2024-10-19T09:37:59.477896",
     "exception": false,
     "start_time": "2024-10-19T09:37:55.216283",
     "status": "completed"
    },
    "scrolled": true,
    "tags": []
   },
   "outputs": [],
   "source": [
    "df = pd.read_csv('https://www.data.gouv.fr/fr/datasets/r/8571acc8-2f51-4d7e-9d87-bd5b8ec210e5', dtype='string')\n",
    "\n",
    "# Adresse ressources sur datagouv\n",
    "# -> https://www.data.gouv.fr/fr/datasets/une-vie-de-siren-au-boamp-ville-de-paris-217500016/#/resources"
   ]
  },
  {
   "cell_type": "markdown",
   "id": "db558b1c",
   "metadata": {
    "papermill": {
     "duration": 0.002768,
     "end_time": "2024-10-19T09:37:59.483975",
     "exception": false,
     "start_time": "2024-10-19T09:37:59.481207",
     "status": "completed"
    },
    "tags": []
   },
   "source": [
    "# Sélection de la colonne B_22_natureCategoriseLibelle"
   ]
  },
  {
   "cell_type": "code",
   "execution_count": 3,
   "id": "18c63a6b",
   "metadata": {
    "execution": {
     "iopub.execute_input": "2024-10-19T09:37:59.492190Z",
     "iopub.status.busy": "2024-10-19T09:37:59.491116Z",
     "iopub.status.idle": "2024-10-19T09:37:59.505577Z",
     "shell.execute_reply": "2024-10-19T09:37:59.504466Z"
    },
    "papermill": {
     "duration": 0.021142,
     "end_time": "2024-10-19T09:37:59.508070",
     "exception": false,
     "start_time": "2024-10-19T09:37:59.486928",
     "status": "completed"
    },
    "tags": []
   },
   "outputs": [],
   "source": [
    "df_ = df.loc[:, ['B_22_natureCategoriseLibelle']].copy()"
   ]
  },
  {
   "cell_type": "markdown",
   "id": "3a590091",
   "metadata": {
    "papermill": {
     "duration": 0.002617,
     "end_time": "2024-10-19T09:37:59.513597",
     "exception": false,
     "start_time": "2024-10-19T09:37:59.510980",
     "status": "completed"
    },
    "tags": []
   },
   "source": [
    "# Lecture des dernières lignes"
   ]
  },
  {
   "cell_type": "code",
   "execution_count": 4,
   "id": "fcebb0ea",
   "metadata": {
    "execution": {
     "iopub.execute_input": "2024-10-19T09:37:59.521421Z",
     "iopub.status.busy": "2024-10-19T09:37:59.520508Z",
     "iopub.status.idle": "2024-10-19T09:37:59.536785Z",
     "shell.execute_reply": "2024-10-19T09:37:59.535735Z"
    },
    "papermill": {
     "duration": 0.022791,
     "end_time": "2024-10-19T09:37:59.539217",
     "exception": false,
     "start_time": "2024-10-19T09:37:59.516426",
     "status": "completed"
    },
    "tags": []
   },
   "outputs": [
    {
     "data": {
      "text/html": [
       "<div>\n",
       "<style scoped>\n",
       "    .dataframe tbody tr th:only-of-type {\n",
       "        vertical-align: middle;\n",
       "    }\n",
       "\n",
       "    .dataframe tbody tr th {\n",
       "        vertical-align: top;\n",
       "    }\n",
       "\n",
       "    .dataframe thead th {\n",
       "        text-align: right;\n",
       "    }\n",
       "</style>\n",
       "<table border=\"1\" class=\"dataframe\">\n",
       "  <thead>\n",
       "    <tr style=\"text-align: right;\">\n",
       "      <th></th>\n",
       "      <th>B_22_natureCategoriseLibelle</th>\n",
       "    </tr>\n",
       "  </thead>\n",
       "  <tbody>\n",
       "    <tr>\n",
       "      <th>753</th>\n",
       "      <td>Rectificatif/</td>\n",
       "    </tr>\n",
       "    <tr>\n",
       "      <th>754</th>\n",
       "      <td>Résultat de marché/</td>\n",
       "    </tr>\n",
       "    <tr>\n",
       "      <th>755</th>\n",
       "      <td>Résultat de marché/</td>\n",
       "    </tr>\n",
       "    <tr>\n",
       "      <th>756</th>\n",
       "      <td>Avis de marché/</td>\n",
       "    </tr>\n",
       "    <tr>\n",
       "      <th>757</th>\n",
       "      <td>Avis de marché/</td>\n",
       "    </tr>\n",
       "  </tbody>\n",
       "</table>\n",
       "</div>"
      ],
      "text/plain": [
       "    B_22_natureCategoriseLibelle\n",
       "753                Rectificatif/\n",
       "754          Résultat de marché/\n",
       "755          Résultat de marché/\n",
       "756              Avis de marché/\n",
       "757              Avis de marché/"
      ]
     },
     "execution_count": 4,
     "metadata": {},
     "output_type": "execute_result"
    }
   ],
   "source": [
    "df_.loc[df_.B_22_natureCategoriseLibelle.notna(),:].tail()"
   ]
  }
 ],
 "metadata": {
  "kaggle": {
   "accelerator": "none",
   "dataSources": [],
   "isGpuEnabled": false,
   "isInternetEnabled": true,
   "language": "python",
   "sourceType": "notebook"
  },
  "kernelspec": {
   "display_name": "Python 3 (ipykernel)",
   "language": "python",
   "name": "python3"
  },
  "language_info": {
   "codemirror_mode": {
    "name": "ipython",
    "version": 3
   },
   "file_extension": ".py",
   "mimetype": "text/x-python",
   "name": "python",
   "nbconvert_exporter": "python",
   "pygments_lexer": "ipython3",
   "version": "3.10.14"
  },
  "papermill": {
   "default_parameters": {},
   "duration": 8.733789,
   "end_time": "2024-10-19T09:38:00.062304",
   "environment_variables": {},
   "exception": null,
   "input_path": "__notebook__.ipynb",
   "output_path": "__notebook__.ipynb",
   "parameters": {},
   "start_time": "2024-10-19T09:37:51.328515",
   "version": "2.6.0"
  },
  "widgets": {
   "application/vnd.jupyter.widget-state+json": {
    "state": {},
    "version_major": 2,
    "version_minor": 0
   }
  }
 },
 "nbformat": 4,
 "nbformat_minor": 5
}
