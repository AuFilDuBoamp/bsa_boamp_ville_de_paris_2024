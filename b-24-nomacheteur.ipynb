{
 "cells": [
  {
   "cell_type": "markdown",
   "id": "73055046",
   "metadata": {
    "papermill": {
     "duration": 0.003639,
     "end_time": "2024-10-20T08:43:39.757229",
     "exception": false,
     "start_time": "2024-10-20T08:43:39.753590",
     "status": "completed"
    },
    "tags": []
   },
   "source": [
    "# Colonne «B_24_nomAcheteur» (Initialisation)"
   ]
  },
  {
   "cell_type": "markdown",
   "id": "6e3f6e3b",
   "metadata": {
    "papermill": {
     "duration": 0.002659,
     "end_time": "2024-10-20T08:43:39.763067",
     "exception": false,
     "start_time": "2024-10-20T08:43:39.760408",
     "status": "completed"
    },
    "tags": []
   },
   "source": [
    "|NAVIGATION (travaux sur les annonces BOAMP de la Ville de Paris en 2024)|\n",
    "|---|\n",
    "|[Retour à l'INDEX (kaggle)](https://www.kaggle.com/code/aufilduboamp/index-ville-de-paris-aufilduboamp)|\n",
    "|[Rubrique AuFilDuBoamp.com](https://www.aufilduboamp.com/rubrique92.html)|\n",
    "|[Dépôt GitHub](https://github.com/AuFilDuBoamp/bsa_boamp_ville_de_paris_2024/tree/main)|\n",
    "|[Dépôt DataGouv](https://www.data.gouv.fr/fr/datasets/une-vie-de-siren-au-boamp-ville-de-paris-217500016/#/resources)|"
   ]
  },
  {
   "cell_type": "markdown",
   "id": "c5b9086d",
   "metadata": {
    "papermill": {
     "duration": 0.002589,
     "end_time": "2024-10-20T08:43:39.768756",
     "exception": false,
     "start_time": "2024-10-20T08:43:39.766167",
     "status": "completed"
    },
    "tags": []
   },
   "source": [
    "# Import(s) et réglages"
   ]
  },
  {
   "cell_type": "code",
   "execution_count": 1,
   "id": "1a192cae",
   "metadata": {
    "execution": {
     "iopub.execute_input": "2024-10-20T08:43:39.776030Z",
     "iopub.status.busy": "2024-10-20T08:43:39.775660Z",
     "iopub.status.idle": "2024-10-20T08:43:40.510440Z",
     "shell.execute_reply": "2024-10-20T08:43:40.509692Z"
    },
    "papermill": {
     "duration": 0.741215,
     "end_time": "2024-10-20T08:43:40.512736",
     "exception": false,
     "start_time": "2024-10-20T08:43:39.771521",
     "status": "completed"
    },
    "tags": []
   },
   "outputs": [],
   "source": [
    "# import\n",
    "import pandas as pd\n",
    "#réglages\n",
    "pd.set_option('display.max_colwidth', 500)\n",
    "pd.set_option('display.max_columns', 200)\n",
    "pd.set_option('display.max_rows', 200)"
   ]
  },
  {
   "cell_type": "markdown",
   "id": "e550312e",
   "metadata": {
    "papermill": {
     "duration": 0.002674,
     "end_time": "2024-10-20T08:43:40.518755",
     "exception": false,
     "start_time": "2024-10-20T08:43:40.516081",
     "status": "completed"
    },
    "tags": []
   },
   "source": [
    "# Téléchargement des annonces de la Ville de Paris sur Datagouv"
   ]
  },
  {
   "cell_type": "code",
   "execution_count": 2,
   "id": "1892cd4d",
   "metadata": {
    "execution": {
     "iopub.execute_input": "2024-10-20T08:43:40.526213Z",
     "iopub.status.busy": "2024-10-20T08:43:40.525742Z",
     "iopub.status.idle": "2024-10-20T08:43:42.939309Z",
     "shell.execute_reply": "2024-10-20T08:43:42.938502Z"
    },
    "papermill": {
     "duration": 2.419962,
     "end_time": "2024-10-20T08:43:42.941657",
     "exception": false,
     "start_time": "2024-10-20T08:43:40.521695",
     "status": "completed"
    },
    "scrolled": true,
    "tags": []
   },
   "outputs": [],
   "source": [
    "df = pd.read_csv('https://www.data.gouv.fr/fr/datasets/r/8571acc8-2f51-4d7e-9d87-bd5b8ec210e5', dtype='string')\n",
    "\n",
    "# Adresse ressources sur datagouv\n",
    "# -> https://www.data.gouv.fr/fr/datasets/une-vie-de-siren-au-boamp-ville-de-paris-217500016/#/resources"
   ]
  },
  {
   "cell_type": "markdown",
   "id": "a7cee92e",
   "metadata": {
    "papermill": {
     "duration": 0.003139,
     "end_time": "2024-10-20T08:43:42.948101",
     "exception": false,
     "start_time": "2024-10-20T08:43:42.944962",
     "status": "completed"
    },
    "tags": []
   },
   "source": [
    "# Sélection de la colonne B_24_nomAcheteur"
   ]
  },
  {
   "cell_type": "code",
   "execution_count": 3,
   "id": "674dc13d",
   "metadata": {
    "execution": {
     "iopub.execute_input": "2024-10-20T08:43:42.955318Z",
     "iopub.status.busy": "2024-10-20T08:43:42.954992Z",
     "iopub.status.idle": "2024-10-20T08:43:42.966479Z",
     "shell.execute_reply": "2024-10-20T08:43:42.965745Z"
    },
    "papermill": {
     "duration": 0.017419,
     "end_time": "2024-10-20T08:43:42.968402",
     "exception": false,
     "start_time": "2024-10-20T08:43:42.950983",
     "status": "completed"
    },
    "tags": []
   },
   "outputs": [],
   "source": [
    "df_ = df.loc[:, ['B_24_nomAcheteur']].copy()"
   ]
  },
  {
   "cell_type": "markdown",
   "id": "9c009080",
   "metadata": {
    "papermill": {
     "duration": 0.002884,
     "end_time": "2024-10-20T08:43:42.974288",
     "exception": false,
     "start_time": "2024-10-20T08:43:42.971404",
     "status": "completed"
    },
    "tags": []
   },
   "source": [
    "# Lecture des dernières lignes"
   ]
  },
  {
   "cell_type": "code",
   "execution_count": 4,
   "id": "e0fda1f2",
   "metadata": {
    "execution": {
     "iopub.execute_input": "2024-10-20T08:43:42.981518Z",
     "iopub.status.busy": "2024-10-20T08:43:42.981215Z",
     "iopub.status.idle": "2024-10-20T08:43:42.995295Z",
     "shell.execute_reply": "2024-10-20T08:43:42.994008Z"
    },
    "papermill": {
     "duration": 0.019806,
     "end_time": "2024-10-20T08:43:42.997292",
     "exception": false,
     "start_time": "2024-10-20T08:43:42.977486",
     "status": "completed"
    },
    "tags": []
   },
   "outputs": [
    {
     "data": {
      "text/html": [
       "<div>\n",
       "<style scoped>\n",
       "    .dataframe tbody tr th:only-of-type {\n",
       "        vertical-align: middle;\n",
       "    }\n",
       "\n",
       "    .dataframe tbody tr th {\n",
       "        vertical-align: top;\n",
       "    }\n",
       "\n",
       "    .dataframe thead th {\n",
       "        text-align: right;\n",
       "    }\n",
       "</style>\n",
       "<table border=\"1\" class=\"dataframe\">\n",
       "  <thead>\n",
       "    <tr style=\"text-align: right;\">\n",
       "      <th></th>\n",
       "      <th>B_24_nomAcheteur</th>\n",
       "    </tr>\n",
       "  </thead>\n",
       "  <tbody>\n",
       "    <tr>\n",
       "      <th>753</th>\n",
       "      <td>Ville de Paris</td>\n",
       "    </tr>\n",
       "    <tr>\n",
       "      <th>754</th>\n",
       "      <td>Ville de Paris</td>\n",
       "    </tr>\n",
       "    <tr>\n",
       "      <th>755</th>\n",
       "      <td>Ville de Paris</td>\n",
       "    </tr>\n",
       "    <tr>\n",
       "      <th>756</th>\n",
       "      <td>VILLE DE PARIS</td>\n",
       "    </tr>\n",
       "    <tr>\n",
       "      <th>757</th>\n",
       "      <td>VILLE DE PARIS</td>\n",
       "    </tr>\n",
       "  </tbody>\n",
       "</table>\n",
       "</div>"
      ],
      "text/plain": [
       "    B_24_nomAcheteur\n",
       "753   Ville de Paris\n",
       "754   Ville de Paris\n",
       "755   Ville de Paris\n",
       "756   VILLE DE PARIS\n",
       "757   VILLE DE PARIS"
      ]
     },
     "execution_count": 4,
     "metadata": {},
     "output_type": "execute_result"
    }
   ],
   "source": [
    "df_.loc[df_.B_24_nomAcheteur.notna(),:].tail()"
   ]
  }
 ],
 "metadata": {
  "kaggle": {
   "accelerator": "none",
   "dataSources": [],
   "dockerImageVersionId": 30786,
   "isGpuEnabled": false,
   "isInternetEnabled": true,
   "language": "python",
   "sourceType": "notebook"
  },
  "kernelspec": {
   "display_name": "Python 3 (ipykernel)",
   "language": "python",
   "name": "python3"
  },
  "language_info": {
   "codemirror_mode": {
    "name": "ipython",
    "version": 3
   },
   "file_extension": ".py",
   "mimetype": "text/x-python",
   "name": "python",
   "nbconvert_exporter": "python",
   "pygments_lexer": "ipython3",
   "version": "3.10.14"
  },
  "papermill": {
   "default_parameters": {},
   "duration": 6.033396,
   "end_time": "2024-10-20T08:43:43.318457",
   "environment_variables": {},
   "exception": null,
   "input_path": "__notebook__.ipynb",
   "output_path": "__notebook__.ipynb",
   "parameters": {},
   "start_time": "2024-10-20T08:43:37.285061",
   "version": "2.6.0"
  },
  "widgets": {
   "application/vnd.jupyter.widget-state+json": {
    "state": {},
    "version_major": 2,
    "version_minor": 0
   }
  }
 },
 "nbformat": 4,
 "nbformat_minor": 5
}
