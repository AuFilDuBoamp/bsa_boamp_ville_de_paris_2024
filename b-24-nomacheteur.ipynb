{
 "cells": [
  {
   "cell_type": "markdown",
   "id": "5331c1fc",
   "metadata": {
    "papermill": {
     "duration": 0.004122,
     "end_time": "2024-10-19T09:40:12.324067",
     "exception": false,
     "start_time": "2024-10-19T09:40:12.319945",
     "status": "completed"
    },
    "tags": []
   },
   "source": [
    "# Colonne «B_24_nomAcheteur» (Initialisation)"
   ]
  },
  {
   "cell_type": "markdown",
   "id": "01d2c412",
   "metadata": {
    "papermill": {
     "duration": 0.003293,
     "end_time": "2024-10-19T09:40:12.331297",
     "exception": false,
     "start_time": "2024-10-19T09:40:12.328004",
     "status": "completed"
    },
    "tags": []
   },
   "source": [
    "# Intro"
   ]
  },
  {
   "cell_type": "markdown",
   "id": "c8bf1913",
   "metadata": {
    "papermill": {
     "duration": 0.003266,
     "end_time": "2024-10-19T09:40:12.338188",
     "exception": false,
     "start_time": "2024-10-19T09:40:12.334922",
     "status": "completed"
    },
    "tags": []
   },
   "source": [
    "# Import(s) et réglages"
   ]
  },
  {
   "cell_type": "code",
   "execution_count": 1,
   "id": "ba1313df",
   "metadata": {
    "execution": {
     "iopub.execute_input": "2024-10-19T09:40:12.347548Z",
     "iopub.status.busy": "2024-10-19T09:40:12.346979Z",
     "iopub.status.idle": "2024-10-19T09:40:13.312829Z",
     "shell.execute_reply": "2024-10-19T09:40:13.311603Z"
    },
    "papermill": {
     "duration": 0.974069,
     "end_time": "2024-10-19T09:40:13.315830",
     "exception": false,
     "start_time": "2024-10-19T09:40:12.341761",
     "status": "completed"
    },
    "tags": []
   },
   "outputs": [],
   "source": [
    "# import\n",
    "import pandas as pd\n",
    "#réglages\n",
    "pd.set_option('display.max_colwidth', 500)\n",
    "pd.set_option('display.max_columns', 200)\n",
    "pd.set_option('display.max_rows', 200)"
   ]
  },
  {
   "cell_type": "markdown",
   "id": "67dea271",
   "metadata": {
    "papermill": {
     "duration": 0.003324,
     "end_time": "2024-10-19T09:40:13.323051",
     "exception": false,
     "start_time": "2024-10-19T09:40:13.319727",
     "status": "completed"
    },
    "tags": []
   },
   "source": [
    "# Téléchargement des annonces de la Ville de Paris sur Datagouv"
   ]
  },
  {
   "cell_type": "code",
   "execution_count": 2,
   "id": "07e41755",
   "metadata": {
    "execution": {
     "iopub.execute_input": "2024-10-19T09:40:13.332164Z",
     "iopub.status.busy": "2024-10-19T09:40:13.331565Z",
     "iopub.status.idle": "2024-10-19T09:40:13.945883Z",
     "shell.execute_reply": "2024-10-19T09:40:13.944643Z"
    },
    "papermill": {
     "duration": 0.621965,
     "end_time": "2024-10-19T09:40:13.948650",
     "exception": false,
     "start_time": "2024-10-19T09:40:13.326685",
     "status": "completed"
    },
    "scrolled": true,
    "tags": []
   },
   "outputs": [],
   "source": [
    "df = pd.read_csv('https://www.data.gouv.fr/fr/datasets/r/8571acc8-2f51-4d7e-9d87-bd5b8ec210e5', dtype='string')\n",
    "\n",
    "# Adresse ressources sur datagouv\n",
    "# -> https://www.data.gouv.fr/fr/datasets/une-vie-de-siren-au-boamp-ville-de-paris-217500016/#/resources"
   ]
  },
  {
   "cell_type": "markdown",
   "id": "e43d6bce",
   "metadata": {
    "papermill": {
     "duration": 0.003427,
     "end_time": "2024-10-19T09:40:13.955909",
     "exception": false,
     "start_time": "2024-10-19T09:40:13.952482",
     "status": "completed"
    },
    "tags": []
   },
   "source": [
    "# Sélection de la colonne B_24_nomAcheteur"
   ]
  },
  {
   "cell_type": "code",
   "execution_count": 3,
   "id": "cebdce5e",
   "metadata": {
    "execution": {
     "iopub.execute_input": "2024-10-19T09:40:13.965220Z",
     "iopub.status.busy": "2024-10-19T09:40:13.964698Z",
     "iopub.status.idle": "2024-10-19T09:40:13.979565Z",
     "shell.execute_reply": "2024-10-19T09:40:13.978091Z"
    },
    "papermill": {
     "duration": 0.022758,
     "end_time": "2024-10-19T09:40:13.982294",
     "exception": false,
     "start_time": "2024-10-19T09:40:13.959536",
     "status": "completed"
    },
    "tags": []
   },
   "outputs": [],
   "source": [
    "df_ = df.loc[:, ['B_24_nomAcheteur']].copy()"
   ]
  },
  {
   "cell_type": "markdown",
   "id": "f339f15c",
   "metadata": {
    "papermill": {
     "duration": 0.003469,
     "end_time": "2024-10-19T09:40:13.989646",
     "exception": false,
     "start_time": "2024-10-19T09:40:13.986177",
     "status": "completed"
    },
    "tags": []
   },
   "source": [
    "# Lecture des dernières lignes"
   ]
  },
  {
   "cell_type": "code",
   "execution_count": 4,
   "id": "ea178251",
   "metadata": {
    "execution": {
     "iopub.execute_input": "2024-10-19T09:40:13.998963Z",
     "iopub.status.busy": "2024-10-19T09:40:13.998475Z",
     "iopub.status.idle": "2024-10-19T09:40:14.016891Z",
     "shell.execute_reply": "2024-10-19T09:40:14.015681Z"
    },
    "papermill": {
     "duration": 0.02592,
     "end_time": "2024-10-19T09:40:14.019340",
     "exception": false,
     "start_time": "2024-10-19T09:40:13.993420",
     "status": "completed"
    },
    "tags": []
   },
   "outputs": [
    {
     "data": {
      "text/html": [
       "<div>\n",
       "<style scoped>\n",
       "    .dataframe tbody tr th:only-of-type {\n",
       "        vertical-align: middle;\n",
       "    }\n",
       "\n",
       "    .dataframe tbody tr th {\n",
       "        vertical-align: top;\n",
       "    }\n",
       "\n",
       "    .dataframe thead th {\n",
       "        text-align: right;\n",
       "    }\n",
       "</style>\n",
       "<table border=\"1\" class=\"dataframe\">\n",
       "  <thead>\n",
       "    <tr style=\"text-align: right;\">\n",
       "      <th></th>\n",
       "      <th>B_24_nomAcheteur</th>\n",
       "    </tr>\n",
       "  </thead>\n",
       "  <tbody>\n",
       "    <tr>\n",
       "      <th>753</th>\n",
       "      <td>Ville de Paris</td>\n",
       "    </tr>\n",
       "    <tr>\n",
       "      <th>754</th>\n",
       "      <td>Ville de Paris</td>\n",
       "    </tr>\n",
       "    <tr>\n",
       "      <th>755</th>\n",
       "      <td>Ville de Paris</td>\n",
       "    </tr>\n",
       "    <tr>\n",
       "      <th>756</th>\n",
       "      <td>VILLE DE PARIS</td>\n",
       "    </tr>\n",
       "    <tr>\n",
       "      <th>757</th>\n",
       "      <td>VILLE DE PARIS</td>\n",
       "    </tr>\n",
       "  </tbody>\n",
       "</table>\n",
       "</div>"
      ],
      "text/plain": [
       "    B_24_nomAcheteur\n",
       "753   Ville de Paris\n",
       "754   Ville de Paris\n",
       "755   Ville de Paris\n",
       "756   VILLE DE PARIS\n",
       "757   VILLE DE PARIS"
      ]
     },
     "execution_count": 4,
     "metadata": {},
     "output_type": "execute_result"
    }
   ],
   "source": [
    "df_.loc[df_.B_24_nomAcheteur.notna(),:].tail()"
   ]
  }
 ],
 "metadata": {
  "kaggle": {
   "accelerator": "none",
   "dataSources": [],
   "isGpuEnabled": false,
   "isInternetEnabled": true,
   "language": "python",
   "sourceType": "notebook"
  },
  "kernelspec": {
   "display_name": "Python 3 (ipykernel)",
   "language": "python",
   "name": "python3"
  },
  "language_info": {
   "codemirror_mode": {
    "name": "ipython",
    "version": 3
   },
   "file_extension": ".py",
   "mimetype": "text/x-python",
   "name": "python",
   "nbconvert_exporter": "python",
   "pygments_lexer": "ipython3",
   "version": "3.10.14"
  },
  "papermill": {
   "default_parameters": {},
   "duration": 5.327526,
   "end_time": "2024-10-19T09:40:14.545309",
   "environment_variables": {},
   "exception": null,
   "input_path": "__notebook__.ipynb",
   "output_path": "__notebook__.ipynb",
   "parameters": {},
   "start_time": "2024-10-19T09:40:09.217783",
   "version": "2.6.0"
  },
  "widgets": {
   "application/vnd.jupyter.widget-state+json": {
    "state": {},
    "version_major": 2,
    "version_minor": 0
   }
  }
 },
 "nbformat": 4,
 "nbformat_minor": 5
}
