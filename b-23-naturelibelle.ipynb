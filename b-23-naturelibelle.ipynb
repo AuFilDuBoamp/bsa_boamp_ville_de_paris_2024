{
 "cells": [
  {
   "cell_type": "markdown",
   "id": "adc2fb19",
   "metadata": {
    "papermill": {
     "duration": 0.004186,
     "end_time": "2024-10-19T08:55:23.942638",
     "exception": false,
     "start_time": "2024-10-19T08:55:23.938452",
     "status": "completed"
    },
    "tags": []
   },
   "source": [
    "# Colonne «B_23_natureLibelle» (Initialisation)"
   ]
  },
  {
   "cell_type": "markdown",
   "id": "6ee4be94",
   "metadata": {
    "papermill": {
     "duration": 0.003459,
     "end_time": "2024-10-19T08:55:23.950638",
     "exception": false,
     "start_time": "2024-10-19T08:55:23.947179",
     "status": "completed"
    },
    "tags": []
   },
   "source": [
    "# Intro"
   ]
  },
  {
   "cell_type": "markdown",
   "id": "e4f32abf",
   "metadata": {
    "papermill": {
     "duration": 0.003406,
     "end_time": "2024-10-19T08:55:23.957863",
     "exception": false,
     "start_time": "2024-10-19T08:55:23.954457",
     "status": "completed"
    },
    "tags": []
   },
   "source": [
    "# Import(s) et réglages"
   ]
  },
  {
   "cell_type": "code",
   "execution_count": 1,
   "id": "c6c628fe",
   "metadata": {
    "execution": {
     "iopub.execute_input": "2024-10-19T08:55:23.968486Z",
     "iopub.status.busy": "2024-10-19T08:55:23.967908Z",
     "iopub.status.idle": "2024-10-19T08:55:25.034104Z",
     "shell.execute_reply": "2024-10-19T08:55:25.033051Z"
    },
    "papermill": {
     "duration": 1.075554,
     "end_time": "2024-10-19T08:55:25.037098",
     "exception": false,
     "start_time": "2024-10-19T08:55:23.961544",
     "status": "completed"
    },
    "tags": []
   },
   "outputs": [],
   "source": [
    "# import\n",
    "import pandas as pd\n",
    "#réglages\n",
    "pd.set_option('display.max_colwidth', 500)\n",
    "pd.set_option('display.max_columns', 200)\n",
    "pd.set_option('display.max_rows', 200)"
   ]
  },
  {
   "cell_type": "markdown",
   "id": "0954ea3f",
   "metadata": {
    "papermill": {
     "duration": 0.003492,
     "end_time": "2024-10-19T08:55:25.044640",
     "exception": false,
     "start_time": "2024-10-19T08:55:25.041148",
     "status": "completed"
    },
    "tags": []
   },
   "source": [
    "# Téléchargement des annonces de la Ville de Paris sur Datagouv"
   ]
  },
  {
   "cell_type": "code",
   "execution_count": 2,
   "id": "03eb0c3c",
   "metadata": {
    "execution": {
     "iopub.execute_input": "2024-10-19T08:55:25.055054Z",
     "iopub.status.busy": "2024-10-19T08:55:25.054247Z",
     "iopub.status.idle": "2024-10-19T08:55:25.728014Z",
     "shell.execute_reply": "2024-10-19T08:55:25.726744Z"
    },
    "papermill": {
     "duration": 0.682145,
     "end_time": "2024-10-19T08:55:25.730948",
     "exception": false,
     "start_time": "2024-10-19T08:55:25.048803",
     "status": "completed"
    },
    "scrolled": true,
    "tags": []
   },
   "outputs": [],
   "source": [
    "df = pd.read_csv('https://www.data.gouv.fr/fr/datasets/r/8571acc8-2f51-4d7e-9d87-bd5b8ec210e5', dtype='string')\n",
    "\n",
    "# Adresse ressources sur datagouv\n",
    "# -> https://www.data.gouv.fr/fr/datasets/une-vie-de-siren-au-boamp-ville-de-paris-217500016/#/resources"
   ]
  },
  {
   "cell_type": "markdown",
   "id": "ae2b905c",
   "metadata": {
    "papermill": {
     "duration": 0.0035,
     "end_time": "2024-10-19T08:55:25.738469",
     "exception": false,
     "start_time": "2024-10-19T08:55:25.734969",
     "status": "completed"
    },
    "tags": []
   },
   "source": [
    "# Sélection de la colonne B_23_natureLibelle"
   ]
  },
  {
   "cell_type": "code",
   "execution_count": 3,
   "id": "9a5bee2d",
   "metadata": {
    "execution": {
     "iopub.execute_input": "2024-10-19T08:55:25.748484Z",
     "iopub.status.busy": "2024-10-19T08:55:25.748008Z",
     "iopub.status.idle": "2024-10-19T08:55:25.765177Z",
     "shell.execute_reply": "2024-10-19T08:55:25.763721Z"
    },
    "papermill": {
     "duration": 0.025848,
     "end_time": "2024-10-19T08:55:25.768194",
     "exception": false,
     "start_time": "2024-10-19T08:55:25.742346",
     "status": "completed"
    },
    "tags": []
   },
   "outputs": [],
   "source": [
    "df_ = df.loc[:, ['B_23_natureLibelle']].copy()"
   ]
  },
  {
   "cell_type": "markdown",
   "id": "5177901e",
   "metadata": {
    "papermill": {
     "duration": 0.003661,
     "end_time": "2024-10-19T08:55:25.775898",
     "exception": false,
     "start_time": "2024-10-19T08:55:25.772237",
     "status": "completed"
    },
    "tags": []
   },
   "source": [
    "# Lecture des dernières lignes"
   ]
  },
  {
   "cell_type": "code",
   "execution_count": 4,
   "id": "31b1b634",
   "metadata": {
    "execution": {
     "iopub.execute_input": "2024-10-19T08:55:25.786201Z",
     "iopub.status.busy": "2024-10-19T08:55:25.785741Z",
     "iopub.status.idle": "2024-10-19T08:55:25.805871Z",
     "shell.execute_reply": "2024-10-19T08:55:25.804511Z"
    },
    "papermill": {
     "duration": 0.028555,
     "end_time": "2024-10-19T08:55:25.808659",
     "exception": false,
     "start_time": "2024-10-19T08:55:25.780104",
     "status": "completed"
    },
    "tags": []
   },
   "outputs": [
    {
     "data": {
      "text/html": [
       "<div>\n",
       "<style scoped>\n",
       "    .dataframe tbody tr th:only-of-type {\n",
       "        vertical-align: middle;\n",
       "    }\n",
       "\n",
       "    .dataframe tbody tr th {\n",
       "        vertical-align: top;\n",
       "    }\n",
       "\n",
       "    .dataframe thead th {\n",
       "        text-align: right;\n",
       "    }\n",
       "</style>\n",
       "<table border=\"1\" class=\"dataframe\">\n",
       "  <thead>\n",
       "    <tr style=\"text-align: right;\">\n",
       "      <th></th>\n",
       "      <th>B_23_natureLibelle</th>\n",
       "    </tr>\n",
       "  </thead>\n",
       "  <tbody>\n",
       "    <tr>\n",
       "      <th>753</th>\n",
       "      <td>Rectificatif</td>\n",
       "    </tr>\n",
       "    <tr>\n",
       "      <th>754</th>\n",
       "      <td>Résultat de marché</td>\n",
       "    </tr>\n",
       "    <tr>\n",
       "      <th>755</th>\n",
       "      <td>Résultat de marché</td>\n",
       "    </tr>\n",
       "    <tr>\n",
       "      <th>756</th>\n",
       "      <td>Avis de marché</td>\n",
       "    </tr>\n",
       "    <tr>\n",
       "      <th>757</th>\n",
       "      <td>Avis de marché</td>\n",
       "    </tr>\n",
       "  </tbody>\n",
       "</table>\n",
       "</div>"
      ],
      "text/plain": [
       "     B_23_natureLibelle\n",
       "753        Rectificatif\n",
       "754  Résultat de marché\n",
       "755  Résultat de marché\n",
       "756      Avis de marché\n",
       "757      Avis de marché"
      ]
     },
     "execution_count": 4,
     "metadata": {},
     "output_type": "execute_result"
    }
   ],
   "source": [
    "df_.loc[df_.B_23_natureLibelle.notna(),:].tail()"
   ]
  }
 ],
 "metadata": {
  "kaggle": {
   "accelerator": "none",
   "dataSources": [],
   "dockerImageVersionId": 30786,
   "isGpuEnabled": false,
   "isInternetEnabled": true,
   "language": "python",
   "sourceType": "notebook"
  },
  "kernelspec": {
   "display_name": "Python 3 (ipykernel)",
   "language": "python",
   "name": "python3"
  },
  "language_info": {
   "codemirror_mode": {
    "name": "ipython",
    "version": 3
   },
   "file_extension": ".py",
   "mimetype": "text/x-python",
   "name": "python",
   "nbconvert_exporter": "python",
   "pygments_lexer": "ipython3",
   "version": "3.10.14"
  },
  "papermill": {
   "default_parameters": {},
   "duration": 6.184813,
   "end_time": "2024-10-19T08:55:26.336704",
   "environment_variables": {},
   "exception": null,
   "input_path": "__notebook__.ipynb",
   "output_path": "__notebook__.ipynb",
   "parameters": {},
   "start_time": "2024-10-19T08:55:20.151891",
   "version": "2.6.0"
  },
  "widgets": {
   "application/vnd.jupyter.widget-state+json": {
    "state": {},
    "version_major": 2,
    "version_minor": 0
   }
  }
 },
 "nbformat": 4,
 "nbformat_minor": 5
}
