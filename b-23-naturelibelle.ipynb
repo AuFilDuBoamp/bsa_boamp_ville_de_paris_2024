{
 "cells": [
  {
   "cell_type": "markdown",
   "id": "255a77ec",
   "metadata": {
    "papermill": {
     "duration": 0.004688,
     "end_time": "2024-10-18T17:35:23.953740",
     "exception": false,
     "start_time": "2024-10-18T17:35:23.949052",
     "status": "completed"
    },
    "tags": []
   },
   "source": [
    "# Colonne «B_23_natureLibelle» (Initialisation)"
   ]
  },
  {
   "cell_type": "markdown",
   "id": "3d9d1011",
   "metadata": {
    "papermill": {
     "duration": 0.003401,
     "end_time": "2024-10-18T17:35:23.961271",
     "exception": false,
     "start_time": "2024-10-18T17:35:23.957870",
     "status": "completed"
    },
    "tags": []
   },
   "source": [
    "# Intro"
   ]
  },
  {
   "cell_type": "markdown",
   "id": "e2310cca",
   "metadata": {
    "papermill": {
     "duration": 0.003302,
     "end_time": "2024-10-18T17:35:23.968349",
     "exception": false,
     "start_time": "2024-10-18T17:35:23.965047",
     "status": "completed"
    },
    "tags": []
   },
   "source": [
    "# Import(s) et réglages"
   ]
  },
  {
   "cell_type": "code",
   "execution_count": 1,
   "id": "37d7cdc5",
   "metadata": {
    "execution": {
     "iopub.execute_input": "2024-10-18T17:35:23.977644Z",
     "iopub.status.busy": "2024-10-18T17:35:23.977172Z",
     "iopub.status.idle": "2024-10-18T17:35:25.028228Z",
     "shell.execute_reply": "2024-10-18T17:35:25.026785Z"
    },
    "papermill": {
     "duration": 1.05977,
     "end_time": "2024-10-18T17:35:25.031705",
     "exception": false,
     "start_time": "2024-10-18T17:35:23.971935",
     "status": "completed"
    },
    "tags": []
   },
   "outputs": [],
   "source": [
    "# import\n",
    "import pandas as pd\n",
    "#réglages\n",
    "pd.set_option('display.max_colwidth', 500)\n",
    "pd.set_option('display.max_columns', 200)\n",
    "pd.set_option('display.max_rows', 200)"
   ]
  },
  {
   "cell_type": "markdown",
   "id": "995ce9f1",
   "metadata": {
    "papermill": {
     "duration": 0.00348,
     "end_time": "2024-10-18T17:35:25.039435",
     "exception": false,
     "start_time": "2024-10-18T17:35:25.035955",
     "status": "completed"
    },
    "tags": []
   },
   "source": [
    "# Téléchargement des annonces de la Ville de Paris sur Datagouv"
   ]
  },
  {
   "cell_type": "code",
   "execution_count": 2,
   "id": "206eb323",
   "metadata": {
    "execution": {
     "iopub.execute_input": "2024-10-18T17:35:25.049192Z",
     "iopub.status.busy": "2024-10-18T17:35:25.048463Z",
     "iopub.status.idle": "2024-10-18T17:35:28.710808Z",
     "shell.execute_reply": "2024-10-18T17:35:28.709340Z"
    },
    "papermill": {
     "duration": 3.671122,
     "end_time": "2024-10-18T17:35:28.714226",
     "exception": false,
     "start_time": "2024-10-18T17:35:25.043104",
     "status": "completed"
    },
    "scrolled": true,
    "tags": []
   },
   "outputs": [],
   "source": [
    "df = pd.read_csv('https://www.data.gouv.fr/fr/datasets/r/8571acc8-2f51-4d7e-9d87-bd5b8ec210e5', dtype='string')\n",
    "\n",
    "# Adresse ressources sur datagouv\n",
    "# -> https://www.data.gouv.fr/fr/datasets/une-vie-de-siren-au-boamp-ville-de-paris-217500016/#/resources"
   ]
  },
  {
   "cell_type": "markdown",
   "id": "8bad7385",
   "metadata": {
    "papermill": {
     "duration": 0.003806,
     "end_time": "2024-10-18T17:35:28.722285",
     "exception": false,
     "start_time": "2024-10-18T17:35:28.718479",
     "status": "completed"
    },
    "tags": []
   },
   "source": [
    "# Sélection de la colonne B_23_natureLibelle"
   ]
  },
  {
   "cell_type": "code",
   "execution_count": 3,
   "id": "cb8a957b",
   "metadata": {
    "execution": {
     "iopub.execute_input": "2024-10-18T17:35:28.732686Z",
     "iopub.status.busy": "2024-10-18T17:35:28.732185Z",
     "iopub.status.idle": "2024-10-18T17:35:28.748736Z",
     "shell.execute_reply": "2024-10-18T17:35:28.747475Z"
    },
    "papermill": {
     "duration": 0.024906,
     "end_time": "2024-10-18T17:35:28.751329",
     "exception": false,
     "start_time": "2024-10-18T17:35:28.726423",
     "status": "completed"
    },
    "tags": []
   },
   "outputs": [],
   "source": [
    "df_ = df.loc[:, ['B_23_natureLibelle']].copy()"
   ]
  },
  {
   "cell_type": "markdown",
   "id": "c7936b52",
   "metadata": {
    "papermill": {
     "duration": 0.003901,
     "end_time": "2024-10-18T17:35:28.759506",
     "exception": false,
     "start_time": "2024-10-18T17:35:28.755605",
     "status": "completed"
    },
    "tags": []
   },
   "source": [
    "# Lecture des dernières lignes"
   ]
  },
  {
   "cell_type": "code",
   "execution_count": 4,
   "id": "bf8f1bf4",
   "metadata": {
    "execution": {
     "iopub.execute_input": "2024-10-18T17:35:28.769756Z",
     "iopub.status.busy": "2024-10-18T17:35:28.769286Z",
     "iopub.status.idle": "2024-10-18T17:35:28.788332Z",
     "shell.execute_reply": "2024-10-18T17:35:28.786999Z"
    },
    "papermill": {
     "duration": 0.027785,
     "end_time": "2024-10-18T17:35:28.791453",
     "exception": false,
     "start_time": "2024-10-18T17:35:28.763668",
     "status": "completed"
    },
    "tags": []
   },
   "outputs": [
    {
     "data": {
      "text/html": [
       "<div>\n",
       "<style scoped>\n",
       "    .dataframe tbody tr th:only-of-type {\n",
       "        vertical-align: middle;\n",
       "    }\n",
       "\n",
       "    .dataframe tbody tr th {\n",
       "        vertical-align: top;\n",
       "    }\n",
       "\n",
       "    .dataframe thead th {\n",
       "        text-align: right;\n",
       "    }\n",
       "</style>\n",
       "<table border=\"1\" class=\"dataframe\">\n",
       "  <thead>\n",
       "    <tr style=\"text-align: right;\">\n",
       "      <th></th>\n",
       "      <th>B_23_natureLibelle</th>\n",
       "    </tr>\n",
       "  </thead>\n",
       "  <tbody>\n",
       "    <tr>\n",
       "      <th>747</th>\n",
       "      <td>Rectificatif</td>\n",
       "    </tr>\n",
       "    <tr>\n",
       "      <th>748</th>\n",
       "      <td>Résultat de marché</td>\n",
       "    </tr>\n",
       "    <tr>\n",
       "      <th>749</th>\n",
       "      <td>Résultat de marché</td>\n",
       "    </tr>\n",
       "    <tr>\n",
       "      <th>750</th>\n",
       "      <td>Avis de marché</td>\n",
       "    </tr>\n",
       "    <tr>\n",
       "      <th>751</th>\n",
       "      <td>Avis de marché</td>\n",
       "    </tr>\n",
       "  </tbody>\n",
       "</table>\n",
       "</div>"
      ],
      "text/plain": [
       "     B_23_natureLibelle\n",
       "747        Rectificatif\n",
       "748  Résultat de marché\n",
       "749  Résultat de marché\n",
       "750      Avis de marché\n",
       "751      Avis de marché"
      ]
     },
     "execution_count": 4,
     "metadata": {},
     "output_type": "execute_result"
    }
   ],
   "source": [
    "df_.loc[df_.B_23_natureLibelle.notna(),:].tail()"
   ]
  }
 ],
 "metadata": {
  "kaggle": {
   "accelerator": "none",
   "dataSources": [],
   "dockerImageVersionId": 30786,
   "isGpuEnabled": false,
   "isInternetEnabled": true,
   "language": "python",
   "sourceType": "notebook"
  },
  "kernelspec": {
   "display_name": "Python 3 (ipykernel)",
   "language": "python",
   "name": "python3"
  },
  "language_info": {
   "codemirror_mode": {
    "name": "ipython",
    "version": 3
   },
   "file_extension": ".py",
   "mimetype": "text/x-python",
   "name": "python",
   "nbconvert_exporter": "python",
   "pygments_lexer": "ipython3",
   "version": "3.10.14"
  },
  "papermill": {
   "default_parameters": {},
   "duration": 8.804966,
   "end_time": "2024-10-18T17:35:29.421182",
   "environment_variables": {},
   "exception": null,
   "input_path": "__notebook__.ipynb",
   "output_path": "__notebook__.ipynb",
   "parameters": {},
   "start_time": "2024-10-18T17:35:20.616216",
   "version": "2.6.0"
  },
  "widgets": {
   "application/vnd.jupyter.widget-state+json": {
    "state": {},
    "version_major": 2,
    "version_minor": 0
   }
  }
 },
 "nbformat": 4,
 "nbformat_minor": 5
}
