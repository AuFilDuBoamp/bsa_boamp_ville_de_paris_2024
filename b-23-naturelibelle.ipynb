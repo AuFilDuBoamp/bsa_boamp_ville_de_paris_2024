{
 "cells": [
  {
   "cell_type": "markdown",
   "id": "9b2ecdd2",
   "metadata": {
    "papermill": {
     "duration": 0.004165,
     "end_time": "2024-10-20T08:43:44.815479",
     "exception": false,
     "start_time": "2024-10-20T08:43:44.811314",
     "status": "completed"
    },
    "tags": []
   },
   "source": [
    "# Colonne «B_23_natureLibelle» (Initialisation)"
   ]
  },
  {
   "cell_type": "markdown",
   "id": "860c8fd1",
   "metadata": {
    "papermill": {
     "duration": 0.003252,
     "end_time": "2024-10-20T08:43:44.822642",
     "exception": false,
     "start_time": "2024-10-20T08:43:44.819390",
     "status": "completed"
    },
    "tags": []
   },
   "source": [
    "|NAVIGATION (travaux sur les annonces BOAMP de la Ville de Paris en 2024)|\n",
    "|---|\n",
    "|[Retour à l'INDEX (kaggle)](https://www.kaggle.com/code/aufilduboamp/index-ville-de-paris-aufilduboamp)|\n",
    "|[Rubrique AuFilDuBoamp.com](https://www.aufilduboamp.com/rubrique92.html)|\n",
    "|[Dépôt GitHub](https://github.com/AuFilDuBoamp/bsa_boamp_ville_de_paris_2024/tree/main)|\n",
    "|[Dépôt DataGouv](https://www.data.gouv.fr/fr/datasets/une-vie-de-siren-au-boamp-ville-de-paris-217500016/#/resources)|"
   ]
  },
  {
   "cell_type": "markdown",
   "id": "8db5b162",
   "metadata": {
    "papermill": {
     "duration": 0.003293,
     "end_time": "2024-10-20T08:43:44.829401",
     "exception": false,
     "start_time": "2024-10-20T08:43:44.826108",
     "status": "completed"
    },
    "tags": []
   },
   "source": [
    "# Import(s) et réglages"
   ]
  },
  {
   "cell_type": "code",
   "execution_count": 1,
   "id": "b902ea43",
   "metadata": {
    "execution": {
     "iopub.execute_input": "2024-10-20T08:43:44.838185Z",
     "iopub.status.busy": "2024-10-20T08:43:44.837725Z",
     "iopub.status.idle": "2024-10-20T08:43:45.814889Z",
     "shell.execute_reply": "2024-10-20T08:43:45.813729Z"
    },
    "papermill": {
     "duration": 0.984843,
     "end_time": "2024-10-20T08:43:45.817800",
     "exception": false,
     "start_time": "2024-10-20T08:43:44.832957",
     "status": "completed"
    },
    "tags": []
   },
   "outputs": [],
   "source": [
    "# import\n",
    "import pandas as pd\n",
    "#réglages\n",
    "pd.set_option('display.max_colwidth', 500)\n",
    "pd.set_option('display.max_columns', 200)\n",
    "pd.set_option('display.max_rows', 200)"
   ]
  },
  {
   "cell_type": "markdown",
   "id": "3b40102d",
   "metadata": {
    "papermill": {
     "duration": 0.003311,
     "end_time": "2024-10-20T08:43:45.824910",
     "exception": false,
     "start_time": "2024-10-20T08:43:45.821599",
     "status": "completed"
    },
    "tags": []
   },
   "source": [
    "# Téléchargement des annonces de la Ville de Paris sur Datagouv"
   ]
  },
  {
   "cell_type": "code",
   "execution_count": 2,
   "id": "35cd2f86",
   "metadata": {
    "execution": {
     "iopub.execute_input": "2024-10-20T08:43:45.833969Z",
     "iopub.status.busy": "2024-10-20T08:43:45.833356Z",
     "iopub.status.idle": "2024-10-20T08:43:47.689819Z",
     "shell.execute_reply": "2024-10-20T08:43:47.688578Z"
    },
    "papermill": {
     "duration": 1.864233,
     "end_time": "2024-10-20T08:43:47.692671",
     "exception": false,
     "start_time": "2024-10-20T08:43:45.828438",
     "status": "completed"
    },
    "scrolled": true,
    "tags": []
   },
   "outputs": [],
   "source": [
    "df = pd.read_csv('https://www.data.gouv.fr/fr/datasets/r/8571acc8-2f51-4d7e-9d87-bd5b8ec210e5', dtype='string')\n",
    "\n",
    "# Adresse ressources sur datagouv\n",
    "# -> https://www.data.gouv.fr/fr/datasets/une-vie-de-siren-au-boamp-ville-de-paris-217500016/#/resources"
   ]
  },
  {
   "cell_type": "markdown",
   "id": "5ff19677",
   "metadata": {
    "papermill": {
     "duration": 0.003358,
     "end_time": "2024-10-20T08:43:47.699902",
     "exception": false,
     "start_time": "2024-10-20T08:43:47.696544",
     "status": "completed"
    },
    "tags": []
   },
   "source": [
    "# Sélection de la colonne B_23_natureLibelle"
   ]
  },
  {
   "cell_type": "code",
   "execution_count": 3,
   "id": "2bbc2c99",
   "metadata": {
    "execution": {
     "iopub.execute_input": "2024-10-20T08:43:47.708886Z",
     "iopub.status.busy": "2024-10-20T08:43:47.708439Z",
     "iopub.status.idle": "2024-10-20T08:43:47.722352Z",
     "shell.execute_reply": "2024-10-20T08:43:47.721237Z"
    },
    "papermill": {
     "duration": 0.021564,
     "end_time": "2024-10-20T08:43:47.724997",
     "exception": false,
     "start_time": "2024-10-20T08:43:47.703433",
     "status": "completed"
    },
    "tags": []
   },
   "outputs": [],
   "source": [
    "df_ = df.loc[:, ['B_23_natureLibelle']].copy()"
   ]
  },
  {
   "cell_type": "markdown",
   "id": "304d7910",
   "metadata": {
    "papermill": {
     "duration": 0.003425,
     "end_time": "2024-10-20T08:43:47.732345",
     "exception": false,
     "start_time": "2024-10-20T08:43:47.728920",
     "status": "completed"
    },
    "tags": []
   },
   "source": [
    "# Lecture des dernières lignes"
   ]
  },
  {
   "cell_type": "code",
   "execution_count": 4,
   "id": "8832788e",
   "metadata": {
    "execution": {
     "iopub.execute_input": "2024-10-20T08:43:47.741680Z",
     "iopub.status.busy": "2024-10-20T08:43:47.740852Z",
     "iopub.status.idle": "2024-10-20T08:43:47.758152Z",
     "shell.execute_reply": "2024-10-20T08:43:47.757001Z"
    },
    "papermill": {
     "duration": 0.025067,
     "end_time": "2024-10-20T08:43:47.760998",
     "exception": false,
     "start_time": "2024-10-20T08:43:47.735931",
     "status": "completed"
    },
    "tags": []
   },
   "outputs": [
    {
     "data": {
      "text/html": [
       "<div>\n",
       "<style scoped>\n",
       "    .dataframe tbody tr th:only-of-type {\n",
       "        vertical-align: middle;\n",
       "    }\n",
       "\n",
       "    .dataframe tbody tr th {\n",
       "        vertical-align: top;\n",
       "    }\n",
       "\n",
       "    .dataframe thead th {\n",
       "        text-align: right;\n",
       "    }\n",
       "</style>\n",
       "<table border=\"1\" class=\"dataframe\">\n",
       "  <thead>\n",
       "    <tr style=\"text-align: right;\">\n",
       "      <th></th>\n",
       "      <th>B_23_natureLibelle</th>\n",
       "    </tr>\n",
       "  </thead>\n",
       "  <tbody>\n",
       "    <tr>\n",
       "      <th>753</th>\n",
       "      <td>Résultat de marché</td>\n",
       "    </tr>\n",
       "    <tr>\n",
       "      <th>754</th>\n",
       "      <td>Rectificatif</td>\n",
       "    </tr>\n",
       "    <tr>\n",
       "      <th>755</th>\n",
       "      <td>Résultat de marché</td>\n",
       "    </tr>\n",
       "    <tr>\n",
       "      <th>756</th>\n",
       "      <td>Avis de marché</td>\n",
       "    </tr>\n",
       "    <tr>\n",
       "      <th>757</th>\n",
       "      <td>Avis de marché</td>\n",
       "    </tr>\n",
       "  </tbody>\n",
       "</table>\n",
       "</div>"
      ],
      "text/plain": [
       "     B_23_natureLibelle\n",
       "753  Résultat de marché\n",
       "754        Rectificatif\n",
       "755  Résultat de marché\n",
       "756      Avis de marché\n",
       "757      Avis de marché"
      ]
     },
     "execution_count": 4,
     "metadata": {},
     "output_type": "execute_result"
    }
   ],
   "source": [
    "df_.loc[df_.B_23_natureLibelle.notna(),:].tail()"
   ]
  }
 ],
 "metadata": {
  "kaggle": {
   "accelerator": "none",
   "dataSources": [],
   "dockerImageVersionId": 30786,
   "isGpuEnabled": false,
   "isInternetEnabled": true,
   "language": "python",
   "sourceType": "notebook"
  },
  "kernelspec": {
   "display_name": "Python 3 (ipykernel)",
   "language": "python",
   "name": "python3"
  },
  "language_info": {
   "codemirror_mode": {
    "name": "ipython",
    "version": 3
   },
   "file_extension": ".py",
   "mimetype": "text/x-python",
   "name": "python",
   "nbconvert_exporter": "python",
   "pygments_lexer": "ipython3",
   "version": "3.10.14"
  },
  "papermill": {
   "default_parameters": {},
   "duration": 6.428011,
   "end_time": "2024-10-20T08:43:48.186288",
   "environment_variables": {},
   "exception": null,
   "input_path": "__notebook__.ipynb",
   "output_path": "__notebook__.ipynb",
   "parameters": {},
   "start_time": "2024-10-20T08:43:41.758277",
   "version": "2.6.0"
  },
  "widgets": {
   "application/vnd.jupyter.widget-state+json": {
    "state": {},
    "version_major": 2,
    "version_minor": 0
   }
  }
 },
 "nbformat": 4,
 "nbformat_minor": 5
}
