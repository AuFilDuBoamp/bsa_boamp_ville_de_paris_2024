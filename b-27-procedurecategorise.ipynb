{
 "cells": [
  {
   "cell_type": "markdown",
   "id": "4dc45957",
   "metadata": {
    "papermill": {
     "duration": 0.004416,
     "end_time": "2024-10-19T09:38:44.879767",
     "exception": false,
     "start_time": "2024-10-19T09:38:44.875351",
     "status": "completed"
    },
    "tags": []
   },
   "source": [
    "# Colonne «B_27_procedureCategorise» (Initialisation)"
   ]
  },
  {
   "cell_type": "markdown",
   "id": "12c4e3b8",
   "metadata": {
    "papermill": {
     "duration": 0.002573,
     "end_time": "2024-10-19T09:38:44.885806",
     "exception": false,
     "start_time": "2024-10-19T09:38:44.883233",
     "status": "completed"
    },
    "tags": []
   },
   "source": [
    "# Intro"
   ]
  },
  {
   "cell_type": "markdown",
   "id": "c1d0bf2d",
   "metadata": {
    "papermill": {
     "duration": 0.002514,
     "end_time": "2024-10-19T09:38:44.891243",
     "exception": false,
     "start_time": "2024-10-19T09:38:44.888729",
     "status": "completed"
    },
    "tags": []
   },
   "source": [
    "# Import(s) et réglages"
   ]
  },
  {
   "cell_type": "code",
   "execution_count": 1,
   "id": "ca350736",
   "metadata": {
    "execution": {
     "iopub.execute_input": "2024-10-19T09:38:44.899337Z",
     "iopub.status.busy": "2024-10-19T09:38:44.898300Z",
     "iopub.status.idle": "2024-10-19T09:38:45.869146Z",
     "shell.execute_reply": "2024-10-19T09:38:45.868092Z"
    },
    "papermill": {
     "duration": 0.977843,
     "end_time": "2024-10-19T09:38:45.871865",
     "exception": false,
     "start_time": "2024-10-19T09:38:44.894022",
     "status": "completed"
    },
    "tags": []
   },
   "outputs": [],
   "source": [
    "# import\n",
    "import pandas as pd\n",
    "#réglages\n",
    "pd.set_option('display.max_colwidth', 500)\n",
    "pd.set_option('display.max_columns', 200)\n",
    "pd.set_option('display.max_rows', 200)"
   ]
  },
  {
   "cell_type": "markdown",
   "id": "5c9ef369",
   "metadata": {
    "papermill": {
     "duration": 0.002642,
     "end_time": "2024-10-19T09:38:45.877799",
     "exception": false,
     "start_time": "2024-10-19T09:38:45.875157",
     "status": "completed"
    },
    "tags": []
   },
   "source": [
    "# Téléchargement des annonces de la Ville de Paris sur Datagouv"
   ]
  },
  {
   "cell_type": "code",
   "execution_count": 2,
   "id": "22818455",
   "metadata": {
    "execution": {
     "iopub.execute_input": "2024-10-19T09:38:45.885421Z",
     "iopub.status.busy": "2024-10-19T09:38:45.884851Z",
     "iopub.status.idle": "2024-10-19T09:38:47.626844Z",
     "shell.execute_reply": "2024-10-19T09:38:47.625535Z"
    },
    "papermill": {
     "duration": 1.748926,
     "end_time": "2024-10-19T09:38:47.629613",
     "exception": false,
     "start_time": "2024-10-19T09:38:45.880687",
     "status": "completed"
    },
    "scrolled": true,
    "tags": []
   },
   "outputs": [],
   "source": [
    "df = pd.read_csv('https://www.data.gouv.fr/fr/datasets/r/8571acc8-2f51-4d7e-9d87-bd5b8ec210e5', dtype='string')\n",
    "\n",
    "# Adresse ressources sur datagouv\n",
    "# -> https://www.data.gouv.fr/fr/datasets/une-vie-de-siren-au-boamp-ville-de-paris-217500016/#/resources"
   ]
  },
  {
   "cell_type": "markdown",
   "id": "bbcdab61",
   "metadata": {
    "papermill": {
     "duration": 0.002652,
     "end_time": "2024-10-19T09:38:47.635241",
     "exception": false,
     "start_time": "2024-10-19T09:38:47.632589",
     "status": "completed"
    },
    "tags": []
   },
   "source": [
    "# Sélection de la colonne B_27_procedureCategorise"
   ]
  },
  {
   "cell_type": "code",
   "execution_count": 3,
   "id": "8a4fc5f7",
   "metadata": {
    "execution": {
     "iopub.execute_input": "2024-10-19T09:38:47.643194Z",
     "iopub.status.busy": "2024-10-19T09:38:47.642401Z",
     "iopub.status.idle": "2024-10-19T09:38:47.656876Z",
     "shell.execute_reply": "2024-10-19T09:38:47.655548Z"
    },
    "papermill": {
     "duration": 0.02125,
     "end_time": "2024-10-19T09:38:47.659344",
     "exception": false,
     "start_time": "2024-10-19T09:38:47.638094",
     "status": "completed"
    },
    "tags": []
   },
   "outputs": [],
   "source": [
    "df_ = df.loc[:, ['B_27_procedureCategorise']].copy()"
   ]
  },
  {
   "cell_type": "markdown",
   "id": "b601adab",
   "metadata": {
    "papermill": {
     "duration": 0.002508,
     "end_time": "2024-10-19T09:38:47.664830",
     "exception": false,
     "start_time": "2024-10-19T09:38:47.662322",
     "status": "completed"
    },
    "tags": []
   },
   "source": [
    "# Lecture des dernières lignes"
   ]
  },
  {
   "cell_type": "code",
   "execution_count": 4,
   "id": "15dcfda8",
   "metadata": {
    "execution": {
     "iopub.execute_input": "2024-10-19T09:38:47.672072Z",
     "iopub.status.busy": "2024-10-19T09:38:47.671639Z",
     "iopub.status.idle": "2024-10-19T09:38:47.689785Z",
     "shell.execute_reply": "2024-10-19T09:38:47.688723Z"
    },
    "papermill": {
     "duration": 0.024727,
     "end_time": "2024-10-19T09:38:47.692273",
     "exception": false,
     "start_time": "2024-10-19T09:38:47.667546",
     "status": "completed"
    },
    "tags": []
   },
   "outputs": [
    {
     "data": {
      "text/html": [
       "<div>\n",
       "<style scoped>\n",
       "    .dataframe tbody tr th:only-of-type {\n",
       "        vertical-align: middle;\n",
       "    }\n",
       "\n",
       "    .dataframe tbody tr th {\n",
       "        vertical-align: top;\n",
       "    }\n",
       "\n",
       "    .dataframe thead th {\n",
       "        text-align: right;\n",
       "    }\n",
       "</style>\n",
       "<table border=\"1\" class=\"dataframe\">\n",
       "  <thead>\n",
       "    <tr style=\"text-align: right;\">\n",
       "      <th></th>\n",
       "      <th>B_27_procedureCategorise</th>\n",
       "    </tr>\n",
       "  </thead>\n",
       "  <tbody>\n",
       "    <tr>\n",
       "      <th>753</th>\n",
       "      <td>/</td>\n",
       "    </tr>\n",
       "    <tr>\n",
       "      <th>754</th>\n",
       "      <td>OUVERT/</td>\n",
       "    </tr>\n",
       "    <tr>\n",
       "      <th>755</th>\n",
       "      <td>ATTRIBUE_SANS_PUB_JOUE/</td>\n",
       "    </tr>\n",
       "    <tr>\n",
       "      <th>756</th>\n",
       "      <td>PROCEDURE_ADAPTE/</td>\n",
       "    </tr>\n",
       "    <tr>\n",
       "      <th>757</th>\n",
       "      <td>PROCEDURE_ADAPTE/</td>\n",
       "    </tr>\n",
       "  </tbody>\n",
       "</table>\n",
       "</div>"
      ],
      "text/plain": [
       "    B_27_procedureCategorise\n",
       "753                        /\n",
       "754                  OUVERT/\n",
       "755  ATTRIBUE_SANS_PUB_JOUE/\n",
       "756        PROCEDURE_ADAPTE/\n",
       "757        PROCEDURE_ADAPTE/"
      ]
     },
     "execution_count": 4,
     "metadata": {},
     "output_type": "execute_result"
    }
   ],
   "source": [
    "df_.loc[df_.B_27_procedureCategorise.notna(),:].tail()"
   ]
  }
 ],
 "metadata": {
  "kaggle": {
   "accelerator": "none",
   "dataSources": [],
   "isGpuEnabled": false,
   "isInternetEnabled": true,
   "language": "python",
   "sourceType": "notebook"
  },
  "kernelspec": {
   "display_name": "Python 3 (ipykernel)",
   "language": "python",
   "name": "python3"
  },
  "language_info": {
   "codemirror_mode": {
    "name": "ipython",
    "version": 3
   },
   "file_extension": ".py",
   "mimetype": "text/x-python",
   "name": "python",
   "nbconvert_exporter": "python",
   "pygments_lexer": "ipython3",
   "version": "3.10.14"
  },
  "papermill": {
   "default_parameters": {},
   "duration": 6.39169,
   "end_time": "2024-10-19T09:38:48.218211",
   "environment_variables": {},
   "exception": null,
   "input_path": "__notebook__.ipynb",
   "output_path": "__notebook__.ipynb",
   "parameters": {},
   "start_time": "2024-10-19T09:38:41.826521",
   "version": "2.6.0"
  },
  "widgets": {
   "application/vnd.jupyter.widget-state+json": {
    "state": {},
    "version_major": 2,
    "version_minor": 0
   }
  }
 },
 "nbformat": 4,
 "nbformat_minor": 5
}
