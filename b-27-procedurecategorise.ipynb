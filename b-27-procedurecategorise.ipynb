{
 "cells": [
  {
   "cell_type": "markdown",
   "id": "5a0ba382",
   "metadata": {
    "papermill": {
     "duration": 0.00419,
     "end_time": "2024-10-20T08:45:19.876393",
     "exception": false,
     "start_time": "2024-10-20T08:45:19.872203",
     "status": "completed"
    },
    "tags": []
   },
   "source": [
    "# Colonne «B_27_procedureCategorise» (Initialisation)"
   ]
  },
  {
   "cell_type": "markdown",
   "id": "fc8ab70d",
   "metadata": {
    "papermill": {
     "duration": 0.00345,
     "end_time": "2024-10-20T08:45:19.883981",
     "exception": false,
     "start_time": "2024-10-20T08:45:19.880531",
     "status": "completed"
    },
    "tags": []
   },
   "source": [
    "|NAVIGATION (travaux sur les annonces BOAMP de la Ville de Paris en 2024)|\n",
    "|---|\n",
    "|[Retour à l'INDEX (kaggle)](https://www.kaggle.com/code/aufilduboamp/index-ville-de-paris-aufilduboamp)|\n",
    "|[Rubrique AuFilDuBoamp.com](https://www.aufilduboamp.com/rubrique92.html)|\n",
    "|[Dépôt GitHub](https://github.com/AuFilDuBoamp/bsa_boamp_ville_de_paris_2024/tree/main)|\n",
    "|[Dépôt DataGouv](https://www.data.gouv.fr/fr/datasets/une-vie-de-siren-au-boamp-ville-de-paris-217500016/#/resources)|"
   ]
  },
  {
   "cell_type": "markdown",
   "id": "cc3cfb28",
   "metadata": {
    "papermill": {
     "duration": 0.003314,
     "end_time": "2024-10-20T08:45:19.891025",
     "exception": false,
     "start_time": "2024-10-20T08:45:19.887711",
     "status": "completed"
    },
    "tags": []
   },
   "source": [
    "# Import(s) et réglages"
   ]
  },
  {
   "cell_type": "code",
   "execution_count": 1,
   "id": "163c455c",
   "metadata": {
    "execution": {
     "iopub.execute_input": "2024-10-20T08:45:19.900466Z",
     "iopub.status.busy": "2024-10-20T08:45:19.899916Z",
     "iopub.status.idle": "2024-10-20T08:45:21.082923Z",
     "shell.execute_reply": "2024-10-20T08:45:21.081659Z"
    },
    "papermill": {
     "duration": 1.191132,
     "end_time": "2024-10-20T08:45:21.085821",
     "exception": false,
     "start_time": "2024-10-20T08:45:19.894689",
     "status": "completed"
    },
    "tags": []
   },
   "outputs": [],
   "source": [
    "# import\n",
    "import pandas as pd\n",
    "#réglages\n",
    "pd.set_option('display.max_colwidth', 500)\n",
    "pd.set_option('display.max_columns', 200)\n",
    "pd.set_option('display.max_rows', 200)"
   ]
  },
  {
   "cell_type": "markdown",
   "id": "9bf4fbd6",
   "metadata": {
    "papermill": {
     "duration": 0.003463,
     "end_time": "2024-10-20T08:45:21.093324",
     "exception": false,
     "start_time": "2024-10-20T08:45:21.089861",
     "status": "completed"
    },
    "tags": []
   },
   "source": [
    "# Téléchargement des annonces de la Ville de Paris sur Datagouv"
   ]
  },
  {
   "cell_type": "code",
   "execution_count": 2,
   "id": "4d1d2ebd",
   "metadata": {
    "execution": {
     "iopub.execute_input": "2024-10-20T08:45:21.102812Z",
     "iopub.status.busy": "2024-10-20T08:45:21.102226Z",
     "iopub.status.idle": "2024-10-20T08:45:22.830041Z",
     "shell.execute_reply": "2024-10-20T08:45:22.828892Z"
    },
    "papermill": {
     "duration": 1.735729,
     "end_time": "2024-10-20T08:45:22.832829",
     "exception": false,
     "start_time": "2024-10-20T08:45:21.097100",
     "status": "completed"
    },
    "scrolled": true,
    "tags": []
   },
   "outputs": [],
   "source": [
    "df = pd.read_csv('https://www.data.gouv.fr/fr/datasets/r/8571acc8-2f51-4d7e-9d87-bd5b8ec210e5', dtype='string')\n",
    "\n",
    "# Adresse ressources sur datagouv\n",
    "# -> https://www.data.gouv.fr/fr/datasets/une-vie-de-siren-au-boamp-ville-de-paris-217500016/#/resources"
   ]
  },
  {
   "cell_type": "markdown",
   "id": "f679f6a5",
   "metadata": {
    "papermill": {
     "duration": 0.003521,
     "end_time": "2024-10-20T08:45:22.840339",
     "exception": false,
     "start_time": "2024-10-20T08:45:22.836818",
     "status": "completed"
    },
    "tags": []
   },
   "source": [
    "# Sélection de la colonne B_27_procedureCategorise"
   ]
  },
  {
   "cell_type": "code",
   "execution_count": 3,
   "id": "1dda79f5",
   "metadata": {
    "execution": {
     "iopub.execute_input": "2024-10-20T08:45:22.850102Z",
     "iopub.status.busy": "2024-10-20T08:45:22.849607Z",
     "iopub.status.idle": "2024-10-20T08:45:22.868047Z",
     "shell.execute_reply": "2024-10-20T08:45:22.866440Z"
    },
    "papermill": {
     "duration": 0.026664,
     "end_time": "2024-10-20T08:45:22.870884",
     "exception": false,
     "start_time": "2024-10-20T08:45:22.844220",
     "status": "completed"
    },
    "tags": []
   },
   "outputs": [],
   "source": [
    "df_ = df.loc[:, ['B_27_procedureCategorise']].copy()"
   ]
  },
  {
   "cell_type": "markdown",
   "id": "b79db3bd",
   "metadata": {
    "papermill": {
     "duration": 0.003544,
     "end_time": "2024-10-20T08:45:22.878397",
     "exception": false,
     "start_time": "2024-10-20T08:45:22.874853",
     "status": "completed"
    },
    "tags": []
   },
   "source": [
    "# Lecture des dernières lignes"
   ]
  },
  {
   "cell_type": "code",
   "execution_count": 4,
   "id": "aea51555",
   "metadata": {
    "execution": {
     "iopub.execute_input": "2024-10-20T08:45:22.888494Z",
     "iopub.status.busy": "2024-10-20T08:45:22.888027Z",
     "iopub.status.idle": "2024-10-20T08:45:22.908733Z",
     "shell.execute_reply": "2024-10-20T08:45:22.907500Z"
    },
    "papermill": {
     "duration": 0.028946,
     "end_time": "2024-10-20T08:45:22.911483",
     "exception": false,
     "start_time": "2024-10-20T08:45:22.882537",
     "status": "completed"
    },
    "tags": []
   },
   "outputs": [
    {
     "data": {
      "text/html": [
       "<div>\n",
       "<style scoped>\n",
       "    .dataframe tbody tr th:only-of-type {\n",
       "        vertical-align: middle;\n",
       "    }\n",
       "\n",
       "    .dataframe tbody tr th {\n",
       "        vertical-align: top;\n",
       "    }\n",
       "\n",
       "    .dataframe thead th {\n",
       "        text-align: right;\n",
       "    }\n",
       "</style>\n",
       "<table border=\"1\" class=\"dataframe\">\n",
       "  <thead>\n",
       "    <tr style=\"text-align: right;\">\n",
       "      <th></th>\n",
       "      <th>B_27_procedureCategorise</th>\n",
       "    </tr>\n",
       "  </thead>\n",
       "  <tbody>\n",
       "    <tr>\n",
       "      <th>753</th>\n",
       "      <td>ATTRIBUE_SANS_PUB_JOUE/</td>\n",
       "    </tr>\n",
       "    <tr>\n",
       "      <th>754</th>\n",
       "      <td>/</td>\n",
       "    </tr>\n",
       "    <tr>\n",
       "      <th>755</th>\n",
       "      <td>OUVERT/</td>\n",
       "    </tr>\n",
       "    <tr>\n",
       "      <th>756</th>\n",
       "      <td>PROCEDURE_ADAPTE/</td>\n",
       "    </tr>\n",
       "    <tr>\n",
       "      <th>757</th>\n",
       "      <td>PROCEDURE_ADAPTE/</td>\n",
       "    </tr>\n",
       "  </tbody>\n",
       "</table>\n",
       "</div>"
      ],
      "text/plain": [
       "    B_27_procedureCategorise\n",
       "753  ATTRIBUE_SANS_PUB_JOUE/\n",
       "754                        /\n",
       "755                  OUVERT/\n",
       "756        PROCEDURE_ADAPTE/\n",
       "757        PROCEDURE_ADAPTE/"
      ]
     },
     "execution_count": 4,
     "metadata": {},
     "output_type": "execute_result"
    }
   ],
   "source": [
    "df_.loc[df_.B_27_procedureCategorise.notna(),:].tail()"
   ]
  }
 ],
 "metadata": {
  "kaggle": {
   "accelerator": "none",
   "dataSources": [],
   "dockerImageVersionId": 30786,
   "isGpuEnabled": false,
   "isInternetEnabled": true,
   "language": "python",
   "sourceType": "notebook"
  },
  "kernelspec": {
   "display_name": "Python 3 (ipykernel)",
   "language": "python",
   "name": "python3"
  },
  "language_info": {
   "codemirror_mode": {
    "name": "ipython",
    "version": 3
   },
   "file_extension": ".py",
   "mimetype": "text/x-python",
   "name": "python",
   "nbconvert_exporter": "python",
   "pygments_lexer": "ipython3",
   "version": "3.10.14"
  },
  "papermill": {
   "default_parameters": {},
   "duration": 6.973252,
   "end_time": "2024-10-20T08:45:23.438556",
   "environment_variables": {},
   "exception": null,
   "input_path": "__notebook__.ipynb",
   "output_path": "__notebook__.ipynb",
   "parameters": {},
   "start_time": "2024-10-20T08:45:16.465304",
   "version": "2.6.0"
  },
  "widgets": {
   "application/vnd.jupyter.widget-state+json": {
    "state": {},
    "version_major": 2,
    "version_minor": 0
   }
  }
 },
 "nbformat": 4,
 "nbformat_minor": 5
}
