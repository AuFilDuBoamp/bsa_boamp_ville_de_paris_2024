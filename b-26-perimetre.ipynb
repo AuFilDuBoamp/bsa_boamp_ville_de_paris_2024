{
 "cells": [
  {
   "cell_type": "markdown",
   "id": "edf21373",
   "metadata": {
    "papermill": {
     "duration": 0.003187,
     "end_time": "2024-10-19T09:43:02.797268",
     "exception": false,
     "start_time": "2024-10-19T09:43:02.794081",
     "status": "completed"
    },
    "tags": []
   },
   "source": [
    "# Colonne «B_26_perimetre» (Initialisation)"
   ]
  },
  {
   "cell_type": "markdown",
   "id": "932b9ddc",
   "metadata": {
    "papermill": {
     "duration": 0.002339,
     "end_time": "2024-10-19T09:43:02.802499",
     "exception": false,
     "start_time": "2024-10-19T09:43:02.800160",
     "status": "completed"
    },
    "tags": []
   },
   "source": [
    "# Intro"
   ]
  },
  {
   "cell_type": "markdown",
   "id": "21f9442a",
   "metadata": {
    "papermill": {
     "duration": 0.002323,
     "end_time": "2024-10-19T09:43:02.807291",
     "exception": false,
     "start_time": "2024-10-19T09:43:02.804968",
     "status": "completed"
    },
    "tags": []
   },
   "source": [
    "# Import(s) et réglages"
   ]
  },
  {
   "cell_type": "code",
   "execution_count": 1,
   "id": "13d6a185",
   "metadata": {
    "execution": {
     "iopub.execute_input": "2024-10-19T09:43:02.814524Z",
     "iopub.status.busy": "2024-10-19T09:43:02.813533Z",
     "iopub.status.idle": "2024-10-19T09:43:03.614351Z",
     "shell.execute_reply": "2024-10-19T09:43:03.613294Z"
    },
    "papermill": {
     "duration": 0.807203,
     "end_time": "2024-10-19T09:43:03.616950",
     "exception": false,
     "start_time": "2024-10-19T09:43:02.809747",
     "status": "completed"
    },
    "tags": []
   },
   "outputs": [],
   "source": [
    "# import\n",
    "import pandas as pd\n",
    "#réglages\n",
    "pd.set_option('display.max_colwidth', 500)\n",
    "pd.set_option('display.max_columns', 200)\n",
    "pd.set_option('display.max_rows', 200)"
   ]
  },
  {
   "cell_type": "markdown",
   "id": "56015456",
   "metadata": {
    "papermill": {
     "duration": 0.002635,
     "end_time": "2024-10-19T09:43:03.622499",
     "exception": false,
     "start_time": "2024-10-19T09:43:03.619864",
     "status": "completed"
    },
    "tags": []
   },
   "source": [
    "# Téléchargement des annonces de la Ville de Paris sur Datagouv"
   ]
  },
  {
   "cell_type": "code",
   "execution_count": 2,
   "id": "0ef67543",
   "metadata": {
    "execution": {
     "iopub.execute_input": "2024-10-19T09:43:03.629742Z",
     "iopub.status.busy": "2024-10-19T09:43:03.628700Z",
     "iopub.status.idle": "2024-10-19T09:43:07.877658Z",
     "shell.execute_reply": "2024-10-19T09:43:07.876599Z"
    },
    "papermill": {
     "duration": 4.255181,
     "end_time": "2024-10-19T09:43:07.880222",
     "exception": false,
     "start_time": "2024-10-19T09:43:03.625041",
     "status": "completed"
    },
    "scrolled": true,
    "tags": []
   },
   "outputs": [],
   "source": [
    "df = pd.read_csv('https://www.data.gouv.fr/fr/datasets/r/8571acc8-2f51-4d7e-9d87-bd5b8ec210e5', dtype='string')\n",
    "\n",
    "# Adresse ressources sur datagouv\n",
    "# -> https://www.data.gouv.fr/fr/datasets/une-vie-de-siren-au-boamp-ville-de-paris-217500016/#/resources"
   ]
  },
  {
   "cell_type": "markdown",
   "id": "a42307a8",
   "metadata": {
    "papermill": {
     "duration": 0.002525,
     "end_time": "2024-10-19T09:43:07.885701",
     "exception": false,
     "start_time": "2024-10-19T09:43:07.883176",
     "status": "completed"
    },
    "tags": []
   },
   "source": [
    "# Sélection de la colonne B_26_perimetre"
   ]
  },
  {
   "cell_type": "code",
   "execution_count": 3,
   "id": "b447d2d6",
   "metadata": {
    "execution": {
     "iopub.execute_input": "2024-10-19T09:43:07.892886Z",
     "iopub.status.busy": "2024-10-19T09:43:07.892161Z",
     "iopub.status.idle": "2024-10-19T09:43:07.904935Z",
     "shell.execute_reply": "2024-10-19T09:43:07.903888Z"
    },
    "papermill": {
     "duration": 0.018883,
     "end_time": "2024-10-19T09:43:07.907254",
     "exception": false,
     "start_time": "2024-10-19T09:43:07.888371",
     "status": "completed"
    },
    "tags": []
   },
   "outputs": [],
   "source": [
    "df_ = df.loc[:, ['B_26_perimetre']].copy()"
   ]
  },
  {
   "cell_type": "markdown",
   "id": "b73cc9ab",
   "metadata": {
    "papermill": {
     "duration": 0.002468,
     "end_time": "2024-10-19T09:43:07.912510",
     "exception": false,
     "start_time": "2024-10-19T09:43:07.910042",
     "status": "completed"
    },
    "tags": []
   },
   "source": [
    "# Lecture des dernières lignes"
   ]
  },
  {
   "cell_type": "code",
   "execution_count": 4,
   "id": "859c6e0e",
   "metadata": {
    "execution": {
     "iopub.execute_input": "2024-10-19T09:43:07.919981Z",
     "iopub.status.busy": "2024-10-19T09:43:07.918990Z",
     "iopub.status.idle": "2024-10-19T09:43:07.935431Z",
     "shell.execute_reply": "2024-10-19T09:43:07.934316Z"
    },
    "papermill": {
     "duration": 0.022399,
     "end_time": "2024-10-19T09:43:07.937610",
     "exception": false,
     "start_time": "2024-10-19T09:43:07.915211",
     "status": "completed"
    },
    "tags": []
   },
   "outputs": [
    {
     "data": {
      "text/html": [
       "<div>\n",
       "<style scoped>\n",
       "    .dataframe tbody tr th:only-of-type {\n",
       "        vertical-align: middle;\n",
       "    }\n",
       "\n",
       "    .dataframe tbody tr th {\n",
       "        vertical-align: top;\n",
       "    }\n",
       "\n",
       "    .dataframe thead th {\n",
       "        text-align: right;\n",
       "    }\n",
       "</style>\n",
       "<table border=\"1\" class=\"dataframe\">\n",
       "  <thead>\n",
       "    <tr style=\"text-align: right;\">\n",
       "      <th></th>\n",
       "      <th>B_26_perimetre</th>\n",
       "    </tr>\n",
       "  </thead>\n",
       "  <tbody>\n",
       "    <tr>\n",
       "      <th>753</th>\n",
       "      <td>FNSimple</td>\n",
       "    </tr>\n",
       "    <tr>\n",
       "      <th>754</th>\n",
       "      <td>DIRECTIVE-24</td>\n",
       "    </tr>\n",
       "    <tr>\n",
       "      <th>755</th>\n",
       "      <td>DIRECTIVE-24</td>\n",
       "    </tr>\n",
       "    <tr>\n",
       "      <th>756</th>\n",
       "      <td>CMP-2006</td>\n",
       "    </tr>\n",
       "    <tr>\n",
       "      <th>757</th>\n",
       "      <td>CMP-2006</td>\n",
       "    </tr>\n",
       "  </tbody>\n",
       "</table>\n",
       "</div>"
      ],
      "text/plain": [
       "    B_26_perimetre\n",
       "753       FNSimple\n",
       "754   DIRECTIVE-24\n",
       "755   DIRECTIVE-24\n",
       "756       CMP-2006\n",
       "757       CMP-2006"
      ]
     },
     "execution_count": 4,
     "metadata": {},
     "output_type": "execute_result"
    }
   ],
   "source": [
    "df_.loc[df_.B_26_perimetre.notna(),:].tail()"
   ]
  }
 ],
 "metadata": {
  "kaggle": {
   "accelerator": "none",
   "dataSources": [],
   "isGpuEnabled": false,
   "isInternetEnabled": true,
   "language": "python",
   "sourceType": "notebook"
  },
  "kernelspec": {
   "display_name": "Python 3 (ipykernel)",
   "language": "python",
   "name": "python3"
  },
  "language_info": {
   "codemirror_mode": {
    "name": "ipython",
    "version": 3
   },
   "file_extension": ".py",
   "mimetype": "text/x-python",
   "name": "python",
   "nbconvert_exporter": "python",
   "pygments_lexer": "ipython3",
   "version": "3.10.14"
  },
  "papermill": {
   "default_parameters": {},
   "duration": 8.470422,
   "end_time": "2024-10-19T09:43:08.360459",
   "environment_variables": {},
   "exception": null,
   "input_path": "__notebook__.ipynb",
   "output_path": "__notebook__.ipynb",
   "parameters": {},
   "start_time": "2024-10-19T09:42:59.890037",
   "version": "2.6.0"
  },
  "widgets": {
   "application/vnd.jupyter.widget-state+json": {
    "state": {},
    "version_major": 2,
    "version_minor": 0
   }
  }
 },
 "nbformat": 4,
 "nbformat_minor": 5
}
