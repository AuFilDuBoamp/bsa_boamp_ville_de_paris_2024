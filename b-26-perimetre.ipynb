{
 "cells": [
  {
   "cell_type": "markdown",
   "id": "f64f3fa2",
   "metadata": {
    "papermill": {
     "duration": 0.004009,
     "end_time": "2024-10-20T08:45:17.595724",
     "exception": false,
     "start_time": "2024-10-20T08:45:17.591715",
     "status": "completed"
    },
    "tags": []
   },
   "source": [
    "# Colonne «B_26_perimetre» (Initialisation)"
   ]
  },
  {
   "cell_type": "markdown",
   "id": "e1dfd063",
   "metadata": {
    "papermill": {
     "duration": 0.003595,
     "end_time": "2024-10-20T08:45:17.603310",
     "exception": false,
     "start_time": "2024-10-20T08:45:17.599715",
     "status": "completed"
    },
    "tags": []
   },
   "source": [
    "|NAVIGATION (travaux sur les annonces BOAMP de la Ville de Paris en 2024)|\n",
    "|---|\n",
    "|[Retour à l'INDEX (kaggle)](https://www.kaggle.com/code/aufilduboamp/index-ville-de-paris-aufilduboamp)|\n",
    "|[Rubrique AuFilDuBoamp.com](https://www.aufilduboamp.com/rubrique92.html)|\n",
    "|[Dépôt GitHub](https://github.com/AuFilDuBoamp/bsa_boamp_ville_de_paris_2024/tree/main)|\n",
    "|[Dépôt DataGouv](https://www.data.gouv.fr/fr/datasets/une-vie-de-siren-au-boamp-ville-de-paris-217500016/#/resources)|"
   ]
  },
  {
   "cell_type": "markdown",
   "id": "a0a2606c",
   "metadata": {
    "papermill": {
     "duration": 0.00307,
     "end_time": "2024-10-20T08:45:17.610396",
     "exception": false,
     "start_time": "2024-10-20T08:45:17.607326",
     "status": "completed"
    },
    "tags": []
   },
   "source": [
    "# Import(s) et réglages"
   ]
  },
  {
   "cell_type": "code",
   "execution_count": 1,
   "id": "0c67289e",
   "metadata": {
    "execution": {
     "iopub.execute_input": "2024-10-20T08:45:17.621046Z",
     "iopub.status.busy": "2024-10-20T08:45:17.619642Z",
     "iopub.status.idle": "2024-10-20T08:45:18.994406Z",
     "shell.execute_reply": "2024-10-20T08:45:18.992679Z"
    },
    "papermill": {
     "duration": 1.384092,
     "end_time": "2024-10-20T08:45:18.998263",
     "exception": false,
     "start_time": "2024-10-20T08:45:17.614171",
     "status": "completed"
    },
    "tags": []
   },
   "outputs": [],
   "source": [
    "# import\n",
    "import pandas as pd\n",
    "#réglages\n",
    "pd.set_option('display.max_colwidth', 500)\n",
    "pd.set_option('display.max_columns', 200)\n",
    "pd.set_option('display.max_rows', 200)"
   ]
  },
  {
   "cell_type": "markdown",
   "id": "b93b5aa6",
   "metadata": {
    "papermill": {
     "duration": 0.003155,
     "end_time": "2024-10-20T08:45:19.005396",
     "exception": false,
     "start_time": "2024-10-20T08:45:19.002241",
     "status": "completed"
    },
    "tags": []
   },
   "source": [
    "# Téléchargement des annonces de la Ville de Paris sur Datagouv"
   ]
  },
  {
   "cell_type": "code",
   "execution_count": 2,
   "id": "81f51909",
   "metadata": {
    "execution": {
     "iopub.execute_input": "2024-10-20T08:45:19.016630Z",
     "iopub.status.busy": "2024-10-20T08:45:19.014386Z",
     "iopub.status.idle": "2024-10-20T08:45:19.664749Z",
     "shell.execute_reply": "2024-10-20T08:45:19.662713Z"
    },
    "papermill": {
     "duration": 0.65969,
     "end_time": "2024-10-20T08:45:19.668633",
     "exception": false,
     "start_time": "2024-10-20T08:45:19.008943",
     "status": "completed"
    },
    "scrolled": true,
    "tags": []
   },
   "outputs": [],
   "source": [
    "df = pd.read_csv('https://www.data.gouv.fr/fr/datasets/r/8571acc8-2f51-4d7e-9d87-bd5b8ec210e5', dtype='string')\n",
    "\n",
    "# Adresse ressources sur datagouv\n",
    "# -> https://www.data.gouv.fr/fr/datasets/une-vie-de-siren-au-boamp-ville-de-paris-217500016/#/resources"
   ]
  },
  {
   "cell_type": "markdown",
   "id": "db3491cb",
   "metadata": {
    "papermill": {
     "duration": 0.003338,
     "end_time": "2024-10-20T08:45:19.675729",
     "exception": false,
     "start_time": "2024-10-20T08:45:19.672391",
     "status": "completed"
    },
    "tags": []
   },
   "source": [
    "# Sélection de la colonne B_26_perimetre"
   ]
  },
  {
   "cell_type": "code",
   "execution_count": 3,
   "id": "4d9e738e",
   "metadata": {
    "execution": {
     "iopub.execute_input": "2024-10-20T08:45:19.686146Z",
     "iopub.status.busy": "2024-10-20T08:45:19.684745Z",
     "iopub.status.idle": "2024-10-20T08:45:19.705941Z",
     "shell.execute_reply": "2024-10-20T08:45:19.704026Z"
    },
    "papermill": {
     "duration": 0.030216,
     "end_time": "2024-10-20T08:45:19.709469",
     "exception": false,
     "start_time": "2024-10-20T08:45:19.679253",
     "status": "completed"
    },
    "tags": []
   },
   "outputs": [],
   "source": [
    "df_ = df.loc[:, ['B_26_perimetre']].copy()"
   ]
  },
  {
   "cell_type": "markdown",
   "id": "e13d80ef",
   "metadata": {
    "papermill": {
     "duration": 0.003574,
     "end_time": "2024-10-20T08:45:19.717069",
     "exception": false,
     "start_time": "2024-10-20T08:45:19.713495",
     "status": "completed"
    },
    "tags": []
   },
   "source": [
    "# Lecture des dernières lignes"
   ]
  },
  {
   "cell_type": "code",
   "execution_count": 4,
   "id": "8e72fbb2",
   "metadata": {
    "execution": {
     "iopub.execute_input": "2024-10-20T08:45:19.728052Z",
     "iopub.status.busy": "2024-10-20T08:45:19.726713Z",
     "iopub.status.idle": "2024-10-20T08:45:19.751859Z",
     "shell.execute_reply": "2024-10-20T08:45:19.750521Z"
    },
    "papermill": {
     "duration": 0.034824,
     "end_time": "2024-10-20T08:45:19.755662",
     "exception": false,
     "start_time": "2024-10-20T08:45:19.720838",
     "status": "completed"
    },
    "tags": []
   },
   "outputs": [
    {
     "data": {
      "text/html": [
       "<div>\n",
       "<style scoped>\n",
       "    .dataframe tbody tr th:only-of-type {\n",
       "        vertical-align: middle;\n",
       "    }\n",
       "\n",
       "    .dataframe tbody tr th {\n",
       "        vertical-align: top;\n",
       "    }\n",
       "\n",
       "    .dataframe thead th {\n",
       "        text-align: right;\n",
       "    }\n",
       "</style>\n",
       "<table border=\"1\" class=\"dataframe\">\n",
       "  <thead>\n",
       "    <tr style=\"text-align: right;\">\n",
       "      <th></th>\n",
       "      <th>B_26_perimetre</th>\n",
       "    </tr>\n",
       "  </thead>\n",
       "  <tbody>\n",
       "    <tr>\n",
       "      <th>753</th>\n",
       "      <td>DIRECTIVE-24</td>\n",
       "    </tr>\n",
       "    <tr>\n",
       "      <th>754</th>\n",
       "      <td>FNSimple</td>\n",
       "    </tr>\n",
       "    <tr>\n",
       "      <th>755</th>\n",
       "      <td>DIRECTIVE-24</td>\n",
       "    </tr>\n",
       "    <tr>\n",
       "      <th>756</th>\n",
       "      <td>CMP-2006</td>\n",
       "    </tr>\n",
       "    <tr>\n",
       "      <th>757</th>\n",
       "      <td>CMP-2006</td>\n",
       "    </tr>\n",
       "  </tbody>\n",
       "</table>\n",
       "</div>"
      ],
      "text/plain": [
       "    B_26_perimetre\n",
       "753   DIRECTIVE-24\n",
       "754       FNSimple\n",
       "755   DIRECTIVE-24\n",
       "756       CMP-2006\n",
       "757       CMP-2006"
      ]
     },
     "execution_count": 4,
     "metadata": {},
     "output_type": "execute_result"
    }
   ],
   "source": [
    "df_.loc[df_.B_26_perimetre.notna(),:].tail()"
   ]
  }
 ],
 "metadata": {
  "kaggle": {
   "accelerator": "none",
   "dataSources": [],
   "dockerImageVersionId": 30786,
   "isGpuEnabled": false,
   "isInternetEnabled": true,
   "language": "python",
   "sourceType": "notebook"
  },
  "kernelspec": {
   "display_name": "Python 3 (ipykernel)",
   "language": "python",
   "name": "python3"
  },
  "language_info": {
   "codemirror_mode": {
    "name": "ipython",
    "version": 3
   },
   "file_extension": ".py",
   "mimetype": "text/x-python",
   "name": "python",
   "nbconvert_exporter": "python",
   "pygments_lexer": "ipython3",
   "version": "3.10.14"
  },
  "papermill": {
   "default_parameters": {},
   "duration": 6.581482,
   "end_time": "2024-10-20T08:45:20.387521",
   "environment_variables": {},
   "exception": null,
   "input_path": "__notebook__.ipynb",
   "output_path": "__notebook__.ipynb",
   "parameters": {},
   "start_time": "2024-10-20T08:45:13.806039",
   "version": "2.6.0"
  },
  "widgets": {
   "application/vnd.jupyter.widget-state+json": {
    "state": {},
    "version_major": 2,
    "version_minor": 0
   }
  }
 },
 "nbformat": 4,
 "nbformat_minor": 5
}
