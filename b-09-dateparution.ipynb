{
 "cells": [
  {
   "cell_type": "markdown",
   "id": "4bd7767c",
   "metadata": {
    "papermill": {
     "duration": 0.004271,
     "end_time": "2024-10-20T08:38:12.118897",
     "exception": false,
     "start_time": "2024-10-20T08:38:12.114626",
     "status": "completed"
    },
    "tags": []
   },
   "source": [
    "# Colonne «B_09_dateParution» (Initialisation)"
   ]
  },
  {
   "cell_type": "markdown",
   "id": "53be5178",
   "metadata": {
    "papermill": {
     "duration": 0.003248,
     "end_time": "2024-10-20T08:38:12.125964",
     "exception": false,
     "start_time": "2024-10-20T08:38:12.122716",
     "status": "completed"
    },
    "tags": []
   },
   "source": [
    "|NAVIGATION (travaux sur les annonces BOAMP de la Ville de Paris en 2024)|\n",
    "|---|\n",
    "|[Retour à l'INDEX (kaggle)](https://www.kaggle.com/code/aufilduboamp/index-ville-de-paris-aufilduboamp)|\n",
    "|[Rubrique AuFilDuBoamp.com](https://www.aufilduboamp.com/rubrique92.html)|\n",
    "|[Dépôt GitHub](https://github.com/AuFilDuBoamp/bsa_boamp_ville_de_paris_2024/tree/main)|\n",
    "|[Dépôt DataGouv](https://www.data.gouv.fr/fr/datasets/une-vie-de-siren-au-boamp-ville-de-paris-217500016/#/resources)|"
   ]
  },
  {
   "cell_type": "markdown",
   "id": "abc780d1",
   "metadata": {
    "papermill": {
     "duration": 0.003182,
     "end_time": "2024-10-20T08:38:12.132591",
     "exception": false,
     "start_time": "2024-10-20T08:38:12.129409",
     "status": "completed"
    },
    "tags": []
   },
   "source": [
    "# Import(s) et réglages"
   ]
  },
  {
   "cell_type": "code",
   "execution_count": 1,
   "id": "36ba4c57",
   "metadata": {
    "execution": {
     "iopub.execute_input": "2024-10-20T08:38:12.142134Z",
     "iopub.status.busy": "2024-10-20T08:38:12.141173Z",
     "iopub.status.idle": "2024-10-20T08:38:12.956981Z",
     "shell.execute_reply": "2024-10-20T08:38:12.955908Z"
    },
    "papermill": {
     "duration": 0.823469,
     "end_time": "2024-10-20T08:38:12.959620",
     "exception": false,
     "start_time": "2024-10-20T08:38:12.136151",
     "status": "completed"
    },
    "tags": []
   },
   "outputs": [],
   "source": [
    "# import\n",
    "import pandas as pd\n",
    "#réglages\n",
    "pd.set_option('display.max_colwidth', 500)\n",
    "pd.set_option('display.max_columns', 200)\n",
    "pd.set_option('display.max_rows', 200)"
   ]
  },
  {
   "cell_type": "markdown",
   "id": "af1ed895",
   "metadata": {
    "papermill": {
     "duration": 0.003336,
     "end_time": "2024-10-20T08:38:12.966717",
     "exception": false,
     "start_time": "2024-10-20T08:38:12.963381",
     "status": "completed"
    },
    "tags": []
   },
   "source": [
    "# Téléchargement des annonces de la Ville de Paris sur Datagouv"
   ]
  },
  {
   "cell_type": "code",
   "execution_count": 2,
   "id": "a157dba0",
   "metadata": {
    "execution": {
     "iopub.execute_input": "2024-10-20T08:38:12.975264Z",
     "iopub.status.busy": "2024-10-20T08:38:12.974728Z",
     "iopub.status.idle": "2024-10-20T08:38:15.057312Z",
     "shell.execute_reply": "2024-10-20T08:38:15.056330Z"
    },
    "papermill": {
     "duration": 2.089922,
     "end_time": "2024-10-20T08:38:15.060058",
     "exception": false,
     "start_time": "2024-10-20T08:38:12.970136",
     "status": "completed"
    },
    "scrolled": true,
    "tags": []
   },
   "outputs": [],
   "source": [
    "df = pd.read_csv('https://www.data.gouv.fr/fr/datasets/r/8571acc8-2f51-4d7e-9d87-bd5b8ec210e5', dtype='string')\n",
    "\n",
    "# Adresse ressources sur datagouv\n",
    "# -> https://www.data.gouv.fr/fr/datasets/une-vie-de-siren-au-boamp-ville-de-paris-217500016/#/resources"
   ]
  },
  {
   "cell_type": "markdown",
   "id": "476aff46",
   "metadata": {
    "papermill": {
     "duration": 0.003345,
     "end_time": "2024-10-20T08:38:15.067677",
     "exception": false,
     "start_time": "2024-10-20T08:38:15.064332",
     "status": "completed"
    },
    "tags": []
   },
   "source": [
    "# Sélection de la colonne B_09_dateParution"
   ]
  },
  {
   "cell_type": "code",
   "execution_count": 3,
   "id": "f1f30cbc",
   "metadata": {
    "execution": {
     "iopub.execute_input": "2024-10-20T08:38:15.076372Z",
     "iopub.status.busy": "2024-10-20T08:38:15.075956Z",
     "iopub.status.idle": "2024-10-20T08:38:15.090268Z",
     "shell.execute_reply": "2024-10-20T08:38:15.089229Z"
    },
    "papermill": {
     "duration": 0.021481,
     "end_time": "2024-10-20T08:38:15.092657",
     "exception": false,
     "start_time": "2024-10-20T08:38:15.071176",
     "status": "completed"
    },
    "tags": []
   },
   "outputs": [],
   "source": [
    "df_ = df.loc[:, ['B_09_dateParution']].copy()"
   ]
  },
  {
   "cell_type": "markdown",
   "id": "61bd8876",
   "metadata": {
    "papermill": {
     "duration": 0.003369,
     "end_time": "2024-10-20T08:38:15.099754",
     "exception": false,
     "start_time": "2024-10-20T08:38:15.096385",
     "status": "completed"
    },
    "tags": []
   },
   "source": [
    "# Lecture des dernières lignes"
   ]
  },
  {
   "cell_type": "code",
   "execution_count": 4,
   "id": "6c2632da",
   "metadata": {
    "execution": {
     "iopub.execute_input": "2024-10-20T08:38:15.108451Z",
     "iopub.status.busy": "2024-10-20T08:38:15.108048Z",
     "iopub.status.idle": "2024-10-20T08:38:15.124831Z",
     "shell.execute_reply": "2024-10-20T08:38:15.123808Z"
    },
    "papermill": {
     "duration": 0.023868,
     "end_time": "2024-10-20T08:38:15.127172",
     "exception": false,
     "start_time": "2024-10-20T08:38:15.103304",
     "status": "completed"
    },
    "tags": []
   },
   "outputs": [
    {
     "data": {
      "text/html": [
       "<div>\n",
       "<style scoped>\n",
       "    .dataframe tbody tr th:only-of-type {\n",
       "        vertical-align: middle;\n",
       "    }\n",
       "\n",
       "    .dataframe tbody tr th {\n",
       "        vertical-align: top;\n",
       "    }\n",
       "\n",
       "    .dataframe thead th {\n",
       "        text-align: right;\n",
       "    }\n",
       "</style>\n",
       "<table border=\"1\" class=\"dataframe\">\n",
       "  <thead>\n",
       "    <tr style=\"text-align: right;\">\n",
       "      <th></th>\n",
       "      <th>B_09_dateParution</th>\n",
       "    </tr>\n",
       "  </thead>\n",
       "  <tbody>\n",
       "    <tr>\n",
       "      <th>753</th>\n",
       "      <td>2024-01-04</td>\n",
       "    </tr>\n",
       "    <tr>\n",
       "      <th>754</th>\n",
       "      <td>2024-01-04</td>\n",
       "    </tr>\n",
       "    <tr>\n",
       "      <th>755</th>\n",
       "      <td>2024-01-04</td>\n",
       "    </tr>\n",
       "    <tr>\n",
       "      <th>756</th>\n",
       "      <td>2024-01-03</td>\n",
       "    </tr>\n",
       "    <tr>\n",
       "      <th>757</th>\n",
       "      <td>2024-01-03</td>\n",
       "    </tr>\n",
       "  </tbody>\n",
       "</table>\n",
       "</div>"
      ],
      "text/plain": [
       "    B_09_dateParution\n",
       "753        2024-01-04\n",
       "754        2024-01-04\n",
       "755        2024-01-04\n",
       "756        2024-01-03\n",
       "757        2024-01-03"
      ]
     },
     "execution_count": 4,
     "metadata": {},
     "output_type": "execute_result"
    }
   ],
   "source": [
    "df_.loc[df_.B_09_dateParution.notna(),:].tail()"
   ]
  }
 ],
 "metadata": {
  "kaggle": {
   "accelerator": "none",
   "dataSources": [],
   "dockerImageVersionId": 30786,
   "isGpuEnabled": false,
   "isInternetEnabled": true,
   "language": "python",
   "sourceType": "notebook"
  },
  "kernelspec": {
   "display_name": "Python 3 (ipykernel)",
   "language": "python",
   "name": "python3"
  },
  "language_info": {
   "codemirror_mode": {
    "name": "ipython",
    "version": 3
   },
   "file_extension": ".py",
   "mimetype": "text/x-python",
   "name": "python",
   "nbconvert_exporter": "python",
   "pygments_lexer": "ipython3",
   "version": "3.10.14"
  },
  "papermill": {
   "default_parameters": {},
   "duration": 6.270403,
   "end_time": "2024-10-20T08:38:15.551712",
   "environment_variables": {},
   "exception": null,
   "input_path": "__notebook__.ipynb",
   "output_path": "__notebook__.ipynb",
   "parameters": {},
   "start_time": "2024-10-20T08:38:09.281309",
   "version": "2.6.0"
  },
  "widgets": {
   "application/vnd.jupyter.widget-state+json": {
    "state": {},
    "version_major": 2,
    "version_minor": 0
   }
  }
 },
 "nbformat": 4,
 "nbformat_minor": 5
}
