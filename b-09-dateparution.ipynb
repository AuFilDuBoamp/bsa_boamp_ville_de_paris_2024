{
 "cells": [
  {
   "cell_type": "markdown",
   "id": "5580b2fa",
   "metadata": {
    "papermill": {
     "duration": 0.004611,
     "end_time": "2024-10-19T09:39:40.690520",
     "exception": false,
     "start_time": "2024-10-19T09:39:40.685909",
     "status": "completed"
    },
    "tags": []
   },
   "source": [
    "# Colonne «B_09_dateParution» (Initialisation)"
   ]
  },
  {
   "cell_type": "markdown",
   "id": "e792d771",
   "metadata": {
    "papermill": {
     "duration": 0.003447,
     "end_time": "2024-10-19T09:39:40.697943",
     "exception": false,
     "start_time": "2024-10-19T09:39:40.694496",
     "status": "completed"
    },
    "tags": []
   },
   "source": [
    "# Intro"
   ]
  },
  {
   "cell_type": "markdown",
   "id": "4ea10655",
   "metadata": {
    "papermill": {
     "duration": 0.003124,
     "end_time": "2024-10-19T09:39:40.704741",
     "exception": false,
     "start_time": "2024-10-19T09:39:40.701617",
     "status": "completed"
    },
    "tags": []
   },
   "source": [
    "# Import(s) et réglages"
   ]
  },
  {
   "cell_type": "code",
   "execution_count": 1,
   "id": "fab54ee4",
   "metadata": {
    "execution": {
     "iopub.execute_input": "2024-10-19T09:39:40.713617Z",
     "iopub.status.busy": "2024-10-19T09:39:40.713052Z",
     "iopub.status.idle": "2024-10-19T09:39:41.650266Z",
     "shell.execute_reply": "2024-10-19T09:39:41.649195Z"
    },
    "papermill": {
     "duration": 0.945068,
     "end_time": "2024-10-19T09:39:41.653160",
     "exception": false,
     "start_time": "2024-10-19T09:39:40.708092",
     "status": "completed"
    },
    "tags": []
   },
   "outputs": [],
   "source": [
    "# import\n",
    "import pandas as pd\n",
    "#réglages\n",
    "pd.set_option('display.max_colwidth', 500)\n",
    "pd.set_option('display.max_columns', 200)\n",
    "pd.set_option('display.max_rows', 200)"
   ]
  },
  {
   "cell_type": "markdown",
   "id": "28071a1d",
   "metadata": {
    "papermill": {
     "duration": 0.003329,
     "end_time": "2024-10-19T09:39:41.660414",
     "exception": false,
     "start_time": "2024-10-19T09:39:41.657085",
     "status": "completed"
    },
    "tags": []
   },
   "source": [
    "# Téléchargement des annonces de la Ville de Paris sur Datagouv"
   ]
  },
  {
   "cell_type": "code",
   "execution_count": 2,
   "id": "301b42fc",
   "metadata": {
    "execution": {
     "iopub.execute_input": "2024-10-19T09:39:41.669457Z",
     "iopub.status.busy": "2024-10-19T09:39:41.668917Z",
     "iopub.status.idle": "2024-10-19T09:39:44.352128Z",
     "shell.execute_reply": "2024-10-19T09:39:44.350776Z"
    },
    "papermill": {
     "duration": 2.691252,
     "end_time": "2024-10-19T09:39:44.355191",
     "exception": false,
     "start_time": "2024-10-19T09:39:41.663939",
     "status": "completed"
    },
    "scrolled": true,
    "tags": []
   },
   "outputs": [],
   "source": [
    "df = pd.read_csv('https://www.data.gouv.fr/fr/datasets/r/8571acc8-2f51-4d7e-9d87-bd5b8ec210e5', dtype='string')\n",
    "\n",
    "# Adresse ressources sur datagouv\n",
    "# -> https://www.data.gouv.fr/fr/datasets/une-vie-de-siren-au-boamp-ville-de-paris-217500016/#/resources"
   ]
  },
  {
   "cell_type": "markdown",
   "id": "8883c693",
   "metadata": {
    "papermill": {
     "duration": 0.003428,
     "end_time": "2024-10-19T09:39:44.362492",
     "exception": false,
     "start_time": "2024-10-19T09:39:44.359064",
     "status": "completed"
    },
    "tags": []
   },
   "source": [
    "# Sélection de la colonne B_09_dateParution"
   ]
  },
  {
   "cell_type": "code",
   "execution_count": 3,
   "id": "c20131e9",
   "metadata": {
    "execution": {
     "iopub.execute_input": "2024-10-19T09:39:44.371770Z",
     "iopub.status.busy": "2024-10-19T09:39:44.371286Z",
     "iopub.status.idle": "2024-10-19T09:39:44.387093Z",
     "shell.execute_reply": "2024-10-19T09:39:44.385865Z"
    },
    "papermill": {
     "duration": 0.023515,
     "end_time": "2024-10-19T09:39:44.389656",
     "exception": false,
     "start_time": "2024-10-19T09:39:44.366141",
     "status": "completed"
    },
    "tags": []
   },
   "outputs": [],
   "source": [
    "df_ = df.loc[:, ['B_09_dateParution']].copy()"
   ]
  },
  {
   "cell_type": "markdown",
   "id": "1cbca041",
   "metadata": {
    "papermill": {
     "duration": 0.003552,
     "end_time": "2024-10-19T09:39:44.397051",
     "exception": false,
     "start_time": "2024-10-19T09:39:44.393499",
     "status": "completed"
    },
    "tags": []
   },
   "source": [
    "# Lecture des dernières lignes"
   ]
  },
  {
   "cell_type": "code",
   "execution_count": 4,
   "id": "b9eafedc",
   "metadata": {
    "execution": {
     "iopub.execute_input": "2024-10-19T09:39:44.406136Z",
     "iopub.status.busy": "2024-10-19T09:39:44.405702Z",
     "iopub.status.idle": "2024-10-19T09:39:44.424737Z",
     "shell.execute_reply": "2024-10-19T09:39:44.423531Z"
    },
    "papermill": {
     "duration": 0.026715,
     "end_time": "2024-10-19T09:39:44.427459",
     "exception": false,
     "start_time": "2024-10-19T09:39:44.400744",
     "status": "completed"
    },
    "tags": []
   },
   "outputs": [
    {
     "data": {
      "text/html": [
       "<div>\n",
       "<style scoped>\n",
       "    .dataframe tbody tr th:only-of-type {\n",
       "        vertical-align: middle;\n",
       "    }\n",
       "\n",
       "    .dataframe tbody tr th {\n",
       "        vertical-align: top;\n",
       "    }\n",
       "\n",
       "    .dataframe thead th {\n",
       "        text-align: right;\n",
       "    }\n",
       "</style>\n",
       "<table border=\"1\" class=\"dataframe\">\n",
       "  <thead>\n",
       "    <tr style=\"text-align: right;\">\n",
       "      <th></th>\n",
       "      <th>B_09_dateParution</th>\n",
       "    </tr>\n",
       "  </thead>\n",
       "  <tbody>\n",
       "    <tr>\n",
       "      <th>753</th>\n",
       "      <td>2024-01-04</td>\n",
       "    </tr>\n",
       "    <tr>\n",
       "      <th>754</th>\n",
       "      <td>2024-01-04</td>\n",
       "    </tr>\n",
       "    <tr>\n",
       "      <th>755</th>\n",
       "      <td>2024-01-04</td>\n",
       "    </tr>\n",
       "    <tr>\n",
       "      <th>756</th>\n",
       "      <td>2024-01-03</td>\n",
       "    </tr>\n",
       "    <tr>\n",
       "      <th>757</th>\n",
       "      <td>2024-01-03</td>\n",
       "    </tr>\n",
       "  </tbody>\n",
       "</table>\n",
       "</div>"
      ],
      "text/plain": [
       "    B_09_dateParution\n",
       "753        2024-01-04\n",
       "754        2024-01-04\n",
       "755        2024-01-04\n",
       "756        2024-01-03\n",
       "757        2024-01-03"
      ]
     },
     "execution_count": 4,
     "metadata": {},
     "output_type": "execute_result"
    }
   ],
   "source": [
    "df_.loc[df_.B_09_dateParution.notna(),:].tail()"
   ]
  }
 ],
 "metadata": {
  "kaggle": {
   "accelerator": "none",
   "dataSources": [],
   "isGpuEnabled": false,
   "isInternetEnabled": true,
   "language": "python",
   "sourceType": "notebook"
  },
  "kernelspec": {
   "display_name": "Python 3 (ipykernel)",
   "language": "python",
   "name": "python3"
  },
  "language_info": {
   "codemirror_mode": {
    "name": "ipython",
    "version": 3
   },
   "file_extension": ".py",
   "mimetype": "text/x-python",
   "name": "python",
   "nbconvert_exporter": "python",
   "pygments_lexer": "ipython3",
   "version": "3.10.14"
  },
  "papermill": {
   "default_parameters": {},
   "duration": 7.282123,
   "end_time": "2024-10-19T09:39:44.953260",
   "environment_variables": {},
   "exception": null,
   "input_path": "__notebook__.ipynb",
   "output_path": "__notebook__.ipynb",
   "parameters": {},
   "start_time": "2024-10-19T09:39:37.671137",
   "version": "2.6.0"
  },
  "widgets": {
   "application/vnd.jupyter.widget-state+json": {
    "state": {},
    "version_major": 2,
    "version_minor": 0
   }
  }
 },
 "nbformat": 4,
 "nbformat_minor": 5
}
