{
 "cells": [
  {
   "cell_type": "markdown",
   "id": "35bcd2ba",
   "metadata": {
    "_cell_guid": "b1076dfc-b9ad-4769-8c92-a6c4dae69d19",
    "_uuid": "8f2839f25d086af736a60e9eeb907d3b93b6e0e5",
    "execution": {
     "iopub.execute_input": "2024-10-20T07:38:20.425101Z",
     "iopub.status.busy": "2024-10-20T07:38:20.424200Z",
     "iopub.status.idle": "2024-10-20T07:38:20.465237Z",
     "shell.execute_reply": "2024-10-20T07:38:20.463887Z",
     "shell.execute_reply.started": "2024-10-20T07:38:20.425057Z"
    },
    "papermill": {
     "duration": 0.002207,
     "end_time": "2024-10-20T07:40:20.913753",
     "exception": false,
     "start_time": "2024-10-20T07:40:20.911546",
     "status": "completed"
    },
    "tags": []
   },
   "source": [
    "### Section 1: Getting Started \n",
    "\n",
    "[1: Getting Started](https://www.kaggle.com/hamelg/python-for-data-1-getting-started) <br>\n",
    "[2: Python Arithmetic](https://www.kaggle.com/hamelg/python-for-data-2-python-arithmetic) <br>\n",
    "[3: Basic Data Types](https://www.kaggle.com/hamelg/python-for-data-3-basic-data-types) <br>\n",
    "\n",
    "### Section 2: Data Structures\n",
    "\n",
    "[4: Variables](https://www.kaggle.com/hamelg/python-for-data-4-variables) <br>\n",
    "[5: Lists](https://www.kaggle.com/hamelg/python-for-data-5-lists)<br>\n",
    "[6: Tuples and Strings](https://www.kaggle.com/hamelg/python-for-data-6-tuples-and-strings)<br>\n",
    "[7: Dictionaries and Sets](https://www.kaggle.com/hamelg/python-for-data-7-dictionaries-and-sets)<br>\n",
    "[8: Numpy Arrays](https://www.kaggle.com/hamelg/python-for-data-8-numpy-arrays)<br>\n",
    "[9: Pandas DataFrames](https://www.kaggle.com/hamelg/python-for-data-9-pandas-dataframes)<br>\n",
    "[10: Reading and Writing Data](https://www.kaggle.com/hamelg/python-for-data-10-reading-and-writing-data)<br>\n",
    "\n",
    "### Section 3: Programming Constructs\n",
    "\n",
    "[11: Control Flow](https://www.kaggle.com/hamelg/python-for-data-11-control-flow)<br>\n",
    "[12: Functions](https://www.kaggle.com/hamelg/python-for-data-12-functions)<br>\n",
    "[13: List Comprehensions](https://www.kaggle.com/hamelg/python-for-data-13-list-comprehensions)<br>\n",
    "\n",
    "### Section 4: Data Exploration and Cleaning\n",
    "\n",
    "[14: Data Exploration and Cleaning](https://www.kaggle.com/hamelg/python-for-data-14-data-exploration-and-cleaning)<br>\n",
    "[15: Working With Text Data](https://www.kaggle.com/hamelg/python-for-data-15-working-with-text-data)<br>\n",
    "[16: Preparing Numeric Data](https://www.kaggle.com/hamelg/python-for-data-16-preparing-numeric-data)<br>\n",
    "[17: Dealing With Dates](https://www.kaggle.com/hamelg/python-for-data-17-dealing-with-dates)<br>\n",
    "[18: Merging Data](https://www.kaggle.com/hamelg/python-for-data-18-merging-data)<br>\n",
    "[19: Frequency Tables](https://www.kaggle.com/hamelg/python-for-data-19-frequency-tables)<br>\n",
    "[20: Plotting with pandas](https://www.kaggle.com/hamelg/python-for-data-20-plotting-with-pandas)<br>\n",
    "\n",
    "### Section 5: Basic Statistics\n",
    "\n",
    "[21: Descriptive Statistics](https://www.kaggle.com/hamelg/python-for-data-21-descriptive-statistics)<br>\n",
    "[22: Probability Distributions](https://www.kaggle.com/hamelg/python-for-data-22-probability-distributions)<br>\n",
    "[23: Confidence Intervals](https://www.kaggle.com/hamelg/python-for-data-23-confidence-intervals)<br>\n",
    "\n",
    "### Section 6: Inferential Statistics\n",
    "\n",
    "[24: Hypothesis Testing](https://www.kaggle.com/hamelg/python-for-data-24-hypothesis-testing)<br>\n",
    "[25: Chi-Squared Tests](https://www.kaggle.com/hamelg/python-for-data-25-chi-squared-tests)<br>\n",
    "[26: ANOVA](https://www.kaggle.com/hamelg/python-for-data-26-ANOVA)<br>\n",
    "\n",
    "### Section 7: Predictive Modeling\n",
    "\n",
    "[27: Linear Regression](https://www.kaggle.com/hamelg/python-for-data-27-linear-regression)<br>\n",
    "[28: Logistic Regression](https://www.kaggle.com/hamelg/python-for-data-28-logistic-regression)<br>\n",
    "[29: Decision Trees](https://www.kaggle.com/hamelg/python-for-data-29-decision-trees)<br>\n",
    "[30: Random Forests](https://www.kaggle.com/hamelg/python-for-data-30-random-forests)<br>"
   ]
  }
 ],
 "metadata": {
  "kaggle": {
   "accelerator": "none",
   "dataSources": [],
   "dockerImageVersionId": 30786,
   "isGpuEnabled": false,
   "isInternetEnabled": true,
   "language": "python",
   "sourceType": "notebook"
  },
  "kernelspec": {
   "display_name": "Python 3",
   "language": "python",
   "name": "python3"
  },
  "language_info": {
   "codemirror_mode": {
    "name": "ipython",
    "version": 3
   },
   "file_extension": ".py",
   "mimetype": "text/x-python",
   "name": "python",
   "nbconvert_exporter": "python",
   "pygments_lexer": "ipython3",
   "version": "3.10.14"
  },
  "papermill": {
   "default_parameters": {},
   "duration": 3.561558,
   "end_time": "2024-10-20T07:40:21.336200",
   "environment_variables": {},
   "exception": null,
   "input_path": "__notebook__.ipynb",
   "output_path": "__notebook__.ipynb",
   "parameters": {},
   "start_time": "2024-10-20T07:40:17.774642",
   "version": "2.6.0"
  }
 },
 "nbformat": 4,
 "nbformat_minor": 5
}
