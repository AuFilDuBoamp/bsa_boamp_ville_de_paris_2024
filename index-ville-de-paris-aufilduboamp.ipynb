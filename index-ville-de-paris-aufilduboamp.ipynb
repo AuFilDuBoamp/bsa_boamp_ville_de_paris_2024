{
 "cells": [
  {
   "cell_type": "markdown",
   "id": "1ca89b4d",
   "metadata": {
    "_cell_guid": "b1076dfc-b9ad-4769-8c92-a6c4dae69d19",
    "_uuid": "8f2839f25d086af736a60e9eeb907d3b93b6e0e5",
    "execution": {
     "iopub.execute_input": "2024-10-20T07:38:20.425101Z",
     "iopub.status.busy": "2024-10-20T07:38:20.424200Z",
     "iopub.status.idle": "2024-10-20T07:38:20.465237Z",
     "shell.execute_reply": "2024-10-20T07:38:20.463887Z",
     "shell.execute_reply.started": "2024-10-20T07:38:20.425057Z"
    },
    "papermill": {
     "duration": 0.002441,
     "end_time": "2024-10-20T08:13:00.062647",
     "exception": false,
     "start_time": "2024-10-20T08:13:00.060206",
     "status": "completed"
    },
    "tags": []
   },
   "source": [
    "### INDEX\n",
    "[B_01_annonceLie](https://www.kaggle.com/code/aufilduboamp/b-01-annoncelie)<br>\n",
    "[B_02_annonceReferenceSchemaV110](https://www.kaggle.com/code/aufilduboamp/b-02-annoncereferenceschemav110)<br>\n",
    "[B_03_annoncesAnterieuresSchemaV110](https://www.kaggle.com/code/aufilduboamp/b-03-annoncesanterieuresschemav110)<br>\n",
    "[B_04_codeDepartement](https://www.kaggle.com/code/aufilduboamp/b-04-codedepartement)<br>\n",
    "[B_05_codeDepartementPrestation](https://www.kaggle.com/code/aufilduboamp/b-05-codedepartementprestation)<br>\n",
    "[B_06_criteres](https://www.kaggle.com/code/aufilduboamp/b-06-criteres)<br>\n",
    "[B_07_dateFinDiffusion](https://www.kaggle.com/code/aufilduboamp/b-07-datefindiffusion)<br>\n",
    "[B_08_dateLimiteReponse](https://www.kaggle.com/code/aufilduboamp/b-08-datelimitereponse)<br>\n",
    "[B_09_dateParution](https://www.kaggle.com/code/aufilduboamp/b-09-dateparution)<br>\n",
    "[B_10_dc](https://www.kaggle.com/code/aufilduboamp/b-10-dc)<br>\n",
    "[B_11_descripteurCode](https://www.kaggle.com/code/aufilduboamp/b-11-descripteurcode)<br>\n",
    "[B_12_descripteurLibelle](https://www.kaggle.com/code/aufilduboamp/b-12-descripteurlibelle) <br>\n",
    "[B_13_etat](https://www.kaggle.com/code/aufilduboamp/b-13-etat)<br>\n",
    "[B_14_famille](https://www.kaggle.com/code/aufilduboamp/b-14-famille)<br>\n",
    "[B_15_familleLibelle](https://www.kaggle.com/code/aufilduboamp/b-15-famillelibelle)<br>\n",
    "[B_16_filename](https://www.kaggle.com/code/aufilduboamp/b-16-filename)<br>\n",
    "[B_17_idweb](https://www.kaggle.com/code/aufilduboamp/b-17-idweb)<br>\n",
    "[B_18_marchePublicSimplifie](https://www.kaggle.com/code/aufilduboamp/b-18-marchepublicsimplifie)<br>\n",
    "[B_19_marchePublicSimplifieLabel](https://www.kaggle.com/code/aufilduboamp/b-19-marchepublicsimplifielabel)<br>\n",
    "[B_20_nature](https://www.kaggle.com/code/aufilduboamp/b-20-nature)<br>\n",
    "[B_21_natureCategorise](https://www.kaggle.com/code/aufilduboamp/b-21-naturecategorise)<br>\n",
    "[B_22_natureCategoriseLibelle](https://www.kaggle.com/code/aufilduboamp/b-22-naturecategoriselibelle)<br>\n",
    "[B_23_natureLibelle](https://www.kaggle.com/code/aufilduboamp/b-23-naturelibelle)<br>\n",
    "[B_24_nomAcheteur](https://www.kaggle.com/code/aufilduboamp/b-24-nomacheteur)<br>\n",
    "[B_25_objet](https://www.kaggle.com/code/aufilduboamp/b-25-objet)<br>\n",
    "[B_26_perimetre](https://www.kaggle.com/code/aufilduboamp/b-26-perimetre)<br>\n",
    "[B_27_procedureCategorise](https://www.kaggle.com/code/aufilduboamp/b-27-procedurecategorise)<br>\n",
    "[B_28_procedureLibelle](https://www.kaggle.com/code/aufilduboamp/b-28-procedurelibelle)<br>\n",
    "[B_29_sourceSchema](https://www.kaggle.com/code/aufilduboamp/b-29-sourceschema)<br>\n",
    "[B_30_sousNature](https://www.kaggle.com/code/aufilduboamp/b-30-sousnature)<br>\n",
    "[B_31_sousNatureLibelle](https://www.kaggle.com/code/aufilduboamp/b-31-sousnaturelibelle)<br>\n",
    "[B_32_sousTypeProcedure](https://www.kaggle.com/code/aufilduboamp/b-32-soustypeprocedure)<br>\n",
    "[B_33_titulaire](https://www.kaggle.com/code/aufilduboamp/b-33-titulaire)<br>\n",
    "[B_34_typeAvis](https://www.kaggle.com/code/aufilduboamp/b-34-typeavis)<br>\n",
    "[B_35_typeMarche](https://www.kaggle.com/code/aufilduboamp/b-35-typemarche) <br>\n",
    "[B_36_typeMarcheFacette](https://www.kaggle.com/code/aufilduboamp/b-36-typemarchefacette)<br>\n",
    "[B_37_typeProcedure](https://www.kaggle.com/code/aufilduboamp/b-37-typeprocedure)<br>\n",
    "[B_38_urlAvis](https://www.kaggle.com/code/aufilduboamp/b-38-urlavis)<br>\n",
    "[B_39_id](https://www.kaggle.com/code/aufilduboamp/b-39-id)<br>\n",
    "[B_40_GESTION](https://www.kaggle.com/code/aufilduboamp/b-40-gestion)<br>\n",
    "[B_41_GESTION_URL_JSON](https://www.kaggle.com/code/aufilduboamp/b-41-gestion-url-json)<br>\n",
    "[B_42_DONNEES](https://www.kaggle.com/code/aufilduboamp/b-42-donnees)<br>\n",
    "[B_43_DONNEES_URL_JSON](https://www.kaggle.com/code/aufilduboamp/b-43-donnees-url-json)<br>\n",
    "[B_44_ANNONCES_ANTERIEURES](https://www.kaggle.com/code/aufilduboamp/b-44-annonces-anterieures)<br>\n",
    "[B_45_ANNONCES_ANTERIEURES_URL_JSON](https://www.kaggle.com/code/aufilduboamp/b-45-annonces-anterieures-url-json)<br>\n",
    "[B_46_NUM_SIRET_ACHETEURS_RECUP](https://www.kaggle.com/code/aufilduboamp/b-46-num-siret-acheteurs-recup)<br>\n",
    "[B_47_NOM_SIRET_ACHETEURS_RECUP](https://www.kaggle.com/code/aufilduboamp/b-47-nom-siret-acheteurs-recup)<br>\n",
    "[B_48_NOM_CAT_JUR_ACHETEUR](https://www.kaggle.com/code/aufilduboamp/b-48-nom-cat-jur-acheteur)<br>\n",
    "\n",
    "\n",
    "\n",
    "\n",
    "\n",
    "\n",
    "\n",
    "\n"
   ]
  }
 ],
 "metadata": {
  "kaggle": {
   "accelerator": "none",
   "dataSources": [],
   "dockerImageVersionId": 30786,
   "isGpuEnabled": false,
   "isInternetEnabled": true,
   "language": "python",
   "sourceType": "notebook"
  },
  "kernelspec": {
   "display_name": "Python 3",
   "language": "python",
   "name": "python3"
  },
  "language_info": {
   "codemirror_mode": {
    "name": "ipython",
    "version": 3
   },
   "file_extension": ".py",
   "mimetype": "text/x-python",
   "name": "python",
   "nbconvert_exporter": "python",
   "pygments_lexer": "ipython3",
   "version": "3.10.14"
  },
  "papermill": {
   "default_parameters": {},
   "duration": 6.532874,
   "end_time": "2024-10-20T08:13:03.402172",
   "environment_variables": {},
   "exception": null,
   "input_path": "__notebook__.ipynb",
   "output_path": "__notebook__.ipynb",
   "parameters": {},
   "start_time": "2024-10-20T08:12:56.869298",
   "version": "2.6.0"
  }
 },
 "nbformat": 4,
 "nbformat_minor": 5
}
