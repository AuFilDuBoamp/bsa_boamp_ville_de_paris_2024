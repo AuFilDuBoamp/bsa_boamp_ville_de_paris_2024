{
 "cells": [
  {
   "cell_type": "markdown",
   "id": "06fab8ca",
   "metadata": {
    "papermill": {
     "duration": 0.003604,
     "end_time": "2024-10-20T08:50:02.068278",
     "exception": false,
     "start_time": "2024-10-20T08:50:02.064674",
     "status": "completed"
    },
    "tags": []
   },
   "source": [
    "# Colonne «B_33_titulaire» (Initialisation)"
   ]
  },
  {
   "cell_type": "markdown",
   "id": "e47e9fe8",
   "metadata": {
    "papermill": {
     "duration": 0.002893,
     "end_time": "2024-10-20T08:50:02.074938",
     "exception": false,
     "start_time": "2024-10-20T08:50:02.072045",
     "status": "completed"
    },
    "tags": []
   },
   "source": [
    "|NAVIGATION (travaux sur les annonces BOAMP de la Ville de Paris en 2024)|\n",
    "|---|\n",
    "|[Retour à l'INDEX (kaggle)](https://www.kaggle.com/code/aufilduboamp/index-ville-de-paris-aufilduboamp)|\n",
    "|[Rubrique AuFilDuBoamp.com](https://www.aufilduboamp.com/rubrique92.html)|\n",
    "|[Dépôt GitHub](https://github.com/AuFilDuBoamp/bsa_boamp_ville_de_paris_2024/tree/main)|\n",
    "|[Dépôt DataGouv](https://www.data.gouv.fr/fr/datasets/une-vie-de-siren-au-boamp-ville-de-paris-217500016/#/resources)|"
   ]
  },
  {
   "cell_type": "markdown",
   "id": "d4782f61",
   "metadata": {
    "papermill": {
     "duration": 0.00258,
     "end_time": "2024-10-20T08:50:02.080401",
     "exception": false,
     "start_time": "2024-10-20T08:50:02.077821",
     "status": "completed"
    },
    "tags": []
   },
   "source": [
    "# Import(s) et réglages"
   ]
  },
  {
   "cell_type": "code",
   "execution_count": 1,
   "id": "20702eab",
   "metadata": {
    "execution": {
     "iopub.execute_input": "2024-10-20T08:50:02.088528Z",
     "iopub.status.busy": "2024-10-20T08:50:02.087995Z",
     "iopub.status.idle": "2024-10-20T08:50:03.083632Z",
     "shell.execute_reply": "2024-10-20T08:50:03.082545Z"
    },
    "papermill": {
     "duration": 1.003269,
     "end_time": "2024-10-20T08:50:03.086458",
     "exception": false,
     "start_time": "2024-10-20T08:50:02.083189",
     "status": "completed"
    },
    "tags": []
   },
   "outputs": [],
   "source": [
    "# import\n",
    "import pandas as pd\n",
    "#réglages\n",
    "pd.set_option('display.max_colwidth', 500)\n",
    "pd.set_option('display.max_columns', 200)\n",
    "pd.set_option('display.max_rows', 200)"
   ]
  },
  {
   "cell_type": "markdown",
   "id": "49bc844a",
   "metadata": {
    "papermill": {
     "duration": 0.002589,
     "end_time": "2024-10-20T08:50:03.092132",
     "exception": false,
     "start_time": "2024-10-20T08:50:03.089543",
     "status": "completed"
    },
    "tags": []
   },
   "source": [
    "# Téléchargement des annonces de la Ville de Paris sur Datagouv"
   ]
  },
  {
   "cell_type": "code",
   "execution_count": 2,
   "id": "70f40d2b",
   "metadata": {
    "execution": {
     "iopub.execute_input": "2024-10-20T08:50:03.099661Z",
     "iopub.status.busy": "2024-10-20T08:50:03.099109Z",
     "iopub.status.idle": "2024-10-20T08:50:07.387554Z",
     "shell.execute_reply": "2024-10-20T08:50:07.386449Z"
    },
    "papermill": {
     "duration": 4.295592,
     "end_time": "2024-10-20T08:50:07.390528",
     "exception": false,
     "start_time": "2024-10-20T08:50:03.094936",
     "status": "completed"
    },
    "scrolled": true,
    "tags": []
   },
   "outputs": [],
   "source": [
    "df = pd.read_csv('https://www.data.gouv.fr/fr/datasets/r/8571acc8-2f51-4d7e-9d87-bd5b8ec210e5', dtype='string')\n",
    "\n",
    "# Adresse ressources sur datagouv\n",
    "# -> https://www.data.gouv.fr/fr/datasets/une-vie-de-siren-au-boamp-ville-de-paris-217500016/#/resources"
   ]
  },
  {
   "cell_type": "markdown",
   "id": "949783e9",
   "metadata": {
    "papermill": {
     "duration": 0.00298,
     "end_time": "2024-10-20T08:50:07.397126",
     "exception": false,
     "start_time": "2024-10-20T08:50:07.394146",
     "status": "completed"
    },
    "tags": []
   },
   "source": [
    "# Sélection de la colonne B_33_titulaire"
   ]
  },
  {
   "cell_type": "code",
   "execution_count": 3,
   "id": "ce911224",
   "metadata": {
    "execution": {
     "iopub.execute_input": "2024-10-20T08:50:07.407462Z",
     "iopub.status.busy": "2024-10-20T08:50:07.407045Z",
     "iopub.status.idle": "2024-10-20T08:50:07.422550Z",
     "shell.execute_reply": "2024-10-20T08:50:07.421428Z"
    },
    "papermill": {
     "duration": 0.022883,
     "end_time": "2024-10-20T08:50:07.425171",
     "exception": false,
     "start_time": "2024-10-20T08:50:07.402288",
     "status": "completed"
    },
    "tags": []
   },
   "outputs": [],
   "source": [
    "df_ = df.loc[:, ['B_33_titulaire']].copy()"
   ]
  },
  {
   "cell_type": "markdown",
   "id": "bea36ded",
   "metadata": {
    "papermill": {
     "duration": 0.002653,
     "end_time": "2024-10-20T08:50:07.430867",
     "exception": false,
     "start_time": "2024-10-20T08:50:07.428214",
     "status": "completed"
    },
    "tags": []
   },
   "source": [
    "# Lecture des dernières lignes"
   ]
  },
  {
   "cell_type": "code",
   "execution_count": 4,
   "id": "bcff80bb",
   "metadata": {
    "execution": {
     "iopub.execute_input": "2024-10-20T08:50:07.438435Z",
     "iopub.status.busy": "2024-10-20T08:50:07.438000Z",
     "iopub.status.idle": "2024-10-20T08:50:07.456085Z",
     "shell.execute_reply": "2024-10-20T08:50:07.454903Z"
    },
    "papermill": {
     "duration": 0.024848,
     "end_time": "2024-10-20T08:50:07.458469",
     "exception": false,
     "start_time": "2024-10-20T08:50:07.433621",
     "status": "completed"
    },
    "tags": []
   },
   "outputs": [
    {
     "data": {
      "text/html": [
       "<div>\n",
       "<style scoped>\n",
       "    .dataframe tbody tr th:only-of-type {\n",
       "        vertical-align: middle;\n",
       "    }\n",
       "\n",
       "    .dataframe tbody tr th {\n",
       "        vertical-align: top;\n",
       "    }\n",
       "\n",
       "    .dataframe thead th {\n",
       "        text-align: right;\n",
       "    }\n",
       "</style>\n",
       "<table border=\"1\" class=\"dataframe\">\n",
       "  <thead>\n",
       "    <tr style=\"text-align: right;\">\n",
       "      <th></th>\n",
       "      <th>B_33_titulaire</th>\n",
       "    </tr>\n",
       "  </thead>\n",
       "  <tbody>\n",
       "    <tr>\n",
       "      <th>743</th>\n",
       "      <td>Société publique locale funéraire de Paris</td>\n",
       "    </tr>\n",
       "    <tr>\n",
       "      <th>747</th>\n",
       "      <td>Association CASP,Association CASP,Association Droits d'Urgence,Association CASP,Association Droits d'Urgence</td>\n",
       "    </tr>\n",
       "    <tr>\n",
       "      <th>749</th>\n",
       "      <td>SOLIHA GRAND PARIS</td>\n",
       "    </tr>\n",
       "    <tr>\n",
       "      <th>753</th>\n",
       "      <td>ARCHE MC2,ARCHE MC2,ARCHE MC2</td>\n",
       "    </tr>\n",
       "    <tr>\n",
       "      <th>755</th>\n",
       "      <td>HYDIAC SARL</td>\n",
       "    </tr>\n",
       "  </tbody>\n",
       "</table>\n",
       "</div>"
      ],
      "text/plain": [
       "                                                                                                   B_33_titulaire\n",
       "743                                                                    Société publique locale funéraire de Paris\n",
       "747  Association CASP,Association CASP,Association Droits d'Urgence,Association CASP,Association Droits d'Urgence\n",
       "749                                                                                            SOLIHA GRAND PARIS\n",
       "753                                                                                 ARCHE MC2,ARCHE MC2,ARCHE MC2\n",
       "755                                                                                                   HYDIAC SARL"
      ]
     },
     "execution_count": 4,
     "metadata": {},
     "output_type": "execute_result"
    }
   ],
   "source": [
    "df_.loc[df_.B_33_titulaire.notna(),:].tail()"
   ]
  }
 ],
 "metadata": {
  "kaggle": {
   "accelerator": "none",
   "dataSources": [],
   "dockerImageVersionId": 30786,
   "isGpuEnabled": false,
   "isInternetEnabled": true,
   "language": "python",
   "sourceType": "notebook"
  },
  "kernelspec": {
   "display_name": "Python 3 (ipykernel)",
   "language": "python",
   "name": "python3"
  },
  "language_info": {
   "codemirror_mode": {
    "name": "ipython",
    "version": 3
   },
   "file_extension": ".py",
   "mimetype": "text/x-python",
   "name": "python",
   "nbconvert_exporter": "python",
   "pygments_lexer": "ipython3",
   "version": "3.10.14"
  },
  "papermill": {
   "default_parameters": {},
   "duration": 8.870911,
   "end_time": "2024-10-20T08:50:07.982821",
   "environment_variables": {},
   "exception": null,
   "input_path": "__notebook__.ipynb",
   "output_path": "__notebook__.ipynb",
   "parameters": {},
   "start_time": "2024-10-20T08:49:59.111910",
   "version": "2.6.0"
  },
  "widgets": {
   "application/vnd.jupyter.widget-state+json": {
    "state": {},
    "version_major": 2,
    "version_minor": 0
   }
  }
 },
 "nbformat": 4,
 "nbformat_minor": 5
}
