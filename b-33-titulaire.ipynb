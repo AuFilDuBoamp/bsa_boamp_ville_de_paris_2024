{
 "cells": [
  {
   "cell_type": "markdown",
   "id": "feaa1c0f",
   "metadata": {
    "papermill": {
     "duration": 0.004913,
     "end_time": "2024-10-19T09:31:57.436842",
     "exception": false,
     "start_time": "2024-10-19T09:31:57.431929",
     "status": "completed"
    },
    "tags": []
   },
   "source": [
    "# Colonne «B_33_titulaire» (Initialisation)"
   ]
  },
  {
   "cell_type": "markdown",
   "id": "f04be8d6",
   "metadata": {
    "papermill": {
     "duration": 0.003355,
     "end_time": "2024-10-19T09:31:57.444260",
     "exception": false,
     "start_time": "2024-10-19T09:31:57.440905",
     "status": "completed"
    },
    "tags": []
   },
   "source": [
    "# Intro"
   ]
  },
  {
   "cell_type": "markdown",
   "id": "7b17c403",
   "metadata": {
    "papermill": {
     "duration": 0.00325,
     "end_time": "2024-10-19T09:31:57.451214",
     "exception": false,
     "start_time": "2024-10-19T09:31:57.447964",
     "status": "completed"
    },
    "tags": []
   },
   "source": [
    "# Import(s) et réglages"
   ]
  },
  {
   "cell_type": "code",
   "execution_count": 1,
   "id": "ee620198",
   "metadata": {
    "execution": {
     "iopub.execute_input": "2024-10-19T09:31:57.460788Z",
     "iopub.status.busy": "2024-10-19T09:31:57.460306Z",
     "iopub.status.idle": "2024-10-19T09:31:58.755630Z",
     "shell.execute_reply": "2024-10-19T09:31:58.754279Z"
    },
    "papermill": {
     "duration": 1.303549,
     "end_time": "2024-10-19T09:31:58.758548",
     "exception": false,
     "start_time": "2024-10-19T09:31:57.454999",
     "status": "completed"
    },
    "tags": []
   },
   "outputs": [],
   "source": [
    "# import\n",
    "import pandas as pd\n",
    "#réglages\n",
    "pd.set_option('display.max_colwidth', 500)\n",
    "pd.set_option('display.max_columns', 200)\n",
    "pd.set_option('display.max_rows', 200)"
   ]
  },
  {
   "cell_type": "markdown",
   "id": "0ddd08e1",
   "metadata": {
    "papermill": {
     "duration": 0.003524,
     "end_time": "2024-10-19T09:31:58.766183",
     "exception": false,
     "start_time": "2024-10-19T09:31:58.762659",
     "status": "completed"
    },
    "tags": []
   },
   "source": [
    "# Téléchargement des annonces de la Ville de Paris sur Datagouv"
   ]
  },
  {
   "cell_type": "code",
   "execution_count": 2,
   "id": "8632beb3",
   "metadata": {
    "execution": {
     "iopub.execute_input": "2024-10-19T09:31:58.776169Z",
     "iopub.status.busy": "2024-10-19T09:31:58.775540Z",
     "iopub.status.idle": "2024-10-19T09:32:00.530056Z",
     "shell.execute_reply": "2024-10-19T09:32:00.528719Z"
    },
    "papermill": {
     "duration": 1.762825,
     "end_time": "2024-10-19T09:32:00.533149",
     "exception": false,
     "start_time": "2024-10-19T09:31:58.770324",
     "status": "completed"
    },
    "scrolled": true,
    "tags": []
   },
   "outputs": [],
   "source": [
    "df = pd.read_csv('https://www.data.gouv.fr/fr/datasets/r/8571acc8-2f51-4d7e-9d87-bd5b8ec210e5', dtype='string')\n",
    "\n",
    "# Adresse ressources sur datagouv\n",
    "# -> https://www.data.gouv.fr/fr/datasets/une-vie-de-siren-au-boamp-ville-de-paris-217500016/#/resources"
   ]
  },
  {
   "cell_type": "markdown",
   "id": "a12862e0",
   "metadata": {
    "papermill": {
     "duration": 0.003463,
     "end_time": "2024-10-19T09:32:00.540508",
     "exception": false,
     "start_time": "2024-10-19T09:32:00.537045",
     "status": "completed"
    },
    "tags": []
   },
   "source": [
    "# Sélection de la colonne B_33_titulaire"
   ]
  },
  {
   "cell_type": "code",
   "execution_count": 3,
   "id": "702d7580",
   "metadata": {
    "execution": {
     "iopub.execute_input": "2024-10-19T09:32:00.550760Z",
     "iopub.status.busy": "2024-10-19T09:32:00.550257Z",
     "iopub.status.idle": "2024-10-19T09:32:00.571546Z",
     "shell.execute_reply": "2024-10-19T09:32:00.569996Z"
    },
    "papermill": {
     "duration": 0.030276,
     "end_time": "2024-10-19T09:32:00.574539",
     "exception": false,
     "start_time": "2024-10-19T09:32:00.544263",
     "status": "completed"
    },
    "tags": []
   },
   "outputs": [],
   "source": [
    "df_ = df.loc[:, ['B_33_titulaire']].copy()"
   ]
  },
  {
   "cell_type": "markdown",
   "id": "fc9c23fa",
   "metadata": {
    "papermill": {
     "duration": 0.003776,
     "end_time": "2024-10-19T09:32:00.583137",
     "exception": false,
     "start_time": "2024-10-19T09:32:00.579361",
     "status": "completed"
    },
    "tags": []
   },
   "source": [
    "# Lecture des dernières lignes"
   ]
  },
  {
   "cell_type": "code",
   "execution_count": 4,
   "id": "f5b03675",
   "metadata": {
    "execution": {
     "iopub.execute_input": "2024-10-19T09:32:00.592792Z",
     "iopub.status.busy": "2024-10-19T09:32:00.592314Z",
     "iopub.status.idle": "2024-10-19T09:32:00.613049Z",
     "shell.execute_reply": "2024-10-19T09:32:00.611764Z"
    },
    "papermill": {
     "duration": 0.029065,
     "end_time": "2024-10-19T09:32:00.616018",
     "exception": false,
     "start_time": "2024-10-19T09:32:00.586953",
     "status": "completed"
    },
    "tags": []
   },
   "outputs": [
    {
     "data": {
      "text/html": [
       "<div>\n",
       "<style scoped>\n",
       "    .dataframe tbody tr th:only-of-type {\n",
       "        vertical-align: middle;\n",
       "    }\n",
       "\n",
       "    .dataframe tbody tr th {\n",
       "        vertical-align: top;\n",
       "    }\n",
       "\n",
       "    .dataframe thead th {\n",
       "        text-align: right;\n",
       "    }\n",
       "</style>\n",
       "<table border=\"1\" class=\"dataframe\">\n",
       "  <thead>\n",
       "    <tr style=\"text-align: right;\">\n",
       "      <th></th>\n",
       "      <th>B_33_titulaire</th>\n",
       "    </tr>\n",
       "  </thead>\n",
       "  <tbody>\n",
       "    <tr>\n",
       "      <th>743</th>\n",
       "      <td>Société publique locale funéraire de Paris</td>\n",
       "    </tr>\n",
       "    <tr>\n",
       "      <th>747</th>\n",
       "      <td>Association CASP,Association CASP,Association Droits d'Urgence,Association CASP,Association Droits d'Urgence</td>\n",
       "    </tr>\n",
       "    <tr>\n",
       "      <th>748</th>\n",
       "      <td>SOLIHA GRAND PARIS</td>\n",
       "    </tr>\n",
       "    <tr>\n",
       "      <th>754</th>\n",
       "      <td>HYDIAC SARL</td>\n",
       "    </tr>\n",
       "    <tr>\n",
       "      <th>755</th>\n",
       "      <td>ARCHE MC2,ARCHE MC2,ARCHE MC2</td>\n",
       "    </tr>\n",
       "  </tbody>\n",
       "</table>\n",
       "</div>"
      ],
      "text/plain": [
       "                                                                                                   B_33_titulaire\n",
       "743                                                                    Société publique locale funéraire de Paris\n",
       "747  Association CASP,Association CASP,Association Droits d'Urgence,Association CASP,Association Droits d'Urgence\n",
       "748                                                                                            SOLIHA GRAND PARIS\n",
       "754                                                                                                   HYDIAC SARL\n",
       "755                                                                                 ARCHE MC2,ARCHE MC2,ARCHE MC2"
      ]
     },
     "execution_count": 4,
     "metadata": {},
     "output_type": "execute_result"
    }
   ],
   "source": [
    "df_.loc[df_.B_33_titulaire.notna(),:].tail()"
   ]
  }
 ],
 "metadata": {
  "kaggle": {
   "accelerator": "none",
   "dataSources": [],
   "isGpuEnabled": false,
   "isInternetEnabled": true,
   "language": "python",
   "sourceType": "notebook"
  },
  "kernelspec": {
   "display_name": "Python 3 (ipykernel)",
   "language": "python",
   "name": "python3"
  },
  "language_info": {
   "codemirror_mode": {
    "name": "ipython",
    "version": 3
   },
   "file_extension": ".py",
   "mimetype": "text/x-python",
   "name": "python",
   "nbconvert_exporter": "python",
   "pygments_lexer": "ipython3",
   "version": "3.10.14"
  },
  "papermill": {
   "default_parameters": {},
   "duration": 7.192924,
   "end_time": "2024-10-19T09:32:01.142706",
   "environment_variables": {},
   "exception": null,
   "input_path": "__notebook__.ipynb",
   "output_path": "__notebook__.ipynb",
   "parameters": {},
   "start_time": "2024-10-19T09:31:53.949782",
   "version": "2.6.0"
  },
  "widgets": {
   "application/vnd.jupyter.widget-state+json": {
    "state": {},
    "version_major": 2,
    "version_minor": 0
   }
  }
 },
 "nbformat": 4,
 "nbformat_minor": 5
}
