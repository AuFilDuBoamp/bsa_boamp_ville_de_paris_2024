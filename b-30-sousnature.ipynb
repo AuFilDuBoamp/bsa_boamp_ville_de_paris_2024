{
 "cells": [
  {
   "cell_type": "markdown",
   "id": "142799bf",
   "metadata": {
    "papermill": {
     "duration": 0.003145,
     "end_time": "2024-10-19T09:28:55.494924",
     "exception": false,
     "start_time": "2024-10-19T09:28:55.491779",
     "status": "completed"
    },
    "tags": []
   },
   "source": [
    "# Colonne «B_30_sousNature» (Initialisation)"
   ]
  },
  {
   "cell_type": "markdown",
   "id": "f3d9b2d4",
   "metadata": {
    "papermill": {
     "duration": 0.00233,
     "end_time": "2024-10-19T09:28:55.500167",
     "exception": false,
     "start_time": "2024-10-19T09:28:55.497837",
     "status": "completed"
    },
    "tags": []
   },
   "source": [
    "# Intro"
   ]
  },
  {
   "cell_type": "markdown",
   "id": "2399eabc",
   "metadata": {
    "papermill": {
     "duration": 0.002447,
     "end_time": "2024-10-19T09:28:55.505240",
     "exception": false,
     "start_time": "2024-10-19T09:28:55.502793",
     "status": "completed"
    },
    "tags": []
   },
   "source": [
    "# Import(s) et réglages"
   ]
  },
  {
   "cell_type": "code",
   "execution_count": 1,
   "id": "55f4e69d",
   "metadata": {
    "execution": {
     "iopub.execute_input": "2024-10-19T09:28:55.512300Z",
     "iopub.status.busy": "2024-10-19T09:28:55.511768Z",
     "iopub.status.idle": "2024-10-19T09:28:56.408859Z",
     "shell.execute_reply": "2024-10-19T09:28:56.407517Z"
    },
    "papermill": {
     "duration": 0.904297,
     "end_time": "2024-10-19T09:28:56.411999",
     "exception": false,
     "start_time": "2024-10-19T09:28:55.507702",
     "status": "completed"
    },
    "tags": []
   },
   "outputs": [],
   "source": [
    "# import\n",
    "import pandas as pd\n",
    "#réglages\n",
    "pd.set_option('display.max_colwidth', 500)\n",
    "pd.set_option('display.max_columns', 200)\n",
    "pd.set_option('display.max_rows', 200)"
   ]
  },
  {
   "cell_type": "markdown",
   "id": "834312cd",
   "metadata": {
    "papermill": {
     "duration": 0.002832,
     "end_time": "2024-10-19T09:28:56.418142",
     "exception": false,
     "start_time": "2024-10-19T09:28:56.415310",
     "status": "completed"
    },
    "tags": []
   },
   "source": [
    "# Téléchargement des annonces de la Ville de Paris sur Datagouv"
   ]
  },
  {
   "cell_type": "code",
   "execution_count": 2,
   "id": "ecfde493",
   "metadata": {
    "execution": {
     "iopub.execute_input": "2024-10-19T09:28:56.425642Z",
     "iopub.status.busy": "2024-10-19T09:28:56.425097Z",
     "iopub.status.idle": "2024-10-19T09:29:00.924191Z",
     "shell.execute_reply": "2024-10-19T09:29:00.922933Z"
    },
    "papermill": {
     "duration": 4.506134,
     "end_time": "2024-10-19T09:29:00.927009",
     "exception": false,
     "start_time": "2024-10-19T09:28:56.420875",
     "status": "completed"
    },
    "scrolled": true,
    "tags": []
   },
   "outputs": [],
   "source": [
    "df = pd.read_csv('https://www.data.gouv.fr/fr/datasets/r/8571acc8-2f51-4d7e-9d87-bd5b8ec210e5', dtype='string')\n",
    "\n",
    "# Adresse ressources sur datagouv\n",
    "# -> https://www.data.gouv.fr/fr/datasets/une-vie-de-siren-au-boamp-ville-de-paris-217500016/#/resources"
   ]
  },
  {
   "cell_type": "markdown",
   "id": "81345466",
   "metadata": {
    "papermill": {
     "duration": 0.002924,
     "end_time": "2024-10-19T09:29:00.933096",
     "exception": false,
     "start_time": "2024-10-19T09:29:00.930172",
     "status": "completed"
    },
    "tags": []
   },
   "source": [
    "# Sélection de la colonne B_30_sousNature"
   ]
  },
  {
   "cell_type": "code",
   "execution_count": 3,
   "id": "c335d93d",
   "metadata": {
    "execution": {
     "iopub.execute_input": "2024-10-19T09:29:00.940626Z",
     "iopub.status.busy": "2024-10-19T09:29:00.940177Z",
     "iopub.status.idle": "2024-10-19T09:29:00.954099Z",
     "shell.execute_reply": "2024-10-19T09:29:00.952877Z"
    },
    "papermill": {
     "duration": 0.020618,
     "end_time": "2024-10-19T09:29:00.956589",
     "exception": false,
     "start_time": "2024-10-19T09:29:00.935971",
     "status": "completed"
    },
    "tags": []
   },
   "outputs": [],
   "source": [
    "df_ = df.loc[:, ['B_30_sousNature']].copy()"
   ]
  },
  {
   "cell_type": "markdown",
   "id": "edf321d2",
   "metadata": {
    "papermill": {
     "duration": 0.002731,
     "end_time": "2024-10-19T09:29:00.962307",
     "exception": false,
     "start_time": "2024-10-19T09:29:00.959576",
     "status": "completed"
    },
    "tags": []
   },
   "source": [
    "# Lecture des dernières lignes"
   ]
  },
  {
   "cell_type": "code",
   "execution_count": 4,
   "id": "220196dd",
   "metadata": {
    "execution": {
     "iopub.execute_input": "2024-10-19T09:29:00.969762Z",
     "iopub.status.busy": "2024-10-19T09:29:00.969371Z",
     "iopub.status.idle": "2024-10-19T09:29:00.987205Z",
     "shell.execute_reply": "2024-10-19T09:29:00.985931Z"
    },
    "papermill": {
     "duration": 0.024484,
     "end_time": "2024-10-19T09:29:00.989569",
     "exception": false,
     "start_time": "2024-10-19T09:29:00.965085",
     "status": "completed"
    },
    "tags": []
   },
   "outputs": [
    {
     "data": {
      "text/html": [
       "<div>\n",
       "<style scoped>\n",
       "    .dataframe tbody tr th:only-of-type {\n",
       "        vertical-align: middle;\n",
       "    }\n",
       "\n",
       "    .dataframe tbody tr th {\n",
       "        vertical-align: top;\n",
       "    }\n",
       "\n",
       "    .dataframe thead th {\n",
       "        text-align: right;\n",
       "    }\n",
       "</style>\n",
       "<table border=\"1\" class=\"dataframe\">\n",
       "  <thead>\n",
       "    <tr style=\"text-align: right;\">\n",
       "      <th></th>\n",
       "      <th>B_30_sousNature</th>\n",
       "    </tr>\n",
       "  </thead>\n",
       "  <tbody>\n",
       "    <tr>\n",
       "      <th>750</th>\n",
       "      <td>STANDARD</td>\n",
       "    </tr>\n",
       "    <tr>\n",
       "      <th>751</th>\n",
       "      <td>STANDARD</td>\n",
       "    </tr>\n",
       "    <tr>\n",
       "      <th>752</th>\n",
       "      <td>STANDARD</td>\n",
       "    </tr>\n",
       "    <tr>\n",
       "      <th>754</th>\n",
       "      <td>STANDARD</td>\n",
       "    </tr>\n",
       "    <tr>\n",
       "      <th>755</th>\n",
       "      <td>STANDARD</td>\n",
       "    </tr>\n",
       "  </tbody>\n",
       "</table>\n",
       "</div>"
      ],
      "text/plain": [
       "    B_30_sousNature\n",
       "750        STANDARD\n",
       "751        STANDARD\n",
       "752        STANDARD\n",
       "754        STANDARD\n",
       "755        STANDARD"
      ]
     },
     "execution_count": 4,
     "metadata": {},
     "output_type": "execute_result"
    }
   ],
   "source": [
    "df_.loc[df_.B_30_sousNature.notna(),:].tail()"
   ]
  }
 ],
 "metadata": {
  "kaggle": {
   "accelerator": "none",
   "dataSources": [],
   "isGpuEnabled": false,
   "isInternetEnabled": true,
   "language": "python",
   "sourceType": "notebook"
  },
  "kernelspec": {
   "display_name": "Python 3 (ipykernel)",
   "language": "python",
   "name": "python3"
  },
  "language_info": {
   "codemirror_mode": {
    "name": "ipython",
    "version": 3
   },
   "file_extension": ".py",
   "mimetype": "text/x-python",
   "name": "python",
   "nbconvert_exporter": "python",
   "pygments_lexer": "ipython3",
   "version": "3.10.14"
  },
  "papermill": {
   "default_parameters": {},
   "duration": 8.752412,
   "end_time": "2024-10-19T09:29:01.512782",
   "environment_variables": {},
   "exception": null,
   "input_path": "__notebook__.ipynb",
   "output_path": "__notebook__.ipynb",
   "parameters": {},
   "start_time": "2024-10-19T09:28:52.760370",
   "version": "2.6.0"
  },
  "widgets": {
   "application/vnd.jupyter.widget-state+json": {
    "state": {},
    "version_major": 2,
    "version_minor": 0
   }
  }
 },
 "nbformat": 4,
 "nbformat_minor": 5
}
