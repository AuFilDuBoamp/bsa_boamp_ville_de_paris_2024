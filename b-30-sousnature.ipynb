{
 "cells": [
  {
   "cell_type": "markdown",
   "id": "004f0968",
   "metadata": {
    "papermill": {
     "duration": 0.004142,
     "end_time": "2024-10-20T08:48:19.704585",
     "exception": false,
     "start_time": "2024-10-20T08:48:19.700443",
     "status": "completed"
    },
    "tags": []
   },
   "source": [
    "# Colonne «B_30_sousNature» (Initialisation)"
   ]
  },
  {
   "cell_type": "markdown",
   "id": "9a218fe2",
   "metadata": {
    "papermill": {
     "duration": 0.003311,
     "end_time": "2024-10-20T08:48:19.711902",
     "exception": false,
     "start_time": "2024-10-20T08:48:19.708591",
     "status": "completed"
    },
    "tags": []
   },
   "source": [
    "|NAVIGATION (travaux sur les annonces BOAMP de la Ville de Paris en 2024)|\n",
    "|---|\n",
    "|[Retour à l'INDEX (kaggle)](https://www.kaggle.com/code/aufilduboamp/index-ville-de-paris-aufilduboamp)|\n",
    "|[Rubrique AuFilDuBoamp.com](https://www.aufilduboamp.com/rubrique92.html)|\n",
    "|[Dépôt GitHub](https://github.com/AuFilDuBoamp/bsa_boamp_ville_de_paris_2024/tree/main)|\n",
    "|[Dépôt DataGouv](https://www.data.gouv.fr/fr/datasets/une-vie-de-siren-au-boamp-ville-de-paris-217500016/#/resources)|"
   ]
  },
  {
   "cell_type": "markdown",
   "id": "f9d8e663",
   "metadata": {
    "papermill": {
     "duration": 0.003212,
     "end_time": "2024-10-20T08:48:19.718679",
     "exception": false,
     "start_time": "2024-10-20T08:48:19.715467",
     "status": "completed"
    },
    "tags": []
   },
   "source": [
    "# Import(s) et réglages"
   ]
  },
  {
   "cell_type": "code",
   "execution_count": 1,
   "id": "e38792cb",
   "metadata": {
    "execution": {
     "iopub.execute_input": "2024-10-20T08:48:19.727849Z",
     "iopub.status.busy": "2024-10-20T08:48:19.727427Z",
     "iopub.status.idle": "2024-10-20T08:48:20.697427Z",
     "shell.execute_reply": "2024-10-20T08:48:20.696356Z"
    },
    "papermill": {
     "duration": 0.978259,
     "end_time": "2024-10-20T08:48:20.700384",
     "exception": false,
     "start_time": "2024-10-20T08:48:19.722125",
     "status": "completed"
    },
    "tags": []
   },
   "outputs": [],
   "source": [
    "# import\n",
    "import pandas as pd\n",
    "#réglages\n",
    "pd.set_option('display.max_colwidth', 500)\n",
    "pd.set_option('display.max_columns', 200)\n",
    "pd.set_option('display.max_rows', 200)"
   ]
  },
  {
   "cell_type": "markdown",
   "id": "f2b4c737",
   "metadata": {
    "papermill": {
     "duration": 0.003344,
     "end_time": "2024-10-20T08:48:20.707624",
     "exception": false,
     "start_time": "2024-10-20T08:48:20.704280",
     "status": "completed"
    },
    "tags": []
   },
   "source": [
    "# Téléchargement des annonces de la Ville de Paris sur Datagouv"
   ]
  },
  {
   "cell_type": "code",
   "execution_count": 2,
   "id": "84232edd",
   "metadata": {
    "execution": {
     "iopub.execute_input": "2024-10-20T08:48:20.717448Z",
     "iopub.status.busy": "2024-10-20T08:48:20.716313Z",
     "iopub.status.idle": "2024-10-20T08:48:23.983149Z",
     "shell.execute_reply": "2024-10-20T08:48:23.981858Z"
    },
    "papermill": {
     "duration": 3.275026,
     "end_time": "2024-10-20T08:48:23.986324",
     "exception": false,
     "start_time": "2024-10-20T08:48:20.711298",
     "status": "completed"
    },
    "scrolled": true,
    "tags": []
   },
   "outputs": [],
   "source": [
    "df = pd.read_csv('https://www.data.gouv.fr/fr/datasets/r/8571acc8-2f51-4d7e-9d87-bd5b8ec210e5', dtype='string')\n",
    "\n",
    "# Adresse ressources sur datagouv\n",
    "# -> https://www.data.gouv.fr/fr/datasets/une-vie-de-siren-au-boamp-ville-de-paris-217500016/#/resources"
   ]
  },
  {
   "cell_type": "markdown",
   "id": "97c1e66c",
   "metadata": {
    "papermill": {
     "duration": 0.003585,
     "end_time": "2024-10-20T08:48:23.994102",
     "exception": false,
     "start_time": "2024-10-20T08:48:23.990517",
     "status": "completed"
    },
    "tags": []
   },
   "source": [
    "# Sélection de la colonne B_30_sousNature"
   ]
  },
  {
   "cell_type": "code",
   "execution_count": 3,
   "id": "346c7c49",
   "metadata": {
    "execution": {
     "iopub.execute_input": "2024-10-20T08:48:24.004700Z",
     "iopub.status.busy": "2024-10-20T08:48:24.004215Z",
     "iopub.status.idle": "2024-10-20T08:48:24.020711Z",
     "shell.execute_reply": "2024-10-20T08:48:24.019604Z"
    },
    "papermill": {
     "duration": 0.025626,
     "end_time": "2024-10-20T08:48:24.023403",
     "exception": false,
     "start_time": "2024-10-20T08:48:23.997777",
     "status": "completed"
    },
    "tags": []
   },
   "outputs": [],
   "source": [
    "df_ = df.loc[:, ['B_30_sousNature']].copy()"
   ]
  },
  {
   "cell_type": "markdown",
   "id": "ce956c56",
   "metadata": {
    "papermill": {
     "duration": 0.003565,
     "end_time": "2024-10-20T08:48:24.030810",
     "exception": false,
     "start_time": "2024-10-20T08:48:24.027245",
     "status": "completed"
    },
    "tags": []
   },
   "source": [
    "# Lecture des dernières lignes"
   ]
  },
  {
   "cell_type": "code",
   "execution_count": 4,
   "id": "a585a7af",
   "metadata": {
    "execution": {
     "iopub.execute_input": "2024-10-20T08:48:24.042484Z",
     "iopub.status.busy": "2024-10-20T08:48:24.042034Z",
     "iopub.status.idle": "2024-10-20T08:48:24.061132Z",
     "shell.execute_reply": "2024-10-20T08:48:24.059617Z"
    },
    "papermill": {
     "duration": 0.02826,
     "end_time": "2024-10-20T08:48:24.064153",
     "exception": false,
     "start_time": "2024-10-20T08:48:24.035893",
     "status": "completed"
    },
    "tags": []
   },
   "outputs": [
    {
     "data": {
      "text/html": [
       "<div>\n",
       "<style scoped>\n",
       "    .dataframe tbody tr th:only-of-type {\n",
       "        vertical-align: middle;\n",
       "    }\n",
       "\n",
       "    .dataframe tbody tr th {\n",
       "        vertical-align: top;\n",
       "    }\n",
       "\n",
       "    .dataframe thead th {\n",
       "        text-align: right;\n",
       "    }\n",
       "</style>\n",
       "<table border=\"1\" class=\"dataframe\">\n",
       "  <thead>\n",
       "    <tr style=\"text-align: right;\">\n",
       "      <th></th>\n",
       "      <th>B_30_sousNature</th>\n",
       "    </tr>\n",
       "  </thead>\n",
       "  <tbody>\n",
       "    <tr>\n",
       "      <th>750</th>\n",
       "      <td>STANDARD</td>\n",
       "    </tr>\n",
       "    <tr>\n",
       "      <th>751</th>\n",
       "      <td>STANDARD</td>\n",
       "    </tr>\n",
       "    <tr>\n",
       "      <th>752</th>\n",
       "      <td>STANDARD</td>\n",
       "    </tr>\n",
       "    <tr>\n",
       "      <th>753</th>\n",
       "      <td>STANDARD</td>\n",
       "    </tr>\n",
       "    <tr>\n",
       "      <th>755</th>\n",
       "      <td>STANDARD</td>\n",
       "    </tr>\n",
       "  </tbody>\n",
       "</table>\n",
       "</div>"
      ],
      "text/plain": [
       "    B_30_sousNature\n",
       "750        STANDARD\n",
       "751        STANDARD\n",
       "752        STANDARD\n",
       "753        STANDARD\n",
       "755        STANDARD"
      ]
     },
     "execution_count": 4,
     "metadata": {},
     "output_type": "execute_result"
    }
   ],
   "source": [
    "df_.loc[df_.B_30_sousNature.notna(),:].tail()"
   ]
  }
 ],
 "metadata": {
  "kaggle": {
   "accelerator": "none",
   "dataSources": [],
   "dockerImageVersionId": 30786,
   "isGpuEnabled": false,
   "isInternetEnabled": true,
   "language": "python",
   "sourceType": "notebook"
  },
  "kernelspec": {
   "display_name": "Python 3 (ipykernel)",
   "language": "python",
   "name": "python3"
  },
  "language_info": {
   "codemirror_mode": {
    "name": "ipython",
    "version": 3
   },
   "file_extension": ".py",
   "mimetype": "text/x-python",
   "name": "python",
   "nbconvert_exporter": "python",
   "pygments_lexer": "ipython3",
   "version": "3.10.14"
  },
  "papermill": {
   "default_parameters": {},
   "duration": 7.964209,
   "end_time": "2024-10-20T08:48:24.590842",
   "environment_variables": {},
   "exception": null,
   "input_path": "__notebook__.ipynb",
   "output_path": "__notebook__.ipynb",
   "parameters": {},
   "start_time": "2024-10-20T08:48:16.626633",
   "version": "2.6.0"
  },
  "widgets": {
   "application/vnd.jupyter.widget-state+json": {
    "state": {},
    "version_major": 2,
    "version_minor": 0
   }
  }
 },
 "nbformat": 4,
 "nbformat_minor": 5
}
