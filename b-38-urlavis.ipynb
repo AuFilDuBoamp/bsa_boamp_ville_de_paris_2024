{
 "cells": [
  {
   "cell_type": "markdown",
   "id": "9ef880b8",
   "metadata": {
    "papermill": {
     "duration": 0.006359,
     "end_time": "2024-10-19T09:47:00.866672",
     "exception": false,
     "start_time": "2024-10-19T09:47:00.860313",
     "status": "completed"
    },
    "tags": []
   },
   "source": [
    "# Colonne «B_38_urlAvis» (Initialisation)"
   ]
  },
  {
   "cell_type": "markdown",
   "id": "60e6653d",
   "metadata": {
    "papermill": {
     "duration": 0.003732,
     "end_time": "2024-10-19T09:47:00.876333",
     "exception": false,
     "start_time": "2024-10-19T09:47:00.872601",
     "status": "completed"
    },
    "tags": []
   },
   "source": [
    "# Intro"
   ]
  },
  {
   "cell_type": "markdown",
   "id": "25e21756",
   "metadata": {
    "papermill": {
     "duration": 0.003881,
     "end_time": "2024-10-19T09:47:00.884165",
     "exception": false,
     "start_time": "2024-10-19T09:47:00.880284",
     "status": "completed"
    },
    "tags": []
   },
   "source": [
    "# Import(s) et réglages"
   ]
  },
  {
   "cell_type": "code",
   "execution_count": 1,
   "id": "f58f054d",
   "metadata": {
    "execution": {
     "iopub.execute_input": "2024-10-19T09:47:00.895605Z",
     "iopub.status.busy": "2024-10-19T09:47:00.894117Z",
     "iopub.status.idle": "2024-10-19T09:47:02.023915Z",
     "shell.execute_reply": "2024-10-19T09:47:02.022182Z"
    },
    "papermill": {
     "duration": 1.138391,
     "end_time": "2024-10-19T09:47:02.027082",
     "exception": false,
     "start_time": "2024-10-19T09:47:00.888691",
     "status": "completed"
    },
    "tags": []
   },
   "outputs": [],
   "source": [
    "# import\n",
    "import pandas as pd\n",
    "#réglages\n",
    "pd.set_option('display.max_colwidth', 500)\n",
    "pd.set_option('display.max_columns', 200)\n",
    "pd.set_option('display.max_rows', 200)"
   ]
  },
  {
   "cell_type": "markdown",
   "id": "b2c69f54",
   "metadata": {
    "papermill": {
     "duration": 0.003983,
     "end_time": "2024-10-19T09:47:02.036029",
     "exception": false,
     "start_time": "2024-10-19T09:47:02.032046",
     "status": "completed"
    },
    "tags": []
   },
   "source": [
    "# Téléchargement des annonces de la Ville de Paris sur Datagouv"
   ]
  },
  {
   "cell_type": "code",
   "execution_count": 2,
   "id": "6f74bcf4",
   "metadata": {
    "execution": {
     "iopub.execute_input": "2024-10-19T09:47:02.047793Z",
     "iopub.status.busy": "2024-10-19T09:47:02.046892Z",
     "iopub.status.idle": "2024-10-19T09:47:05.081084Z",
     "shell.execute_reply": "2024-10-19T09:47:05.079963Z"
    },
    "papermill": {
     "duration": 3.043569,
     "end_time": "2024-10-19T09:47:05.084075",
     "exception": false,
     "start_time": "2024-10-19T09:47:02.040506",
     "status": "completed"
    },
    "scrolled": true,
    "tags": []
   },
   "outputs": [],
   "source": [
    "df = pd.read_csv('https://www.data.gouv.fr/fr/datasets/r/8571acc8-2f51-4d7e-9d87-bd5b8ec210e5', dtype='string')\n",
    "\n",
    "# Adresse ressources sur datagouv\n",
    "# -> https://www.data.gouv.fr/fr/datasets/une-vie-de-siren-au-boamp-ville-de-paris-217500016/#/resources"
   ]
  },
  {
   "cell_type": "markdown",
   "id": "36514f62",
   "metadata": {
    "papermill": {
     "duration": 0.003563,
     "end_time": "2024-10-19T09:47:05.091715",
     "exception": false,
     "start_time": "2024-10-19T09:47:05.088152",
     "status": "completed"
    },
    "tags": []
   },
   "source": [
    "# Sélection de la colonne B_38_urlAvis"
   ]
  },
  {
   "cell_type": "code",
   "execution_count": 3,
   "id": "960947c7",
   "metadata": {
    "execution": {
     "iopub.execute_input": "2024-10-19T09:47:05.101065Z",
     "iopub.status.busy": "2024-10-19T09:47:05.100666Z",
     "iopub.status.idle": "2024-10-19T09:47:05.115636Z",
     "shell.execute_reply": "2024-10-19T09:47:05.114521Z"
    },
    "papermill": {
     "duration": 0.022944,
     "end_time": "2024-10-19T09:47:05.118328",
     "exception": false,
     "start_time": "2024-10-19T09:47:05.095384",
     "status": "completed"
    },
    "tags": []
   },
   "outputs": [],
   "source": [
    "df_ = df.loc[:, ['B_38_urlAvis']].copy()"
   ]
  },
  {
   "cell_type": "markdown",
   "id": "090df071",
   "metadata": {
    "papermill": {
     "duration": 0.003506,
     "end_time": "2024-10-19T09:47:05.125799",
     "exception": false,
     "start_time": "2024-10-19T09:47:05.122293",
     "status": "completed"
    },
    "tags": []
   },
   "source": [
    "# Lecture des dernières lignes"
   ]
  },
  {
   "cell_type": "code",
   "execution_count": 4,
   "id": "4111fd4d",
   "metadata": {
    "execution": {
     "iopub.execute_input": "2024-10-19T09:47:05.135740Z",
     "iopub.status.busy": "2024-10-19T09:47:05.135281Z",
     "iopub.status.idle": "2024-10-19T09:47:05.154225Z",
     "shell.execute_reply": "2024-10-19T09:47:05.152909Z"
    },
    "papermill": {
     "duration": 0.027118,
     "end_time": "2024-10-19T09:47:05.156831",
     "exception": false,
     "start_time": "2024-10-19T09:47:05.129713",
     "status": "completed"
    },
    "tags": []
   },
   "outputs": [
    {
     "data": {
      "text/html": [
       "<div>\n",
       "<style scoped>\n",
       "    .dataframe tbody tr th:only-of-type {\n",
       "        vertical-align: middle;\n",
       "    }\n",
       "\n",
       "    .dataframe tbody tr th {\n",
       "        vertical-align: top;\n",
       "    }\n",
       "\n",
       "    .dataframe thead th {\n",
       "        text-align: right;\n",
       "    }\n",
       "</style>\n",
       "<table border=\"1\" class=\"dataframe\">\n",
       "  <thead>\n",
       "    <tr style=\"text-align: right;\">\n",
       "      <th></th>\n",
       "      <th>B_38_urlAvis</th>\n",
       "    </tr>\n",
       "  </thead>\n",
       "  <tbody>\n",
       "    <tr>\n",
       "      <th>753</th>\n",
       "      <td>https://www.boamp.fr/pages/avis/?q=idweb:24-1437</td>\n",
       "    </tr>\n",
       "    <tr>\n",
       "      <th>754</th>\n",
       "      <td>https://www.boamp.fr/pages/avis/?q=idweb:24-303</td>\n",
       "    </tr>\n",
       "    <tr>\n",
       "      <th>755</th>\n",
       "      <td>https://www.boamp.fr/pages/avis/?q=idweb:24-243</td>\n",
       "    </tr>\n",
       "    <tr>\n",
       "      <th>756</th>\n",
       "      <td>https://www.boamp.fr/pages/avis/?q=idweb:24-660</td>\n",
       "    </tr>\n",
       "    <tr>\n",
       "      <th>757</th>\n",
       "      <td>https://www.boamp.fr/pages/avis/?q=idweb:24-712</td>\n",
       "    </tr>\n",
       "  </tbody>\n",
       "</table>\n",
       "</div>"
      ],
      "text/plain": [
       "                                         B_38_urlAvis\n",
       "753  https://www.boamp.fr/pages/avis/?q=idweb:24-1437\n",
       "754   https://www.boamp.fr/pages/avis/?q=idweb:24-303\n",
       "755   https://www.boamp.fr/pages/avis/?q=idweb:24-243\n",
       "756   https://www.boamp.fr/pages/avis/?q=idweb:24-660\n",
       "757   https://www.boamp.fr/pages/avis/?q=idweb:24-712"
      ]
     },
     "execution_count": 4,
     "metadata": {},
     "output_type": "execute_result"
    }
   ],
   "source": [
    "df_.loc[df_.B_38_urlAvis.notna(),:].tail()"
   ]
  }
 ],
 "metadata": {
  "kaggle": {
   "accelerator": "none",
   "dataSources": [],
   "isGpuEnabled": false,
   "isInternetEnabled": true,
   "language": "python",
   "sourceType": "notebook"
  },
  "kernelspec": {
   "display_name": "Python 3 (ipykernel)",
   "language": "python",
   "name": "python3"
  },
  "language_info": {
   "codemirror_mode": {
    "name": "ipython",
    "version": 3
   },
   "file_extension": ".py",
   "mimetype": "text/x-python",
   "name": "python",
   "nbconvert_exporter": "python",
   "pygments_lexer": "ipython3",
   "version": "3.10.14"
  },
  "papermill": {
   "default_parameters": {},
   "duration": 8.256931,
   "end_time": "2024-10-19T09:47:05.682801",
   "environment_variables": {},
   "exception": null,
   "input_path": "__notebook__.ipynb",
   "output_path": "__notebook__.ipynb",
   "parameters": {},
   "start_time": "2024-10-19T09:46:57.425870",
   "version": "2.6.0"
  },
  "widgets": {
   "application/vnd.jupyter.widget-state+json": {
    "state": {},
    "version_major": 2,
    "version_minor": 0
   }
  }
 },
 "nbformat": 4,
 "nbformat_minor": 5
}
