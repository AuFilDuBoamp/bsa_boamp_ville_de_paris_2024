{
 "cells": [
  {
   "cell_type": "markdown",
   "id": "e66bb8d8",
   "metadata": {
    "papermill": {
     "duration": 0.003411,
     "end_time": "2024-10-20T08:51:32.668518",
     "exception": false,
     "start_time": "2024-10-20T08:51:32.665107",
     "status": "completed"
    },
    "tags": []
   },
   "source": [
    "# Colonne «B_38_urlAvis» (Initialisation)"
   ]
  },
  {
   "cell_type": "markdown",
   "id": "186480b2",
   "metadata": {
    "papermill": {
     "duration": 0.003594,
     "end_time": "2024-10-20T08:51:32.676480",
     "exception": false,
     "start_time": "2024-10-20T08:51:32.672886",
     "status": "completed"
    },
    "tags": []
   },
   "source": [
    "|NAVIGATION (travaux sur les annonces BOAMP de la Ville de Paris en 2024)|\n",
    "|---|\n",
    "|[Retour à l'INDEX (kaggle)](https://www.kaggle.com/code/aufilduboamp/index-ville-de-paris-aufilduboamp)|\n",
    "|[Rubrique AuFilDuBoamp.com](https://www.aufilduboamp.com/rubrique92.html)|\n",
    "|[Dépôt GitHub](https://github.com/AuFilDuBoamp/bsa_boamp_ville_de_paris_2024/tree/main)|\n",
    "|[Dépôt DataGouv](https://www.data.gouv.fr/fr/datasets/une-vie-de-siren-au-boamp-ville-de-paris-217500016/#/resources)|"
   ]
  },
  {
   "cell_type": "markdown",
   "id": "6e14cb9d",
   "metadata": {
    "papermill": {
     "duration": 0.002469,
     "end_time": "2024-10-20T08:51:32.682160",
     "exception": false,
     "start_time": "2024-10-20T08:51:32.679691",
     "status": "completed"
    },
    "tags": []
   },
   "source": [
    "# Import(s) et réglages"
   ]
  },
  {
   "cell_type": "code",
   "execution_count": 1,
   "id": "af9216d4",
   "metadata": {
    "execution": {
     "iopub.execute_input": "2024-10-20T08:51:32.689617Z",
     "iopub.status.busy": "2024-10-20T08:51:32.689072Z",
     "iopub.status.idle": "2024-10-20T08:51:33.526978Z",
     "shell.execute_reply": "2024-10-20T08:51:33.525843Z"
    },
    "papermill": {
     "duration": 0.844679,
     "end_time": "2024-10-20T08:51:33.529559",
     "exception": false,
     "start_time": "2024-10-20T08:51:32.684880",
     "status": "completed"
    },
    "tags": []
   },
   "outputs": [],
   "source": [
    "# import\n",
    "import pandas as pd\n",
    "#réglages\n",
    "pd.set_option('display.max_colwidth', 500)\n",
    "pd.set_option('display.max_columns', 200)\n",
    "pd.set_option('display.max_rows', 200)"
   ]
  },
  {
   "cell_type": "markdown",
   "id": "6f3382fc",
   "metadata": {
    "papermill": {
     "duration": 0.002627,
     "end_time": "2024-10-20T08:51:33.535607",
     "exception": false,
     "start_time": "2024-10-20T08:51:33.532980",
     "status": "completed"
    },
    "tags": []
   },
   "source": [
    "# Téléchargement des annonces de la Ville de Paris sur Datagouv"
   ]
  },
  {
   "cell_type": "code",
   "execution_count": 2,
   "id": "87faebf0",
   "metadata": {
    "execution": {
     "iopub.execute_input": "2024-10-20T08:51:33.543672Z",
     "iopub.status.busy": "2024-10-20T08:51:33.543109Z",
     "iopub.status.idle": "2024-10-20T08:51:38.690125Z",
     "shell.execute_reply": "2024-10-20T08:51:38.688902Z"
    },
    "papermill": {
     "duration": 5.153972,
     "end_time": "2024-10-20T08:51:38.692722",
     "exception": false,
     "start_time": "2024-10-20T08:51:33.538750",
     "status": "completed"
    },
    "scrolled": true,
    "tags": []
   },
   "outputs": [],
   "source": [
    "df = pd.read_csv('https://www.data.gouv.fr/fr/datasets/r/8571acc8-2f51-4d7e-9d87-bd5b8ec210e5', dtype='string')\n",
    "\n",
    "# Adresse ressources sur datagouv\n",
    "# -> https://www.data.gouv.fr/fr/datasets/une-vie-de-siren-au-boamp-ville-de-paris-217500016/#/resources"
   ]
  },
  {
   "cell_type": "markdown",
   "id": "9ebd622a",
   "metadata": {
    "papermill": {
     "duration": 0.003107,
     "end_time": "2024-10-20T08:51:38.699464",
     "exception": false,
     "start_time": "2024-10-20T08:51:38.696357",
     "status": "completed"
    },
    "tags": []
   },
   "source": [
    "# Sélection de la colonne B_38_urlAvis"
   ]
  },
  {
   "cell_type": "code",
   "execution_count": 3,
   "id": "9fc1f254",
   "metadata": {
    "execution": {
     "iopub.execute_input": "2024-10-20T08:51:38.707025Z",
     "iopub.status.busy": "2024-10-20T08:51:38.706586Z",
     "iopub.status.idle": "2024-10-20T08:51:38.723408Z",
     "shell.execute_reply": "2024-10-20T08:51:38.721977Z"
    },
    "papermill": {
     "duration": 0.023586,
     "end_time": "2024-10-20T08:51:38.725881",
     "exception": false,
     "start_time": "2024-10-20T08:51:38.702295",
     "status": "completed"
    },
    "tags": []
   },
   "outputs": [],
   "source": [
    "df_ = df.loc[:, ['B_38_urlAvis']].copy()"
   ]
  },
  {
   "cell_type": "markdown",
   "id": "46166b54",
   "metadata": {
    "papermill": {
     "duration": 0.002663,
     "end_time": "2024-10-20T08:51:38.731606",
     "exception": false,
     "start_time": "2024-10-20T08:51:38.728943",
     "status": "completed"
    },
    "tags": []
   },
   "source": [
    "# Lecture des dernières lignes"
   ]
  },
  {
   "cell_type": "code",
   "execution_count": 4,
   "id": "b4712550",
   "metadata": {
    "execution": {
     "iopub.execute_input": "2024-10-20T08:51:38.739507Z",
     "iopub.status.busy": "2024-10-20T08:51:38.739036Z",
     "iopub.status.idle": "2024-10-20T08:51:38.758694Z",
     "shell.execute_reply": "2024-10-20T08:51:38.756991Z"
    },
    "papermill": {
     "duration": 0.026999,
     "end_time": "2024-10-20T08:51:38.761559",
     "exception": false,
     "start_time": "2024-10-20T08:51:38.734560",
     "status": "completed"
    },
    "tags": []
   },
   "outputs": [
    {
     "data": {
      "text/html": [
       "<div>\n",
       "<style scoped>\n",
       "    .dataframe tbody tr th:only-of-type {\n",
       "        vertical-align: middle;\n",
       "    }\n",
       "\n",
       "    .dataframe tbody tr th {\n",
       "        vertical-align: top;\n",
       "    }\n",
       "\n",
       "    .dataframe thead th {\n",
       "        text-align: right;\n",
       "    }\n",
       "</style>\n",
       "<table border=\"1\" class=\"dataframe\">\n",
       "  <thead>\n",
       "    <tr style=\"text-align: right;\">\n",
       "      <th></th>\n",
       "      <th>B_38_urlAvis</th>\n",
       "    </tr>\n",
       "  </thead>\n",
       "  <tbody>\n",
       "    <tr>\n",
       "      <th>753</th>\n",
       "      <td>https://www.boamp.fr/pages/avis/?q=idweb:24-243</td>\n",
       "    </tr>\n",
       "    <tr>\n",
       "      <th>754</th>\n",
       "      <td>https://www.boamp.fr/pages/avis/?q=idweb:24-1437</td>\n",
       "    </tr>\n",
       "    <tr>\n",
       "      <th>755</th>\n",
       "      <td>https://www.boamp.fr/pages/avis/?q=idweb:24-303</td>\n",
       "    </tr>\n",
       "    <tr>\n",
       "      <th>756</th>\n",
       "      <td>https://www.boamp.fr/pages/avis/?q=idweb:24-660</td>\n",
       "    </tr>\n",
       "    <tr>\n",
       "      <th>757</th>\n",
       "      <td>https://www.boamp.fr/pages/avis/?q=idweb:24-712</td>\n",
       "    </tr>\n",
       "  </tbody>\n",
       "</table>\n",
       "</div>"
      ],
      "text/plain": [
       "                                         B_38_urlAvis\n",
       "753   https://www.boamp.fr/pages/avis/?q=idweb:24-243\n",
       "754  https://www.boamp.fr/pages/avis/?q=idweb:24-1437\n",
       "755   https://www.boamp.fr/pages/avis/?q=idweb:24-303\n",
       "756   https://www.boamp.fr/pages/avis/?q=idweb:24-660\n",
       "757   https://www.boamp.fr/pages/avis/?q=idweb:24-712"
      ]
     },
     "execution_count": 4,
     "metadata": {},
     "output_type": "execute_result"
    }
   ],
   "source": [
    "df_.loc[df_.B_38_urlAvis.notna(),:].tail()"
   ]
  }
 ],
 "metadata": {
  "kaggle": {
   "accelerator": "none",
   "dataSources": [],
   "dockerImageVersionId": 30786,
   "isGpuEnabled": false,
   "isInternetEnabled": true,
   "language": "python",
   "sourceType": "notebook"
  },
  "kernelspec": {
   "display_name": "Python 3 (ipykernel)",
   "language": "python",
   "name": "python3"
  },
  "language_info": {
   "codemirror_mode": {
    "name": "ipython",
    "version": 3
   },
   "file_extension": ".py",
   "mimetype": "text/x-python",
   "name": "python",
   "nbconvert_exporter": "python",
   "pygments_lexer": "ipython3",
   "version": "3.10.14"
  },
  "papermill": {
   "default_parameters": {},
   "duration": 9.405053,
   "end_time": "2024-10-20T08:51:39.287532",
   "environment_variables": {},
   "exception": null,
   "input_path": "__notebook__.ipynb",
   "output_path": "__notebook__.ipynb",
   "parameters": {},
   "start_time": "2024-10-20T08:51:29.882479",
   "version": "2.6.0"
  },
  "widgets": {
   "application/vnd.jupyter.widget-state+json": {
    "state": {},
    "version_major": 2,
    "version_minor": 0
   }
  }
 },
 "nbformat": 4,
 "nbformat_minor": 5
}
