{
 "cells": [
  {
   "cell_type": "markdown",
   "id": "cbaf47f0",
   "metadata": {
    "papermill": {
     "duration": 0.004264,
     "end_time": "2024-10-20T08:46:40.949684",
     "exception": false,
     "start_time": "2024-10-20T08:46:40.945420",
     "status": "completed"
    },
    "tags": []
   },
   "source": [
    "# Colonne «B_29_sourceSchema» (Initialisation)"
   ]
  },
  {
   "cell_type": "markdown",
   "id": "fb8d4234",
   "metadata": {
    "papermill": {
     "duration": 0.003361,
     "end_time": "2024-10-20T08:46:40.957061",
     "exception": false,
     "start_time": "2024-10-20T08:46:40.953700",
     "status": "completed"
    },
    "tags": []
   },
   "source": [
    "|NAVIGATION (travaux sur les annonces BOAMP de la Ville de Paris en 2024)|\n",
    "|---|\n",
    "|[Retour à l'INDEX (kaggle)](https://www.kaggle.com/code/aufilduboamp/index-ville-de-paris-aufilduboamp)|\n",
    "|[Rubrique AuFilDuBoamp.com](https://www.aufilduboamp.com/rubrique92.html)|\n",
    "|[Dépôt GitHub](https://github.com/AuFilDuBoamp/bsa_boamp_ville_de_paris_2024/tree/main)|\n",
    "|[Dépôt DataGouv](https://www.data.gouv.fr/fr/datasets/une-vie-de-siren-au-boamp-ville-de-paris-217500016/#/resources)|"
   ]
  },
  {
   "cell_type": "markdown",
   "id": "15f5a8e2",
   "metadata": {
    "papermill": {
     "duration": 0.003187,
     "end_time": "2024-10-20T08:46:40.963817",
     "exception": false,
     "start_time": "2024-10-20T08:46:40.960630",
     "status": "completed"
    },
    "tags": []
   },
   "source": [
    "# Import(s) et réglages"
   ]
  },
  {
   "cell_type": "code",
   "execution_count": 1,
   "id": "99e03086",
   "metadata": {
    "execution": {
     "iopub.execute_input": "2024-10-20T08:46:40.972735Z",
     "iopub.status.busy": "2024-10-20T08:46:40.972227Z",
     "iopub.status.idle": "2024-10-20T08:46:42.052146Z",
     "shell.execute_reply": "2024-10-20T08:46:42.050829Z"
    },
    "papermill": {
     "duration": 1.087929,
     "end_time": "2024-10-20T08:46:42.055231",
     "exception": false,
     "start_time": "2024-10-20T08:46:40.967302",
     "status": "completed"
    },
    "tags": []
   },
   "outputs": [],
   "source": [
    "# import\n",
    "import pandas as pd\n",
    "#réglages\n",
    "pd.set_option('display.max_colwidth', 500)\n",
    "pd.set_option('display.max_columns', 200)\n",
    "pd.set_option('display.max_rows', 200)"
   ]
  },
  {
   "cell_type": "markdown",
   "id": "fe8d510f",
   "metadata": {
    "papermill": {
     "duration": 0.003438,
     "end_time": "2024-10-20T08:46:42.062805",
     "exception": false,
     "start_time": "2024-10-20T08:46:42.059367",
     "status": "completed"
    },
    "tags": []
   },
   "source": [
    "# Téléchargement des annonces de la Ville de Paris sur Datagouv"
   ]
  },
  {
   "cell_type": "code",
   "execution_count": 2,
   "id": "33b3d51e",
   "metadata": {
    "execution": {
     "iopub.execute_input": "2024-10-20T08:46:42.072352Z",
     "iopub.status.busy": "2024-10-20T08:46:42.071748Z",
     "iopub.status.idle": "2024-10-20T08:46:44.792584Z",
     "shell.execute_reply": "2024-10-20T08:46:44.791207Z"
    },
    "papermill": {
     "duration": 2.729223,
     "end_time": "2024-10-20T08:46:44.795788",
     "exception": false,
     "start_time": "2024-10-20T08:46:42.066565",
     "status": "completed"
    },
    "scrolled": true,
    "tags": []
   },
   "outputs": [],
   "source": [
    "df = pd.read_csv('https://www.data.gouv.fr/fr/datasets/r/8571acc8-2f51-4d7e-9d87-bd5b8ec210e5', dtype='string')\n",
    "\n",
    "# Adresse ressources sur datagouv\n",
    "# -> https://www.data.gouv.fr/fr/datasets/une-vie-de-siren-au-boamp-ville-de-paris-217500016/#/resources"
   ]
  },
  {
   "cell_type": "markdown",
   "id": "3ea8d45e",
   "metadata": {
    "papermill": {
     "duration": 0.003562,
     "end_time": "2024-10-20T08:46:44.803480",
     "exception": false,
     "start_time": "2024-10-20T08:46:44.799918",
     "status": "completed"
    },
    "tags": []
   },
   "source": [
    "# Sélection de la colonne B_29_sourceSchema"
   ]
  },
  {
   "cell_type": "code",
   "execution_count": 3,
   "id": "3eeec86f",
   "metadata": {
    "execution": {
     "iopub.execute_input": "2024-10-20T08:46:44.813085Z",
     "iopub.status.busy": "2024-10-20T08:46:44.812630Z",
     "iopub.status.idle": "2024-10-20T08:46:44.831721Z",
     "shell.execute_reply": "2024-10-20T08:46:44.829528Z"
    },
    "papermill": {
     "duration": 0.027349,
     "end_time": "2024-10-20T08:46:44.834702",
     "exception": false,
     "start_time": "2024-10-20T08:46:44.807353",
     "status": "completed"
    },
    "tags": []
   },
   "outputs": [],
   "source": [
    "df_ = df.loc[:, ['B_29_sourceSchema']].copy()"
   ]
  },
  {
   "cell_type": "markdown",
   "id": "33f20241",
   "metadata": {
    "papermill": {
     "duration": 0.004008,
     "end_time": "2024-10-20T08:46:44.842750",
     "exception": false,
     "start_time": "2024-10-20T08:46:44.838742",
     "status": "completed"
    },
    "tags": []
   },
   "source": [
    "# Lecture des dernières lignes"
   ]
  },
  {
   "cell_type": "code",
   "execution_count": 4,
   "id": "984f34e2",
   "metadata": {
    "execution": {
     "iopub.execute_input": "2024-10-20T08:46:44.853378Z",
     "iopub.status.busy": "2024-10-20T08:46:44.852091Z",
     "iopub.status.idle": "2024-10-20T08:46:44.872602Z",
     "shell.execute_reply": "2024-10-20T08:46:44.871229Z"
    },
    "papermill": {
     "duration": 0.028818,
     "end_time": "2024-10-20T08:46:44.875554",
     "exception": false,
     "start_time": "2024-10-20T08:46:44.846736",
     "status": "completed"
    },
    "tags": []
   },
   "outputs": [
    {
     "data": {
      "text/html": [
       "<div>\n",
       "<style scoped>\n",
       "    .dataframe tbody tr th:only-of-type {\n",
       "        vertical-align: middle;\n",
       "    }\n",
       "\n",
       "    .dataframe tbody tr th {\n",
       "        vertical-align: top;\n",
       "    }\n",
       "\n",
       "    .dataframe thead th {\n",
       "        text-align: right;\n",
       "    }\n",
       "</style>\n",
       "<table border=\"1\" class=\"dataframe\">\n",
       "  <thead>\n",
       "    <tr style=\"text-align: right;\">\n",
       "      <th></th>\n",
       "      <th>B_29_sourceSchema</th>\n",
       "    </tr>\n",
       "  </thead>\n",
       "  <tbody>\n",
       "    <tr>\n",
       "      <th>726</th>\n",
       "      <td>3.2.5</td>\n",
       "    </tr>\n",
       "    <tr>\n",
       "      <th>727</th>\n",
       "      <td>3.2.5</td>\n",
       "    </tr>\n",
       "    <tr>\n",
       "      <th>728</th>\n",
       "      <td>3.2.5</td>\n",
       "    </tr>\n",
       "    <tr>\n",
       "      <th>729</th>\n",
       "      <td>3.2.5</td>\n",
       "    </tr>\n",
       "    <tr>\n",
       "      <th>730</th>\n",
       "      <td>3.2.5</td>\n",
       "    </tr>\n",
       "  </tbody>\n",
       "</table>\n",
       "</div>"
      ],
      "text/plain": [
       "    B_29_sourceSchema\n",
       "726             3.2.5\n",
       "727             3.2.5\n",
       "728             3.2.5\n",
       "729             3.2.5\n",
       "730             3.2.5"
      ]
     },
     "execution_count": 4,
     "metadata": {},
     "output_type": "execute_result"
    }
   ],
   "source": [
    "df_.loc[df_.B_29_sourceSchema.notna(),:].tail()"
   ]
  }
 ],
 "metadata": {
  "kaggle": {
   "accelerator": "none",
   "dataSources": [],
   "dockerImageVersionId": 30786,
   "isGpuEnabled": false,
   "isInternetEnabled": true,
   "language": "python",
   "sourceType": "notebook"
  },
  "kernelspec": {
   "display_name": "Python 3 (ipykernel)",
   "language": "python",
   "name": "python3"
  },
  "language_info": {
   "codemirror_mode": {
    "name": "ipython",
    "version": 3
   },
   "file_extension": ".py",
   "mimetype": "text/x-python",
   "name": "python",
   "nbconvert_exporter": "python",
   "pygments_lexer": "ipython3",
   "version": "3.10.14"
  },
  "papermill": {
   "default_parameters": {},
   "duration": 7.685939,
   "end_time": "2024-10-20T08:46:45.402959",
   "environment_variables": {},
   "exception": null,
   "input_path": "__notebook__.ipynb",
   "output_path": "__notebook__.ipynb",
   "parameters": {},
   "start_time": "2024-10-20T08:46:37.717020",
   "version": "2.6.0"
  },
  "widgets": {
   "application/vnd.jupyter.widget-state+json": {
    "state": {},
    "version_major": 2,
    "version_minor": 0
   }
  }
 },
 "nbformat": 4,
 "nbformat_minor": 5
}
