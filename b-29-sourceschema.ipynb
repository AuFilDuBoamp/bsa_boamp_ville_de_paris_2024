{
 "cells": [
  {
   "cell_type": "markdown",
   "id": "0805a3b0",
   "metadata": {
    "papermill": {
     "duration": 0.004066,
     "end_time": "2024-10-19T09:00:09.629780",
     "exception": false,
     "start_time": "2024-10-19T09:00:09.625714",
     "status": "completed"
    },
    "tags": []
   },
   "source": [
    "# Colonne «B_29_sourceSchema» (Initialisation)"
   ]
  },
  {
   "cell_type": "markdown",
   "id": "4d7c0c67",
   "metadata": {
    "papermill": {
     "duration": 0.00307,
     "end_time": "2024-10-19T09:00:09.636578",
     "exception": false,
     "start_time": "2024-10-19T09:00:09.633508",
     "status": "completed"
    },
    "tags": []
   },
   "source": [
    "# Intro"
   ]
  },
  {
   "cell_type": "markdown",
   "id": "b310ecff",
   "metadata": {
    "papermill": {
     "duration": 0.003025,
     "end_time": "2024-10-19T09:00:09.642859",
     "exception": false,
     "start_time": "2024-10-19T09:00:09.639834",
     "status": "completed"
    },
    "tags": []
   },
   "source": [
    "# Import(s) et réglages"
   ]
  },
  {
   "cell_type": "code",
   "execution_count": 1,
   "id": "b9b39dba",
   "metadata": {
    "execution": {
     "iopub.execute_input": "2024-10-19T09:00:09.651544Z",
     "iopub.status.busy": "2024-10-19T09:00:09.651049Z",
     "iopub.status.idle": "2024-10-19T09:00:10.636579Z",
     "shell.execute_reply": "2024-10-19T09:00:10.635341Z"
    },
    "papermill": {
     "duration": 0.993147,
     "end_time": "2024-10-19T09:00:10.639386",
     "exception": false,
     "start_time": "2024-10-19T09:00:09.646239",
     "status": "completed"
    },
    "tags": []
   },
   "outputs": [],
   "source": [
    "# import\n",
    "import pandas as pd\n",
    "#réglages\n",
    "pd.set_option('display.max_colwidth', 500)\n",
    "pd.set_option('display.max_columns', 200)\n",
    "pd.set_option('display.max_rows', 200)"
   ]
  },
  {
   "cell_type": "markdown",
   "id": "9000415d",
   "metadata": {
    "papermill": {
     "duration": 0.003212,
     "end_time": "2024-10-19T09:00:10.646379",
     "exception": false,
     "start_time": "2024-10-19T09:00:10.643167",
     "status": "completed"
    },
    "tags": []
   },
   "source": [
    "# Téléchargement des annonces de la Ville de Paris sur Datagouv"
   ]
  },
  {
   "cell_type": "code",
   "execution_count": 2,
   "id": "c0cec4a9",
   "metadata": {
    "execution": {
     "iopub.execute_input": "2024-10-19T09:00:10.655191Z",
     "iopub.status.busy": "2024-10-19T09:00:10.654592Z",
     "iopub.status.idle": "2024-10-19T09:00:13.325638Z",
     "shell.execute_reply": "2024-10-19T09:00:13.324379Z"
    },
    "papermill": {
     "duration": 2.678711,
     "end_time": "2024-10-19T09:00:13.328440",
     "exception": false,
     "start_time": "2024-10-19T09:00:10.649729",
     "status": "completed"
    },
    "scrolled": true,
    "tags": []
   },
   "outputs": [],
   "source": [
    "df = pd.read_csv('https://www.data.gouv.fr/fr/datasets/r/8571acc8-2f51-4d7e-9d87-bd5b8ec210e5', dtype='string')\n",
    "\n",
    "# Adresse ressources sur datagouv\n",
    "# -> https://www.data.gouv.fr/fr/datasets/une-vie-de-siren-au-boamp-ville-de-paris-217500016/#/resources"
   ]
  },
  {
   "cell_type": "markdown",
   "id": "5993c98f",
   "metadata": {
    "papermill": {
     "duration": 0.003289,
     "end_time": "2024-10-19T09:00:13.335341",
     "exception": false,
     "start_time": "2024-10-19T09:00:13.332052",
     "status": "completed"
    },
    "tags": []
   },
   "source": [
    "# Sélection de la colonne B_29_sourceSchema"
   ]
  },
  {
   "cell_type": "code",
   "execution_count": 3,
   "id": "1f75a346",
   "metadata": {
    "execution": {
     "iopub.execute_input": "2024-10-19T09:00:13.344078Z",
     "iopub.status.busy": "2024-10-19T09:00:13.343637Z",
     "iopub.status.idle": "2024-10-19T09:00:13.359220Z",
     "shell.execute_reply": "2024-10-19T09:00:13.358142Z"
    },
    "papermill": {
     "duration": 0.023,
     "end_time": "2024-10-19T09:00:13.361633",
     "exception": false,
     "start_time": "2024-10-19T09:00:13.338633",
     "status": "completed"
    },
    "tags": []
   },
   "outputs": [],
   "source": [
    "df_ = df.loc[:, ['B_29_sourceSchema']].copy()"
   ]
  },
  {
   "cell_type": "markdown",
   "id": "d970e799",
   "metadata": {
    "papermill": {
     "duration": 0.003358,
     "end_time": "2024-10-19T09:00:13.368705",
     "exception": false,
     "start_time": "2024-10-19T09:00:13.365347",
     "status": "completed"
    },
    "tags": []
   },
   "source": [
    "# Lecture des dernières lignes"
   ]
  },
  {
   "cell_type": "code",
   "execution_count": 4,
   "id": "0902f830",
   "metadata": {
    "execution": {
     "iopub.execute_input": "2024-10-19T09:00:13.378119Z",
     "iopub.status.busy": "2024-10-19T09:00:13.377048Z",
     "iopub.status.idle": "2024-10-19T09:00:13.398859Z",
     "shell.execute_reply": "2024-10-19T09:00:13.397532Z"
    },
    "papermill": {
     "duration": 0.029265,
     "end_time": "2024-10-19T09:00:13.401477",
     "exception": false,
     "start_time": "2024-10-19T09:00:13.372212",
     "status": "completed"
    },
    "tags": []
   },
   "outputs": [
    {
     "data": {
      "text/html": [
       "<div>\n",
       "<style scoped>\n",
       "    .dataframe tbody tr th:only-of-type {\n",
       "        vertical-align: middle;\n",
       "    }\n",
       "\n",
       "    .dataframe tbody tr th {\n",
       "        vertical-align: top;\n",
       "    }\n",
       "\n",
       "    .dataframe thead th {\n",
       "        text-align: right;\n",
       "    }\n",
       "</style>\n",
       "<table border=\"1\" class=\"dataframe\">\n",
       "  <thead>\n",
       "    <tr style=\"text-align: right;\">\n",
       "      <th></th>\n",
       "      <th>B_29_sourceSchema</th>\n",
       "    </tr>\n",
       "  </thead>\n",
       "  <tbody>\n",
       "    <tr>\n",
       "      <th>726</th>\n",
       "      <td>3.2.5</td>\n",
       "    </tr>\n",
       "    <tr>\n",
       "      <th>727</th>\n",
       "      <td>3.2.5</td>\n",
       "    </tr>\n",
       "    <tr>\n",
       "      <th>728</th>\n",
       "      <td>3.2.5</td>\n",
       "    </tr>\n",
       "    <tr>\n",
       "      <th>729</th>\n",
       "      <td>3.2.5</td>\n",
       "    </tr>\n",
       "    <tr>\n",
       "      <th>730</th>\n",
       "      <td>3.2.5</td>\n",
       "    </tr>\n",
       "  </tbody>\n",
       "</table>\n",
       "</div>"
      ],
      "text/plain": [
       "    B_29_sourceSchema\n",
       "726             3.2.5\n",
       "727             3.2.5\n",
       "728             3.2.5\n",
       "729             3.2.5\n",
       "730             3.2.5"
      ]
     },
     "execution_count": 4,
     "metadata": {},
     "output_type": "execute_result"
    }
   ],
   "source": [
    "df_.loc[df_.B_29_sourceSchema.notna(),:].tail()"
   ]
  }
 ],
 "metadata": {
  "kaggle": {
   "accelerator": "none",
   "dataSources": [],
   "isGpuEnabled": false,
   "isInternetEnabled": true,
   "language": "python",
   "sourceType": "notebook"
  },
  "kernelspec": {
   "display_name": "Python 3 (ipykernel)",
   "language": "python",
   "name": "python3"
  },
  "language_info": {
   "codemirror_mode": {
    "name": "ipython",
    "version": 3
   },
   "file_extension": ".py",
   "mimetype": "text/x-python",
   "name": "python",
   "nbconvert_exporter": "python",
   "pygments_lexer": "ipython3",
   "version": "3.10.14"
  },
  "papermill": {
   "default_parameters": {},
   "duration": 7.749443,
   "end_time": "2024-10-19T09:00:13.926939",
   "environment_variables": {},
   "exception": null,
   "input_path": "__notebook__.ipynb",
   "output_path": "__notebook__.ipynb",
   "parameters": {},
   "start_time": "2024-10-19T09:00:06.177496",
   "version": "2.6.0"
  },
  "widgets": {
   "application/vnd.jupyter.widget-state+json": {
    "state": {},
    "version_major": 2,
    "version_minor": 0
   }
  }
 },
 "nbformat": 4,
 "nbformat_minor": 5
}
