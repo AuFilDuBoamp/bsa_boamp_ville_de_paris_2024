{
 "cells": [
  {
   "cell_type": "markdown",
   "id": "cebb8151",
   "metadata": {
    "papermill": {
     "duration": 0.004687,
     "end_time": "2024-10-19T09:36:37.664397",
     "exception": false,
     "start_time": "2024-10-19T09:36:37.659710",
     "status": "completed"
    },
    "tags": []
   },
   "source": [
    "# Colonne «B_14_famille» (Initialisation)"
   ]
  },
  {
   "cell_type": "markdown",
   "id": "165cbaeb",
   "metadata": {
    "papermill": {
     "duration": 0.003302,
     "end_time": "2024-10-19T09:36:37.672011",
     "exception": false,
     "start_time": "2024-10-19T09:36:37.668709",
     "status": "completed"
    },
    "tags": []
   },
   "source": [
    "# Intro"
   ]
  },
  {
   "cell_type": "markdown",
   "id": "573e1af8",
   "metadata": {
    "papermill": {
     "duration": 0.002528,
     "end_time": "2024-10-19T09:36:37.677095",
     "exception": false,
     "start_time": "2024-10-19T09:36:37.674567",
     "status": "completed"
    },
    "tags": []
   },
   "source": [
    "# Import(s) et réglages"
   ]
  },
  {
   "cell_type": "code",
   "execution_count": 1,
   "id": "cc0907e4",
   "metadata": {
    "execution": {
     "iopub.execute_input": "2024-10-19T09:36:37.684389Z",
     "iopub.status.busy": "2024-10-19T09:36:37.683331Z",
     "iopub.status.idle": "2024-10-19T09:36:38.525278Z",
     "shell.execute_reply": "2024-10-19T09:36:38.524378Z"
    },
    "papermill": {
     "duration": 0.848131,
     "end_time": "2024-10-19T09:36:38.527633",
     "exception": false,
     "start_time": "2024-10-19T09:36:37.679502",
     "status": "completed"
    },
    "tags": []
   },
   "outputs": [],
   "source": [
    "# import\n",
    "import pandas as pd\n",
    "#réglages\n",
    "pd.set_option('display.max_colwidth', 500)\n",
    "pd.set_option('display.max_columns', 200)\n",
    "pd.set_option('display.max_rows', 200)"
   ]
  },
  {
   "cell_type": "markdown",
   "id": "0a322fae",
   "metadata": {
    "papermill": {
     "duration": 0.00231,
     "end_time": "2024-10-19T09:36:38.532777",
     "exception": false,
     "start_time": "2024-10-19T09:36:38.530467",
     "status": "completed"
    },
    "tags": []
   },
   "source": [
    "# Téléchargement des annonces de la Ville de Paris sur Datagouv"
   ]
  },
  {
   "cell_type": "code",
   "execution_count": 2,
   "id": "a93fdca4",
   "metadata": {
    "execution": {
     "iopub.execute_input": "2024-10-19T09:36:38.539145Z",
     "iopub.status.busy": "2024-10-19T09:36:38.538700Z",
     "iopub.status.idle": "2024-10-19T09:36:42.582647Z",
     "shell.execute_reply": "2024-10-19T09:36:42.581802Z"
    },
    "papermill": {
     "duration": 4.049838,
     "end_time": "2024-10-19T09:36:42.585091",
     "exception": false,
     "start_time": "2024-10-19T09:36:38.535253",
     "status": "completed"
    },
    "scrolled": true,
    "tags": []
   },
   "outputs": [],
   "source": [
    "df = pd.read_csv('https://www.data.gouv.fr/fr/datasets/r/8571acc8-2f51-4d7e-9d87-bd5b8ec210e5', dtype='string')\n",
    "\n",
    "# Adresse ressources sur datagouv\n",
    "# -> https://www.data.gouv.fr/fr/datasets/une-vie-de-siren-au-boamp-ville-de-paris-217500016/#/resources"
   ]
  },
  {
   "cell_type": "markdown",
   "id": "8b5fa109",
   "metadata": {
    "papermill": {
     "duration": 0.002366,
     "end_time": "2024-10-19T09:36:42.590237",
     "exception": false,
     "start_time": "2024-10-19T09:36:42.587871",
     "status": "completed"
    },
    "tags": []
   },
   "source": [
    "# Sélection de la colonne B_14_famille"
   ]
  },
  {
   "cell_type": "code",
   "execution_count": 3,
   "id": "b25fdfaf",
   "metadata": {
    "execution": {
     "iopub.execute_input": "2024-10-19T09:36:42.597025Z",
     "iopub.status.busy": "2024-10-19T09:36:42.596311Z",
     "iopub.status.idle": "2024-10-19T09:36:42.609956Z",
     "shell.execute_reply": "2024-10-19T09:36:42.609174Z"
    },
    "papermill": {
     "duration": 0.019274,
     "end_time": "2024-10-19T09:36:42.611964",
     "exception": false,
     "start_time": "2024-10-19T09:36:42.592690",
     "status": "completed"
    },
    "tags": []
   },
   "outputs": [],
   "source": [
    "df_ = df.loc[:, ['B_14_famille']].copy()"
   ]
  },
  {
   "cell_type": "markdown",
   "id": "1c515b03",
   "metadata": {
    "papermill": {
     "duration": 0.002312,
     "end_time": "2024-10-19T09:36:42.616873",
     "exception": false,
     "start_time": "2024-10-19T09:36:42.614561",
     "status": "completed"
    },
    "tags": []
   },
   "source": [
    "# Lecture des dernières lignes"
   ]
  },
  {
   "cell_type": "code",
   "execution_count": 4,
   "id": "071975a0",
   "metadata": {
    "execution": {
     "iopub.execute_input": "2024-10-19T09:36:42.623665Z",
     "iopub.status.busy": "2024-10-19T09:36:42.622891Z",
     "iopub.status.idle": "2024-10-19T09:36:42.638089Z",
     "shell.execute_reply": "2024-10-19T09:36:42.637169Z"
    },
    "papermill": {
     "duration": 0.02077,
     "end_time": "2024-10-19T09:36:42.640132",
     "exception": false,
     "start_time": "2024-10-19T09:36:42.619362",
     "status": "completed"
    },
    "tags": []
   },
   "outputs": [
    {
     "data": {
      "text/html": [
       "<div>\n",
       "<style scoped>\n",
       "    .dataframe tbody tr th:only-of-type {\n",
       "        vertical-align: middle;\n",
       "    }\n",
       "\n",
       "    .dataframe tbody tr th {\n",
       "        vertical-align: top;\n",
       "    }\n",
       "\n",
       "    .dataframe thead th {\n",
       "        text-align: right;\n",
       "    }\n",
       "</style>\n",
       "<table border=\"1\" class=\"dataframe\">\n",
       "  <thead>\n",
       "    <tr style=\"text-align: right;\">\n",
       "      <th></th>\n",
       "      <th>B_14_famille</th>\n",
       "    </tr>\n",
       "  </thead>\n",
       "  <tbody>\n",
       "    <tr>\n",
       "      <th>753</th>\n",
       "      <td>FNS</td>\n",
       "    </tr>\n",
       "    <tr>\n",
       "      <th>754</th>\n",
       "      <td>JOUE</td>\n",
       "    </tr>\n",
       "    <tr>\n",
       "      <th>755</th>\n",
       "      <td>JOUE</td>\n",
       "    </tr>\n",
       "    <tr>\n",
       "      <th>756</th>\n",
       "      <td>MAPA</td>\n",
       "    </tr>\n",
       "    <tr>\n",
       "      <th>757</th>\n",
       "      <td>MAPA</td>\n",
       "    </tr>\n",
       "  </tbody>\n",
       "</table>\n",
       "</div>"
      ],
      "text/plain": [
       "    B_14_famille\n",
       "753          FNS\n",
       "754         JOUE\n",
       "755         JOUE\n",
       "756         MAPA\n",
       "757         MAPA"
      ]
     },
     "execution_count": 4,
     "metadata": {},
     "output_type": "execute_result"
    }
   ],
   "source": [
    "df_.loc[df_.B_14_famille.notna(),:].tail()"
   ]
  }
 ],
 "metadata": {
  "kaggle": {
   "accelerator": "none",
   "dataSources": [],
   "isGpuEnabled": false,
   "isInternetEnabled": true,
   "language": "python",
   "sourceType": "notebook"
  },
  "kernelspec": {
   "display_name": "Python 3 (ipykernel)",
   "language": "python",
   "name": "python3"
  },
  "language_info": {
   "codemirror_mode": {
    "name": "ipython",
    "version": 3
   },
   "file_extension": ".py",
   "mimetype": "text/x-python",
   "name": "python",
   "nbconvert_exporter": "python",
   "pygments_lexer": "ipython3",
   "version": "3.10.14"
  },
  "papermill": {
   "default_parameters": {},
   "duration": 8.05296,
   "end_time": "2024-10-19T09:36:43.061959",
   "environment_variables": {},
   "exception": null,
   "input_path": "__notebook__.ipynb",
   "output_path": "__notebook__.ipynb",
   "parameters": {},
   "start_time": "2024-10-19T09:36:35.008999",
   "version": "2.6.0"
  },
  "widgets": {
   "application/vnd.jupyter.widget-state+json": {
    "state": {},
    "version_major": 2,
    "version_minor": 0
   }
  }
 },
 "nbformat": 4,
 "nbformat_minor": 5
}
