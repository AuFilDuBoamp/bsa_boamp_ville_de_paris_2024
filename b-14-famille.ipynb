{
 "cells": [
  {
   "cell_type": "markdown",
   "id": "0bcdabde",
   "metadata": {
    "papermill": {
     "duration": 0.004534,
     "end_time": "2024-10-20T08:39:49.485981",
     "exception": false,
     "start_time": "2024-10-20T08:39:49.481447",
     "status": "completed"
    },
    "tags": []
   },
   "source": [
    "# Colonne «B_14_famille» (Initialisation)"
   ]
  },
  {
   "cell_type": "markdown",
   "id": "9e527989",
   "metadata": {
    "papermill": {
     "duration": 0.003409,
     "end_time": "2024-10-20T08:39:49.493596",
     "exception": false,
     "start_time": "2024-10-20T08:39:49.490187",
     "status": "completed"
    },
    "tags": []
   },
   "source": [
    "|NAVIGATION (travaux sur les annonces BOAMP de la Ville de Paris en 2024)|\n",
    "|---|\n",
    "|[Retour à l'INDEX (kaggle)](https://www.kaggle.com/code/aufilduboamp/index-ville-de-paris-aufilduboamp)|\n",
    "|[Rubrique AuFilDuBoamp.com](https://www.aufilduboamp.com/rubrique92.html)|\n",
    "|[Dépôt GitHub](https://github.com/AuFilDuBoamp/bsa_boamp_ville_de_paris_2024/tree/main)|\n",
    "|[Dépôt DataGouv](https://www.data.gouv.fr/fr/datasets/une-vie-de-siren-au-boamp-ville-de-paris-217500016/#/resources)|"
   ]
  },
  {
   "cell_type": "markdown",
   "id": "840db011",
   "metadata": {
    "papermill": {
     "duration": 0.003297,
     "end_time": "2024-10-20T08:39:49.500481",
     "exception": false,
     "start_time": "2024-10-20T08:39:49.497184",
     "status": "completed"
    },
    "tags": []
   },
   "source": [
    "# Import(s) et réglages"
   ]
  },
  {
   "cell_type": "code",
   "execution_count": 1,
   "id": "f8271faf",
   "metadata": {
    "execution": {
     "iopub.execute_input": "2024-10-20T08:39:49.510173Z",
     "iopub.status.busy": "2024-10-20T08:39:49.509532Z",
     "iopub.status.idle": "2024-10-20T08:39:50.503963Z",
     "shell.execute_reply": "2024-10-20T08:39:50.502371Z"
    },
    "papermill": {
     "duration": 1.00314,
     "end_time": "2024-10-20T08:39:50.507147",
     "exception": false,
     "start_time": "2024-10-20T08:39:49.504007",
     "status": "completed"
    },
    "tags": []
   },
   "outputs": [],
   "source": [
    "# import\n",
    "import pandas as pd\n",
    "#réglages\n",
    "pd.set_option('display.max_colwidth', 500)\n",
    "pd.set_option('display.max_columns', 200)\n",
    "pd.set_option('display.max_rows', 200)"
   ]
  },
  {
   "cell_type": "markdown",
   "id": "2eee0a72",
   "metadata": {
    "papermill": {
     "duration": 0.003547,
     "end_time": "2024-10-20T08:39:50.515127",
     "exception": false,
     "start_time": "2024-10-20T08:39:50.511580",
     "status": "completed"
    },
    "tags": []
   },
   "source": [
    "# Téléchargement des annonces de la Ville de Paris sur Datagouv"
   ]
  },
  {
   "cell_type": "code",
   "execution_count": 2,
   "id": "0996ec25",
   "metadata": {
    "execution": {
     "iopub.execute_input": "2024-10-20T08:39:50.525296Z",
     "iopub.status.busy": "2024-10-20T08:39:50.524616Z",
     "iopub.status.idle": "2024-10-20T08:39:52.456691Z",
     "shell.execute_reply": "2024-10-20T08:39:52.455361Z"
    },
    "papermill": {
     "duration": 1.940825,
     "end_time": "2024-10-20T08:39:52.459839",
     "exception": false,
     "start_time": "2024-10-20T08:39:50.519014",
     "status": "completed"
    },
    "scrolled": true,
    "tags": []
   },
   "outputs": [],
   "source": [
    "df = pd.read_csv('https://www.data.gouv.fr/fr/datasets/r/8571acc8-2f51-4d7e-9d87-bd5b8ec210e5', dtype='string')\n",
    "\n",
    "# Adresse ressources sur datagouv\n",
    "# -> https://www.data.gouv.fr/fr/datasets/une-vie-de-siren-au-boamp-ville-de-paris-217500016/#/resources"
   ]
  },
  {
   "cell_type": "markdown",
   "id": "dd106fd2",
   "metadata": {
    "papermill": {
     "duration": 0.003613,
     "end_time": "2024-10-20T08:39:52.467628",
     "exception": false,
     "start_time": "2024-10-20T08:39:52.464015",
     "status": "completed"
    },
    "tags": []
   },
   "source": [
    "# Sélection de la colonne B_14_famille"
   ]
  },
  {
   "cell_type": "code",
   "execution_count": 3,
   "id": "aa7767b6",
   "metadata": {
    "execution": {
     "iopub.execute_input": "2024-10-20T08:39:52.477477Z",
     "iopub.status.busy": "2024-10-20T08:39:52.476954Z",
     "iopub.status.idle": "2024-10-20T08:39:52.493074Z",
     "shell.execute_reply": "2024-10-20T08:39:52.491675Z"
    },
    "papermill": {
     "duration": 0.024349,
     "end_time": "2024-10-20T08:39:52.495814",
     "exception": false,
     "start_time": "2024-10-20T08:39:52.471465",
     "status": "completed"
    },
    "tags": []
   },
   "outputs": [],
   "source": [
    "df_ = df.loc[:, ['B_14_famille']].copy()"
   ]
  },
  {
   "cell_type": "markdown",
   "id": "9301c466",
   "metadata": {
    "papermill": {
     "duration": 0.00361,
     "end_time": "2024-10-20T08:39:52.503666",
     "exception": false,
     "start_time": "2024-10-20T08:39:52.500056",
     "status": "completed"
    },
    "tags": []
   },
   "source": [
    "# Lecture des dernières lignes"
   ]
  },
  {
   "cell_type": "code",
   "execution_count": 4,
   "id": "674557f6",
   "metadata": {
    "execution": {
     "iopub.execute_input": "2024-10-20T08:39:52.513363Z",
     "iopub.status.busy": "2024-10-20T08:39:52.512906Z",
     "iopub.status.idle": "2024-10-20T08:39:52.531608Z",
     "shell.execute_reply": "2024-10-20T08:39:52.530344Z"
    },
    "papermill": {
     "duration": 0.02672,
     "end_time": "2024-10-20T08:39:52.534243",
     "exception": false,
     "start_time": "2024-10-20T08:39:52.507523",
     "status": "completed"
    },
    "tags": []
   },
   "outputs": [
    {
     "data": {
      "text/html": [
       "<div>\n",
       "<style scoped>\n",
       "    .dataframe tbody tr th:only-of-type {\n",
       "        vertical-align: middle;\n",
       "    }\n",
       "\n",
       "    .dataframe tbody tr th {\n",
       "        vertical-align: top;\n",
       "    }\n",
       "\n",
       "    .dataframe thead th {\n",
       "        text-align: right;\n",
       "    }\n",
       "</style>\n",
       "<table border=\"1\" class=\"dataframe\">\n",
       "  <thead>\n",
       "    <tr style=\"text-align: right;\">\n",
       "      <th></th>\n",
       "      <th>B_14_famille</th>\n",
       "    </tr>\n",
       "  </thead>\n",
       "  <tbody>\n",
       "    <tr>\n",
       "      <th>753</th>\n",
       "      <td>JOUE</td>\n",
       "    </tr>\n",
       "    <tr>\n",
       "      <th>754</th>\n",
       "      <td>FNS</td>\n",
       "    </tr>\n",
       "    <tr>\n",
       "      <th>755</th>\n",
       "      <td>JOUE</td>\n",
       "    </tr>\n",
       "    <tr>\n",
       "      <th>756</th>\n",
       "      <td>MAPA</td>\n",
       "    </tr>\n",
       "    <tr>\n",
       "      <th>757</th>\n",
       "      <td>MAPA</td>\n",
       "    </tr>\n",
       "  </tbody>\n",
       "</table>\n",
       "</div>"
      ],
      "text/plain": [
       "    B_14_famille\n",
       "753         JOUE\n",
       "754          FNS\n",
       "755         JOUE\n",
       "756         MAPA\n",
       "757         MAPA"
      ]
     },
     "execution_count": 4,
     "metadata": {},
     "output_type": "execute_result"
    }
   ],
   "source": [
    "df_.loc[df_.B_14_famille.notna(),:].tail()"
   ]
  }
 ],
 "metadata": {
  "kaggle": {
   "accelerator": "none",
   "dataSources": [],
   "dockerImageVersionId": 30786,
   "isGpuEnabled": false,
   "isInternetEnabled": true,
   "language": "python",
   "sourceType": "notebook"
  },
  "kernelspec": {
   "display_name": "Python 3 (ipykernel)",
   "language": "python",
   "name": "python3"
  },
  "language_info": {
   "codemirror_mode": {
    "name": "ipython",
    "version": 3
   },
   "file_extension": ".py",
   "mimetype": "text/x-python",
   "name": "python",
   "nbconvert_exporter": "python",
   "pygments_lexer": "ipython3",
   "version": "3.10.14"
  },
  "papermill": {
   "default_parameters": {},
   "duration": 7.314674,
   "end_time": "2024-10-20T08:39:53.261238",
   "environment_variables": {},
   "exception": null,
   "input_path": "__notebook__.ipynb",
   "output_path": "__notebook__.ipynb",
   "parameters": {},
   "start_time": "2024-10-20T08:39:45.946564",
   "version": "2.6.0"
  },
  "widgets": {
   "application/vnd.jupyter.widget-state+json": {
    "state": {},
    "version_major": 2,
    "version_minor": 0
   }
  }
 },
 "nbformat": 4,
 "nbformat_minor": 5
}
