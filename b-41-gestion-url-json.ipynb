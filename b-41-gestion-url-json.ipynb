{
 "cells": [
  {
   "cell_type": "markdown",
   "id": "f7f295e8",
   "metadata": {
    "papermill": {
     "duration": 0.003499,
     "end_time": "2024-10-19T09:46:33.296847",
     "exception": false,
     "start_time": "2024-10-19T09:46:33.293348",
     "status": "completed"
    },
    "tags": []
   },
   "source": [
    "# Colonne «B_41_GESTION_URL_JSON» (Initialisation)"
   ]
  },
  {
   "cell_type": "markdown",
   "id": "5432f826",
   "metadata": {
    "papermill": {
     "duration": 0.002987,
     "end_time": "2024-10-19T09:46:33.303816",
     "exception": false,
     "start_time": "2024-10-19T09:46:33.300829",
     "status": "completed"
    },
    "tags": []
   },
   "source": [
    "# Intro"
   ]
  },
  {
   "cell_type": "markdown",
   "id": "c9d753d4",
   "metadata": {
    "papermill": {
     "duration": 0.00283,
     "end_time": "2024-10-19T09:46:33.309952",
     "exception": false,
     "start_time": "2024-10-19T09:46:33.307122",
     "status": "completed"
    },
    "tags": []
   },
   "source": [
    "# Import(s) et réglages"
   ]
  },
  {
   "cell_type": "code",
   "execution_count": 1,
   "id": "b0e3f4fe",
   "metadata": {
    "execution": {
     "iopub.execute_input": "2024-10-19T09:46:33.319293Z",
     "iopub.status.busy": "2024-10-19T09:46:33.317843Z",
     "iopub.status.idle": "2024-10-19T09:46:34.325271Z",
     "shell.execute_reply": "2024-10-19T09:46:34.323567Z"
    },
    "papermill": {
     "duration": 1.015806,
     "end_time": "2024-10-19T09:46:34.328969",
     "exception": false,
     "start_time": "2024-10-19T09:46:33.313163",
     "status": "completed"
    },
    "tags": []
   },
   "outputs": [],
   "source": [
    "# import\n",
    "import pandas as pd\n",
    "#réglages\n",
    "pd.set_option('display.max_colwidth', 1500)\n",
    "pd.set_option('display.max_columns', 200)\n",
    "pd.set_option('display.max_rows', 200)"
   ]
  },
  {
   "cell_type": "markdown",
   "id": "9092295e",
   "metadata": {
    "papermill": {
     "duration": 0.002854,
     "end_time": "2024-10-19T09:46:34.336429",
     "exception": false,
     "start_time": "2024-10-19T09:46:34.333575",
     "status": "completed"
    },
    "tags": []
   },
   "source": [
    "# Téléchargement des annonces de la Ville de Paris sur Datagouv"
   ]
  },
  {
   "cell_type": "code",
   "execution_count": 2,
   "id": "0e5a4418",
   "metadata": {
    "execution": {
     "iopub.execute_input": "2024-10-19T09:46:34.344945Z",
     "iopub.status.busy": "2024-10-19T09:46:34.344372Z",
     "iopub.status.idle": "2024-10-19T09:46:39.509859Z",
     "shell.execute_reply": "2024-10-19T09:46:39.508553Z"
    },
    "papermill": {
     "duration": 5.173492,
     "end_time": "2024-10-19T09:46:39.513170",
     "exception": false,
     "start_time": "2024-10-19T09:46:34.339678",
     "status": "completed"
    },
    "scrolled": true,
    "tags": []
   },
   "outputs": [],
   "source": [
    "df = pd.read_csv('https://www.data.gouv.fr/fr/datasets/r/8571acc8-2f51-4d7e-9d87-bd5b8ec210e5', dtype='string')\n",
    "\n",
    "# Adresse ressources sur datagouv\n",
    "# -> https://www.data.gouv.fr/fr/datasets/une-vie-de-siren-au-boamp-ville-de-paris-217500016/#/resources"
   ]
  },
  {
   "cell_type": "markdown",
   "id": "10315328",
   "metadata": {
    "papermill": {
     "duration": 0.003566,
     "end_time": "2024-10-19T09:46:39.520286",
     "exception": false,
     "start_time": "2024-10-19T09:46:39.516720",
     "status": "completed"
    },
    "tags": []
   },
   "source": [
    "# Sélection de la colonne B_41_GESTION_URL_JSON"
   ]
  },
  {
   "cell_type": "code",
   "execution_count": 3,
   "id": "d2f28c25",
   "metadata": {
    "execution": {
     "iopub.execute_input": "2024-10-19T09:46:39.530874Z",
     "iopub.status.busy": "2024-10-19T09:46:39.530455Z",
     "iopub.status.idle": "2024-10-19T09:46:39.547276Z",
     "shell.execute_reply": "2024-10-19T09:46:39.546095Z"
    },
    "papermill": {
     "duration": 0.026806,
     "end_time": "2024-10-19T09:46:39.550197",
     "exception": false,
     "start_time": "2024-10-19T09:46:39.523391",
     "status": "completed"
    },
    "tags": []
   },
   "outputs": [],
   "source": [
    "df_ = df.loc[:, ['B_41_GESTION_URL_JSON']].copy()"
   ]
  },
  {
   "cell_type": "markdown",
   "id": "c63ab4dc",
   "metadata": {
    "papermill": {
     "duration": 0.002808,
     "end_time": "2024-10-19T09:46:39.556222",
     "exception": false,
     "start_time": "2024-10-19T09:46:39.553414",
     "status": "completed"
    },
    "tags": []
   },
   "source": [
    "# Lecture des dernières lignes"
   ]
  },
  {
   "cell_type": "code",
   "execution_count": 4,
   "id": "2d914228",
   "metadata": {
    "execution": {
     "iopub.execute_input": "2024-10-19T09:46:39.564676Z",
     "iopub.status.busy": "2024-10-19T09:46:39.563938Z",
     "iopub.status.idle": "2024-10-19T09:46:39.583515Z",
     "shell.execute_reply": "2024-10-19T09:46:39.582147Z"
    },
    "papermill": {
     "duration": 0.027425,
     "end_time": "2024-10-19T09:46:39.586674",
     "exception": false,
     "start_time": "2024-10-19T09:46:39.559249",
     "status": "completed"
    },
    "tags": []
   },
   "outputs": [
    {
     "data": {
      "text/html": [
       "<div>\n",
       "<style scoped>\n",
       "    .dataframe tbody tr th:only-of-type {\n",
       "        vertical-align: middle;\n",
       "    }\n",
       "\n",
       "    .dataframe tbody tr th {\n",
       "        vertical-align: top;\n",
       "    }\n",
       "\n",
       "    .dataframe thead th {\n",
       "        text-align: right;\n",
       "    }\n",
       "</style>\n",
       "<table border=\"1\" class=\"dataframe\">\n",
       "  <thead>\n",
       "    <tr style=\"text-align: right;\">\n",
       "      <th></th>\n",
       "      <th>B_41_GESTION_URL_JSON</th>\n",
       "    </tr>\n",
       "  </thead>\n",
       "  <tbody>\n",
       "    <tr>\n",
       "      <th>753</th>\n",
       "      <td>https://www.aufilduboamp.com/partages/aufilduboamp_json_p40_gestion_2024/24-1437.json</td>\n",
       "    </tr>\n",
       "    <tr>\n",
       "      <th>754</th>\n",
       "      <td>https://www.aufilduboamp.com/partages/aufilduboamp_json_p40_gestion_2024/24-303.json</td>\n",
       "    </tr>\n",
       "    <tr>\n",
       "      <th>755</th>\n",
       "      <td>https://www.aufilduboamp.com/partages/aufilduboamp_json_p40_gestion_2024/24-243.json</td>\n",
       "    </tr>\n",
       "    <tr>\n",
       "      <th>756</th>\n",
       "      <td>https://www.aufilduboamp.com/partages/aufilduboamp_json_p40_gestion_2024/24-660.json</td>\n",
       "    </tr>\n",
       "    <tr>\n",
       "      <th>757</th>\n",
       "      <td>https://www.aufilduboamp.com/partages/aufilduboamp_json_p40_gestion_2024/24-712.json</td>\n",
       "    </tr>\n",
       "  </tbody>\n",
       "</table>\n",
       "</div>"
      ],
      "text/plain": [
       "                                                                     B_41_GESTION_URL_JSON\n",
       "753  https://www.aufilduboamp.com/partages/aufilduboamp_json_p40_gestion_2024/24-1437.json\n",
       "754   https://www.aufilduboamp.com/partages/aufilduboamp_json_p40_gestion_2024/24-303.json\n",
       "755   https://www.aufilduboamp.com/partages/aufilduboamp_json_p40_gestion_2024/24-243.json\n",
       "756   https://www.aufilduboamp.com/partages/aufilduboamp_json_p40_gestion_2024/24-660.json\n",
       "757   https://www.aufilduboamp.com/partages/aufilduboamp_json_p40_gestion_2024/24-712.json"
      ]
     },
     "execution_count": 4,
     "metadata": {},
     "output_type": "execute_result"
    }
   ],
   "source": [
    "df_.loc[df_.B_41_GESTION_URL_JSON.notna(),:].tail()"
   ]
  }
 ],
 "metadata": {
  "kaggle": {
   "accelerator": "none",
   "dataSources": [],
   "dockerImageVersionId": 30786,
   "isGpuEnabled": false,
   "isInternetEnabled": true,
   "language": "python",
   "sourceType": "notebook"
  },
  "kernelspec": {
   "display_name": "Python 3",
   "language": "python",
   "name": "python3"
  },
  "language_info": {
   "codemirror_mode": {
    "name": "ipython",
    "version": 3
   },
   "file_extension": ".py",
   "mimetype": "text/x-python",
   "name": "python",
   "nbconvert_exporter": "python",
   "pygments_lexer": "ipython3",
   "version": "3.10.14"
  },
  "papermill": {
   "default_parameters": {},
   "duration": 9.746714,
   "end_time": "2024-10-19T09:46:40.113978",
   "environment_variables": {},
   "exception": null,
   "input_path": "__notebook__.ipynb",
   "output_path": "__notebook__.ipynb",
   "parameters": {},
   "start_time": "2024-10-19T09:46:30.367264",
   "version": "2.6.0"
  },
  "widgets": {
   "application/vnd.jupyter.widget-state+json": {
    "state": {},
    "version_major": 2,
    "version_minor": 0
   }
  }
 },
 "nbformat": 4,
 "nbformat_minor": 5
}
