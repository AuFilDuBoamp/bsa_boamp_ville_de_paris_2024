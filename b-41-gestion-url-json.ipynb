{
 "cells": [
  {
   "cell_type": "markdown",
   "id": "57875107",
   "metadata": {
    "papermill": {
     "duration": 0.004322,
     "end_time": "2024-10-20T08:53:05.274237",
     "exception": false,
     "start_time": "2024-10-20T08:53:05.269915",
     "status": "completed"
    },
    "tags": []
   },
   "source": [
    "# Colonne «B_41_GESTION_URL_JSON» (Initialisation)"
   ]
  },
  {
   "cell_type": "markdown",
   "id": "e55347fe",
   "metadata": {
    "papermill": {
     "duration": 0.003579,
     "end_time": "2024-10-20T08:53:05.281937",
     "exception": false,
     "start_time": "2024-10-20T08:53:05.278358",
     "status": "completed"
    },
    "tags": []
   },
   "source": [
    "|NAVIGATION (travaux sur les annonces BOAMP de la Ville de Paris en 2024)|\n",
    "|---|\n",
    "|[Retour à l'INDEX (kaggle)](https://www.kaggle.com/code/aufilduboamp/index-ville-de-paris-aufilduboamp)|\n",
    "|[Rubrique AuFilDuBoamp.com](https://www.aufilduboamp.com/rubrique92.html)|\n",
    "|[Dépôt GitHub](https://github.com/AuFilDuBoamp/bsa_boamp_ville_de_paris_2024/tree/main)|\n",
    "|[Dépôt DataGouv](https://www.data.gouv.fr/fr/datasets/une-vie-de-siren-au-boamp-ville-de-paris-217500016/#/resources)|"
   ]
  },
  {
   "cell_type": "markdown",
   "id": "1ec490f1",
   "metadata": {
    "papermill": {
     "duration": 0.003471,
     "end_time": "2024-10-20T08:53:05.289180",
     "exception": false,
     "start_time": "2024-10-20T08:53:05.285709",
     "status": "completed"
    },
    "tags": []
   },
   "source": [
    "# Import(s) et réglages"
   ]
  },
  {
   "cell_type": "code",
   "execution_count": 1,
   "id": "5a7449ac",
   "metadata": {
    "execution": {
     "iopub.execute_input": "2024-10-20T08:53:05.298867Z",
     "iopub.status.busy": "2024-10-20T08:53:05.298187Z",
     "iopub.status.idle": "2024-10-20T08:53:06.162213Z",
     "shell.execute_reply": "2024-10-20T08:53:06.161021Z"
    },
    "papermill": {
     "duration": 0.872108,
     "end_time": "2024-10-20T08:53:06.164988",
     "exception": false,
     "start_time": "2024-10-20T08:53:05.292880",
     "status": "completed"
    },
    "tags": []
   },
   "outputs": [],
   "source": [
    "# import\n",
    "import pandas as pd\n",
    "#réglages\n",
    "pd.set_option('display.max_colwidth', 1500)\n",
    "pd.set_option('display.max_columns', 200)\n",
    "pd.set_option('display.max_rows', 200)"
   ]
  },
  {
   "cell_type": "markdown",
   "id": "7bf87b5c",
   "metadata": {
    "papermill": {
     "duration": 0.003628,
     "end_time": "2024-10-20T08:53:06.172978",
     "exception": false,
     "start_time": "2024-10-20T08:53:06.169350",
     "status": "completed"
    },
    "tags": []
   },
   "source": [
    "# Téléchargement des annonces de la Ville de Paris sur Datagouv"
   ]
  },
  {
   "cell_type": "code",
   "execution_count": 2,
   "id": "a5166d44",
   "metadata": {
    "execution": {
     "iopub.execute_input": "2024-10-20T08:53:06.182758Z",
     "iopub.status.busy": "2024-10-20T08:53:06.182155Z",
     "iopub.status.idle": "2024-10-20T08:53:08.690193Z",
     "shell.execute_reply": "2024-10-20T08:53:08.689002Z"
    },
    "papermill": {
     "duration": 2.516477,
     "end_time": "2024-10-20T08:53:08.693175",
     "exception": false,
     "start_time": "2024-10-20T08:53:06.176698",
     "status": "completed"
    },
    "scrolled": true,
    "tags": []
   },
   "outputs": [],
   "source": [
    "df = pd.read_csv('https://www.data.gouv.fr/fr/datasets/r/8571acc8-2f51-4d7e-9d87-bd5b8ec210e5', dtype='string')\n",
    "\n",
    "# Adresse ressources sur datagouv\n",
    "# -> https://www.data.gouv.fr/fr/datasets/une-vie-de-siren-au-boamp-ville-de-paris-217500016/#/resources"
   ]
  },
  {
   "cell_type": "markdown",
   "id": "7a8adcad",
   "metadata": {
    "papermill": {
     "duration": 0.003514,
     "end_time": "2024-10-20T08:53:08.700607",
     "exception": false,
     "start_time": "2024-10-20T08:53:08.697093",
     "status": "completed"
    },
    "tags": []
   },
   "source": [
    "# Sélection de la colonne B_41_GESTION_URL_JSON"
   ]
  },
  {
   "cell_type": "code",
   "execution_count": 3,
   "id": "b369a88c",
   "metadata": {
    "execution": {
     "iopub.execute_input": "2024-10-20T08:53:08.710393Z",
     "iopub.status.busy": "2024-10-20T08:53:08.709359Z",
     "iopub.status.idle": "2024-10-20T08:53:08.722333Z",
     "shell.execute_reply": "2024-10-20T08:53:08.721238Z"
    },
    "papermill": {
     "duration": 0.020533,
     "end_time": "2024-10-20T08:53:08.724793",
     "exception": false,
     "start_time": "2024-10-20T08:53:08.704260",
     "status": "completed"
    },
    "tags": []
   },
   "outputs": [],
   "source": [
    "df_ = df.loc[:, ['B_41_GESTION_URL_JSON']].copy()"
   ]
  },
  {
   "cell_type": "markdown",
   "id": "a237c7d6",
   "metadata": {
    "papermill": {
     "duration": 0.003495,
     "end_time": "2024-10-20T08:53:08.732147",
     "exception": false,
     "start_time": "2024-10-20T08:53:08.728652",
     "status": "completed"
    },
    "tags": []
   },
   "source": [
    "# Lecture des dernières lignes"
   ]
  },
  {
   "cell_type": "code",
   "execution_count": 4,
   "id": "d6c19430",
   "metadata": {
    "execution": {
     "iopub.execute_input": "2024-10-20T08:53:08.741182Z",
     "iopub.status.busy": "2024-10-20T08:53:08.740710Z",
     "iopub.status.idle": "2024-10-20T08:53:08.757819Z",
     "shell.execute_reply": "2024-10-20T08:53:08.756709Z"
    },
    "papermill": {
     "duration": 0.0245,
     "end_time": "2024-10-20T08:53:08.760281",
     "exception": false,
     "start_time": "2024-10-20T08:53:08.735781",
     "status": "completed"
    },
    "tags": []
   },
   "outputs": [
    {
     "data": {
      "text/html": [
       "<div>\n",
       "<style scoped>\n",
       "    .dataframe tbody tr th:only-of-type {\n",
       "        vertical-align: middle;\n",
       "    }\n",
       "\n",
       "    .dataframe tbody tr th {\n",
       "        vertical-align: top;\n",
       "    }\n",
       "\n",
       "    .dataframe thead th {\n",
       "        text-align: right;\n",
       "    }\n",
       "</style>\n",
       "<table border=\"1\" class=\"dataframe\">\n",
       "  <thead>\n",
       "    <tr style=\"text-align: right;\">\n",
       "      <th></th>\n",
       "      <th>B_41_GESTION_URL_JSON</th>\n",
       "    </tr>\n",
       "  </thead>\n",
       "  <tbody>\n",
       "    <tr>\n",
       "      <th>753</th>\n",
       "      <td>https://www.aufilduboamp.com/partages/aufilduboamp_json_p40_gestion_2024/24-243.json</td>\n",
       "    </tr>\n",
       "    <tr>\n",
       "      <th>754</th>\n",
       "      <td>https://www.aufilduboamp.com/partages/aufilduboamp_json_p40_gestion_2024/24-1437.json</td>\n",
       "    </tr>\n",
       "    <tr>\n",
       "      <th>755</th>\n",
       "      <td>https://www.aufilduboamp.com/partages/aufilduboamp_json_p40_gestion_2024/24-303.json</td>\n",
       "    </tr>\n",
       "    <tr>\n",
       "      <th>756</th>\n",
       "      <td>https://www.aufilduboamp.com/partages/aufilduboamp_json_p40_gestion_2024/24-660.json</td>\n",
       "    </tr>\n",
       "    <tr>\n",
       "      <th>757</th>\n",
       "      <td>https://www.aufilduboamp.com/partages/aufilduboamp_json_p40_gestion_2024/24-712.json</td>\n",
       "    </tr>\n",
       "  </tbody>\n",
       "</table>\n",
       "</div>"
      ],
      "text/plain": [
       "                                                                     B_41_GESTION_URL_JSON\n",
       "753   https://www.aufilduboamp.com/partages/aufilduboamp_json_p40_gestion_2024/24-243.json\n",
       "754  https://www.aufilduboamp.com/partages/aufilduboamp_json_p40_gestion_2024/24-1437.json\n",
       "755   https://www.aufilduboamp.com/partages/aufilduboamp_json_p40_gestion_2024/24-303.json\n",
       "756   https://www.aufilduboamp.com/partages/aufilduboamp_json_p40_gestion_2024/24-660.json\n",
       "757   https://www.aufilduboamp.com/partages/aufilduboamp_json_p40_gestion_2024/24-712.json"
      ]
     },
     "execution_count": 4,
     "metadata": {},
     "output_type": "execute_result"
    }
   ],
   "source": [
    "df_.loc[df_.B_41_GESTION_URL_JSON.notna(),:].tail()"
   ]
  }
 ],
 "metadata": {
  "kaggle": {
   "accelerator": "none",
   "dataSources": [],
   "dockerImageVersionId": 30786,
   "isGpuEnabled": false,
   "isInternetEnabled": true,
   "language": "python",
   "sourceType": "notebook"
  },
  "kernelspec": {
   "display_name": "Python 3",
   "language": "python",
   "name": "python3"
  },
  "language_info": {
   "codemirror_mode": {
    "name": "ipython",
    "version": 3
   },
   "file_extension": ".py",
   "mimetype": "text/x-python",
   "name": "python",
   "nbconvert_exporter": "python",
   "pygments_lexer": "ipython3",
   "version": "3.10.14"
  },
  "papermill": {
   "default_parameters": {},
   "duration": 6.785144,
   "end_time": "2024-10-20T08:53:09.183719",
   "environment_variables": {},
   "exception": null,
   "input_path": "__notebook__.ipynb",
   "output_path": "__notebook__.ipynb",
   "parameters": {},
   "start_time": "2024-10-20T08:53:02.398575",
   "version": "2.6.0"
  },
  "widgets": {
   "application/vnd.jupyter.widget-state+json": {
    "state": {},
    "version_major": 2,
    "version_minor": 0
   }
  }
 },
 "nbformat": 4,
 "nbformat_minor": 5
}
