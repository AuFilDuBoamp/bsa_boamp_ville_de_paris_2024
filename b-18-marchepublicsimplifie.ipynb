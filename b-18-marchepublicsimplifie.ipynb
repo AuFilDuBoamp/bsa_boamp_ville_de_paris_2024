{
 "cells": [
  {
   "cell_type": "markdown",
   "id": "cd67250f",
   "metadata": {
    "papermill": {
     "duration": 0.004547,
     "end_time": "2024-10-20T08:41:49.684854",
     "exception": false,
     "start_time": "2024-10-20T08:41:49.680307",
     "status": "completed"
    },
    "tags": []
   },
   "source": [
    "# Colonne «B_18_marchePublicSimplifie» (Initialisation)"
   ]
  },
  {
   "cell_type": "markdown",
   "id": "b72bd0a3",
   "metadata": {
    "papermill": {
     "duration": 0.003322,
     "end_time": "2024-10-20T08:41:49.692403",
     "exception": false,
     "start_time": "2024-10-20T08:41:49.689081",
     "status": "completed"
    },
    "tags": []
   },
   "source": [
    "|NAVIGATION (travaux sur les annonces BOAMP de la Ville de Paris en 2024)|\n",
    "|---|\n",
    "|[Retour à l'INDEX (kaggle)](https://www.kaggle.com/code/aufilduboamp/index-ville-de-paris-aufilduboamp)|\n",
    "|[Rubrique AuFilDuBoamp.com](https://www.aufilduboamp.com/rubrique92.html)|\n",
    "|[Dépôt GitHub](https://github.com/AuFilDuBoamp/bsa_boamp_ville_de_paris_2024/tree/main)|\n",
    "|[Dépôt DataGouv](https://www.data.gouv.fr/fr/datasets/une-vie-de-siren-au-boamp-ville-de-paris-217500016/#/resources)|"
   ]
  },
  {
   "cell_type": "markdown",
   "id": "d93abcd9",
   "metadata": {
    "papermill": {
     "duration": 0.003195,
     "end_time": "2024-10-20T08:41:49.699140",
     "exception": false,
     "start_time": "2024-10-20T08:41:49.695945",
     "status": "completed"
    },
    "tags": []
   },
   "source": [
    "# Import(s) et réglages"
   ]
  },
  {
   "cell_type": "code",
   "execution_count": 1,
   "id": "7345cfc1",
   "metadata": {
    "execution": {
     "iopub.execute_input": "2024-10-20T08:41:49.708044Z",
     "iopub.status.busy": "2024-10-20T08:41:49.707569Z",
     "iopub.status.idle": "2024-10-20T08:41:50.634381Z",
     "shell.execute_reply": "2024-10-20T08:41:50.633171Z"
    },
    "papermill": {
     "duration": 0.934717,
     "end_time": "2024-10-20T08:41:50.637237",
     "exception": false,
     "start_time": "2024-10-20T08:41:49.702520",
     "status": "completed"
    },
    "tags": []
   },
   "outputs": [],
   "source": [
    "# import\n",
    "import pandas as pd\n",
    "#réglages\n",
    "pd.set_option('display.max_colwidth', 500)\n",
    "pd.set_option('display.max_columns', 200)\n",
    "pd.set_option('display.max_rows', 200)"
   ]
  },
  {
   "cell_type": "markdown",
   "id": "5239d7d3",
   "metadata": {
    "papermill": {
     "duration": 0.003236,
     "end_time": "2024-10-20T08:41:50.644399",
     "exception": false,
     "start_time": "2024-10-20T08:41:50.641163",
     "status": "completed"
    },
    "tags": []
   },
   "source": [
    "# Téléchargement des annonces de la Ville de Paris sur Datagouv"
   ]
  },
  {
   "cell_type": "code",
   "execution_count": 2,
   "id": "54919fb8",
   "metadata": {
    "execution": {
     "iopub.execute_input": "2024-10-20T08:41:50.653916Z",
     "iopub.status.busy": "2024-10-20T08:41:50.652798Z",
     "iopub.status.idle": "2024-10-20T08:41:53.137423Z",
     "shell.execute_reply": "2024-10-20T08:41:53.136131Z"
    },
    "papermill": {
     "duration": 2.492823,
     "end_time": "2024-10-20T08:41:53.140597",
     "exception": false,
     "start_time": "2024-10-20T08:41:50.647774",
     "status": "completed"
    },
    "scrolled": true,
    "tags": []
   },
   "outputs": [],
   "source": [
    "df = pd.read_csv('https://www.data.gouv.fr/fr/datasets/r/8571acc8-2f51-4d7e-9d87-bd5b8ec210e5', dtype='string')\n",
    "\n",
    "# Adresse ressources sur datagouv\n",
    "# -> https://www.data.gouv.fr/fr/datasets/une-vie-de-siren-au-boamp-ville-de-paris-217500016/#/resources"
   ]
  },
  {
   "cell_type": "markdown",
   "id": "95605925",
   "metadata": {
    "papermill": {
     "duration": 0.003294,
     "end_time": "2024-10-20T08:41:53.147575",
     "exception": false,
     "start_time": "2024-10-20T08:41:53.144281",
     "status": "completed"
    },
    "tags": []
   },
   "source": [
    "# Sélection de la colonne B_18_marchePublicSimplifie"
   ]
  },
  {
   "cell_type": "code",
   "execution_count": 3,
   "id": "05951cab",
   "metadata": {
    "execution": {
     "iopub.execute_input": "2024-10-20T08:41:53.156485Z",
     "iopub.status.busy": "2024-10-20T08:41:53.156040Z",
     "iopub.status.idle": "2024-10-20T08:41:53.170505Z",
     "shell.execute_reply": "2024-10-20T08:41:53.169096Z"
    },
    "papermill": {
     "duration": 0.022013,
     "end_time": "2024-10-20T08:41:53.173035",
     "exception": false,
     "start_time": "2024-10-20T08:41:53.151022",
     "status": "completed"
    },
    "tags": []
   },
   "outputs": [],
   "source": [
    "df_ = df.loc[:, ['B_18_marchePublicSimplifie']].copy()"
   ]
  },
  {
   "cell_type": "markdown",
   "id": "d6f84f7c",
   "metadata": {
    "papermill": {
     "duration": 0.003336,
     "end_time": "2024-10-20T08:41:53.180011",
     "exception": false,
     "start_time": "2024-10-20T08:41:53.176675",
     "status": "completed"
    },
    "tags": []
   },
   "source": [
    "# Lecture des dernières lignes"
   ]
  },
  {
   "cell_type": "code",
   "execution_count": 4,
   "id": "25b999b4",
   "metadata": {
    "execution": {
     "iopub.execute_input": "2024-10-20T08:41:53.189470Z",
     "iopub.status.busy": "2024-10-20T08:41:53.188320Z",
     "iopub.status.idle": "2024-10-20T08:41:53.205458Z",
     "shell.execute_reply": "2024-10-20T08:41:53.204105Z"
    },
    "papermill": {
     "duration": 0.024663,
     "end_time": "2024-10-20T08:41:53.208145",
     "exception": false,
     "start_time": "2024-10-20T08:41:53.183482",
     "status": "completed"
    },
    "tags": []
   },
   "outputs": [
    {
     "data": {
      "text/html": [
       "<div>\n",
       "<style scoped>\n",
       "    .dataframe tbody tr th:only-of-type {\n",
       "        vertical-align: middle;\n",
       "    }\n",
       "\n",
       "    .dataframe tbody tr th {\n",
       "        vertical-align: top;\n",
       "    }\n",
       "\n",
       "    .dataframe thead th {\n",
       "        text-align: right;\n",
       "    }\n",
       "</style>\n",
       "<table border=\"1\" class=\"dataframe\">\n",
       "  <thead>\n",
       "    <tr style=\"text-align: right;\">\n",
       "      <th></th>\n",
       "      <th>B_18_marchePublicSimplifie</th>\n",
       "    </tr>\n",
       "  </thead>\n",
       "  <tbody>\n",
       "  </tbody>\n",
       "</table>\n",
       "</div>"
      ],
      "text/plain": [
       "Empty DataFrame\n",
       "Columns: [B_18_marchePublicSimplifie]\n",
       "Index: []"
      ]
     },
     "execution_count": 4,
     "metadata": {},
     "output_type": "execute_result"
    }
   ],
   "source": [
    "df_.loc[df_.B_18_marchePublicSimplifie.notna(),:].tail()"
   ]
  }
 ],
 "metadata": {
  "kaggle": {
   "accelerator": "none",
   "dataSources": [],
   "dockerImageVersionId": 30786,
   "isGpuEnabled": false,
   "isInternetEnabled": true,
   "language": "python",
   "sourceType": "notebook"
  },
  "kernelspec": {
   "display_name": "Python 3 (ipykernel)",
   "language": "python",
   "name": "python3"
  },
  "language_info": {
   "codemirror_mode": {
    "name": "ipython",
    "version": 3
   },
   "file_extension": ".py",
   "mimetype": "text/x-python",
   "name": "python",
   "nbconvert_exporter": "python",
   "pygments_lexer": "ipython3",
   "version": "3.10.14"
  },
  "papermill": {
   "default_parameters": {},
   "duration": 7.404334,
   "end_time": "2024-10-20T08:41:53.834995",
   "environment_variables": {},
   "exception": null,
   "input_path": "__notebook__.ipynb",
   "output_path": "__notebook__.ipynb",
   "parameters": {},
   "start_time": "2024-10-20T08:41:46.430661",
   "version": "2.6.0"
  },
  "widgets": {
   "application/vnd.jupyter.widget-state+json": {
    "state": {},
    "version_major": 2,
    "version_minor": 0
   }
  }
 },
 "nbformat": 4,
 "nbformat_minor": 5
}
