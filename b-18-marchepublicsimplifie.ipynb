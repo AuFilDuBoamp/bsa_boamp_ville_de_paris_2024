{
 "cells": [
  {
   "cell_type": "markdown",
   "id": "486c7c02",
   "metadata": {
    "papermill": {
     "duration": 0.004498,
     "end_time": "2024-10-19T09:42:34.401554",
     "exception": false,
     "start_time": "2024-10-19T09:42:34.397056",
     "status": "completed"
    },
    "tags": []
   },
   "source": [
    "# Colonne «B_18_marchePublicSimplifie» (Initialisation)"
   ]
  },
  {
   "cell_type": "markdown",
   "id": "37993f1c",
   "metadata": {
    "papermill": {
     "duration": 0.003375,
     "end_time": "2024-10-19T09:42:34.409011",
     "exception": false,
     "start_time": "2024-10-19T09:42:34.405636",
     "status": "completed"
    },
    "tags": []
   },
   "source": [
    "# Intro"
   ]
  },
  {
   "cell_type": "markdown",
   "id": "4e834434",
   "metadata": {
    "papermill": {
     "duration": 0.003202,
     "end_time": "2024-10-19T09:42:34.415760",
     "exception": false,
     "start_time": "2024-10-19T09:42:34.412558",
     "status": "completed"
    },
    "tags": []
   },
   "source": [
    "# Import(s) et réglages"
   ]
  },
  {
   "cell_type": "code",
   "execution_count": 1,
   "id": "7f4bab59",
   "metadata": {
    "execution": {
     "iopub.execute_input": "2024-10-19T09:42:34.424923Z",
     "iopub.status.busy": "2024-10-19T09:42:34.424144Z",
     "iopub.status.idle": "2024-10-19T09:42:35.326201Z",
     "shell.execute_reply": "2024-10-19T09:42:35.324996Z"
    },
    "papermill": {
     "duration": 0.910039,
     "end_time": "2024-10-19T09:42:35.329213",
     "exception": false,
     "start_time": "2024-10-19T09:42:34.419174",
     "status": "completed"
    },
    "tags": []
   },
   "outputs": [],
   "source": [
    "# import\n",
    "import pandas as pd\n",
    "#réglages\n",
    "pd.set_option('display.max_colwidth', 500)\n",
    "pd.set_option('display.max_columns', 200)\n",
    "pd.set_option('display.max_rows', 200)"
   ]
  },
  {
   "cell_type": "markdown",
   "id": "8774ab13",
   "metadata": {
    "papermill": {
     "duration": 0.003436,
     "end_time": "2024-10-19T09:42:35.336704",
     "exception": false,
     "start_time": "2024-10-19T09:42:35.333268",
     "status": "completed"
    },
    "tags": []
   },
   "source": [
    "# Téléchargement des annonces de la Ville de Paris sur Datagouv"
   ]
  },
  {
   "cell_type": "code",
   "execution_count": 2,
   "id": "0bfc5109",
   "metadata": {
    "execution": {
     "iopub.execute_input": "2024-10-19T09:42:35.346091Z",
     "iopub.status.busy": "2024-10-19T09:42:35.345506Z",
     "iopub.status.idle": "2024-10-19T09:42:38.454331Z",
     "shell.execute_reply": "2024-10-19T09:42:38.453130Z"
    },
    "papermill": {
     "duration": 3.116899,
     "end_time": "2024-10-19T09:42:38.457330",
     "exception": false,
     "start_time": "2024-10-19T09:42:35.340431",
     "status": "completed"
    },
    "scrolled": true,
    "tags": []
   },
   "outputs": [],
   "source": [
    "df = pd.read_csv('https://www.data.gouv.fr/fr/datasets/r/8571acc8-2f51-4d7e-9d87-bd5b8ec210e5', dtype='string')\n",
    "\n",
    "# Adresse ressources sur datagouv\n",
    "# -> https://www.data.gouv.fr/fr/datasets/une-vie-de-siren-au-boamp-ville-de-paris-217500016/#/resources"
   ]
  },
  {
   "cell_type": "markdown",
   "id": "a6c085f9",
   "metadata": {
    "papermill": {
     "duration": 0.003352,
     "end_time": "2024-10-19T09:42:38.464466",
     "exception": false,
     "start_time": "2024-10-19T09:42:38.461114",
     "status": "completed"
    },
    "tags": []
   },
   "source": [
    "# Sélection de la colonne B_18_marchePublicSimplifie"
   ]
  },
  {
   "cell_type": "code",
   "execution_count": 3,
   "id": "c8508931",
   "metadata": {
    "execution": {
     "iopub.execute_input": "2024-10-19T09:42:38.473702Z",
     "iopub.status.busy": "2024-10-19T09:42:38.472906Z",
     "iopub.status.idle": "2024-10-19T09:42:38.485997Z",
     "shell.execute_reply": "2024-10-19T09:42:38.484879Z"
    },
    "papermill": {
     "duration": 0.020546,
     "end_time": "2024-10-19T09:42:38.488523",
     "exception": false,
     "start_time": "2024-10-19T09:42:38.467977",
     "status": "completed"
    },
    "tags": []
   },
   "outputs": [],
   "source": [
    "df_ = df.loc[:, ['B_18_marchePublicSimplifie']].copy()"
   ]
  },
  {
   "cell_type": "markdown",
   "id": "6972f666",
   "metadata": {
    "papermill": {
     "duration": 0.003484,
     "end_time": "2024-10-19T09:42:38.495881",
     "exception": false,
     "start_time": "2024-10-19T09:42:38.492397",
     "status": "completed"
    },
    "tags": []
   },
   "source": [
    "# Lecture des dernières lignes"
   ]
  },
  {
   "cell_type": "code",
   "execution_count": 4,
   "id": "d334c760",
   "metadata": {
    "execution": {
     "iopub.execute_input": "2024-10-19T09:42:38.505004Z",
     "iopub.status.busy": "2024-10-19T09:42:38.504562Z",
     "iopub.status.idle": "2024-10-19T09:42:38.520396Z",
     "shell.execute_reply": "2024-10-19T09:42:38.519377Z"
    },
    "papermill": {
     "duration": 0.02324,
     "end_time": "2024-10-19T09:42:38.522800",
     "exception": false,
     "start_time": "2024-10-19T09:42:38.499560",
     "status": "completed"
    },
    "tags": []
   },
   "outputs": [
    {
     "data": {
      "text/html": [
       "<div>\n",
       "<style scoped>\n",
       "    .dataframe tbody tr th:only-of-type {\n",
       "        vertical-align: middle;\n",
       "    }\n",
       "\n",
       "    .dataframe tbody tr th {\n",
       "        vertical-align: top;\n",
       "    }\n",
       "\n",
       "    .dataframe thead th {\n",
       "        text-align: right;\n",
       "    }\n",
       "</style>\n",
       "<table border=\"1\" class=\"dataframe\">\n",
       "  <thead>\n",
       "    <tr style=\"text-align: right;\">\n",
       "      <th></th>\n",
       "      <th>B_18_marchePublicSimplifie</th>\n",
       "    </tr>\n",
       "  </thead>\n",
       "  <tbody>\n",
       "  </tbody>\n",
       "</table>\n",
       "</div>"
      ],
      "text/plain": [
       "Empty DataFrame\n",
       "Columns: [B_18_marchePublicSimplifie]\n",
       "Index: []"
      ]
     },
     "execution_count": 4,
     "metadata": {},
     "output_type": "execute_result"
    }
   ],
   "source": [
    "df_.loc[df_.B_18_marchePublicSimplifie.notna(),:].tail()"
   ]
  }
 ],
 "metadata": {
  "kaggle": {
   "accelerator": "none",
   "dataSources": [],
   "isGpuEnabled": false,
   "isInternetEnabled": true,
   "language": "python",
   "sourceType": "notebook"
  },
  "kernelspec": {
   "display_name": "Python 3 (ipykernel)",
   "language": "python",
   "name": "python3"
  },
  "language_info": {
   "codemirror_mode": {
    "name": "ipython",
    "version": 3
   },
   "file_extension": ".py",
   "mimetype": "text/x-python",
   "name": "python",
   "nbconvert_exporter": "python",
   "pygments_lexer": "ipython3",
   "version": "3.10.14"
  },
  "papermill": {
   "default_parameters": {},
   "duration": 7.566179,
   "end_time": "2024-10-19T09:42:38.946604",
   "environment_variables": {},
   "exception": null,
   "input_path": "__notebook__.ipynb",
   "output_path": "__notebook__.ipynb",
   "parameters": {},
   "start_time": "2024-10-19T09:42:31.380425",
   "version": "2.6.0"
  },
  "widgets": {
   "application/vnd.jupyter.widget-state+json": {
    "state": {},
    "version_major": 2,
    "version_minor": 0
   }
  }
 },
 "nbformat": 4,
 "nbformat_minor": 5
}
