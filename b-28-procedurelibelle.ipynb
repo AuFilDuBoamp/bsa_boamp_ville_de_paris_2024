{
 "cells": [
  {
   "cell_type": "markdown",
   "id": "fdadaeec",
   "metadata": {
    "papermill": {
     "duration": 0.004732,
     "end_time": "2024-10-19T09:34:27.428989",
     "exception": false,
     "start_time": "2024-10-19T09:34:27.424257",
     "status": "completed"
    },
    "tags": []
   },
   "source": [
    "# Colonne «B_28_procedureLibelle» (Initialisation)"
   ]
  },
  {
   "cell_type": "markdown",
   "id": "a860aee1",
   "metadata": {
    "papermill": {
     "duration": 0.003369,
     "end_time": "2024-10-19T09:34:27.436608",
     "exception": false,
     "start_time": "2024-10-19T09:34:27.433239",
     "status": "completed"
    },
    "tags": []
   },
   "source": [
    "# Intro"
   ]
  },
  {
   "cell_type": "markdown",
   "id": "e8379322",
   "metadata": {
    "papermill": {
     "duration": 0.003598,
     "end_time": "2024-10-19T09:34:27.443737",
     "exception": false,
     "start_time": "2024-10-19T09:34:27.440139",
     "status": "completed"
    },
    "tags": []
   },
   "source": [
    "# Import(s) et réglages"
   ]
  },
  {
   "cell_type": "code",
   "execution_count": 1,
   "id": "4f5494aa",
   "metadata": {
    "execution": {
     "iopub.execute_input": "2024-10-19T09:34:27.453097Z",
     "iopub.status.busy": "2024-10-19T09:34:27.452490Z",
     "iopub.status.idle": "2024-10-19T09:34:28.473598Z",
     "shell.execute_reply": "2024-10-19T09:34:28.472367Z"
    },
    "papermill": {
     "duration": 1.029297,
     "end_time": "2024-10-19T09:34:28.476566",
     "exception": false,
     "start_time": "2024-10-19T09:34:27.447269",
     "status": "completed"
    },
    "tags": []
   },
   "outputs": [],
   "source": [
    "# import\n",
    "import pandas as pd\n",
    "#réglages\n",
    "pd.set_option('display.max_colwidth', 500)\n",
    "pd.set_option('display.max_columns', 200)\n",
    "pd.set_option('display.max_rows', 200)"
   ]
  },
  {
   "cell_type": "markdown",
   "id": "6ee27b4b",
   "metadata": {
    "papermill": {
     "duration": 0.003455,
     "end_time": "2024-10-19T09:34:28.483947",
     "exception": false,
     "start_time": "2024-10-19T09:34:28.480492",
     "status": "completed"
    },
    "tags": []
   },
   "source": [
    "# Téléchargement des annonces de la Ville de Paris sur Datagouv"
   ]
  },
  {
   "cell_type": "code",
   "execution_count": 2,
   "id": "9b6f0a65",
   "metadata": {
    "execution": {
     "iopub.execute_input": "2024-10-19T09:34:28.493289Z",
     "iopub.status.busy": "2024-10-19T09:34:28.492727Z",
     "iopub.status.idle": "2024-10-19T09:34:31.200130Z",
     "shell.execute_reply": "2024-10-19T09:34:31.198641Z"
    },
    "papermill": {
     "duration": 2.7154,
     "end_time": "2024-10-19T09:34:31.203025",
     "exception": false,
     "start_time": "2024-10-19T09:34:28.487625",
     "status": "completed"
    },
    "scrolled": true,
    "tags": []
   },
   "outputs": [],
   "source": [
    "df = pd.read_csv('https://www.data.gouv.fr/fr/datasets/r/8571acc8-2f51-4d7e-9d87-bd5b8ec210e5', dtype='string')\n",
    "\n",
    "# Adresse ressources sur datagouv\n",
    "# -> https://www.data.gouv.fr/fr/datasets/une-vie-de-siren-au-boamp-ville-de-paris-217500016/#/resources"
   ]
  },
  {
   "cell_type": "markdown",
   "id": "c7020763",
   "metadata": {
    "papermill": {
     "duration": 0.003364,
     "end_time": "2024-10-19T09:34:31.210151",
     "exception": false,
     "start_time": "2024-10-19T09:34:31.206787",
     "status": "completed"
    },
    "tags": []
   },
   "source": [
    "# Sélection de la colonne B_28_procedureLibelle"
   ]
  },
  {
   "cell_type": "code",
   "execution_count": 3,
   "id": "162d4dc9",
   "metadata": {
    "execution": {
     "iopub.execute_input": "2024-10-19T09:34:31.219282Z",
     "iopub.status.busy": "2024-10-19T09:34:31.218840Z",
     "iopub.status.idle": "2024-10-19T09:34:31.234611Z",
     "shell.execute_reply": "2024-10-19T09:34:31.233355Z"
    },
    "papermill": {
     "duration": 0.023738,
     "end_time": "2024-10-19T09:34:31.237443",
     "exception": false,
     "start_time": "2024-10-19T09:34:31.213705",
     "status": "completed"
    },
    "tags": []
   },
   "outputs": [],
   "source": [
    "df_ = df.loc[:, ['B_28_procedureLibelle']].copy()"
   ]
  },
  {
   "cell_type": "markdown",
   "id": "ee01c958",
   "metadata": {
    "papermill": {
     "duration": 0.003469,
     "end_time": "2024-10-19T09:34:31.244784",
     "exception": false,
     "start_time": "2024-10-19T09:34:31.241315",
     "status": "completed"
    },
    "tags": []
   },
   "source": [
    "# Lecture des dernières lignes"
   ]
  },
  {
   "cell_type": "code",
   "execution_count": 4,
   "id": "a7854508",
   "metadata": {
    "execution": {
     "iopub.execute_input": "2024-10-19T09:34:31.253879Z",
     "iopub.status.busy": "2024-10-19T09:34:31.253416Z",
     "iopub.status.idle": "2024-10-19T09:34:31.271470Z",
     "shell.execute_reply": "2024-10-19T09:34:31.270356Z"
    },
    "papermill": {
     "duration": 0.02564,
     "end_time": "2024-10-19T09:34:31.274067",
     "exception": false,
     "start_time": "2024-10-19T09:34:31.248427",
     "status": "completed"
    },
    "tags": []
   },
   "outputs": [
    {
     "data": {
      "text/html": [
       "<div>\n",
       "<style scoped>\n",
       "    .dataframe tbody tr th:only-of-type {\n",
       "        vertical-align: middle;\n",
       "    }\n",
       "\n",
       "    .dataframe tbody tr th {\n",
       "        vertical-align: top;\n",
       "    }\n",
       "\n",
       "    .dataframe thead th {\n",
       "        text-align: right;\n",
       "    }\n",
       "</style>\n",
       "<table border=\"1\" class=\"dataframe\">\n",
       "  <thead>\n",
       "    <tr style=\"text-align: right;\">\n",
       "      <th></th>\n",
       "      <th>B_28_procedureLibelle</th>\n",
       "    </tr>\n",
       "  </thead>\n",
       "  <tbody>\n",
       "    <tr>\n",
       "      <th>753</th>\n",
       "      <td>Procédure NC</td>\n",
       "    </tr>\n",
       "    <tr>\n",
       "      <th>754</th>\n",
       "      <td>Procédure Ouverte</td>\n",
       "    </tr>\n",
       "    <tr>\n",
       "      <th>755</th>\n",
       "      <td>Procédure NC</td>\n",
       "    </tr>\n",
       "    <tr>\n",
       "      <th>756</th>\n",
       "      <td>Procédure Adaptée</td>\n",
       "    </tr>\n",
       "    <tr>\n",
       "      <th>757</th>\n",
       "      <td>Procédure Adaptée</td>\n",
       "    </tr>\n",
       "  </tbody>\n",
       "</table>\n",
       "</div>"
      ],
      "text/plain": [
       "    B_28_procedureLibelle\n",
       "753          Procédure NC\n",
       "754     Procédure Ouverte\n",
       "755          Procédure NC\n",
       "756     Procédure Adaptée\n",
       "757     Procédure Adaptée"
      ]
     },
     "execution_count": 4,
     "metadata": {},
     "output_type": "execute_result"
    }
   ],
   "source": [
    "df_.loc[df_.B_28_procedureLibelle.notna(),:].tail()"
   ]
  }
 ],
 "metadata": {
  "kaggle": {
   "accelerator": "none",
   "dataSources": [],
   "isGpuEnabled": false,
   "isInternetEnabled": true,
   "language": "python",
   "sourceType": "notebook"
  },
  "kernelspec": {
   "display_name": "Python 3 (ipykernel)",
   "language": "python",
   "name": "python3"
  },
  "language_info": {
   "codemirror_mode": {
    "name": "ipython",
    "version": 3
   },
   "file_extension": ".py",
   "mimetype": "text/x-python",
   "name": "python",
   "nbconvert_exporter": "python",
   "pygments_lexer": "ipython3",
   "version": "3.10.14"
  },
  "papermill": {
   "default_parameters": {},
   "duration": 7.504579,
   "end_time": "2024-10-19T09:34:31.798524",
   "environment_variables": {},
   "exception": null,
   "input_path": "__notebook__.ipynb",
   "output_path": "__notebook__.ipynb",
   "parameters": {},
   "start_time": "2024-10-19T09:34:24.293945",
   "version": "2.6.0"
  },
  "widgets": {
   "application/vnd.jupyter.widget-state+json": {
    "state": {},
    "version_major": 2,
    "version_minor": 0
   }
  }
 },
 "nbformat": 4,
 "nbformat_minor": 5
}
