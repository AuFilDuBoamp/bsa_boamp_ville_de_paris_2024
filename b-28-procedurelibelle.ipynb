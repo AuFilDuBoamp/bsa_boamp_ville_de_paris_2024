{
 "cells": [
  {
   "cell_type": "markdown",
   "id": "f436c0e1",
   "metadata": {
    "papermill": {
     "duration": 0.003181,
     "end_time": "2024-10-20T08:46:52.274819",
     "exception": false,
     "start_time": "2024-10-20T08:46:52.271638",
     "status": "completed"
    },
    "tags": []
   },
   "source": [
    "# Colonne «B_28_procedureLibelle» (Initialisation)"
   ]
  },
  {
   "cell_type": "markdown",
   "id": "ce20a41c",
   "metadata": {
    "papermill": {
     "duration": 0.002439,
     "end_time": "2024-10-20T08:46:52.280187",
     "exception": false,
     "start_time": "2024-10-20T08:46:52.277748",
     "status": "completed"
    },
    "tags": []
   },
   "source": [
    "|NAVIGATION (travaux sur les annonces BOAMP de la Ville de Paris en 2024)|\n",
    "|---|\n",
    "|[Retour à l'INDEX (kaggle)](https://www.kaggle.com/code/aufilduboamp/index-ville-de-paris-aufilduboamp)|\n",
    "|[Rubrique AuFilDuBoamp.com](https://www.aufilduboamp.com/rubrique92.html)|\n",
    "|[Dépôt GitHub](https://github.com/AuFilDuBoamp/bsa_boamp_ville_de_paris_2024/tree/main)|\n",
    "|[Dépôt DataGouv](https://www.data.gouv.fr/fr/datasets/une-vie-de-siren-au-boamp-ville-de-paris-217500016/#/resources)|"
   ]
  },
  {
   "cell_type": "markdown",
   "id": "b1ddae6b",
   "metadata": {
    "papermill": {
     "duration": 0.002291,
     "end_time": "2024-10-20T08:46:52.285083",
     "exception": false,
     "start_time": "2024-10-20T08:46:52.282792",
     "status": "completed"
    },
    "tags": []
   },
   "source": [
    "# Import(s) et réglages"
   ]
  },
  {
   "cell_type": "code",
   "execution_count": 1,
   "id": "2198385a",
   "metadata": {
    "execution": {
     "iopub.execute_input": "2024-10-20T08:46:52.292526Z",
     "iopub.status.busy": "2024-10-20T08:46:52.291484Z",
     "iopub.status.idle": "2024-10-20T08:46:53.187344Z",
     "shell.execute_reply": "2024-10-20T08:46:53.186149Z"
    },
    "papermill": {
     "duration": 0.902286,
     "end_time": "2024-10-20T08:46:53.189908",
     "exception": false,
     "start_time": "2024-10-20T08:46:52.287622",
     "status": "completed"
    },
    "tags": []
   },
   "outputs": [],
   "source": [
    "# import\n",
    "import pandas as pd\n",
    "#réglages\n",
    "pd.set_option('display.max_colwidth', 500)\n",
    "pd.set_option('display.max_columns', 200)\n",
    "pd.set_option('display.max_rows', 200)"
   ]
  },
  {
   "cell_type": "markdown",
   "id": "ba42c47f",
   "metadata": {
    "papermill": {
     "duration": 0.002873,
     "end_time": "2024-10-20T08:46:53.196505",
     "exception": false,
     "start_time": "2024-10-20T08:46:53.193632",
     "status": "completed"
    },
    "tags": []
   },
   "source": [
    "# Téléchargement des annonces de la Ville de Paris sur Datagouv"
   ]
  },
  {
   "cell_type": "code",
   "execution_count": 2,
   "id": "dd095934",
   "metadata": {
    "execution": {
     "iopub.execute_input": "2024-10-20T08:46:53.204218Z",
     "iopub.status.busy": "2024-10-20T08:46:53.203254Z",
     "iopub.status.idle": "2024-10-20T08:46:57.096875Z",
     "shell.execute_reply": "2024-10-20T08:46:57.095821Z"
    },
    "papermill": {
     "duration": 3.900351,
     "end_time": "2024-10-20T08:46:57.099524",
     "exception": false,
     "start_time": "2024-10-20T08:46:53.199173",
     "status": "completed"
    },
    "scrolled": true,
    "tags": []
   },
   "outputs": [],
   "source": [
    "df = pd.read_csv('https://www.data.gouv.fr/fr/datasets/r/8571acc8-2f51-4d7e-9d87-bd5b8ec210e5', dtype='string')\n",
    "\n",
    "# Adresse ressources sur datagouv\n",
    "# -> https://www.data.gouv.fr/fr/datasets/une-vie-de-siren-au-boamp-ville-de-paris-217500016/#/resources"
   ]
  },
  {
   "cell_type": "markdown",
   "id": "004e5442",
   "metadata": {
    "papermill": {
     "duration": 0.002483,
     "end_time": "2024-10-20T08:46:57.105133",
     "exception": false,
     "start_time": "2024-10-20T08:46:57.102650",
     "status": "completed"
    },
    "tags": []
   },
   "source": [
    "# Sélection de la colonne B_28_procedureLibelle"
   ]
  },
  {
   "cell_type": "code",
   "execution_count": 3,
   "id": "2f5f3e19",
   "metadata": {
    "execution": {
     "iopub.execute_input": "2024-10-20T08:46:57.112069Z",
     "iopub.status.busy": "2024-10-20T08:46:57.111698Z",
     "iopub.status.idle": "2024-10-20T08:46:57.126632Z",
     "shell.execute_reply": "2024-10-20T08:46:57.125526Z"
    },
    "papermill": {
     "duration": 0.020961,
     "end_time": "2024-10-20T08:46:57.128742",
     "exception": false,
     "start_time": "2024-10-20T08:46:57.107781",
     "status": "completed"
    },
    "tags": []
   },
   "outputs": [],
   "source": [
    "df_ = df.loc[:, ['B_28_procedureLibelle']].copy()"
   ]
  },
  {
   "cell_type": "markdown",
   "id": "4833cf04",
   "metadata": {
    "papermill": {
     "duration": 0.002428,
     "end_time": "2024-10-20T08:46:57.133988",
     "exception": false,
     "start_time": "2024-10-20T08:46:57.131560",
     "status": "completed"
    },
    "tags": []
   },
   "source": [
    "# Lecture des dernières lignes"
   ]
  },
  {
   "cell_type": "code",
   "execution_count": 4,
   "id": "6eb9a988",
   "metadata": {
    "execution": {
     "iopub.execute_input": "2024-10-20T08:46:57.140870Z",
     "iopub.status.busy": "2024-10-20T08:46:57.140448Z",
     "iopub.status.idle": "2024-10-20T08:46:57.157114Z",
     "shell.execute_reply": "2024-10-20T08:46:57.156009Z"
    },
    "papermill": {
     "duration": 0.022926,
     "end_time": "2024-10-20T08:46:57.159488",
     "exception": false,
     "start_time": "2024-10-20T08:46:57.136562",
     "status": "completed"
    },
    "tags": []
   },
   "outputs": [
    {
     "data": {
      "text/html": [
       "<div>\n",
       "<style scoped>\n",
       "    .dataframe tbody tr th:only-of-type {\n",
       "        vertical-align: middle;\n",
       "    }\n",
       "\n",
       "    .dataframe tbody tr th {\n",
       "        vertical-align: top;\n",
       "    }\n",
       "\n",
       "    .dataframe thead th {\n",
       "        text-align: right;\n",
       "    }\n",
       "</style>\n",
       "<table border=\"1\" class=\"dataframe\">\n",
       "  <thead>\n",
       "    <tr style=\"text-align: right;\">\n",
       "      <th></th>\n",
       "      <th>B_28_procedureLibelle</th>\n",
       "    </tr>\n",
       "  </thead>\n",
       "  <tbody>\n",
       "    <tr>\n",
       "      <th>753</th>\n",
       "      <td>Procédure NC</td>\n",
       "    </tr>\n",
       "    <tr>\n",
       "      <th>754</th>\n",
       "      <td>Procédure NC</td>\n",
       "    </tr>\n",
       "    <tr>\n",
       "      <th>755</th>\n",
       "      <td>Procédure Ouverte</td>\n",
       "    </tr>\n",
       "    <tr>\n",
       "      <th>756</th>\n",
       "      <td>Procédure Adaptée</td>\n",
       "    </tr>\n",
       "    <tr>\n",
       "      <th>757</th>\n",
       "      <td>Procédure Adaptée</td>\n",
       "    </tr>\n",
       "  </tbody>\n",
       "</table>\n",
       "</div>"
      ],
      "text/plain": [
       "    B_28_procedureLibelle\n",
       "753          Procédure NC\n",
       "754          Procédure NC\n",
       "755     Procédure Ouverte\n",
       "756     Procédure Adaptée\n",
       "757     Procédure Adaptée"
      ]
     },
     "execution_count": 4,
     "metadata": {},
     "output_type": "execute_result"
    }
   ],
   "source": [
    "df_.loc[df_.B_28_procedureLibelle.notna(),:].tail()"
   ]
  }
 ],
 "metadata": {
  "kaggle": {
   "accelerator": "none",
   "dataSources": [],
   "dockerImageVersionId": 30786,
   "isGpuEnabled": false,
   "isInternetEnabled": true,
   "language": "python",
   "sourceType": "notebook"
  },
  "kernelspec": {
   "display_name": "Python 3 (ipykernel)",
   "language": "python",
   "name": "python3"
  },
  "language_info": {
   "codemirror_mode": {
    "name": "ipython",
    "version": 3
   },
   "file_extension": ".py",
   "mimetype": "text/x-python",
   "name": "python",
   "nbconvert_exporter": "python",
   "pygments_lexer": "ipython3",
   "version": "3.10.14"
  },
  "papermill": {
   "default_parameters": {},
   "duration": 8.004151,
   "end_time": "2024-10-20T08:46:57.583254",
   "environment_variables": {},
   "exception": null,
   "input_path": "__notebook__.ipynb",
   "output_path": "__notebook__.ipynb",
   "parameters": {},
   "start_time": "2024-10-20T08:46:49.579103",
   "version": "2.6.0"
  },
  "widgets": {
   "application/vnd.jupyter.widget-state+json": {
    "state": {},
    "version_major": 2,
    "version_minor": 0
   }
  }
 },
 "nbformat": 4,
 "nbformat_minor": 5
}
