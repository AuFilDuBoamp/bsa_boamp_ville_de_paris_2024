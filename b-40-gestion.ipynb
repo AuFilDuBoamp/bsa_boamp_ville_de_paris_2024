{
 "cells": [
  {
   "cell_type": "markdown",
   "id": "a3b86ddb",
   "metadata": {
    "papermill": {
     "duration": 0.004539,
     "end_time": "2024-10-19T09:31:25.141777",
     "exception": false,
     "start_time": "2024-10-19T09:31:25.137238",
     "status": "completed"
    },
    "tags": []
   },
   "source": [
    "# Colonne «B_40_GESTION» (Initialisation)"
   ]
  },
  {
   "cell_type": "markdown",
   "id": "391cc37c",
   "metadata": {
    "papermill": {
     "duration": 0.003709,
     "end_time": "2024-10-19T09:31:25.149876",
     "exception": false,
     "start_time": "2024-10-19T09:31:25.146167",
     "status": "completed"
    },
    "tags": []
   },
   "source": [
    "# Intro"
   ]
  },
  {
   "cell_type": "markdown",
   "id": "76340e3d",
   "metadata": {
    "papermill": {
     "duration": 0.003688,
     "end_time": "2024-10-19T09:31:25.157610",
     "exception": false,
     "start_time": "2024-10-19T09:31:25.153922",
     "status": "completed"
    },
    "tags": []
   },
   "source": [
    "# Import(s) et réglages"
   ]
  },
  {
   "cell_type": "code",
   "execution_count": 1,
   "id": "c7579efc",
   "metadata": {
    "execution": {
     "iopub.execute_input": "2024-10-19T09:31:25.167768Z",
     "iopub.status.busy": "2024-10-19T09:31:25.167301Z",
     "iopub.status.idle": "2024-10-19T09:31:26.191065Z",
     "shell.execute_reply": "2024-10-19T09:31:26.189839Z"
    },
    "papermill": {
     "duration": 1.032472,
     "end_time": "2024-10-19T09:31:26.194073",
     "exception": false,
     "start_time": "2024-10-19T09:31:25.161601",
     "status": "completed"
    },
    "tags": []
   },
   "outputs": [],
   "source": [
    "# import\n",
    "import pandas as pd\n",
    "#réglages\n",
    "pd.set_option('display.max_colwidth', 1500)\n",
    "pd.set_option('display.max_columns', 200)\n",
    "pd.set_option('display.max_rows', 200)"
   ]
  },
  {
   "cell_type": "markdown",
   "id": "32b9878d",
   "metadata": {
    "papermill": {
     "duration": 0.004086,
     "end_time": "2024-10-19T09:31:26.202295",
     "exception": false,
     "start_time": "2024-10-19T09:31:26.198209",
     "status": "completed"
    },
    "tags": []
   },
   "source": [
    "# Téléchargement des annonces de la Ville de Paris sur Datagouv"
   ]
  },
  {
   "cell_type": "code",
   "execution_count": 2,
   "id": "e690ea10",
   "metadata": {
    "execution": {
     "iopub.execute_input": "2024-10-19T09:31:26.213043Z",
     "iopub.status.busy": "2024-10-19T09:31:26.211702Z",
     "iopub.status.idle": "2024-10-19T09:31:28.484986Z",
     "shell.execute_reply": "2024-10-19T09:31:28.483696Z"
    },
    "papermill": {
     "duration": 2.281558,
     "end_time": "2024-10-19T09:31:28.487922",
     "exception": false,
     "start_time": "2024-10-19T09:31:26.206364",
     "status": "completed"
    },
    "scrolled": true,
    "tags": []
   },
   "outputs": [],
   "source": [
    "df = pd.read_csv('https://www.data.gouv.fr/fr/datasets/r/8571acc8-2f51-4d7e-9d87-bd5b8ec210e5', dtype='string')\n",
    "# Adresse ressources sur datagouv\n",
    "# -> https://www.data.gouv.fr/fr/datasets/une-vie-de-siren-au-boamp-ville-de-paris-217500016/#/resources"
   ]
  },
  {
   "cell_type": "markdown",
   "id": "7025c78c",
   "metadata": {
    "papermill": {
     "duration": 0.003574,
     "end_time": "2024-10-19T09:31:28.495533",
     "exception": false,
     "start_time": "2024-10-19T09:31:28.491959",
     "status": "completed"
    },
    "tags": []
   },
   "source": [
    "# Sélection de la colonne B_40_GESTION"
   ]
  },
  {
   "cell_type": "code",
   "execution_count": 3,
   "id": "265f188e",
   "metadata": {
    "execution": {
     "iopub.execute_input": "2024-10-19T09:31:28.505176Z",
     "iopub.status.busy": "2024-10-19T09:31:28.504733Z",
     "iopub.status.idle": "2024-10-19T09:31:28.520726Z",
     "shell.execute_reply": "2024-10-19T09:31:28.519365Z"
    },
    "papermill": {
     "duration": 0.024362,
     "end_time": "2024-10-19T09:31:28.523736",
     "exception": false,
     "start_time": "2024-10-19T09:31:28.499374",
     "status": "completed"
    },
    "tags": []
   },
   "outputs": [],
   "source": [
    "df_ = df.loc[:, ['B_40_GESTION']].copy()"
   ]
  },
  {
   "cell_type": "markdown",
   "id": "e1dda688",
   "metadata": {
    "papermill": {
     "duration": 0.003699,
     "end_time": "2024-10-19T09:31:28.531574",
     "exception": false,
     "start_time": "2024-10-19T09:31:28.527875",
     "status": "completed"
    },
    "tags": []
   },
   "source": [
    "# Lecture des dernières lignes"
   ]
  },
  {
   "cell_type": "code",
   "execution_count": 4,
   "id": "1b96a54c",
   "metadata": {
    "execution": {
     "iopub.execute_input": "2024-10-19T09:31:28.541266Z",
     "iopub.status.busy": "2024-10-19T09:31:28.540841Z",
     "iopub.status.idle": "2024-10-19T09:31:28.560216Z",
     "shell.execute_reply": "2024-10-19T09:31:28.558724Z"
    },
    "papermill": {
     "duration": 0.027364,
     "end_time": "2024-10-19T09:31:28.562880",
     "exception": false,
     "start_time": "2024-10-19T09:31:28.535516",
     "status": "completed"
    },
    "tags": []
   },
   "outputs": [
    {
     "data": {
      "text/html": [
       "<div>\n",
       "<style scoped>\n",
       "    .dataframe tbody tr th:only-of-type {\n",
       "        vertical-align: middle;\n",
       "    }\n",
       "\n",
       "    .dataframe tbody tr th {\n",
       "        vertical-align: top;\n",
       "    }\n",
       "\n",
       "    .dataframe thead th {\n",
       "        text-align: right;\n",
       "    }\n",
       "</style>\n",
       "<table border=\"1\" class=\"dataframe\">\n",
       "  <thead>\n",
       "    <tr style=\"text-align: right;\">\n",
       "      <th></th>\n",
       "      <th>B_40_GESTION</th>\n",
       "    </tr>\n",
       "  </thead>\n",
       "  <tbody>\n",
       "    <tr>\n",
       "      <th>753</th>\n",
       "      <td>{\"REFERENCE\": {\"IDWEB\": \"24-1437\", \"TYPE_AVIS\": {\"FAMILLE\": {\"FNS\": \"\"}, \"PERIMETRE\": {\"FNSimple\": \"\"}, \"NATURE\": {\"RECTIFICATIF\": \"\"}, \"STATUT\": {\"RECTIFICATIF\": \"\"}}}, \"MARCHE\": {\"ANNONCE_ANTERIEUR\": {\"REFERENCE\": {\"IDWEB\": \"23-169290\", \"TYPE_AVIS\": {\"FAMILLE\": {\"FNS\": \"\"}, \"PERIMETRE\": {\"FNSimple\": \"\"}, \"NATURE\": {\"APPEL_OFFRE\": {\"STANDARD\": \"\"}}, \"STATUT\": {\"INITIAL\": \"\"}}, \"DATE_ENVOI\": \"2023-12-05\"}, \"REFERENCE_PUBLICATION\": {\"PUBLICATION_ELECTRONIQUE\": {\"DATE_PUBLICATION\": \"2023-12-06\", \"DATE_FIN_DIFFUSION\": \"2024-01-09\"}}}}, \"NOM_HTML\": \"24-1437.html\", \"INDEXATION\": {\"DATE_PUBLICATION\": \"2024-01-04\", \"DATE_FIN_DIFFUSION\": \"2024-01-12\", \"DESCRIPTEURS\": {\"DESCRIPTEUR\": {\"CODE\": \"208\", \"LIBELLE\": \"Matériel de manutention\"}}, \"DEP_PUBLICATION\": \"75\", \"RESUME_OBJET\": \"Fourniture d'équipements de manutention des bacs poubelles et formation professionnelle\"}}</td>\n",
       "    </tr>\n",
       "    <tr>\n",
       "      <th>754</th>\n",
       "      <td>{\"REFERENCE\": {\"IDWEB\": \"24-303\", \"TYPE_AVIS\": {\"FAMILLE\": {\"JOUE\": \"\"}, \"PERIMETRE\": {\"DIRECTIVE-24\": \"\"}, \"NATURE\": {\"ATTRIBUTION\": {\"STANDARD\": \"\"}}, \"STATUT\": {\"INITIAL\": \"\"}}}, \"MARCHE\": {\"ANNONCE_ANTERIEUR\": {\"REFERENCE\": {\"IDWEB\": \"23-87648\", \"TYPE_AVIS\": {\"FAMILLE\": {\"JOUE\": \"\"}, \"PERIMETRE\": {\"DIRECTIVE-24\": \"\"}, \"NATURE\": {\"APPEL_OFFRE\": {\"STANDARD\": \"\"}}, \"STATUT\": {\"INITIAL\": \"\"}}, \"DATE_ENVOI\": \"2023-06-23\"}, \"REFERENCE_PUBLICATION\": [{\"PUBLICATION_ELECTRONIQUE\": {\"DATE_PUBLICATION\": \"2023-06-26\", \"DATE_FIN_DIFFUSION\": \"2023-07-25\"}}, {\"PUBLICATION_JOUE\": {\"ANNEE\": \"2023\", \"NUM_PARUTION\": \"122\", \"NUM_ANNONCE\": \"385195\", \"DATE_PUBLICATION\": \"2023-06-28\"}}]}}, \"NOM_HTML\": \"24-303.html\", \"INDEXATION\": {\"DATE_PUBLICATION\": \"2024-01-04\", \"DATE_FIN_DIFFUSION\": \"2024-03-02\", \"DESCRIPTEURS\": {\"DESCRIPTEUR\": {\"CODE\": \"410\", \"LIBELLE\": \"Formation\"}}, \"DEP_PUBLICATION\": \"75\", \"RESUME_OBJET\": \"Accord-cadre à bons de commande pour des formations aux techniques de nettoyage des locaux scolaires\"}}</td>\n",
       "    </tr>\n",
       "    <tr>\n",
       "      <th>755</th>\n",
       "      <td>{\"REFERENCE\": {\"IDWEB\": \"24-243\", \"TYPE_AVIS\": {\"FAMILLE\": {\"JOUE\": \"\"}, \"PERIMETRE\": {\"DIRECTIVE-24\": \"\"}, \"NATURE\": {\"ATTRIBUTION\": {\"STANDARD\": \"\"}}, \"STATUT\": {\"INITIAL\": \"\"}}}, \"NOM_HTML\": \"24-243.html\", \"INDEXATION\": {\"DATE_PUBLICATION\": \"2024-01-04\", \"DATE_FIN_DIFFUSION\": \"2024-02-22\", \"DESCRIPTEURS\": {\"DESCRIPTEUR\": {\"CODE\": \"274\", \"LIBELLE\": \"Prestations de services\"}}, \"DEP_PUBLICATION\": \"75\", \"RESUME_OBJET\": \"ACBC pour la maintenance applicative du SI Social.\"}}</td>\n",
       "    </tr>\n",
       "    <tr>\n",
       "      <th>756</th>\n",
       "      <td>{\"REFERENCE\": {\"IDWEB\": \"24-660\", \"TYPE_AVIS\": {\"FAMILLE\": {\"MAPA\": \"\"}, \"PERIMETRE\": {\"CMP-2006\": \"\"}, \"NATURE\": {\"APPEL_OFFRE\": \"\"}, \"STATUT\": {\"INITIAL\": \"\"}}}, \"NOM_HTML\": \"24-660.html\", \"INDEXATION\": {\"DATE_PUBLICATION\": \"2024-01-03\", \"DATE_LIMITE_REPONSE\": \"2024-02-05T10:00:00+01:00\", \"DATE_FIN_DIFFUSION\": \"2024-02-05\", \"DESCRIPTEURS\": {\"DESCRIPTEUR\": {\"CODE\": \"197\", \"LIBELLE\": \"Maîtrise d'oeuvre\"}}, \"DEP_PUBLICATION\": \"75\", \"RESUME_OBJET\": \"Marché public de maîtrise d'oeuvre pour la mise en accessibilité avec la création d'un ascenseur de l'école élémentaire sise 21, rue de Pontoise 75005 Paris\"}}</td>\n",
       "    </tr>\n",
       "    <tr>\n",
       "      <th>757</th>\n",
       "      <td>{\"REFERENCE\": {\"IDWEB\": \"24-712\", \"TYPE_AVIS\": {\"FAMILLE\": {\"MAPA\": \"\"}, \"PERIMETRE\": {\"CMP-2006\": \"\"}, \"NATURE\": {\"APPEL_OFFRE\": \"\"}, \"STATUT\": {\"INITIAL\": \"\"}}}, \"NOM_HTML\": \"24-712.html\", \"INDEXATION\": {\"DATE_PUBLICATION\": \"2024-01-03\", \"DATE_LIMITE_REPONSE\": \"2024-02-06T12:00:00+01:00\", \"DATE_FIN_DIFFUSION\": \"2024-02-06\", \"DESCRIPTEURS\": {\"DESCRIPTEUR\": [{\"CODE\": \"433\", \"LIBELLE\": \"Assistance à maîtrise d'ouvrage\"}, {\"CODE\": \"455\", \"LIBELLE\": \"Ingénierie\"}]}, \"DEP_PUBLICATION\": \"75\", \"RESUME_OBJET\": \"Mission de maîtrise d'oeuvre (hors loi-MOP) pour les travaux de modernisation des installations électriques du collège Jean Baptiste Clement, 26 rue Henri Chevreau 75020 PARIS\"}}</td>\n",
       "    </tr>\n",
       "  </tbody>\n",
       "</table>\n",
       "</div>"
      ],
      "text/plain": [
       "                                                                                                                                                                                                                                                                                                                                                                                                                                                                                                                                                                                                                                                                                                                                                                                                                                                                                                                                                                                                                                            B_40_GESTION\n",
       "753                                                                                                                                             {\"REFERENCE\": {\"IDWEB\": \"24-1437\", \"TYPE_AVIS\": {\"FAMILLE\": {\"FNS\": \"\"}, \"PERIMETRE\": {\"FNSimple\": \"\"}, \"NATURE\": {\"RECTIFICATIF\": \"\"}, \"STATUT\": {\"RECTIFICATIF\": \"\"}}}, \"MARCHE\": {\"ANNONCE_ANTERIEUR\": {\"REFERENCE\": {\"IDWEB\": \"23-169290\", \"TYPE_AVIS\": {\"FAMILLE\": {\"FNS\": \"\"}, \"PERIMETRE\": {\"FNSimple\": \"\"}, \"NATURE\": {\"APPEL_OFFRE\": {\"STANDARD\": \"\"}}, \"STATUT\": {\"INITIAL\": \"\"}}, \"DATE_ENVOI\": \"2023-12-05\"}, \"REFERENCE_PUBLICATION\": {\"PUBLICATION_ELECTRONIQUE\": {\"DATE_PUBLICATION\": \"2023-12-06\", \"DATE_FIN_DIFFUSION\": \"2024-01-09\"}}}}, \"NOM_HTML\": \"24-1437.html\", \"INDEXATION\": {\"DATE_PUBLICATION\": \"2024-01-04\", \"DATE_FIN_DIFFUSION\": \"2024-01-12\", \"DESCRIPTEURS\": {\"DESCRIPTEUR\": {\"CODE\": \"208\", \"LIBELLE\": \"Matériel de manutention\"}}, \"DEP_PUBLICATION\": \"75\", \"RESUME_OBJET\": \"Fourniture d'équipements de manutention des bacs poubelles et formation professionnelle\"}}\n",
       "754  {\"REFERENCE\": {\"IDWEB\": \"24-303\", \"TYPE_AVIS\": {\"FAMILLE\": {\"JOUE\": \"\"}, \"PERIMETRE\": {\"DIRECTIVE-24\": \"\"}, \"NATURE\": {\"ATTRIBUTION\": {\"STANDARD\": \"\"}}, \"STATUT\": {\"INITIAL\": \"\"}}}, \"MARCHE\": {\"ANNONCE_ANTERIEUR\": {\"REFERENCE\": {\"IDWEB\": \"23-87648\", \"TYPE_AVIS\": {\"FAMILLE\": {\"JOUE\": \"\"}, \"PERIMETRE\": {\"DIRECTIVE-24\": \"\"}, \"NATURE\": {\"APPEL_OFFRE\": {\"STANDARD\": \"\"}}, \"STATUT\": {\"INITIAL\": \"\"}}, \"DATE_ENVOI\": \"2023-06-23\"}, \"REFERENCE_PUBLICATION\": [{\"PUBLICATION_ELECTRONIQUE\": {\"DATE_PUBLICATION\": \"2023-06-26\", \"DATE_FIN_DIFFUSION\": \"2023-07-25\"}}, {\"PUBLICATION_JOUE\": {\"ANNEE\": \"2023\", \"NUM_PARUTION\": \"122\", \"NUM_ANNONCE\": \"385195\", \"DATE_PUBLICATION\": \"2023-06-28\"}}]}}, \"NOM_HTML\": \"24-303.html\", \"INDEXATION\": {\"DATE_PUBLICATION\": \"2024-01-04\", \"DATE_FIN_DIFFUSION\": \"2024-03-02\", \"DESCRIPTEURS\": {\"DESCRIPTEUR\": {\"CODE\": \"410\", \"LIBELLE\": \"Formation\"}}, \"DEP_PUBLICATION\": \"75\", \"RESUME_OBJET\": \"Accord-cadre à bons de commande pour des formations aux techniques de nettoyage des locaux scolaires\"}}\n",
       "755                                                                                                                                                                                                                                                                                                                                                                                                                                                                                                                                                        {\"REFERENCE\": {\"IDWEB\": \"24-243\", \"TYPE_AVIS\": {\"FAMILLE\": {\"JOUE\": \"\"}, \"PERIMETRE\": {\"DIRECTIVE-24\": \"\"}, \"NATURE\": {\"ATTRIBUTION\": {\"STANDARD\": \"\"}}, \"STATUT\": {\"INITIAL\": \"\"}}}, \"NOM_HTML\": \"24-243.html\", \"INDEXATION\": {\"DATE_PUBLICATION\": \"2024-01-04\", \"DATE_FIN_DIFFUSION\": \"2024-02-22\", \"DESCRIPTEURS\": {\"DESCRIPTEUR\": {\"CODE\": \"274\", \"LIBELLE\": \"Prestations de services\"}}, \"DEP_PUBLICATION\": \"75\", \"RESUME_OBJET\": \"ACBC pour la maintenance applicative du SI Social.\"}}\n",
       "756                                                                                                                                                                                                                                                                                                                                                                                                                  {\"REFERENCE\": {\"IDWEB\": \"24-660\", \"TYPE_AVIS\": {\"FAMILLE\": {\"MAPA\": \"\"}, \"PERIMETRE\": {\"CMP-2006\": \"\"}, \"NATURE\": {\"APPEL_OFFRE\": \"\"}, \"STATUT\": {\"INITIAL\": \"\"}}}, \"NOM_HTML\": \"24-660.html\", \"INDEXATION\": {\"DATE_PUBLICATION\": \"2024-01-03\", \"DATE_LIMITE_REPONSE\": \"2024-02-05T10:00:00+01:00\", \"DATE_FIN_DIFFUSION\": \"2024-02-05\", \"DESCRIPTEURS\": {\"DESCRIPTEUR\": {\"CODE\": \"197\", \"LIBELLE\": \"Maîtrise d'oeuvre\"}}, \"DEP_PUBLICATION\": \"75\", \"RESUME_OBJET\": \"Marché public de maîtrise d'oeuvre pour la mise en accessibilité avec la création d'un ascenseur de l'école élémentaire sise 21, rue de Pontoise 75005 Paris\"}}\n",
       "757                                                                                                                                                                                                                                                                                                                                     {\"REFERENCE\": {\"IDWEB\": \"24-712\", \"TYPE_AVIS\": {\"FAMILLE\": {\"MAPA\": \"\"}, \"PERIMETRE\": {\"CMP-2006\": \"\"}, \"NATURE\": {\"APPEL_OFFRE\": \"\"}, \"STATUT\": {\"INITIAL\": \"\"}}}, \"NOM_HTML\": \"24-712.html\", \"INDEXATION\": {\"DATE_PUBLICATION\": \"2024-01-03\", \"DATE_LIMITE_REPONSE\": \"2024-02-06T12:00:00+01:00\", \"DATE_FIN_DIFFUSION\": \"2024-02-06\", \"DESCRIPTEURS\": {\"DESCRIPTEUR\": [{\"CODE\": \"433\", \"LIBELLE\": \"Assistance à maîtrise d'ouvrage\"}, {\"CODE\": \"455\", \"LIBELLE\": \"Ingénierie\"}]}, \"DEP_PUBLICATION\": \"75\", \"RESUME_OBJET\": \"Mission de maîtrise d'oeuvre (hors loi-MOP) pour les travaux de modernisation des installations électriques du collège Jean Baptiste Clement, 26 rue Henri Chevreau 75020 PARIS\"}}"
      ]
     },
     "execution_count": 4,
     "metadata": {},
     "output_type": "execute_result"
    }
   ],
   "source": [
    "df_.loc[df_.B_40_GESTION.notna(),:].tail()"
   ]
  }
 ],
 "metadata": {
  "kaggle": {
   "accelerator": "none",
   "dataSources": [],
   "dockerImageVersionId": 30786,
   "isGpuEnabled": false,
   "isInternetEnabled": true,
   "language": "python",
   "sourceType": "notebook"
  },
  "kernelspec": {
   "display_name": "Python 3",
   "language": "python",
   "name": "python3"
  },
  "language_info": {
   "codemirror_mode": {
    "name": "ipython",
    "version": 3
   },
   "file_extension": ".py",
   "mimetype": "text/x-python",
   "name": "python",
   "nbconvert_exporter": "python",
   "pygments_lexer": "ipython3",
   "version": "3.10.14"
  },
  "papermill": {
   "default_parameters": {},
   "duration": 7.290747,
   "end_time": "2024-10-19T09:31:29.089550",
   "environment_variables": {},
   "exception": null,
   "input_path": "__notebook__.ipynb",
   "output_path": "__notebook__.ipynb",
   "parameters": {},
   "start_time": "2024-10-19T09:31:21.798803",
   "version": "2.6.0"
  },
  "widgets": {
   "application/vnd.jupyter.widget-state+json": {
    "state": {},
    "version_major": 2,
    "version_minor": 0
   }
  }
 },
 "nbformat": 4,
 "nbformat_minor": 5
}
