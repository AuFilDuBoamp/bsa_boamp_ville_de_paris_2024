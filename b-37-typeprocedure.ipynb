{
 "cells": [
  {
   "cell_type": "markdown",
   "id": "6b519840",
   "metadata": {
    "papermill": {
     "duration": 0.003606,
     "end_time": "2024-10-19T09:30:41.449524",
     "exception": false,
     "start_time": "2024-10-19T09:30:41.445918",
     "status": "completed"
    },
    "tags": []
   },
   "source": [
    "# Colonne «B_37_typeProcedure» (Initialisation)"
   ]
  },
  {
   "cell_type": "markdown",
   "id": "d7c7adac",
   "metadata": {
    "papermill": {
     "duration": 0.002748,
     "end_time": "2024-10-19T09:30:41.455691",
     "exception": false,
     "start_time": "2024-10-19T09:30:41.452943",
     "status": "completed"
    },
    "tags": []
   },
   "source": [
    "# Intro"
   ]
  },
  {
   "cell_type": "markdown",
   "id": "8ab80368",
   "metadata": {
    "papermill": {
     "duration": 0.002678,
     "end_time": "2024-10-19T09:30:41.461369",
     "exception": false,
     "start_time": "2024-10-19T09:30:41.458691",
     "status": "completed"
    },
    "tags": []
   },
   "source": [
    "# Import(s) et réglages"
   ]
  },
  {
   "cell_type": "code",
   "execution_count": 1,
   "id": "9a35711e",
   "metadata": {
    "execution": {
     "iopub.execute_input": "2024-10-19T09:30:41.469526Z",
     "iopub.status.busy": "2024-10-19T09:30:41.468962Z",
     "iopub.status.idle": "2024-10-19T09:30:42.401475Z",
     "shell.execute_reply": "2024-10-19T09:30:42.400107Z"
    },
    "papermill": {
     "duration": 0.940102,
     "end_time": "2024-10-19T09:30:42.404440",
     "exception": false,
     "start_time": "2024-10-19T09:30:41.464338",
     "status": "completed"
    },
    "tags": []
   },
   "outputs": [],
   "source": [
    "# import\n",
    "import pandas as pd\n",
    "#réglages\n",
    "pd.set_option('display.max_colwidth', 500)\n",
    "pd.set_option('display.max_columns', 200)\n",
    "pd.set_option('display.max_rows', 200)"
   ]
  },
  {
   "cell_type": "markdown",
   "id": "01e74e5b",
   "metadata": {
    "papermill": {
     "duration": 0.002804,
     "end_time": "2024-10-19T09:30:42.410654",
     "exception": false,
     "start_time": "2024-10-19T09:30:42.407850",
     "status": "completed"
    },
    "tags": []
   },
   "source": [
    "# Téléchargement des annonces de la Ville de Paris sur Datagouv"
   ]
  },
  {
   "cell_type": "code",
   "execution_count": 2,
   "id": "5f76a9d0",
   "metadata": {
    "execution": {
     "iopub.execute_input": "2024-10-19T09:30:42.418550Z",
     "iopub.status.busy": "2024-10-19T09:30:42.418005Z",
     "iopub.status.idle": "2024-10-19T09:30:46.405528Z",
     "shell.execute_reply": "2024-10-19T09:30:46.404340Z"
    },
    "papermill": {
     "duration": 3.994664,
     "end_time": "2024-10-19T09:30:46.408346",
     "exception": false,
     "start_time": "2024-10-19T09:30:42.413682",
     "status": "completed"
    },
    "scrolled": true,
    "tags": []
   },
   "outputs": [],
   "source": [
    "df = pd.read_csv('https://www.data.gouv.fr/fr/datasets/r/8571acc8-2f51-4d7e-9d87-bd5b8ec210e5', dtype='string')\n",
    "\n",
    "# Adresse ressources sur datagouv\n",
    "# -> https://www.data.gouv.fr/fr/datasets/une-vie-de-siren-au-boamp-ville-de-paris-217500016/#/resources"
   ]
  },
  {
   "cell_type": "markdown",
   "id": "b03f4c19",
   "metadata": {
    "papermill": {
     "duration": 0.002975,
     "end_time": "2024-10-19T09:30:46.414674",
     "exception": false,
     "start_time": "2024-10-19T09:30:46.411699",
     "status": "completed"
    },
    "tags": []
   },
   "source": [
    "# Sélection de la colonne B_37_typeProcedure"
   ]
  },
  {
   "cell_type": "code",
   "execution_count": 3,
   "id": "8437113f",
   "metadata": {
    "execution": {
     "iopub.execute_input": "2024-10-19T09:30:46.423483Z",
     "iopub.status.busy": "2024-10-19T09:30:46.422538Z",
     "iopub.status.idle": "2024-10-19T09:30:46.436617Z",
     "shell.execute_reply": "2024-10-19T09:30:46.435452Z"
    },
    "papermill": {
     "duration": 0.021288,
     "end_time": "2024-10-19T09:30:46.439151",
     "exception": false,
     "start_time": "2024-10-19T09:30:46.417863",
     "status": "completed"
    },
    "tags": []
   },
   "outputs": [],
   "source": [
    "df_ = df.loc[:, ['B_37_typeProcedure']].copy()"
   ]
  },
  {
   "cell_type": "markdown",
   "id": "9b544e65",
   "metadata": {
    "papermill": {
     "duration": 0.00305,
     "end_time": "2024-10-19T09:30:46.445618",
     "exception": false,
     "start_time": "2024-10-19T09:30:46.442568",
     "status": "completed"
    },
    "tags": []
   },
   "source": [
    "# Lecture des dernières lignes"
   ]
  },
  {
   "cell_type": "code",
   "execution_count": 4,
   "id": "f6dee461",
   "metadata": {
    "execution": {
     "iopub.execute_input": "2024-10-19T09:30:46.454179Z",
     "iopub.status.busy": "2024-10-19T09:30:46.453681Z",
     "iopub.status.idle": "2024-10-19T09:30:46.472227Z",
     "shell.execute_reply": "2024-10-19T09:30:46.471057Z"
    },
    "papermill": {
     "duration": 0.025821,
     "end_time": "2024-10-19T09:30:46.474651",
     "exception": false,
     "start_time": "2024-10-19T09:30:46.448830",
     "status": "completed"
    },
    "tags": []
   },
   "outputs": [
    {
     "data": {
      "text/html": [
       "<div>\n",
       "<style scoped>\n",
       "    .dataframe tbody tr th:only-of-type {\n",
       "        vertical-align: middle;\n",
       "    }\n",
       "\n",
       "    .dataframe tbody tr th {\n",
       "        vertical-align: top;\n",
       "    }\n",
       "\n",
       "    .dataframe thead th {\n",
       "        text-align: right;\n",
       "    }\n",
       "</style>\n",
       "<table border=\"1\" class=\"dataframe\">\n",
       "  <thead>\n",
       "    <tr style=\"text-align: right;\">\n",
       "      <th></th>\n",
       "      <th>B_37_typeProcedure</th>\n",
       "    </tr>\n",
       "  </thead>\n",
       "  <tbody>\n",
       "    <tr>\n",
       "      <th>752</th>\n",
       "      <td>OUVERT</td>\n",
       "    </tr>\n",
       "    <tr>\n",
       "      <th>754</th>\n",
       "      <td>OUVERT</td>\n",
       "    </tr>\n",
       "    <tr>\n",
       "      <th>755</th>\n",
       "      <td>ATTRIBUE_SANS_PUB_JOUE</td>\n",
       "    </tr>\n",
       "    <tr>\n",
       "      <th>756</th>\n",
       "      <td>PROCEDURE_ADAPTE</td>\n",
       "    </tr>\n",
       "    <tr>\n",
       "      <th>757</th>\n",
       "      <td>PROCEDURE_ADAPTE</td>\n",
       "    </tr>\n",
       "  </tbody>\n",
       "</table>\n",
       "</div>"
      ],
      "text/plain": [
       "         B_37_typeProcedure\n",
       "752                  OUVERT\n",
       "754                  OUVERT\n",
       "755  ATTRIBUE_SANS_PUB_JOUE\n",
       "756        PROCEDURE_ADAPTE\n",
       "757        PROCEDURE_ADAPTE"
      ]
     },
     "execution_count": 4,
     "metadata": {},
     "output_type": "execute_result"
    }
   ],
   "source": [
    "df_.loc[df_.B_37_typeProcedure.notna(),:].tail()"
   ]
  }
 ],
 "metadata": {
  "kaggle": {
   "accelerator": "none",
   "dataSources": [],
   "isGpuEnabled": false,
   "isInternetEnabled": true,
   "language": "python",
   "sourceType": "notebook"
  },
  "kernelspec": {
   "display_name": "Python 3 (ipykernel)",
   "language": "python",
   "name": "python3"
  },
  "language_info": {
   "codemirror_mode": {
    "name": "ipython",
    "version": 3
   },
   "file_extension": ".py",
   "mimetype": "text/x-python",
   "name": "python",
   "nbconvert_exporter": "python",
   "pygments_lexer": "ipython3",
   "version": "3.10.14"
  },
  "papermill": {
   "default_parameters": {},
   "duration": 8.363381,
   "end_time": "2024-10-19T09:30:46.899512",
   "environment_variables": {},
   "exception": null,
   "input_path": "__notebook__.ipynb",
   "output_path": "__notebook__.ipynb",
   "parameters": {},
   "start_time": "2024-10-19T09:30:38.536131",
   "version": "2.6.0"
  },
  "widgets": {
   "application/vnd.jupyter.widget-state+json": {
    "state": {},
    "version_major": 2,
    "version_minor": 0
   }
  }
 },
 "nbformat": 4,
 "nbformat_minor": 5
}
