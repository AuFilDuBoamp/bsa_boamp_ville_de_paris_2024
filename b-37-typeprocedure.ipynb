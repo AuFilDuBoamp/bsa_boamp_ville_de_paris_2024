{
 "cells": [
  {
   "cell_type": "markdown",
   "id": "e5caa2eb",
   "metadata": {
    "papermill": {
     "duration": 0.003559,
     "end_time": "2024-10-20T08:51:35.799765",
     "exception": false,
     "start_time": "2024-10-20T08:51:35.796206",
     "status": "completed"
    },
    "tags": []
   },
   "source": [
    "# Colonne «B_37_typeProcedure» (Initialisation)"
   ]
  },
  {
   "cell_type": "markdown",
   "id": "b47ffd9c",
   "metadata": {
    "papermill": {
     "duration": 0.00285,
     "end_time": "2024-10-20T08:51:35.805916",
     "exception": false,
     "start_time": "2024-10-20T08:51:35.803066",
     "status": "completed"
    },
    "tags": []
   },
   "source": [
    "|NAVIGATION (travaux sur les annonces BOAMP de la Ville de Paris en 2024)|\n",
    "|---|\n",
    "|[Retour à l'INDEX (kaggle)](https://www.kaggle.com/code/aufilduboamp/index-ville-de-paris-aufilduboamp)|\n",
    "|[Rubrique AuFilDuBoamp.com](https://www.aufilduboamp.com/rubrique92.html)|\n",
    "|[Dépôt GitHub](https://github.com/AuFilDuBoamp/bsa_boamp_ville_de_paris_2024/tree/main)|\n",
    "|[Dépôt DataGouv](https://www.data.gouv.fr/fr/datasets/une-vie-de-siren-au-boamp-ville-de-paris-217500016/#/resources)|"
   ]
  },
  {
   "cell_type": "markdown",
   "id": "aede553a",
   "metadata": {
    "papermill": {
     "duration": 0.002446,
     "end_time": "2024-10-20T08:51:35.811287",
     "exception": false,
     "start_time": "2024-10-20T08:51:35.808841",
     "status": "completed"
    },
    "tags": []
   },
   "source": [
    "# Import(s) et réglages"
   ]
  },
  {
   "cell_type": "code",
   "execution_count": 1,
   "id": "69b703ba",
   "metadata": {
    "execution": {
     "iopub.execute_input": "2024-10-20T08:51:35.818583Z",
     "iopub.status.busy": "2024-10-20T08:51:35.818112Z",
     "iopub.status.idle": "2024-10-20T08:51:36.858237Z",
     "shell.execute_reply": "2024-10-20T08:51:36.856808Z"
    },
    "papermill": {
     "duration": 1.047073,
     "end_time": "2024-10-20T08:51:36.861115",
     "exception": false,
     "start_time": "2024-10-20T08:51:35.814042",
     "status": "completed"
    },
    "tags": []
   },
   "outputs": [],
   "source": [
    "# import\n",
    "import pandas as pd\n",
    "#réglages\n",
    "pd.set_option('display.max_colwidth', 500)\n",
    "pd.set_option('display.max_columns', 200)\n",
    "pd.set_option('display.max_rows', 200)"
   ]
  },
  {
   "cell_type": "markdown",
   "id": "7d972f1c",
   "metadata": {
    "papermill": {
     "duration": 0.002841,
     "end_time": "2024-10-20T08:51:36.866953",
     "exception": false,
     "start_time": "2024-10-20T08:51:36.864112",
     "status": "completed"
    },
    "tags": []
   },
   "source": [
    "# Téléchargement des annonces de la Ville de Paris sur Datagouv"
   ]
  },
  {
   "cell_type": "code",
   "execution_count": 2,
   "id": "b9026ad7",
   "metadata": {
    "execution": {
     "iopub.execute_input": "2024-10-20T08:51:36.874853Z",
     "iopub.status.busy": "2024-10-20T08:51:36.874220Z",
     "iopub.status.idle": "2024-10-20T08:51:38.806836Z",
     "shell.execute_reply": "2024-10-20T08:51:38.805625Z"
    },
    "papermill": {
     "duration": 1.939736,
     "end_time": "2024-10-20T08:51:38.809691",
     "exception": false,
     "start_time": "2024-10-20T08:51:36.869955",
     "status": "completed"
    },
    "scrolled": true,
    "tags": []
   },
   "outputs": [],
   "source": [
    "df = pd.read_csv('https://www.data.gouv.fr/fr/datasets/r/8571acc8-2f51-4d7e-9d87-bd5b8ec210e5', dtype='string')\n",
    "\n",
    "# Adresse ressources sur datagouv\n",
    "# -> https://www.data.gouv.fr/fr/datasets/une-vie-de-siren-au-boamp-ville-de-paris-217500016/#/resources"
   ]
  },
  {
   "cell_type": "markdown",
   "id": "37cdee9a",
   "metadata": {
    "papermill": {
     "duration": 0.002636,
     "end_time": "2024-10-20T08:51:38.815484",
     "exception": false,
     "start_time": "2024-10-20T08:51:38.812848",
     "status": "completed"
    },
    "tags": []
   },
   "source": [
    "# Sélection de la colonne B_37_typeProcedure"
   ]
  },
  {
   "cell_type": "code",
   "execution_count": 3,
   "id": "07447fe3",
   "metadata": {
    "execution": {
     "iopub.execute_input": "2024-10-20T08:51:38.823282Z",
     "iopub.status.busy": "2024-10-20T08:51:38.822868Z",
     "iopub.status.idle": "2024-10-20T08:51:38.839165Z",
     "shell.execute_reply": "2024-10-20T08:51:38.837894Z"
    },
    "papermill": {
     "duration": 0.02373,
     "end_time": "2024-10-20T08:51:38.842162",
     "exception": false,
     "start_time": "2024-10-20T08:51:38.818432",
     "status": "completed"
    },
    "tags": []
   },
   "outputs": [],
   "source": [
    "df_ = df.loc[:, ['B_37_typeProcedure']].copy()"
   ]
  },
  {
   "cell_type": "markdown",
   "id": "4ddf3f97",
   "metadata": {
    "papermill": {
     "duration": 0.002634,
     "end_time": "2024-10-20T08:51:38.847797",
     "exception": false,
     "start_time": "2024-10-20T08:51:38.845163",
     "status": "completed"
    },
    "tags": []
   },
   "source": [
    "# Lecture des dernières lignes"
   ]
  },
  {
   "cell_type": "code",
   "execution_count": 4,
   "id": "bb45aecf",
   "metadata": {
    "execution": {
     "iopub.execute_input": "2024-10-20T08:51:38.855744Z",
     "iopub.status.busy": "2024-10-20T08:51:38.855301Z",
     "iopub.status.idle": "2024-10-20T08:51:38.873730Z",
     "shell.execute_reply": "2024-10-20T08:51:38.872543Z"
    },
    "papermill": {
     "duration": 0.025241,
     "end_time": "2024-10-20T08:51:38.876208",
     "exception": false,
     "start_time": "2024-10-20T08:51:38.850967",
     "status": "completed"
    },
    "tags": []
   },
   "outputs": [
    {
     "data": {
      "text/html": [
       "<div>\n",
       "<style scoped>\n",
       "    .dataframe tbody tr th:only-of-type {\n",
       "        vertical-align: middle;\n",
       "    }\n",
       "\n",
       "    .dataframe tbody tr th {\n",
       "        vertical-align: top;\n",
       "    }\n",
       "\n",
       "    .dataframe thead th {\n",
       "        text-align: right;\n",
       "    }\n",
       "</style>\n",
       "<table border=\"1\" class=\"dataframe\">\n",
       "  <thead>\n",
       "    <tr style=\"text-align: right;\">\n",
       "      <th></th>\n",
       "      <th>B_37_typeProcedure</th>\n",
       "    </tr>\n",
       "  </thead>\n",
       "  <tbody>\n",
       "    <tr>\n",
       "      <th>752</th>\n",
       "      <td>OUVERT</td>\n",
       "    </tr>\n",
       "    <tr>\n",
       "      <th>753</th>\n",
       "      <td>ATTRIBUE_SANS_PUB_JOUE</td>\n",
       "    </tr>\n",
       "    <tr>\n",
       "      <th>755</th>\n",
       "      <td>OUVERT</td>\n",
       "    </tr>\n",
       "    <tr>\n",
       "      <th>756</th>\n",
       "      <td>PROCEDURE_ADAPTE</td>\n",
       "    </tr>\n",
       "    <tr>\n",
       "      <th>757</th>\n",
       "      <td>PROCEDURE_ADAPTE</td>\n",
       "    </tr>\n",
       "  </tbody>\n",
       "</table>\n",
       "</div>"
      ],
      "text/plain": [
       "         B_37_typeProcedure\n",
       "752                  OUVERT\n",
       "753  ATTRIBUE_SANS_PUB_JOUE\n",
       "755                  OUVERT\n",
       "756        PROCEDURE_ADAPTE\n",
       "757        PROCEDURE_ADAPTE"
      ]
     },
     "execution_count": 4,
     "metadata": {},
     "output_type": "execute_result"
    }
   ],
   "source": [
    "df_.loc[df_.B_37_typeProcedure.notna(),:].tail()"
   ]
  }
 ],
 "metadata": {
  "kaggle": {
   "accelerator": "none",
   "dataSources": [],
   "dockerImageVersionId": 30786,
   "isGpuEnabled": false,
   "isInternetEnabled": true,
   "language": "python",
   "sourceType": "notebook"
  },
  "kernelspec": {
   "display_name": "Python 3 (ipykernel)",
   "language": "python",
   "name": "python3"
  },
  "language_info": {
   "codemirror_mode": {
    "name": "ipython",
    "version": 3
   },
   "file_extension": ".py",
   "mimetype": "text/x-python",
   "name": "python",
   "nbconvert_exporter": "python",
   "pygments_lexer": "ipython3",
   "version": "3.10.14"
  },
  "papermill": {
   "default_parameters": {},
   "duration": 6.599775,
   "end_time": "2024-10-20T08:51:39.401774",
   "environment_variables": {},
   "exception": null,
   "input_path": "__notebook__.ipynb",
   "output_path": "__notebook__.ipynb",
   "parameters": {},
   "start_time": "2024-10-20T08:51:32.801999",
   "version": "2.6.0"
  },
  "widgets": {
   "application/vnd.jupyter.widget-state+json": {
    "state": {},
    "version_major": 2,
    "version_minor": 0
   }
  }
 },
 "nbformat": 4,
 "nbformat_minor": 5
}
