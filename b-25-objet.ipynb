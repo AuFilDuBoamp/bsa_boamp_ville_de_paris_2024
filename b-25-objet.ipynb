{
 "cells": [
  {
   "cell_type": "markdown",
   "id": "47fa4429",
   "metadata": {
    "papermill": {
     "duration": 0.003405,
     "end_time": "2024-10-20T08:45:10.773604",
     "exception": false,
     "start_time": "2024-10-20T08:45:10.770199",
     "status": "completed"
    },
    "tags": []
   },
   "source": [
    "# Colonne «B_25_objet» (Initialisation)"
   ]
  },
  {
   "cell_type": "markdown",
   "id": "8b1238cd",
   "metadata": {
    "papermill": {
     "duration": 0.002407,
     "end_time": "2024-10-20T08:45:10.779061",
     "exception": false,
     "start_time": "2024-10-20T08:45:10.776654",
     "status": "completed"
    },
    "tags": []
   },
   "source": [
    "|NAVIGATION (travaux sur les annonces BOAMP de la Ville de Paris en 2024)|\n",
    "|---|\n",
    "|[Retour à l'INDEX (kaggle)](https://www.kaggle.com/code/aufilduboamp/index-ville-de-paris-aufilduboamp)|\n",
    "|[Rubrique AuFilDuBoamp.com](https://www.aufilduboamp.com/rubrique92.html)|\n",
    "|[Dépôt GitHub](https://github.com/AuFilDuBoamp/bsa_boamp_ville_de_paris_2024/tree/main)|\n",
    "|[Dépôt DataGouv](https://www.data.gouv.fr/fr/datasets/une-vie-de-siren-au-boamp-ville-de-paris-217500016/#/resources)|"
   ]
  },
  {
   "cell_type": "markdown",
   "id": "01a6c2bb",
   "metadata": {
    "papermill": {
     "duration": 0.002163,
     "end_time": "2024-10-20T08:45:10.783658",
     "exception": false,
     "start_time": "2024-10-20T08:45:10.781495",
     "status": "completed"
    },
    "tags": []
   },
   "source": [
    "# Import(s) et réglages"
   ]
  },
  {
   "cell_type": "code",
   "execution_count": 1,
   "id": "2bd82dbb",
   "metadata": {
    "execution": {
     "iopub.execute_input": "2024-10-20T08:45:10.790046Z",
     "iopub.status.busy": "2024-10-20T08:45:10.789669Z",
     "iopub.status.idle": "2024-10-20T08:45:11.550774Z",
     "shell.execute_reply": "2024-10-20T08:45:11.549801Z"
    },
    "papermill": {
     "duration": 0.767371,
     "end_time": "2024-10-20T08:45:11.553401",
     "exception": false,
     "start_time": "2024-10-20T08:45:10.786030",
     "status": "completed"
    },
    "tags": []
   },
   "outputs": [],
   "source": [
    "# import\n",
    "import pandas as pd\n",
    "#réglages\n",
    "pd.set_option('display.max_colwidth', 500)\n",
    "pd.set_option('display.max_columns', 200)\n",
    "pd.set_option('display.max_rows', 200)"
   ]
  },
  {
   "cell_type": "markdown",
   "id": "5e8359b3",
   "metadata": {
    "papermill": {
     "duration": 0.002868,
     "end_time": "2024-10-20T08:45:11.559573",
     "exception": false,
     "start_time": "2024-10-20T08:45:11.556705",
     "status": "completed"
    },
    "tags": []
   },
   "source": [
    "# Téléchargement des annonces de la Ville de Paris sur Datagouv"
   ]
  },
  {
   "cell_type": "code",
   "execution_count": 2,
   "id": "ee1c61a3",
   "metadata": {
    "execution": {
     "iopub.execute_input": "2024-10-20T08:45:11.566873Z",
     "iopub.status.busy": "2024-10-20T08:45:11.566389Z",
     "iopub.status.idle": "2024-10-20T08:45:15.760592Z",
     "shell.execute_reply": "2024-10-20T08:45:15.759158Z"
    },
    "papermill": {
     "duration": 4.201088,
     "end_time": "2024-10-20T08:45:15.763445",
     "exception": false,
     "start_time": "2024-10-20T08:45:11.562357",
     "status": "completed"
    },
    "scrolled": true,
    "tags": []
   },
   "outputs": [],
   "source": [
    "df = pd.read_csv('https://www.data.gouv.fr/fr/datasets/r/8571acc8-2f51-4d7e-9d87-bd5b8ec210e5', dtype='string')\n",
    "\n",
    "# Adresse ressources sur datagouv\n",
    "# -> https://www.data.gouv.fr/fr/datasets/une-vie-de-siren-au-boamp-ville-de-paris-217500016/#/resources"
   ]
  },
  {
   "cell_type": "markdown",
   "id": "18137b2a",
   "metadata": {
    "papermill": {
     "duration": 0.002414,
     "end_time": "2024-10-20T08:45:15.768711",
     "exception": false,
     "start_time": "2024-10-20T08:45:15.766297",
     "status": "completed"
    },
    "tags": []
   },
   "source": [
    "# Sélection de la colonne B_25_objet"
   ]
  },
  {
   "cell_type": "code",
   "execution_count": 3,
   "id": "fc5ee1db",
   "metadata": {
    "execution": {
     "iopub.execute_input": "2024-10-20T08:45:15.776823Z",
     "iopub.status.busy": "2024-10-20T08:45:15.775490Z",
     "iopub.status.idle": "2024-10-20T08:45:15.789566Z",
     "shell.execute_reply": "2024-10-20T08:45:15.788497Z"
    },
    "papermill": {
     "duration": 0.020745,
     "end_time": "2024-10-20T08:45:15.792030",
     "exception": false,
     "start_time": "2024-10-20T08:45:15.771285",
     "status": "completed"
    },
    "tags": []
   },
   "outputs": [],
   "source": [
    "df_ = df.loc[:, ['B_25_objet']].copy()"
   ]
  },
  {
   "cell_type": "markdown",
   "id": "28056e00",
   "metadata": {
    "papermill": {
     "duration": 0.002687,
     "end_time": "2024-10-20T08:45:15.797901",
     "exception": false,
     "start_time": "2024-10-20T08:45:15.795214",
     "status": "completed"
    },
    "tags": []
   },
   "source": [
    "# Lecture des dernières lignes"
   ]
  },
  {
   "cell_type": "code",
   "execution_count": 4,
   "id": "c008cb22",
   "metadata": {
    "execution": {
     "iopub.execute_input": "2024-10-20T08:45:15.805360Z",
     "iopub.status.busy": "2024-10-20T08:45:15.804973Z",
     "iopub.status.idle": "2024-10-20T08:45:15.821187Z",
     "shell.execute_reply": "2024-10-20T08:45:15.820217Z"
    },
    "papermill": {
     "duration": 0.022699,
     "end_time": "2024-10-20T08:45:15.823611",
     "exception": false,
     "start_time": "2024-10-20T08:45:15.800912",
     "status": "completed"
    },
    "tags": []
   },
   "outputs": [
    {
     "data": {
      "text/html": [
       "<div>\n",
       "<style scoped>\n",
       "    .dataframe tbody tr th:only-of-type {\n",
       "        vertical-align: middle;\n",
       "    }\n",
       "\n",
       "    .dataframe tbody tr th {\n",
       "        vertical-align: top;\n",
       "    }\n",
       "\n",
       "    .dataframe thead th {\n",
       "        text-align: right;\n",
       "    }\n",
       "</style>\n",
       "<table border=\"1\" class=\"dataframe\">\n",
       "  <thead>\n",
       "    <tr style=\"text-align: right;\">\n",
       "      <th></th>\n",
       "      <th>B_25_objet</th>\n",
       "    </tr>\n",
       "  </thead>\n",
       "  <tbody>\n",
       "    <tr>\n",
       "      <th>753</th>\n",
       "      <td>ACBC pour la maintenance applicative du SI Social.</td>\n",
       "    </tr>\n",
       "    <tr>\n",
       "      <th>754</th>\n",
       "      <td>Fourniture d'équipements de manutention des bacs poubelles et formation professionnelle</td>\n",
       "    </tr>\n",
       "    <tr>\n",
       "      <th>755</th>\n",
       "      <td>Accord-cadre à bons de commande pour des formations aux techniques de nettoyage des locaux scolaires</td>\n",
       "    </tr>\n",
       "    <tr>\n",
       "      <th>756</th>\n",
       "      <td>Marché public de maîtrise d'oeuvre pour la mise en accessibilité avec la création d'un ascenseur de l'école élémentaire sise 21, rue de Pontoise 75005 Paris</td>\n",
       "    </tr>\n",
       "    <tr>\n",
       "      <th>757</th>\n",
       "      <td>Mission de maîtrise d'oeuvre (hors loi-MOP) pour les travaux de modernisation des installations électriques du collège Jean Baptiste Clement, 26 rue Henri Chevreau 75020 PARIS</td>\n",
       "    </tr>\n",
       "  </tbody>\n",
       "</table>\n",
       "</div>"
      ],
      "text/plain": [
       "                                                                                                                                                                          B_25_objet\n",
       "753                                                                                                                               ACBC pour la maintenance applicative du SI Social.\n",
       "754                                                                                          Fourniture d'équipements de manutention des bacs poubelles et formation professionnelle\n",
       "755                                                                             Accord-cadre à bons de commande pour des formations aux techniques de nettoyage des locaux scolaires\n",
       "756                     Marché public de maîtrise d'oeuvre pour la mise en accessibilité avec la création d'un ascenseur de l'école élémentaire sise 21, rue de Pontoise 75005 Paris\n",
       "757  Mission de maîtrise d'oeuvre (hors loi-MOP) pour les travaux de modernisation des installations électriques du collège Jean Baptiste Clement, 26 rue Henri Chevreau 75020 PARIS"
      ]
     },
     "execution_count": 4,
     "metadata": {},
     "output_type": "execute_result"
    }
   ],
   "source": [
    "df_.loc[df_.B_25_objet.notna(),:].tail()"
   ]
  }
 ],
 "metadata": {
  "kaggle": {
   "accelerator": "none",
   "dataSources": [],
   "dockerImageVersionId": 30786,
   "isGpuEnabled": false,
   "isInternetEnabled": true,
   "language": "python",
   "sourceType": "notebook"
  },
  "kernelspec": {
   "display_name": "Python 3 (ipykernel)",
   "language": "python",
   "name": "python3"
  },
  "language_info": {
   "codemirror_mode": {
    "name": "ipython",
    "version": 3
   },
   "file_extension": ".py",
   "mimetype": "text/x-python",
   "name": "python",
   "nbconvert_exporter": "python",
   "pygments_lexer": "ipython3",
   "version": "3.10.14"
  },
  "papermill": {
   "default_parameters": {},
   "duration": 8.120588,
   "end_time": "2024-10-20T08:45:16.348119",
   "environment_variables": {},
   "exception": null,
   "input_path": "__notebook__.ipynb",
   "output_path": "__notebook__.ipynb",
   "parameters": {},
   "start_time": "2024-10-20T08:45:08.227531",
   "version": "2.6.0"
  },
  "widgets": {
   "application/vnd.jupyter.widget-state+json": {
    "state": {},
    "version_major": 2,
    "version_minor": 0
   }
  }
 },
 "nbformat": 4,
 "nbformat_minor": 5
}
