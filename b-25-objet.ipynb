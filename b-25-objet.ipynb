{
 "cells": [
  {
   "cell_type": "markdown",
   "id": "af3e9cf6",
   "metadata": {
    "papermill": {
     "duration": 0.004066,
     "end_time": "2024-10-19T09:37:27.084030",
     "exception": false,
     "start_time": "2024-10-19T09:37:27.079964",
     "status": "completed"
    },
    "tags": []
   },
   "source": [
    "# Colonne «B_25_objet» (Initialisation)"
   ]
  },
  {
   "cell_type": "markdown",
   "id": "44129422",
   "metadata": {
    "papermill": {
     "duration": 0.003383,
     "end_time": "2024-10-19T09:37:27.091251",
     "exception": false,
     "start_time": "2024-10-19T09:37:27.087868",
     "status": "completed"
    },
    "tags": []
   },
   "source": [
    "# Intro"
   ]
  },
  {
   "cell_type": "markdown",
   "id": "c86a1b16",
   "metadata": {
    "papermill": {
     "duration": 0.003289,
     "end_time": "2024-10-19T09:37:27.098012",
     "exception": false,
     "start_time": "2024-10-19T09:37:27.094723",
     "status": "completed"
    },
    "tags": []
   },
   "source": [
    "# Import(s) et réglages"
   ]
  },
  {
   "cell_type": "code",
   "execution_count": 1,
   "id": "c468609f",
   "metadata": {
    "execution": {
     "iopub.execute_input": "2024-10-19T09:37:27.107222Z",
     "iopub.status.busy": "2024-10-19T09:37:27.106671Z",
     "iopub.status.idle": "2024-10-19T09:37:28.150354Z",
     "shell.execute_reply": "2024-10-19T09:37:28.149034Z"
    },
    "papermill": {
     "duration": 1.05189,
     "end_time": "2024-10-19T09:37:28.153416",
     "exception": false,
     "start_time": "2024-10-19T09:37:27.101526",
     "status": "completed"
    },
    "tags": []
   },
   "outputs": [],
   "source": [
    "# import\n",
    "import pandas as pd\n",
    "#réglages\n",
    "pd.set_option('display.max_colwidth', 500)\n",
    "pd.set_option('display.max_columns', 200)\n",
    "pd.set_option('display.max_rows', 200)"
   ]
  },
  {
   "cell_type": "markdown",
   "id": "1cd61701",
   "metadata": {
    "papermill": {
     "duration": 0.003543,
     "end_time": "2024-10-19T09:37:28.160978",
     "exception": false,
     "start_time": "2024-10-19T09:37:28.157435",
     "status": "completed"
    },
    "tags": []
   },
   "source": [
    "# Téléchargement des annonces de la Ville de Paris sur Datagouv"
   ]
  },
  {
   "cell_type": "code",
   "execution_count": 2,
   "id": "39bf2530",
   "metadata": {
    "execution": {
     "iopub.execute_input": "2024-10-19T09:37:28.170260Z",
     "iopub.status.busy": "2024-10-19T09:37:28.169680Z",
     "iopub.status.idle": "2024-10-19T09:37:32.749188Z",
     "shell.execute_reply": "2024-10-19T09:37:32.747967Z"
    },
    "papermill": {
     "duration": 4.587453,
     "end_time": "2024-10-19T09:37:32.752119",
     "exception": false,
     "start_time": "2024-10-19T09:37:28.164666",
     "status": "completed"
    },
    "scrolled": true,
    "tags": []
   },
   "outputs": [],
   "source": [
    "df = pd.read_csv('https://www.data.gouv.fr/fr/datasets/r/8571acc8-2f51-4d7e-9d87-bd5b8ec210e5', dtype='string')\n",
    "\n",
    "# Adresse ressources sur datagouv\n",
    "# -> https://www.data.gouv.fr/fr/datasets/une-vie-de-siren-au-boamp-ville-de-paris-217500016/#/resources"
   ]
  },
  {
   "cell_type": "markdown",
   "id": "ce1417e0",
   "metadata": {
    "papermill": {
     "duration": 0.004118,
     "end_time": "2024-10-19T09:37:32.761235",
     "exception": false,
     "start_time": "2024-10-19T09:37:32.757117",
     "status": "completed"
    },
    "tags": []
   },
   "source": [
    "# Sélection de la colonne B_25_objet"
   ]
  },
  {
   "cell_type": "code",
   "execution_count": 3,
   "id": "2f2b417e",
   "metadata": {
    "execution": {
     "iopub.execute_input": "2024-10-19T09:37:32.771050Z",
     "iopub.status.busy": "2024-10-19T09:37:32.770563Z",
     "iopub.status.idle": "2024-10-19T09:37:32.787177Z",
     "shell.execute_reply": "2024-10-19T09:37:32.785785Z"
    },
    "papermill": {
     "duration": 0.024852,
     "end_time": "2024-10-19T09:37:32.789949",
     "exception": false,
     "start_time": "2024-10-19T09:37:32.765097",
     "status": "completed"
    },
    "tags": []
   },
   "outputs": [],
   "source": [
    "df_ = df.loc[:, ['B_25_objet']].copy()"
   ]
  },
  {
   "cell_type": "markdown",
   "id": "3f6646f8",
   "metadata": {
    "papermill": {
     "duration": 0.003572,
     "end_time": "2024-10-19T09:37:32.797503",
     "exception": false,
     "start_time": "2024-10-19T09:37:32.793931",
     "status": "completed"
    },
    "tags": []
   },
   "source": [
    "# Lecture des dernières lignes"
   ]
  },
  {
   "cell_type": "code",
   "execution_count": 4,
   "id": "83c692ff",
   "metadata": {
    "execution": {
     "iopub.execute_input": "2024-10-19T09:37:32.806779Z",
     "iopub.status.busy": "2024-10-19T09:37:32.806377Z",
     "iopub.status.idle": "2024-10-19T09:37:32.826008Z",
     "shell.execute_reply": "2024-10-19T09:37:32.824915Z"
    },
    "papermill": {
     "duration": 0.027631,
     "end_time": "2024-10-19T09:37:32.828877",
     "exception": false,
     "start_time": "2024-10-19T09:37:32.801246",
     "status": "completed"
    },
    "tags": []
   },
   "outputs": [
    {
     "data": {
      "text/html": [
       "<div>\n",
       "<style scoped>\n",
       "    .dataframe tbody tr th:only-of-type {\n",
       "        vertical-align: middle;\n",
       "    }\n",
       "\n",
       "    .dataframe tbody tr th {\n",
       "        vertical-align: top;\n",
       "    }\n",
       "\n",
       "    .dataframe thead th {\n",
       "        text-align: right;\n",
       "    }\n",
       "</style>\n",
       "<table border=\"1\" class=\"dataframe\">\n",
       "  <thead>\n",
       "    <tr style=\"text-align: right;\">\n",
       "      <th></th>\n",
       "      <th>B_25_objet</th>\n",
       "    </tr>\n",
       "  </thead>\n",
       "  <tbody>\n",
       "    <tr>\n",
       "      <th>753</th>\n",
       "      <td>Fourniture d'équipements de manutention des bacs poubelles et formation professionnelle</td>\n",
       "    </tr>\n",
       "    <tr>\n",
       "      <th>754</th>\n",
       "      <td>Accord-cadre à bons de commande pour des formations aux techniques de nettoyage des locaux scolaires</td>\n",
       "    </tr>\n",
       "    <tr>\n",
       "      <th>755</th>\n",
       "      <td>ACBC pour la maintenance applicative du SI Social.</td>\n",
       "    </tr>\n",
       "    <tr>\n",
       "      <th>756</th>\n",
       "      <td>Marché public de maîtrise d'oeuvre pour la mise en accessibilité avec la création d'un ascenseur de l'école élémentaire sise 21, rue de Pontoise 75005 Paris</td>\n",
       "    </tr>\n",
       "    <tr>\n",
       "      <th>757</th>\n",
       "      <td>Mission de maîtrise d'oeuvre (hors loi-MOP) pour les travaux de modernisation des installations électriques du collège Jean Baptiste Clement, 26 rue Henri Chevreau 75020 PARIS</td>\n",
       "    </tr>\n",
       "  </tbody>\n",
       "</table>\n",
       "</div>"
      ],
      "text/plain": [
       "                                                                                                                                                                          B_25_objet\n",
       "753                                                                                          Fourniture d'équipements de manutention des bacs poubelles et formation professionnelle\n",
       "754                                                                             Accord-cadre à bons de commande pour des formations aux techniques de nettoyage des locaux scolaires\n",
       "755                                                                                                                               ACBC pour la maintenance applicative du SI Social.\n",
       "756                     Marché public de maîtrise d'oeuvre pour la mise en accessibilité avec la création d'un ascenseur de l'école élémentaire sise 21, rue de Pontoise 75005 Paris\n",
       "757  Mission de maîtrise d'oeuvre (hors loi-MOP) pour les travaux de modernisation des installations électriques du collège Jean Baptiste Clement, 26 rue Henri Chevreau 75020 PARIS"
      ]
     },
     "execution_count": 4,
     "metadata": {},
     "output_type": "execute_result"
    }
   ],
   "source": [
    "df_.loc[df_.B_25_objet.notna(),:].tail()"
   ]
  }
 ],
 "metadata": {
  "kaggle": {
   "accelerator": "none",
   "dataSources": [],
   "isGpuEnabled": false,
   "isInternetEnabled": true,
   "language": "python",
   "sourceType": "notebook"
  },
  "kernelspec": {
   "display_name": "Python 3 (ipykernel)",
   "language": "python",
   "name": "python3"
  },
  "language_info": {
   "codemirror_mode": {
    "name": "ipython",
    "version": 3
   },
   "file_extension": ".py",
   "mimetype": "text/x-python",
   "name": "python",
   "nbconvert_exporter": "python",
   "pygments_lexer": "ipython3",
   "version": "3.10.14"
  },
  "papermill": {
   "default_parameters": {},
   "duration": 9.470444,
   "end_time": "2024-10-19T09:37:33.356556",
   "environment_variables": {},
   "exception": null,
   "input_path": "__notebook__.ipynb",
   "output_path": "__notebook__.ipynb",
   "parameters": {},
   "start_time": "2024-10-19T09:37:23.886112",
   "version": "2.6.0"
  },
  "widgets": {
   "application/vnd.jupyter.widget-state+json": {
    "state": {},
    "version_major": 2,
    "version_minor": 0
   }
  }
 },
 "nbformat": 4,
 "nbformat_minor": 5
}
