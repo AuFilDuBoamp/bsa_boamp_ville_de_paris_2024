{
 "cells": [
  {
   "cell_type": "markdown",
   "id": "d85cbfc3",
   "metadata": {
    "papermill": {
     "duration": 0.004126,
     "end_time": "2024-10-19T09:29:29.902394",
     "exception": false,
     "start_time": "2024-10-19T09:29:29.898268",
     "status": "completed"
    },
    "tags": []
   },
   "source": [
    "# Colonne «B_34_typeAvis» (Initialisation)"
   ]
  },
  {
   "cell_type": "markdown",
   "id": "b2b24d29",
   "metadata": {
    "papermill": {
     "duration": 0.003313,
     "end_time": "2024-10-19T09:29:29.909699",
     "exception": false,
     "start_time": "2024-10-19T09:29:29.906386",
     "status": "completed"
    },
    "tags": []
   },
   "source": [
    "# Intro"
   ]
  },
  {
   "cell_type": "markdown",
   "id": "c633134e",
   "metadata": {
    "papermill": {
     "duration": 0.003302,
     "end_time": "2024-10-19T09:29:29.916654",
     "exception": false,
     "start_time": "2024-10-19T09:29:29.913352",
     "status": "completed"
    },
    "tags": []
   },
   "source": [
    "# Import(s) et réglages"
   ]
  },
  {
   "cell_type": "code",
   "execution_count": 1,
   "id": "955e8733",
   "metadata": {
    "execution": {
     "iopub.execute_input": "2024-10-19T09:29:29.925662Z",
     "iopub.status.busy": "2024-10-19T09:29:29.925232Z",
     "iopub.status.idle": "2024-10-19T09:29:31.049896Z",
     "shell.execute_reply": "2024-10-19T09:29:31.048709Z"
    },
    "papermill": {
     "duration": 1.132819,
     "end_time": "2024-10-19T09:29:31.053052",
     "exception": false,
     "start_time": "2024-10-19T09:29:29.920233",
     "status": "completed"
    },
    "tags": []
   },
   "outputs": [],
   "source": [
    "# import\n",
    "import pandas as pd\n",
    "#réglages\n",
    "pd.set_option('display.max_colwidth', 500)\n",
    "pd.set_option('display.max_columns', 200)\n",
    "pd.set_option('display.max_rows', 200)"
   ]
  },
  {
   "cell_type": "markdown",
   "id": "f2b89a8f",
   "metadata": {
    "papermill": {
     "duration": 0.003411,
     "end_time": "2024-10-19T09:29:31.060459",
     "exception": false,
     "start_time": "2024-10-19T09:29:31.057048",
     "status": "completed"
    },
    "tags": []
   },
   "source": [
    "# Téléchargement des annonces de la Ville de Paris sur Datagouv"
   ]
  },
  {
   "cell_type": "code",
   "execution_count": 2,
   "id": "f3209781",
   "metadata": {
    "execution": {
     "iopub.execute_input": "2024-10-19T09:29:31.069991Z",
     "iopub.status.busy": "2024-10-19T09:29:31.069361Z",
     "iopub.status.idle": "2024-10-19T09:29:32.893086Z",
     "shell.execute_reply": "2024-10-19T09:29:32.891908Z"
    },
    "papermill": {
     "duration": 1.831935,
     "end_time": "2024-10-19T09:29:32.896084",
     "exception": false,
     "start_time": "2024-10-19T09:29:31.064149",
     "status": "completed"
    },
    "scrolled": true,
    "tags": []
   },
   "outputs": [],
   "source": [
    "df = pd.read_csv('https://www.data.gouv.fr/fr/datasets/r/8571acc8-2f51-4d7e-9d87-bd5b8ec210e5', dtype='string')\n",
    "\n",
    "# Adresse ressources sur datagouv\n",
    "# -> https://www.data.gouv.fr/fr/datasets/une-vie-de-siren-au-boamp-ville-de-paris-217500016/#/resources"
   ]
  },
  {
   "cell_type": "markdown",
   "id": "005f2cc8",
   "metadata": {
    "papermill": {
     "duration": 0.003468,
     "end_time": "2024-10-19T09:29:32.903414",
     "exception": false,
     "start_time": "2024-10-19T09:29:32.899946",
     "status": "completed"
    },
    "tags": []
   },
   "source": [
    "# Sélection de la colonne B_34_typeAvis"
   ]
  },
  {
   "cell_type": "code",
   "execution_count": 3,
   "id": "67b66691",
   "metadata": {
    "execution": {
     "iopub.execute_input": "2024-10-19T09:29:32.912577Z",
     "iopub.status.busy": "2024-10-19T09:29:32.912122Z",
     "iopub.status.idle": "2024-10-19T09:29:32.929578Z",
     "shell.execute_reply": "2024-10-19T09:29:32.928391Z"
    },
    "papermill": {
     "duration": 0.025309,
     "end_time": "2024-10-19T09:29:32.932374",
     "exception": false,
     "start_time": "2024-10-19T09:29:32.907065",
     "status": "completed"
    },
    "tags": []
   },
   "outputs": [],
   "source": [
    "df_ = df.loc[:, ['B_34_typeAvis']].copy()"
   ]
  },
  {
   "cell_type": "markdown",
   "id": "49c75225",
   "metadata": {
    "papermill": {
     "duration": 0.003521,
     "end_time": "2024-10-19T09:29:32.939907",
     "exception": false,
     "start_time": "2024-10-19T09:29:32.936386",
     "status": "completed"
    },
    "tags": []
   },
   "source": [
    "# Lecture des dernières lignes"
   ]
  },
  {
   "cell_type": "code",
   "execution_count": 4,
   "id": "d9d745df",
   "metadata": {
    "execution": {
     "iopub.execute_input": "2024-10-19T09:29:32.950339Z",
     "iopub.status.busy": "2024-10-19T09:29:32.948853Z",
     "iopub.status.idle": "2024-10-19T09:29:32.968646Z",
     "shell.execute_reply": "2024-10-19T09:29:32.967492Z"
    },
    "papermill": {
     "duration": 0.027677,
     "end_time": "2024-10-19T09:29:32.971432",
     "exception": false,
     "start_time": "2024-10-19T09:29:32.943755",
     "status": "completed"
    },
    "tags": []
   },
   "outputs": [
    {
     "data": {
      "text/html": [
       "<div>\n",
       "<style scoped>\n",
       "    .dataframe tbody tr th:only-of-type {\n",
       "        vertical-align: middle;\n",
       "    }\n",
       "\n",
       "    .dataframe tbody tr th {\n",
       "        vertical-align: top;\n",
       "    }\n",
       "\n",
       "    .dataframe thead th {\n",
       "        text-align: right;\n",
       "    }\n",
       "</style>\n",
       "<table border=\"1\" class=\"dataframe\">\n",
       "  <thead>\n",
       "    <tr style=\"text-align: right;\">\n",
       "      <th></th>\n",
       "      <th>B_34_typeAvis</th>\n",
       "    </tr>\n",
       "  </thead>\n",
       "  <tbody>\n",
       "    <tr>\n",
       "      <th>752</th>\n",
       "      <td>5,1,</td>\n",
       "    </tr>\n",
       "    <tr>\n",
       "      <th>754</th>\n",
       "      <td>,10,6</td>\n",
       "    </tr>\n",
       "    <tr>\n",
       "      <th>755</th>\n",
       "      <td>,10,6</td>\n",
       "    </tr>\n",
       "    <tr>\n",
       "      <th>756</th>\n",
       "      <td>5,1,</td>\n",
       "    </tr>\n",
       "    <tr>\n",
       "      <th>757</th>\n",
       "      <td>5,1,</td>\n",
       "    </tr>\n",
       "  </tbody>\n",
       "</table>\n",
       "</div>"
      ],
      "text/plain": [
       "    B_34_typeAvis\n",
       "752          5,1,\n",
       "754         ,10,6\n",
       "755         ,10,6\n",
       "756          5,1,\n",
       "757          5,1,"
      ]
     },
     "execution_count": 4,
     "metadata": {},
     "output_type": "execute_result"
    }
   ],
   "source": [
    "df_.loc[df_.B_34_typeAvis.notna(),:].tail()"
   ]
  }
 ],
 "metadata": {
  "kaggle": {
   "accelerator": "none",
   "dataSources": [],
   "isGpuEnabled": false,
   "isInternetEnabled": true,
   "language": "python",
   "sourceType": "notebook"
  },
  "kernelspec": {
   "display_name": "Python 3 (ipykernel)",
   "language": "python",
   "name": "python3"
  },
  "language_info": {
   "codemirror_mode": {
    "name": "ipython",
    "version": 3
   },
   "file_extension": ".py",
   "mimetype": "text/x-python",
   "name": "python",
   "nbconvert_exporter": "python",
   "pygments_lexer": "ipython3",
   "version": "3.10.14"
  },
  "papermill": {
   "default_parameters": {},
   "duration": 6.932424,
   "end_time": "2024-10-19T09:29:33.497806",
   "environment_variables": {},
   "exception": null,
   "input_path": "__notebook__.ipynb",
   "output_path": "__notebook__.ipynb",
   "parameters": {},
   "start_time": "2024-10-19T09:29:26.565382",
   "version": "2.6.0"
  },
  "widgets": {
   "application/vnd.jupyter.widget-state+json": {
    "state": {},
    "version_major": 2,
    "version_minor": 0
   }
  }
 },
 "nbformat": 4,
 "nbformat_minor": 5
}
