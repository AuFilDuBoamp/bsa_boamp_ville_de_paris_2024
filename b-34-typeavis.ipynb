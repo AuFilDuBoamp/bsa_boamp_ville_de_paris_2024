{
 "cells": [
  {
   "cell_type": "markdown",
   "id": "34db8fec",
   "metadata": {
    "papermill": {
     "duration": 0.004528,
     "end_time": "2024-10-20T08:49:57.451094",
     "exception": false,
     "start_time": "2024-10-20T08:49:57.446566",
     "status": "completed"
    },
    "tags": []
   },
   "source": [
    "# Colonne «B_34_typeAvis» (Initialisation)"
   ]
  },
  {
   "cell_type": "markdown",
   "id": "6a18afef",
   "metadata": {
    "papermill": {
     "duration": 0.00347,
     "end_time": "2024-10-20T08:49:57.458774",
     "exception": false,
     "start_time": "2024-10-20T08:49:57.455304",
     "status": "completed"
    },
    "tags": []
   },
   "source": [
    "|NAVIGATION (travaux sur les annonces BOAMP de la Ville de Paris en 2024)|\n",
    "|---|\n",
    "|[Retour à l'INDEX (kaggle)](https://www.kaggle.com/code/aufilduboamp/index-ville-de-paris-aufilduboamp)|\n",
    "|[Rubrique AuFilDuBoamp.com](https://www.aufilduboamp.com/rubrique92.html)|\n",
    "|[Dépôt GitHub](https://github.com/AuFilDuBoamp/bsa_boamp_ville_de_paris_2024/tree/main)|\n",
    "|[Dépôt DataGouv](https://www.data.gouv.fr/fr/datasets/une-vie-de-siren-au-boamp-ville-de-paris-217500016/#/resources)|"
   ]
  },
  {
   "cell_type": "markdown",
   "id": "efa28f85",
   "metadata": {
    "papermill": {
     "duration": 0.003427,
     "end_time": "2024-10-20T08:49:57.466081",
     "exception": false,
     "start_time": "2024-10-20T08:49:57.462654",
     "status": "completed"
    },
    "tags": []
   },
   "source": [
    "# Import(s) et réglages"
   ]
  },
  {
   "cell_type": "code",
   "execution_count": 1,
   "id": "ed2cdbcd",
   "metadata": {
    "execution": {
     "iopub.execute_input": "2024-10-20T08:49:57.475711Z",
     "iopub.status.busy": "2024-10-20T08:49:57.475246Z",
     "iopub.status.idle": "2024-10-20T08:49:58.473863Z",
     "shell.execute_reply": "2024-10-20T08:49:58.472525Z"
    },
    "papermill": {
     "duration": 1.007134,
     "end_time": "2024-10-20T08:49:58.477059",
     "exception": false,
     "start_time": "2024-10-20T08:49:57.469925",
     "status": "completed"
    },
    "tags": []
   },
   "outputs": [],
   "source": [
    "# import\n",
    "import pandas as pd\n",
    "#réglages\n",
    "pd.set_option('display.max_colwidth', 500)\n",
    "pd.set_option('display.max_columns', 200)\n",
    "pd.set_option('display.max_rows', 200)"
   ]
  },
  {
   "cell_type": "markdown",
   "id": "a1f5d38f",
   "metadata": {
    "papermill": {
     "duration": 0.00351,
     "end_time": "2024-10-20T08:49:58.484784",
     "exception": false,
     "start_time": "2024-10-20T08:49:58.481274",
     "status": "completed"
    },
    "tags": []
   },
   "source": [
    "# Téléchargement des annonces de la Ville de Paris sur Datagouv"
   ]
  },
  {
   "cell_type": "code",
   "execution_count": 2,
   "id": "6a652723",
   "metadata": {
    "execution": {
     "iopub.execute_input": "2024-10-20T08:49:58.494692Z",
     "iopub.status.busy": "2024-10-20T08:49:58.494034Z",
     "iopub.status.idle": "2024-10-20T08:50:01.105262Z",
     "shell.execute_reply": "2024-10-20T08:50:01.103893Z"
    },
    "papermill": {
     "duration": 2.62009,
     "end_time": "2024-10-20T08:50:01.108676",
     "exception": false,
     "start_time": "2024-10-20T08:49:58.488586",
     "status": "completed"
    },
    "scrolled": true,
    "tags": []
   },
   "outputs": [],
   "source": [
    "df = pd.read_csv('https://www.data.gouv.fr/fr/datasets/r/8571acc8-2f51-4d7e-9d87-bd5b8ec210e5', dtype='string')\n",
    "\n",
    "# Adresse ressources sur datagouv\n",
    "# -> https://www.data.gouv.fr/fr/datasets/une-vie-de-siren-au-boamp-ville-de-paris-217500016/#/resources"
   ]
  },
  {
   "cell_type": "markdown",
   "id": "7300885a",
   "metadata": {
    "papermill": {
     "duration": 0.004203,
     "end_time": "2024-10-20T08:50:01.117218",
     "exception": false,
     "start_time": "2024-10-20T08:50:01.113015",
     "status": "completed"
    },
    "tags": []
   },
   "source": [
    "# Sélection de la colonne B_34_typeAvis"
   ]
  },
  {
   "cell_type": "code",
   "execution_count": 3,
   "id": "11a5256a",
   "metadata": {
    "execution": {
     "iopub.execute_input": "2024-10-20T08:50:01.127621Z",
     "iopub.status.busy": "2024-10-20T08:50:01.127191Z",
     "iopub.status.idle": "2024-10-20T08:50:01.144010Z",
     "shell.execute_reply": "2024-10-20T08:50:01.142727Z"
    },
    "papermill": {
     "duration": 0.025144,
     "end_time": "2024-10-20T08:50:01.146602",
     "exception": false,
     "start_time": "2024-10-20T08:50:01.121458",
     "status": "completed"
    },
    "tags": []
   },
   "outputs": [],
   "source": [
    "df_ = df.loc[:, ['B_34_typeAvis']].copy()"
   ]
  },
  {
   "cell_type": "markdown",
   "id": "1d92bdaa",
   "metadata": {
    "papermill": {
     "duration": 0.00372,
     "end_time": "2024-10-20T08:50:01.154539",
     "exception": false,
     "start_time": "2024-10-20T08:50:01.150819",
     "status": "completed"
    },
    "tags": []
   },
   "source": [
    "# Lecture des dernières lignes"
   ]
  },
  {
   "cell_type": "code",
   "execution_count": 4,
   "id": "9e3f28b2",
   "metadata": {
    "execution": {
     "iopub.execute_input": "2024-10-20T08:50:01.165253Z",
     "iopub.status.busy": "2024-10-20T08:50:01.164069Z",
     "iopub.status.idle": "2024-10-20T08:50:01.184857Z",
     "shell.execute_reply": "2024-10-20T08:50:01.183471Z"
    },
    "papermill": {
     "duration": 0.029024,
     "end_time": "2024-10-20T08:50:01.187545",
     "exception": false,
     "start_time": "2024-10-20T08:50:01.158521",
     "status": "completed"
    },
    "tags": []
   },
   "outputs": [
    {
     "data": {
      "text/html": [
       "<div>\n",
       "<style scoped>\n",
       "    .dataframe tbody tr th:only-of-type {\n",
       "        vertical-align: middle;\n",
       "    }\n",
       "\n",
       "    .dataframe tbody tr th {\n",
       "        vertical-align: top;\n",
       "    }\n",
       "\n",
       "    .dataframe thead th {\n",
       "        text-align: right;\n",
       "    }\n",
       "</style>\n",
       "<table border=\"1\" class=\"dataframe\">\n",
       "  <thead>\n",
       "    <tr style=\"text-align: right;\">\n",
       "      <th></th>\n",
       "      <th>B_34_typeAvis</th>\n",
       "    </tr>\n",
       "  </thead>\n",
       "  <tbody>\n",
       "    <tr>\n",
       "      <th>752</th>\n",
       "      <td>5,1,</td>\n",
       "    </tr>\n",
       "    <tr>\n",
       "      <th>753</th>\n",
       "      <td>,10,6</td>\n",
       "    </tr>\n",
       "    <tr>\n",
       "      <th>755</th>\n",
       "      <td>,10,6</td>\n",
       "    </tr>\n",
       "    <tr>\n",
       "      <th>756</th>\n",
       "      <td>5,1,</td>\n",
       "    </tr>\n",
       "    <tr>\n",
       "      <th>757</th>\n",
       "      <td>5,1,</td>\n",
       "    </tr>\n",
       "  </tbody>\n",
       "</table>\n",
       "</div>"
      ],
      "text/plain": [
       "    B_34_typeAvis\n",
       "752          5,1,\n",
       "753         ,10,6\n",
       "755         ,10,6\n",
       "756          5,1,\n",
       "757          5,1,"
      ]
     },
     "execution_count": 4,
     "metadata": {},
     "output_type": "execute_result"
    }
   ],
   "source": [
    "df_.loc[df_.B_34_typeAvis.notna(),:].tail()"
   ]
  }
 ],
 "metadata": {
  "kaggle": {
   "accelerator": "none",
   "dataSources": [],
   "dockerImageVersionId": 30786,
   "isGpuEnabled": false,
   "isInternetEnabled": true,
   "language": "python",
   "sourceType": "notebook"
  },
  "kernelspec": {
   "display_name": "Python 3 (ipykernel)",
   "language": "python",
   "name": "python3"
  },
  "language_info": {
   "codemirror_mode": {
    "name": "ipython",
    "version": 3
   },
   "file_extension": ".py",
   "mimetype": "text/x-python",
   "name": "python",
   "nbconvert_exporter": "python",
   "pygments_lexer": "ipython3",
   "version": "3.10.14"
  },
  "papermill": {
   "default_parameters": {},
   "duration": 7.382322,
   "end_time": "2024-10-20T08:50:01.714831",
   "environment_variables": {},
   "exception": null,
   "input_path": "__notebook__.ipynb",
   "output_path": "__notebook__.ipynb",
   "parameters": {},
   "start_time": "2024-10-20T08:49:54.332509",
   "version": "2.6.0"
  },
  "widgets": {
   "application/vnd.jupyter.widget-state+json": {
    "state": {},
    "version_major": 2,
    "version_minor": 0
   }
  }
 },
 "nbformat": 4,
 "nbformat_minor": 5
}
