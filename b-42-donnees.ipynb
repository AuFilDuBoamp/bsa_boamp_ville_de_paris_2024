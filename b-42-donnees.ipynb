{
 "cells": [
  {
   "cell_type": "markdown",
   "id": "01716b5a",
   "metadata": {
    "papermill": {
     "duration": 0.004473,
     "end_time": "2024-10-20T08:53:01.665229",
     "exception": false,
     "start_time": "2024-10-20T08:53:01.660756",
     "status": "completed"
    },
    "tags": []
   },
   "source": [
    "# Colonne «B_42_DONNEES» (Initialisation)"
   ]
  },
  {
   "cell_type": "markdown",
   "id": "c79c25ab",
   "metadata": {
    "papermill": {
     "duration": 0.003271,
     "end_time": "2024-10-20T08:53:01.672601",
     "exception": false,
     "start_time": "2024-10-20T08:53:01.669330",
     "status": "completed"
    },
    "tags": []
   },
   "source": [
    "|NAVIGATION (travaux sur les annonces BOAMP de la Ville de Paris en 2024)|\n",
    "|---|\n",
    "|[Retour à l'INDEX (kaggle)](https://www.kaggle.com/code/aufilduboamp/index-ville-de-paris-aufilduboamp)|\n",
    "|[Rubrique AuFilDuBoamp.com](https://www.aufilduboamp.com/rubrique92.html)|\n",
    "|[Dépôt GitHub](https://github.com/AuFilDuBoamp/bsa_boamp_ville_de_paris_2024/tree/main)|\n",
    "|[Dépôt DataGouv](https://www.data.gouv.fr/fr/datasets/une-vie-de-siren-au-boamp-ville-de-paris-217500016/#/resources)|"
   ]
  },
  {
   "cell_type": "markdown",
   "id": "0e65a145",
   "metadata": {
    "papermill": {
     "duration": 0.003185,
     "end_time": "2024-10-20T08:53:01.679303",
     "exception": false,
     "start_time": "2024-10-20T08:53:01.676118",
     "status": "completed"
    },
    "tags": []
   },
   "source": [
    "# Import(s) et réglages"
   ]
  },
  {
   "cell_type": "code",
   "execution_count": 1,
   "id": "07d4b31f",
   "metadata": {
    "execution": {
     "iopub.execute_input": "2024-10-20T08:53:01.690470Z",
     "iopub.status.busy": "2024-10-20T08:53:01.688957Z",
     "iopub.status.idle": "2024-10-20T08:53:02.595898Z",
     "shell.execute_reply": "2024-10-20T08:53:02.594844Z"
    },
    "papermill": {
     "duration": 0.916067,
     "end_time": "2024-10-20T08:53:02.598832",
     "exception": false,
     "start_time": "2024-10-20T08:53:01.682765",
     "status": "completed"
    },
    "tags": []
   },
   "outputs": [],
   "source": [
    "# import\n",
    "import pandas as pd\n",
    "#réglages\n",
    "pd.set_option('display.max_colwidth', 15000)\n",
    "pd.set_option('display.max_columns', 200)\n",
    "pd.set_option('display.max_rows', 200)"
   ]
  },
  {
   "cell_type": "markdown",
   "id": "94f0602a",
   "metadata": {
    "papermill": {
     "duration": 0.003443,
     "end_time": "2024-10-20T08:53:02.606288",
     "exception": false,
     "start_time": "2024-10-20T08:53:02.602845",
     "status": "completed"
    },
    "tags": []
   },
   "source": [
    "# Téléchargement des annonces de la Ville de Paris sur Datagouv"
   ]
  },
  {
   "cell_type": "code",
   "execution_count": 2,
   "id": "e21843fa",
   "metadata": {
    "execution": {
     "iopub.execute_input": "2024-10-20T08:53:02.616280Z",
     "iopub.status.busy": "2024-10-20T08:53:02.614987Z",
     "iopub.status.idle": "2024-10-20T08:53:05.274314Z",
     "shell.execute_reply": "2024-10-20T08:53:05.273004Z"
    },
    "papermill": {
     "duration": 2.667519,
     "end_time": "2024-10-20T08:53:05.277503",
     "exception": false,
     "start_time": "2024-10-20T08:53:02.609984",
     "status": "completed"
    },
    "scrolled": true,
    "tags": []
   },
   "outputs": [],
   "source": [
    "df = pd.read_csv('https://www.data.gouv.fr/fr/datasets/r/8571acc8-2f51-4d7e-9d87-bd5b8ec210e5', dtype='string')\n",
    "\n",
    "# Adresse ressources sur datagouv\n",
    "# -> https://www.data.gouv.fr/fr/datasets/une-vie-de-siren-au-boamp-ville-de-paris-217500016/#/resources"
   ]
  },
  {
   "cell_type": "markdown",
   "id": "3d2ae9ff",
   "metadata": {
    "papermill": {
     "duration": 0.003477,
     "end_time": "2024-10-20T08:53:05.284938",
     "exception": false,
     "start_time": "2024-10-20T08:53:05.281461",
     "status": "completed"
    },
    "tags": []
   },
   "source": [
    "# Sélection de la colonne B_42_DONNEES"
   ]
  },
  {
   "cell_type": "code",
   "execution_count": 3,
   "id": "dad1b6a5",
   "metadata": {
    "execution": {
     "iopub.execute_input": "2024-10-20T08:53:05.295067Z",
     "iopub.status.busy": "2024-10-20T08:53:05.294547Z",
     "iopub.status.idle": "2024-10-20T08:53:05.309529Z",
     "shell.execute_reply": "2024-10-20T08:53:05.308234Z"
    },
    "papermill": {
     "duration": 0.023251,
     "end_time": "2024-10-20T08:53:05.312305",
     "exception": false,
     "start_time": "2024-10-20T08:53:05.289054",
     "status": "completed"
    },
    "tags": []
   },
   "outputs": [],
   "source": [
    "df_ = df.loc[:, ['B_42_DONNEES']].copy()"
   ]
  },
  {
   "cell_type": "markdown",
   "id": "b02fb6ae",
   "metadata": {
    "papermill": {
     "duration": 0.003586,
     "end_time": "2024-10-20T08:53:05.319842",
     "exception": false,
     "start_time": "2024-10-20T08:53:05.316256",
     "status": "completed"
    },
    "tags": []
   },
   "source": [
    "# Lecture des dernières lignes"
   ]
  },
  {
   "cell_type": "code",
   "execution_count": 4,
   "id": "1c0eaff3",
   "metadata": {
    "execution": {
     "iopub.execute_input": "2024-10-20T08:53:05.329651Z",
     "iopub.status.busy": "2024-10-20T08:53:05.329126Z",
     "iopub.status.idle": "2024-10-20T08:53:05.348493Z",
     "shell.execute_reply": "2024-10-20T08:53:05.347058Z"
    },
    "papermill": {
     "duration": 0.02817,
     "end_time": "2024-10-20T08:53:05.352024",
     "exception": false,
     "start_time": "2024-10-20T08:53:05.323854",
     "status": "completed"
    },
    "tags": []
   },
   "outputs": [
    {
     "data": {
      "text/html": [
       "<div>\n",
       "<style scoped>\n",
       "    .dataframe tbody tr th:only-of-type {\n",
       "        vertical-align: middle;\n",
       "    }\n",
       "\n",
       "    .dataframe tbody tr th {\n",
       "        vertical-align: top;\n",
       "    }\n",
       "\n",
       "    .dataframe thead th {\n",
       "        text-align: right;\n",
       "    }\n",
       "</style>\n",
       "<table border=\"1\" class=\"dataframe\">\n",
       "  <thead>\n",
       "    <tr style=\"text-align: right;\">\n",
       "      <th></th>\n",
       "      <th>B_42_DONNEES</th>\n",
       "    </tr>\n",
       "  </thead>\n",
       "  <tbody>\n",
       "    <tr>\n",
       "      <th>756</th>\n",
       "      <td>{\"IDENTITE\": {\"DENOMINATION\": \"VILLE DE PARIS\", \"CORRESPONDANT\": \"Mme BARDEY BOURGE Anne-Lise, Cheffe de la Section Locale d'Architecture des 5e et 13e arrondissements\", \"ADRESSE\": \"62 rue Corvisart\", \"CP\": \"75013\", \"VILLE\": \"Paris\", \"TEL\": \"01-45-87-67-25\", \"URL\": \"http://www.marches.maximilien.fr\"}, \"TYPE_ORGANISME\": {\"COMMUNE\": \"\"}, \"OBJET\": {\"TYPE_MARCHE\": {\"SERVICE\": \"\"}, \"OBJET_COMPLET\": \"Opération N° 201712645 - Marché public de maîtrise d'oeuvre pour la mise en accessibilité avec la création d'un ascenseur de l'école élémentaire sise 21, rue de Pontoise 75005 Paris.L'objet de la consultation est la mise en accessibilité de l'école élémentaire sise 21, rue de Pontoise 75005 Paris, qui comprend l'accessibilité pour les PMR (personnes à mobilité réduite) et UFR (utilisateur de fauteuil roulant), ainsi qu'aux handicaps sensoriels en rez-de-chaussée et aux étages.\", \"LIEU_EXEC_LIVR\": {\"ADRESSE\": \"21, rue de Pontoise\", \"CP\": \"75005\", \"VILLE\": \"Paris\"}, \"VARIANTES_NON\": \"\", \"CARACTERISTIQUES\": {\"PRINCIPALES\": \"Marché public de maîtrise d'oeuvre pour la mise en accessibilité avec la création d'un ascenseur de l'école élémentaire sise 21, rue de Pontoise 75005 Paris.L'objet de la consultation est la mise en accessibilité de l'école élémentaire sise 21, rue de Pontoise 75005 Paris, qui comprend l'accessibilité pour les PMR (personnes à mobilité réduite) et UFR (utilisateur de fauteuil roulant), ainsi qu'aux handicaps sensoriels en rez-de-chaussée et aux étages\", \"QUANTITE\": \"Opération N° 201712645 - Marché public de maîtrise d'oeuvre pour la mise en accessibilité avec la création d'un ascenseur de l'école élémentaire sise 21, rue de Pontoise 75005 Paris.L'objet de la consultation est la mise en accessibilité de l'école élémentaire sise 21, rue de Pontoise 75005 Paris, qui comprend l'accessibilité pour les PMR (personnes à mobilité réduite) et UFR (utilisateur de fauteuil roulant), ainsi qu'aux handicaps sensoriels en rez-de-chaussée et aux étages.\"}, \"DUREE_DELAI\": {\"DUREE_MOIS\": \"31\", \"DATE_EXECUTION\": \"2024-03-01\", \"DATE_LIVRAISON\": \"2025-02-01\"}, \"DIV_EN_LOTS\": {\"NON\": \"\"}}, \"PROCEDURE\": {\"TYPE_PROCEDURE\": {\"PROCEDURE_ADAPTE\": \"\"}, \"CRITERES_ATTRIBUTION\": {\"CRITERES_CCTP\": \"\"}}, \"CONDITION_DELAI\": {\"RECEPT_OFFRES\": \"2024-02-05T10:00:00+01:00\", \"VALIDITE_OFFRE\": {\"DUREE_MOIS\": \"6\"}}, \"CONDITION_PARTICIPATION\": {\"ELIGIBLE_MPS\": {\"non\": \"\"}}, \"CONDITION_ADMINISTRATIVE\": {\"REFERENCE_MARCHE\": \"2400002\"}, \"RENSEIGNEMENTS_COMPLEMENTAIRES\": {\"RENS_COMPLEMENT\": \"Le dossier de consultation des entreprises peut être consulté et téléchargé à partir de l'adresse : https://marches.maximilien.fr. Les candidats seront invités à répondre par voie électronique à cette même adresse dans les conditions fixées dans le dossier de consultation des entreprises. L'attention des candidats est appelée sur les mesures de sécurité prises dans le cadre du plan Vigipirate appliqué à l'accès aux bâtiments publics de la Ville de Paris : 'l'accès à ces bâtiments peut être soumis à un contrôle d'accès : les agents peuvent donc solliciter l'accord des usagers pour procéder à une inspection visuelle des bagages à main. En cas de refus des usagers de soumettre leur(s) bagage(s) à cette inspection, l'accès à l'équipement peut leur être interdit'. Par ailleurs, toute entreprise ou prestataire désirant déposer un pli devra se munir d'un document permettant d'identifier formellement la personne (pièce d'identité avec photo) qui pourra lui être demandé à l'entrée du bâtiment. En cas de refus ou de manquement à ces règles, l'accès aux bâtiments peut lui être interdit. Il est souligné qu'en raison de ces contrôles de sécurité à l'entrée des bâtiments, les candidats sont invités à prendre toute disposition pour remettre les COPIE de SAUVEGARDE aux date et heure limites indiquées dans les pièces du Dossier de Consultation des Entreprises (D.C.E). Les offres et candidatures en COPIE de SAUVEGARDE (Uniquement) peuvent être réceptionnées ou envoyées à l'adresse ci-dessous.\", \"ADRESSES_COMPLEMENTAIRES\": {\"ADRESSE\": {\"TYPE\": {\"DOCUMENTS\": \"\"}, \"URL\": \"https://marches.maximilien.fr/?page=Entreprise.EntrepriseAdvancedSearch&amp;AllCons&amp;id=865609&amp;orgAcronyme=r8t\"}}}}</td>\n",
       "    </tr>\n",
       "    <tr>\n",
       "      <th>757</th>\n",
       "      <td>{\"IDENTITE\": {\"DENOMINATION\": \"VILLE DE PARIS\", \"CORRESPONDANT\": \"Mme CAPPE Magali, Chef de la SLA 20\", \"ADRESSE\": \"Direction Constructions Publiques et Architecture - Section Locale d'Architecture du 20ème arrondissement- 154 Rue des Pyrénées\", \"CP\": \"75020\", \"VILLE\": \"Paris\", \"MEL\": \"dcpa-sla20-marchespublics@paris.fr\", \"URL\": \"https://marches.maximilien.fr\"}, \"TYPE_ORGANISME\": {\"COMMUNE\": \"\"}, \"OBJET\": {\"TYPE_MARCHE\": {\"SERVICE\": \"\"}, \"OBJET_COMPLET\": \"Opération 202316925 : Mission de maîtrise d'oeuvre (hors loi-MOP) pour les travaux de modernisation des installations électriques au collège Jean Baptiste Clément, sis 26 rue Henri Chevreau 75020 PARIS\", \"LIEU_EXEC_LIVR\": {\"ADRESSE\": \"Collège Jean Baptiste Clément, sis 26 rue Henri Chevreau\", \"CP\": \"75020\", \"VILLE\": \"Paris\"}, \"VARIANTES_NON\": \"\", \"CARACTERISTIQUES\": {\"PRINCIPALES\": \"Opération no 202316925 : Mission de maîtrise d'oeuvre (hors loi-MOP) pour les travaux de modernisation des installations électriques du collège Jean Baptiste Clément, sis 26 rue Henri Chevreau 75020 PARIS\", \"QUANTITE\": \"Les prestations issues de la présente consultation sont fractionnées en tranches : la tranche ferme concerne la phase études; la tranche optionnelle 1 concerne la phase de suivi de chantier.\"}, \"DUREE_DELAI\": {\"DUREE_MOIS\": \"24\", \"DATE_EXECUTION\": \"2024-03-15\"}, \"DIV_EN_LOTS\": {\"NON\": \"\"}}, \"PROCEDURE\": {\"TYPE_PROCEDURE\": {\"PROCEDURE_ADAPTE\": \"\"}, \"CRITERES_ATTRIBUTION\": {\"CRITERES_CCTP\": \"\"}}, \"CONDITION_DELAI\": {\"RECEPT_OFFRES\": \"2024-02-06T12:00:00+01:00\", \"VALIDITE_OFFRE\": {\"DUREE_MOIS\": \"6\"}}, \"CONDITION_RELATIVE_MARCHE\": {\"FINANCEMENT\": \"Prestations financées par le budget d'investissement de la Ville de Paris (ressources propres). Possibilité de céder ou nantir des créances résultant du marché. Marché traité à prix global et forfaitaire. Prix révisables. Règlement par virement au compte du (des) titulaire (s). Délai global de paiement : celui fixé par la réglementation.\", \"UNITE_MONETAIRE_EUR\": \"\", \"FRANCAIS_SEUL\": \"\"}, \"CONDITION_PARTICIPATION\": {\"JUSTIFICATIFS_CANDIDAT\": {\"P\": \"Les documents à produire sont indiqués au règlement de la consultation.\"}, \"ELIGIBLE_MPS\": {\"non\": \"\"}}, \"CONDITION_ADMINISTRATIVE\": {\"REFERENCE_MARCHE\": \"2302036\", \"CONDITIONS_REMISE_OFFRES\": \"La remise des offres se fait exclusivement sur la plateforme de dématérialisation, accessible à l'adresse suivante : https://marches.maximilien.fr\"}, \"RENSEIGNEMENTS_COMPLEMENTAIRES\": {\"RENS_COMPLEMENT\": \"La durée du marché correspond à la période pendant laquelle le titulaire est tenu d'exécuter ses obligations contractuelles. Le dossier de consultation des entreprises peut être consulté et téléchargé à partir de l'adresse https://marches.maximilien/. Les candidats seront invités à répondre par voie électronique à cette même adresse dans les conditions fixées dans le dossier de consultation des entreprises. Si le candidat s'appuie sur d'autres opérateurs économiques pour présenter sa candidature, il doit les mentionner dans son formulaire Dc2 (rubrique E) et produire, pour chacun d'eux, les mêmes documents et informations que ceux qui sont exigés de lui pour justifier de ses capacités, ainsi qu'un engagement écrit de chacun d'eux justifiant qu'il dispose de leurs capacités pour l'exécution des prestations.\", \"ADRESSES_COMPLEMENTAIRES\": {\"ADRESSE\": [{\"TYPE\": {\"ADMIN_TECH\": \"\"}, \"DENOMINATION\": \"Ville de Paris - Direction Constructions Publiques et Architecture - Section Locale d'Architecture du 20ème arrondissement\", \"CORRESPONDANT\": \"M. SITRINI Mostapha\", \"ADRESSE\": \"154 Rue des Pyrénées\", \"CP\": \"75020\", \"VILLE\": \"Paris\", \"MEL\": \"dcpa-sla20-marchespublics@paris.fr\", \"URL\": \"https://marches.maximilien.fr\"}, {\"TYPE\": {\"ENVOYER_OFFRES\": \"\"}, \"DENOMINATION\": \"Ville de Paris - Direction Constructions Publiques et Architecture - Section Locale d'Architecture du 20ème arrondissement\", \"CORRESPONDANT\": \"Mme CAPPE Magali\", \"ADRESSE\": \"154 Rue des Pyrénées\", \"CP\": \"75020\", \"VILLE\": \"Paris\", \"MEL\": \"dcpa-sla20-marchespublics@paris.fr\", \"URL\": \"https://marches.maximilien.fr\"}]}}}</td>\n",
       "    </tr>\n",
       "  </tbody>\n",
       "</table>\n",
       "</div>"
      ],
      "text/plain": [
       "                                                                                                                                                                                                                                                                                                                                                                                                                                                                                                                                                                                                                                                                                                                                                                                                                                                                                                                                                                                                                                                                                                                                                                                                                                                                                                                                                                                                                                                                                                                                                                                                                                                                                                                                                                                                                                                                                                                                                                                                                                                                                                                                                                                                                                                                                                                                                                                                                                                                                                                                                                                                                                                                                                                                                                                                                                                                                                                                                                                                                                                                                                                                                                                                                                                                                                                                                                                                                                                                                                                                                                                                                                                                                                                                                                                                                                                                                                                                                                                                                                                                                                                                                                                                                                                                                                                                                    B_42_DONNEES\n",
       "756  {\"IDENTITE\": {\"DENOMINATION\": \"VILLE DE PARIS\", \"CORRESPONDANT\": \"Mme BARDEY BOURGE Anne-Lise, Cheffe de la Section Locale d'Architecture des 5e et 13e arrondissements\", \"ADRESSE\": \"62 rue Corvisart\", \"CP\": \"75013\", \"VILLE\": \"Paris\", \"TEL\": \"01-45-87-67-25\", \"URL\": \"http://www.marches.maximilien.fr\"}, \"TYPE_ORGANISME\": {\"COMMUNE\": \"\"}, \"OBJET\": {\"TYPE_MARCHE\": {\"SERVICE\": \"\"}, \"OBJET_COMPLET\": \"Opération N° 201712645 - Marché public de maîtrise d'oeuvre pour la mise en accessibilité avec la création d'un ascenseur de l'école élémentaire sise 21, rue de Pontoise 75005 Paris.L'objet de la consultation est la mise en accessibilité de l'école élémentaire sise 21, rue de Pontoise 75005 Paris, qui comprend l'accessibilité pour les PMR (personnes à mobilité réduite) et UFR (utilisateur de fauteuil roulant), ainsi qu'aux handicaps sensoriels en rez-de-chaussée et aux étages.\", \"LIEU_EXEC_LIVR\": {\"ADRESSE\": \"21, rue de Pontoise\", \"CP\": \"75005\", \"VILLE\": \"Paris\"}, \"VARIANTES_NON\": \"\", \"CARACTERISTIQUES\": {\"PRINCIPALES\": \"Marché public de maîtrise d'oeuvre pour la mise en accessibilité avec la création d'un ascenseur de l'école élémentaire sise 21, rue de Pontoise 75005 Paris.L'objet de la consultation est la mise en accessibilité de l'école élémentaire sise 21, rue de Pontoise 75005 Paris, qui comprend l'accessibilité pour les PMR (personnes à mobilité réduite) et UFR (utilisateur de fauteuil roulant), ainsi qu'aux handicaps sensoriels en rez-de-chaussée et aux étages\", \"QUANTITE\": \"Opération N° 201712645 - Marché public de maîtrise d'oeuvre pour la mise en accessibilité avec la création d'un ascenseur de l'école élémentaire sise 21, rue de Pontoise 75005 Paris.L'objet de la consultation est la mise en accessibilité de l'école élémentaire sise 21, rue de Pontoise 75005 Paris, qui comprend l'accessibilité pour les PMR (personnes à mobilité réduite) et UFR (utilisateur de fauteuil roulant), ainsi qu'aux handicaps sensoriels en rez-de-chaussée et aux étages.\"}, \"DUREE_DELAI\": {\"DUREE_MOIS\": \"31\", \"DATE_EXECUTION\": \"2024-03-01\", \"DATE_LIVRAISON\": \"2025-02-01\"}, \"DIV_EN_LOTS\": {\"NON\": \"\"}}, \"PROCEDURE\": {\"TYPE_PROCEDURE\": {\"PROCEDURE_ADAPTE\": \"\"}, \"CRITERES_ATTRIBUTION\": {\"CRITERES_CCTP\": \"\"}}, \"CONDITION_DELAI\": {\"RECEPT_OFFRES\": \"2024-02-05T10:00:00+01:00\", \"VALIDITE_OFFRE\": {\"DUREE_MOIS\": \"6\"}}, \"CONDITION_PARTICIPATION\": {\"ELIGIBLE_MPS\": {\"non\": \"\"}}, \"CONDITION_ADMINISTRATIVE\": {\"REFERENCE_MARCHE\": \"2400002\"}, \"RENSEIGNEMENTS_COMPLEMENTAIRES\": {\"RENS_COMPLEMENT\": \"Le dossier de consultation des entreprises peut être consulté et téléchargé à partir de l'adresse : https://marches.maximilien.fr. Les candidats seront invités à répondre par voie électronique à cette même adresse dans les conditions fixées dans le dossier de consultation des entreprises. L'attention des candidats est appelée sur les mesures de sécurité prises dans le cadre du plan Vigipirate appliqué à l'accès aux bâtiments publics de la Ville de Paris : 'l'accès à ces bâtiments peut être soumis à un contrôle d'accès : les agents peuvent donc solliciter l'accord des usagers pour procéder à une inspection visuelle des bagages à main. En cas de refus des usagers de soumettre leur(s) bagage(s) à cette inspection, l'accès à l'équipement peut leur être interdit'. Par ailleurs, toute entreprise ou prestataire désirant déposer un pli devra se munir d'un document permettant d'identifier formellement la personne (pièce d'identité avec photo) qui pourra lui être demandé à l'entrée du bâtiment. En cas de refus ou de manquement à ces règles, l'accès aux bâtiments peut lui être interdit. Il est souligné qu'en raison de ces contrôles de sécurité à l'entrée des bâtiments, les candidats sont invités à prendre toute disposition pour remettre les COPIE de SAUVEGARDE aux date et heure limites indiquées dans les pièces du Dossier de Consultation des Entreprises (D.C.E). Les offres et candidatures en COPIE de SAUVEGARDE (Uniquement) peuvent être réceptionnées ou envoyées à l'adresse ci-dessous.\", \"ADRESSES_COMPLEMENTAIRES\": {\"ADRESSE\": {\"TYPE\": {\"DOCUMENTS\": \"\"}, \"URL\": \"https://marches.maximilien.fr/?page=Entreprise.EntrepriseAdvancedSearch&AllCons&id=865609&orgAcronyme=r8t\"}}}}\n",
       "757                                                                                                                                {\"IDENTITE\": {\"DENOMINATION\": \"VILLE DE PARIS\", \"CORRESPONDANT\": \"Mme CAPPE Magali, Chef de la SLA 20\", \"ADRESSE\": \"Direction Constructions Publiques et Architecture - Section Locale d'Architecture du 20ème arrondissement- 154 Rue des Pyrénées\", \"CP\": \"75020\", \"VILLE\": \"Paris\", \"MEL\": \"dcpa-sla20-marchespublics@paris.fr\", \"URL\": \"https://marches.maximilien.fr\"}, \"TYPE_ORGANISME\": {\"COMMUNE\": \"\"}, \"OBJET\": {\"TYPE_MARCHE\": {\"SERVICE\": \"\"}, \"OBJET_COMPLET\": \"Opération 202316925 : Mission de maîtrise d'oeuvre (hors loi-MOP) pour les travaux de modernisation des installations électriques au collège Jean Baptiste Clément, sis 26 rue Henri Chevreau 75020 PARIS\", \"LIEU_EXEC_LIVR\": {\"ADRESSE\": \"Collège Jean Baptiste Clément, sis 26 rue Henri Chevreau\", \"CP\": \"75020\", \"VILLE\": \"Paris\"}, \"VARIANTES_NON\": \"\", \"CARACTERISTIQUES\": {\"PRINCIPALES\": \"Opération no 202316925 : Mission de maîtrise d'oeuvre (hors loi-MOP) pour les travaux de modernisation des installations électriques du collège Jean Baptiste Clément, sis 26 rue Henri Chevreau 75020 PARIS\", \"QUANTITE\": \"Les prestations issues de la présente consultation sont fractionnées en tranches : la tranche ferme concerne la phase études; la tranche optionnelle 1 concerne la phase de suivi de chantier.\"}, \"DUREE_DELAI\": {\"DUREE_MOIS\": \"24\", \"DATE_EXECUTION\": \"2024-03-15\"}, \"DIV_EN_LOTS\": {\"NON\": \"\"}}, \"PROCEDURE\": {\"TYPE_PROCEDURE\": {\"PROCEDURE_ADAPTE\": \"\"}, \"CRITERES_ATTRIBUTION\": {\"CRITERES_CCTP\": \"\"}}, \"CONDITION_DELAI\": {\"RECEPT_OFFRES\": \"2024-02-06T12:00:00+01:00\", \"VALIDITE_OFFRE\": {\"DUREE_MOIS\": \"6\"}}, \"CONDITION_RELATIVE_MARCHE\": {\"FINANCEMENT\": \"Prestations financées par le budget d'investissement de la Ville de Paris (ressources propres). Possibilité de céder ou nantir des créances résultant du marché. Marché traité à prix global et forfaitaire. Prix révisables. Règlement par virement au compte du (des) titulaire (s). Délai global de paiement : celui fixé par la réglementation.\", \"UNITE_MONETAIRE_EUR\": \"\", \"FRANCAIS_SEUL\": \"\"}, \"CONDITION_PARTICIPATION\": {\"JUSTIFICATIFS_CANDIDAT\": {\"P\": \"Les documents à produire sont indiqués au règlement de la consultation.\"}, \"ELIGIBLE_MPS\": {\"non\": \"\"}}, \"CONDITION_ADMINISTRATIVE\": {\"REFERENCE_MARCHE\": \"2302036\", \"CONDITIONS_REMISE_OFFRES\": \"La remise des offres se fait exclusivement sur la plateforme de dématérialisation, accessible à l'adresse suivante : https://marches.maximilien.fr\"}, \"RENSEIGNEMENTS_COMPLEMENTAIRES\": {\"RENS_COMPLEMENT\": \"La durée du marché correspond à la période pendant laquelle le titulaire est tenu d'exécuter ses obligations contractuelles. Le dossier de consultation des entreprises peut être consulté et téléchargé à partir de l'adresse https://marches.maximilien/. Les candidats seront invités à répondre par voie électronique à cette même adresse dans les conditions fixées dans le dossier de consultation des entreprises. Si le candidat s'appuie sur d'autres opérateurs économiques pour présenter sa candidature, il doit les mentionner dans son formulaire Dc2 (rubrique E) et produire, pour chacun d'eux, les mêmes documents et informations que ceux qui sont exigés de lui pour justifier de ses capacités, ainsi qu'un engagement écrit de chacun d'eux justifiant qu'il dispose de leurs capacités pour l'exécution des prestations.\", \"ADRESSES_COMPLEMENTAIRES\": {\"ADRESSE\": [{\"TYPE\": {\"ADMIN_TECH\": \"\"}, \"DENOMINATION\": \"Ville de Paris - Direction Constructions Publiques et Architecture - Section Locale d'Architecture du 20ème arrondissement\", \"CORRESPONDANT\": \"M. SITRINI Mostapha\", \"ADRESSE\": \"154 Rue des Pyrénées\", \"CP\": \"75020\", \"VILLE\": \"Paris\", \"MEL\": \"dcpa-sla20-marchespublics@paris.fr\", \"URL\": \"https://marches.maximilien.fr\"}, {\"TYPE\": {\"ENVOYER_OFFRES\": \"\"}, \"DENOMINATION\": \"Ville de Paris - Direction Constructions Publiques et Architecture - Section Locale d'Architecture du 20ème arrondissement\", \"CORRESPONDANT\": \"Mme CAPPE Magali\", \"ADRESSE\": \"154 Rue des Pyrénées\", \"CP\": \"75020\", \"VILLE\": \"Paris\", \"MEL\": \"dcpa-sla20-marchespublics@paris.fr\", \"URL\": \"https://marches.maximilien.fr\"}]}}}"
      ]
     },
     "execution_count": 4,
     "metadata": {},
     "output_type": "execute_result"
    }
   ],
   "source": [
    "df_.loc[df_.B_42_DONNEES.notna(),:].tail(2)"
   ]
  }
 ],
 "metadata": {
  "kaggle": {
   "accelerator": "none",
   "dataSources": [],
   "dockerImageVersionId": 30786,
   "isGpuEnabled": false,
   "isInternetEnabled": true,
   "language": "python",
   "sourceType": "notebook"
  },
  "kernelspec": {
   "display_name": "Python 3 (ipykernel)",
   "language": "python",
   "name": "python3"
  },
  "language_info": {
   "codemirror_mode": {
    "name": "ipython",
    "version": 3
   },
   "file_extension": ".py",
   "mimetype": "text/x-python",
   "name": "python",
   "nbconvert_exporter": "python",
   "pygments_lexer": "ipython3",
   "version": "3.10.14"
  },
  "papermill": {
   "default_parameters": {},
   "duration": 7.276931,
   "end_time": "2024-10-20T08:53:05.878319",
   "environment_variables": {},
   "exception": null,
   "input_path": "__notebook__.ipynb",
   "output_path": "__notebook__.ipynb",
   "parameters": {},
   "start_time": "2024-10-20T08:52:58.601388",
   "version": "2.6.0"
  },
  "widgets": {
   "application/vnd.jupyter.widget-state+json": {
    "state": {},
    "version_major": 2,
    "version_minor": 0
   }
  }
 },
 "nbformat": 4,
 "nbformat_minor": 5
}
