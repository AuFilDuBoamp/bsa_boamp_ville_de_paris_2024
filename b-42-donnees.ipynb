{
 "cells": [
  {
   "cell_type": "markdown",
   "id": "848e706f",
   "metadata": {
    "papermill": {
     "duration": 0.003157,
     "end_time": "2024-10-19T09:47:30.388041",
     "exception": false,
     "start_time": "2024-10-19T09:47:30.384884",
     "status": "completed"
    },
    "tags": []
   },
   "source": [
    "# Colonne «B_42_DONNEES» (Initialisation)"
   ]
  },
  {
   "cell_type": "markdown",
   "id": "e3f1f626",
   "metadata": {
    "papermill": {
     "duration": 0.002238,
     "end_time": "2024-10-19T09:47:30.393148",
     "exception": false,
     "start_time": "2024-10-19T09:47:30.390910",
     "status": "completed"
    },
    "tags": []
   },
   "source": [
    "# Intro"
   ]
  },
  {
   "cell_type": "markdown",
   "id": "04bce279",
   "metadata": {
    "papermill": {
     "duration": 0.002234,
     "end_time": "2024-10-19T09:47:30.397809",
     "exception": false,
     "start_time": "2024-10-19T09:47:30.395575",
     "status": "completed"
    },
    "tags": []
   },
   "source": [
    "# Import(s) et réglages"
   ]
  },
  {
   "cell_type": "code",
   "execution_count": 1,
   "id": "1d24afae",
   "metadata": {
    "execution": {
     "iopub.execute_input": "2024-10-19T09:47:30.404497Z",
     "iopub.status.busy": "2024-10-19T09:47:30.404039Z",
     "iopub.status.idle": "2024-10-19T09:47:31.232663Z",
     "shell.execute_reply": "2024-10-19T09:47:31.231596Z"
    },
    "papermill": {
     "duration": 0.834824,
     "end_time": "2024-10-19T09:47:31.235007",
     "exception": false,
     "start_time": "2024-10-19T09:47:30.400183",
     "status": "completed"
    },
    "tags": []
   },
   "outputs": [],
   "source": [
    "# import\n",
    "import pandas as pd\n",
    "#réglages\n",
    "pd.set_option('display.max_colwidth', 15000)\n",
    "pd.set_option('display.max_columns', 200)\n",
    "pd.set_option('display.max_rows', 200)"
   ]
  },
  {
   "cell_type": "markdown",
   "id": "4d97d376",
   "metadata": {
    "papermill": {
     "duration": 0.002296,
     "end_time": "2024-10-19T09:47:31.240106",
     "exception": false,
     "start_time": "2024-10-19T09:47:31.237810",
     "status": "completed"
    },
    "tags": []
   },
   "source": [
    "# Téléchargement des annonces de la Ville de Paris sur Datagouv"
   ]
  },
  {
   "cell_type": "code",
   "execution_count": 2,
   "id": "b1a04fb6",
   "metadata": {
    "execution": {
     "iopub.execute_input": "2024-10-19T09:47:31.246998Z",
     "iopub.status.busy": "2024-10-19T09:47:31.246168Z",
     "iopub.status.idle": "2024-10-19T09:47:35.478258Z",
     "shell.execute_reply": "2024-10-19T09:47:35.477377Z"
    },
    "papermill": {
     "duration": 4.238491,
     "end_time": "2024-10-19T09:47:35.481024",
     "exception": false,
     "start_time": "2024-10-19T09:47:31.242533",
     "status": "completed"
    },
    "scrolled": true,
    "tags": []
   },
   "outputs": [],
   "source": [
    "df = pd.read_csv('https://www.data.gouv.fr/fr/datasets/r/8571acc8-2f51-4d7e-9d87-bd5b8ec210e5', dtype='string')\n",
    "\n",
    "# Adresse ressources sur datagouv\n",
    "# -> https://www.data.gouv.fr/fr/datasets/une-vie-de-siren-au-boamp-ville-de-paris-217500016/#/resources"
   ]
  },
  {
   "cell_type": "markdown",
   "id": "d8b7cf5c",
   "metadata": {
    "papermill": {
     "duration": 0.00247,
     "end_time": "2024-10-19T09:47:35.486426",
     "exception": false,
     "start_time": "2024-10-19T09:47:35.483956",
     "status": "completed"
    },
    "tags": []
   },
   "source": [
    "# Sélection de la colonne B_42_DONNEES"
   ]
  },
  {
   "cell_type": "code",
   "execution_count": 3,
   "id": "f104eaf8",
   "metadata": {
    "execution": {
     "iopub.execute_input": "2024-10-19T09:47:35.493179Z",
     "iopub.status.busy": "2024-10-19T09:47:35.492806Z",
     "iopub.status.idle": "2024-10-19T09:47:35.505110Z",
     "shell.execute_reply": "2024-10-19T09:47:35.504096Z"
    },
    "papermill": {
     "duration": 0.018222,
     "end_time": "2024-10-19T09:47:35.507233",
     "exception": false,
     "start_time": "2024-10-19T09:47:35.489011",
     "status": "completed"
    },
    "tags": []
   },
   "outputs": [],
   "source": [
    "df_ = df.loc[:, ['B_42_DONNEES']].copy()"
   ]
  },
  {
   "cell_type": "markdown",
   "id": "78e2f43c",
   "metadata": {
    "papermill": {
     "duration": 0.002351,
     "end_time": "2024-10-19T09:47:35.512336",
     "exception": false,
     "start_time": "2024-10-19T09:47:35.509985",
     "status": "completed"
    },
    "tags": []
   },
   "source": [
    "# Lecture des dernières lignes"
   ]
  },
  {
   "cell_type": "code",
   "execution_count": 4,
   "id": "6d55cdae",
   "metadata": {
    "execution": {
     "iopub.execute_input": "2024-10-19T09:47:35.518975Z",
     "iopub.status.busy": "2024-10-19T09:47:35.518356Z",
     "iopub.status.idle": "2024-10-19T09:47:35.534009Z",
     "shell.execute_reply": "2024-10-19T09:47:35.533052Z"
    },
    "papermill": {
     "duration": 0.022274,
     "end_time": "2024-10-19T09:47:35.537083",
     "exception": false,
     "start_time": "2024-10-19T09:47:35.514809",
     "status": "completed"
    },
    "tags": []
   },
   "outputs": [
    {
     "data": {
      "text/html": [
       "<div>\n",
       "<style scoped>\n",
       "    .dataframe tbody tr th:only-of-type {\n",
       "        vertical-align: middle;\n",
       "    }\n",
       "\n",
       "    .dataframe tbody tr th {\n",
       "        vertical-align: top;\n",
       "    }\n",
       "\n",
       "    .dataframe thead th {\n",
       "        text-align: right;\n",
       "    }\n",
       "</style>\n",
       "<table border=\"1\" class=\"dataframe\">\n",
       "  <thead>\n",
       "    <tr style=\"text-align: right;\">\n",
       "      <th></th>\n",
       "      <th>B_42_DONNEES</th>\n",
       "    </tr>\n",
       "  </thead>\n",
       "  <tbody>\n",
       "    <tr>\n",
       "      <th>756</th>\n",
       "      <td>{\"IDENTITE\": {\"DENOMINATION\": \"VILLE DE PARIS\", \"CORRESPONDANT\": \"Mme BARDEY BOURGE Anne-Lise, Cheffe de la Section Locale d'Architecture des 5e et 13e arrondissements\", \"ADRESSE\": \"62 rue Corvisart\", \"CP\": \"75013\", \"VILLE\": \"Paris\", \"TEL\": \"01-45-87-67-25\", \"URL\": \"http://www.marches.maximilien.fr\"}, \"TYPE_ORGANISME\": {\"COMMUNE\": \"\"}, \"OBJET\": {\"TYPE_MARCHE\": {\"SERVICE\": \"\"}, \"OBJET_COMPLET\": \"Opération N° 201712645 - Marché public de maîtrise d'oeuvre pour la mise en accessibilité avec la création d'un ascenseur de l'école élémentaire sise 21, rue de Pontoise 75005 Paris.L'objet de la consultation est la mise en accessibilité de l'école élémentaire sise 21, rue de Pontoise 75005 Paris, qui comprend l'accessibilité pour les PMR (personnes à mobilité réduite) et UFR (utilisateur de fauteuil roulant), ainsi qu'aux handicaps sensoriels en rez-de-chaussée et aux étages.\", \"LIEU_EXEC_LIVR\": {\"ADRESSE\": \"21, rue de Pontoise\", \"CP\": \"75005\", \"VILLE\": \"Paris\"}, \"VARIANTES_NON\": \"\", \"CARACTERISTIQUES\": {\"PRINCIPALES\": \"Marché public de maîtrise d'oeuvre pour la mise en accessibilité avec la création d'un ascenseur de l'école élémentaire sise 21, rue de Pontoise 75005 Paris.L'objet de la consultation est la mise en accessibilité de l'école élémentaire sise 21, rue de Pontoise 75005 Paris, qui comprend l'accessibilité pour les PMR (personnes à mobilité réduite) et UFR (utilisateur de fauteuil roulant), ainsi qu'aux handicaps sensoriels en rez-de-chaussée et aux étages\", \"QUANTITE\": \"Opération N° 201712645 - Marché public de maîtrise d'oeuvre pour la mise en accessibilité avec la création d'un ascenseur de l'école élémentaire sise 21, rue de Pontoise 75005 Paris.L'objet de la consultation est la mise en accessibilité de l'école élémentaire sise 21, rue de Pontoise 75005 Paris, qui comprend l'accessibilité pour les PMR (personnes à mobilité réduite) et UFR (utilisateur de fauteuil roulant), ainsi qu'aux handicaps sensoriels en rez-de-chaussée et aux étages.\"}, \"DUREE_DELAI\": {\"DUREE_MOIS\": \"31\", \"DATE_EXECUTION\": \"2024-03-01\", \"DATE_LIVRAISON\": \"2025-02-01\"}, \"DIV_EN_LOTS\": {\"NON\": \"\"}}, \"PROCEDURE\": {\"TYPE_PROCEDURE\": {\"PROCEDURE_ADAPTE\": \"\"}, \"CRITERES_ATTRIBUTION\": {\"CRITERES_CCTP\": \"\"}}, \"CONDITION_DELAI\": {\"RECEPT_OFFRES\": \"2024-02-05T10:00:00+01:00\", \"VALIDITE_OFFRE\": {\"DUREE_MOIS\": \"6\"}}, \"CONDITION_PARTICIPATION\": {\"ELIGIBLE_MPS\": {\"non\": \"\"}}, \"CONDITION_ADMINISTRATIVE\": {\"REFERENCE_MARCHE\": \"2400002\"}, \"RENSEIGNEMENTS_COMPLEMENTAIRES\": {\"RENS_COMPLEMENT\": \"Le dossier de consultation des entreprises peut être consulté et téléchargé à partir de l'adresse : https://marches.maximilien.fr. Les candidats seront invités à répondre par voie électronique à cette même adresse dans les conditions fixées dans le dossier de consultation des entreprises. L'attention des candidats est appelée sur les mesures de sécurité prises dans le cadre du plan Vigipirate appliqué à l'accès aux bâtiments publics de la Ville de Paris : 'l'accès à ces bâtiments peut être soumis à un contrôle d'accès : les agents peuvent donc solliciter l'accord des usagers pour procéder à une inspection visuelle des bagages à main. En cas de refus des usagers de soumettre leur(s) bagage(s) à cette inspection, l'accès à l'équipement peut leur être interdit'. Par ailleurs, toute entreprise ou prestataire désirant déposer un pli devra se munir d'un document permettant d'identifier formellement la personne (pièce d'identité avec photo) qui pourra lui être demandé à l'entrée du bâtiment. En cas de refus ou de manquement à ces règles, l'accès aux bâtiments peut lui être interdit. Il est souligné qu'en raison de ces contrôles de sécurité à l'entrée des bâtiments, les candidats sont invités à prendre toute disposition pour remettre les COPIE de SAUVEGARDE aux date et heure limites indiquées dans les pièces du Dossier de Consultation des Entreprises (D.C.E). Les offres et candidatures en COPIE de SAUVEGARDE (Uniquement) peuvent être réceptionnées ou envoyées à l'adresse ci-dessous.\", \"ADRESSES_COMPLEMENTAIRES\": {\"ADRESSE\": {\"TYPE\": {\"DOCUMENTS\": \"\"}, \"URL\": \"https://marches.maximilien.fr/?page=Entreprise.EntrepriseAdvancedSearch&amp;AllCons&amp;id=865609&amp;orgAcronyme=r8t\"}}}}</td>\n",
       "    </tr>\n",
       "    <tr>\n",
       "      <th>757</th>\n",
       "      <td>{\"IDENTITE\": {\"DENOMINATION\": \"VILLE DE PARIS\", \"CORRESPONDANT\": \"Mme CAPPE Magali, Chef de la SLA 20\", \"ADRESSE\": \"Direction Constructions Publiques et Architecture - Section Locale d'Architecture du 20ème arrondissement- 154 Rue des Pyrénées\", \"CP\": \"75020\", \"VILLE\": \"Paris\", \"MEL\": \"dcpa-sla20-marchespublics@paris.fr\", \"URL\": \"https://marches.maximilien.fr\"}, \"TYPE_ORGANISME\": {\"COMMUNE\": \"\"}, \"OBJET\": {\"TYPE_MARCHE\": {\"SERVICE\": \"\"}, \"OBJET_COMPLET\": \"Opération 202316925 : Mission de maîtrise d'oeuvre (hors loi-MOP) pour les travaux de modernisation des installations électriques au collège Jean Baptiste Clément, sis 26 rue Henri Chevreau 75020 PARIS\", \"LIEU_EXEC_LIVR\": {\"ADRESSE\": \"Collège Jean Baptiste Clément, sis 26 rue Henri Chevreau\", \"CP\": \"75020\", \"VILLE\": \"Paris\"}, \"VARIANTES_NON\": \"\", \"CARACTERISTIQUES\": {\"PRINCIPALES\": \"Opération no 202316925 : Mission de maîtrise d'oeuvre (hors loi-MOP) pour les travaux de modernisation des installations électriques du collège Jean Baptiste Clément, sis 26 rue Henri Chevreau 75020 PARIS\", \"QUANTITE\": \"Les prestations issues de la présente consultation sont fractionnées en tranches : la tranche ferme concerne la phase études; la tranche optionnelle 1 concerne la phase de suivi de chantier.\"}, \"DUREE_DELAI\": {\"DUREE_MOIS\": \"24\", \"DATE_EXECUTION\": \"2024-03-15\"}, \"DIV_EN_LOTS\": {\"NON\": \"\"}}, \"PROCEDURE\": {\"TYPE_PROCEDURE\": {\"PROCEDURE_ADAPTE\": \"\"}, \"CRITERES_ATTRIBUTION\": {\"CRITERES_CCTP\": \"\"}}, \"CONDITION_DELAI\": {\"RECEPT_OFFRES\": \"2024-02-06T12:00:00+01:00\", \"VALIDITE_OFFRE\": {\"DUREE_MOIS\": \"6\"}}, \"CONDITION_RELATIVE_MARCHE\": {\"FINANCEMENT\": \"Prestations financées par le budget d'investissement de la Ville de Paris (ressources propres). Possibilité de céder ou nantir des créances résultant du marché. Marché traité à prix global et forfaitaire. Prix révisables. Règlement par virement au compte du (des) titulaire (s). Délai global de paiement : celui fixé par la réglementation.\", \"UNITE_MONETAIRE_EUR\": \"\", \"FRANCAIS_SEUL\": \"\"}, \"CONDITION_PARTICIPATION\": {\"JUSTIFICATIFS_CANDIDAT\": {\"P\": \"Les documents à produire sont indiqués au règlement de la consultation.\"}, \"ELIGIBLE_MPS\": {\"non\": \"\"}}, \"CONDITION_ADMINISTRATIVE\": {\"REFERENCE_MARCHE\": \"2302036\", \"CONDITIONS_REMISE_OFFRES\": \"La remise des offres se fait exclusivement sur la plateforme de dématérialisation, accessible à l'adresse suivante : https://marches.maximilien.fr\"}, \"RENSEIGNEMENTS_COMPLEMENTAIRES\": {\"RENS_COMPLEMENT\": \"La durée du marché correspond à la période pendant laquelle le titulaire est tenu d'exécuter ses obligations contractuelles. Le dossier de consultation des entreprises peut être consulté et téléchargé à partir de l'adresse https://marches.maximilien/. Les candidats seront invités à répondre par voie électronique à cette même adresse dans les conditions fixées dans le dossier de consultation des entreprises. Si le candidat s'appuie sur d'autres opérateurs économiques pour présenter sa candidature, il doit les mentionner dans son formulaire Dc2 (rubrique E) et produire, pour chacun d'eux, les mêmes documents et informations que ceux qui sont exigés de lui pour justifier de ses capacités, ainsi qu'un engagement écrit de chacun d'eux justifiant qu'il dispose de leurs capacités pour l'exécution des prestations.\", \"ADRESSES_COMPLEMENTAIRES\": {\"ADRESSE\": [{\"TYPE\": {\"ADMIN_TECH\": \"\"}, \"DENOMINATION\": \"Ville de Paris - Direction Constructions Publiques et Architecture - Section Locale d'Architecture du 20ème arrondissement\", \"CORRESPONDANT\": \"M. SITRINI Mostapha\", \"ADRESSE\": \"154 Rue des Pyrénées\", \"CP\": \"75020\", \"VILLE\": \"Paris\", \"MEL\": \"dcpa-sla20-marchespublics@paris.fr\", \"URL\": \"https://marches.maximilien.fr\"}, {\"TYPE\": {\"ENVOYER_OFFRES\": \"\"}, \"DENOMINATION\": \"Ville de Paris - Direction Constructions Publiques et Architecture - Section Locale d'Architecture du 20ème arrondissement\", \"CORRESPONDANT\": \"Mme CAPPE Magali\", \"ADRESSE\": \"154 Rue des Pyrénées\", \"CP\": \"75020\", \"VILLE\": \"Paris\", \"MEL\": \"dcpa-sla20-marchespublics@paris.fr\", \"URL\": \"https://marches.maximilien.fr\"}]}}}</td>\n",
       "    </tr>\n",
       "  </tbody>\n",
       "</table>\n",
       "</div>"
      ],
      "text/plain": [
       "                                                                                                                                                                                                                                                                                                                                                                                                                                                                                                                                                                                                                                                                                                                                                                                                                                                                                                                                                                                                                                                                                                                                                                                                                                                                                                                                                                                                                                                                                                                                                                                                                                                                                                                                                                                                                                                                                                                                                                                                                                                                                                                                                                                                                                                                                                                                                                                                                                                                                                                                                                                                                                                                                                                                                                                                                                                                                                                                                                                                                                                                                                                                                                                                                                                                                                                                                                                                                                                                                                                                                                                                                                                                                                                                                                                                                                                                                                                                                                                                                                                                                                                                                                                                                                                                                                                                                    B_42_DONNEES\n",
       "756  {\"IDENTITE\": {\"DENOMINATION\": \"VILLE DE PARIS\", \"CORRESPONDANT\": \"Mme BARDEY BOURGE Anne-Lise, Cheffe de la Section Locale d'Architecture des 5e et 13e arrondissements\", \"ADRESSE\": \"62 rue Corvisart\", \"CP\": \"75013\", \"VILLE\": \"Paris\", \"TEL\": \"01-45-87-67-25\", \"URL\": \"http://www.marches.maximilien.fr\"}, \"TYPE_ORGANISME\": {\"COMMUNE\": \"\"}, \"OBJET\": {\"TYPE_MARCHE\": {\"SERVICE\": \"\"}, \"OBJET_COMPLET\": \"Opération N° 201712645 - Marché public de maîtrise d'oeuvre pour la mise en accessibilité avec la création d'un ascenseur de l'école élémentaire sise 21, rue de Pontoise 75005 Paris.L'objet de la consultation est la mise en accessibilité de l'école élémentaire sise 21, rue de Pontoise 75005 Paris, qui comprend l'accessibilité pour les PMR (personnes à mobilité réduite) et UFR (utilisateur de fauteuil roulant), ainsi qu'aux handicaps sensoriels en rez-de-chaussée et aux étages.\", \"LIEU_EXEC_LIVR\": {\"ADRESSE\": \"21, rue de Pontoise\", \"CP\": \"75005\", \"VILLE\": \"Paris\"}, \"VARIANTES_NON\": \"\", \"CARACTERISTIQUES\": {\"PRINCIPALES\": \"Marché public de maîtrise d'oeuvre pour la mise en accessibilité avec la création d'un ascenseur de l'école élémentaire sise 21, rue de Pontoise 75005 Paris.L'objet de la consultation est la mise en accessibilité de l'école élémentaire sise 21, rue de Pontoise 75005 Paris, qui comprend l'accessibilité pour les PMR (personnes à mobilité réduite) et UFR (utilisateur de fauteuil roulant), ainsi qu'aux handicaps sensoriels en rez-de-chaussée et aux étages\", \"QUANTITE\": \"Opération N° 201712645 - Marché public de maîtrise d'oeuvre pour la mise en accessibilité avec la création d'un ascenseur de l'école élémentaire sise 21, rue de Pontoise 75005 Paris.L'objet de la consultation est la mise en accessibilité de l'école élémentaire sise 21, rue de Pontoise 75005 Paris, qui comprend l'accessibilité pour les PMR (personnes à mobilité réduite) et UFR (utilisateur de fauteuil roulant), ainsi qu'aux handicaps sensoriels en rez-de-chaussée et aux étages.\"}, \"DUREE_DELAI\": {\"DUREE_MOIS\": \"31\", \"DATE_EXECUTION\": \"2024-03-01\", \"DATE_LIVRAISON\": \"2025-02-01\"}, \"DIV_EN_LOTS\": {\"NON\": \"\"}}, \"PROCEDURE\": {\"TYPE_PROCEDURE\": {\"PROCEDURE_ADAPTE\": \"\"}, \"CRITERES_ATTRIBUTION\": {\"CRITERES_CCTP\": \"\"}}, \"CONDITION_DELAI\": {\"RECEPT_OFFRES\": \"2024-02-05T10:00:00+01:00\", \"VALIDITE_OFFRE\": {\"DUREE_MOIS\": \"6\"}}, \"CONDITION_PARTICIPATION\": {\"ELIGIBLE_MPS\": {\"non\": \"\"}}, \"CONDITION_ADMINISTRATIVE\": {\"REFERENCE_MARCHE\": \"2400002\"}, \"RENSEIGNEMENTS_COMPLEMENTAIRES\": {\"RENS_COMPLEMENT\": \"Le dossier de consultation des entreprises peut être consulté et téléchargé à partir de l'adresse : https://marches.maximilien.fr. Les candidats seront invités à répondre par voie électronique à cette même adresse dans les conditions fixées dans le dossier de consultation des entreprises. L'attention des candidats est appelée sur les mesures de sécurité prises dans le cadre du plan Vigipirate appliqué à l'accès aux bâtiments publics de la Ville de Paris : 'l'accès à ces bâtiments peut être soumis à un contrôle d'accès : les agents peuvent donc solliciter l'accord des usagers pour procéder à une inspection visuelle des bagages à main. En cas de refus des usagers de soumettre leur(s) bagage(s) à cette inspection, l'accès à l'équipement peut leur être interdit'. Par ailleurs, toute entreprise ou prestataire désirant déposer un pli devra se munir d'un document permettant d'identifier formellement la personne (pièce d'identité avec photo) qui pourra lui être demandé à l'entrée du bâtiment. En cas de refus ou de manquement à ces règles, l'accès aux bâtiments peut lui être interdit. Il est souligné qu'en raison de ces contrôles de sécurité à l'entrée des bâtiments, les candidats sont invités à prendre toute disposition pour remettre les COPIE de SAUVEGARDE aux date et heure limites indiquées dans les pièces du Dossier de Consultation des Entreprises (D.C.E). Les offres et candidatures en COPIE de SAUVEGARDE (Uniquement) peuvent être réceptionnées ou envoyées à l'adresse ci-dessous.\", \"ADRESSES_COMPLEMENTAIRES\": {\"ADRESSE\": {\"TYPE\": {\"DOCUMENTS\": \"\"}, \"URL\": \"https://marches.maximilien.fr/?page=Entreprise.EntrepriseAdvancedSearch&AllCons&id=865609&orgAcronyme=r8t\"}}}}\n",
       "757                                                                                                                                {\"IDENTITE\": {\"DENOMINATION\": \"VILLE DE PARIS\", \"CORRESPONDANT\": \"Mme CAPPE Magali, Chef de la SLA 20\", \"ADRESSE\": \"Direction Constructions Publiques et Architecture - Section Locale d'Architecture du 20ème arrondissement- 154 Rue des Pyrénées\", \"CP\": \"75020\", \"VILLE\": \"Paris\", \"MEL\": \"dcpa-sla20-marchespublics@paris.fr\", \"URL\": \"https://marches.maximilien.fr\"}, \"TYPE_ORGANISME\": {\"COMMUNE\": \"\"}, \"OBJET\": {\"TYPE_MARCHE\": {\"SERVICE\": \"\"}, \"OBJET_COMPLET\": \"Opération 202316925 : Mission de maîtrise d'oeuvre (hors loi-MOP) pour les travaux de modernisation des installations électriques au collège Jean Baptiste Clément, sis 26 rue Henri Chevreau 75020 PARIS\", \"LIEU_EXEC_LIVR\": {\"ADRESSE\": \"Collège Jean Baptiste Clément, sis 26 rue Henri Chevreau\", \"CP\": \"75020\", \"VILLE\": \"Paris\"}, \"VARIANTES_NON\": \"\", \"CARACTERISTIQUES\": {\"PRINCIPALES\": \"Opération no 202316925 : Mission de maîtrise d'oeuvre (hors loi-MOP) pour les travaux de modernisation des installations électriques du collège Jean Baptiste Clément, sis 26 rue Henri Chevreau 75020 PARIS\", \"QUANTITE\": \"Les prestations issues de la présente consultation sont fractionnées en tranches : la tranche ferme concerne la phase études; la tranche optionnelle 1 concerne la phase de suivi de chantier.\"}, \"DUREE_DELAI\": {\"DUREE_MOIS\": \"24\", \"DATE_EXECUTION\": \"2024-03-15\"}, \"DIV_EN_LOTS\": {\"NON\": \"\"}}, \"PROCEDURE\": {\"TYPE_PROCEDURE\": {\"PROCEDURE_ADAPTE\": \"\"}, \"CRITERES_ATTRIBUTION\": {\"CRITERES_CCTP\": \"\"}}, \"CONDITION_DELAI\": {\"RECEPT_OFFRES\": \"2024-02-06T12:00:00+01:00\", \"VALIDITE_OFFRE\": {\"DUREE_MOIS\": \"6\"}}, \"CONDITION_RELATIVE_MARCHE\": {\"FINANCEMENT\": \"Prestations financées par le budget d'investissement de la Ville de Paris (ressources propres). Possibilité de céder ou nantir des créances résultant du marché. Marché traité à prix global et forfaitaire. Prix révisables. Règlement par virement au compte du (des) titulaire (s). Délai global de paiement : celui fixé par la réglementation.\", \"UNITE_MONETAIRE_EUR\": \"\", \"FRANCAIS_SEUL\": \"\"}, \"CONDITION_PARTICIPATION\": {\"JUSTIFICATIFS_CANDIDAT\": {\"P\": \"Les documents à produire sont indiqués au règlement de la consultation.\"}, \"ELIGIBLE_MPS\": {\"non\": \"\"}}, \"CONDITION_ADMINISTRATIVE\": {\"REFERENCE_MARCHE\": \"2302036\", \"CONDITIONS_REMISE_OFFRES\": \"La remise des offres se fait exclusivement sur la plateforme de dématérialisation, accessible à l'adresse suivante : https://marches.maximilien.fr\"}, \"RENSEIGNEMENTS_COMPLEMENTAIRES\": {\"RENS_COMPLEMENT\": \"La durée du marché correspond à la période pendant laquelle le titulaire est tenu d'exécuter ses obligations contractuelles. Le dossier de consultation des entreprises peut être consulté et téléchargé à partir de l'adresse https://marches.maximilien/. Les candidats seront invités à répondre par voie électronique à cette même adresse dans les conditions fixées dans le dossier de consultation des entreprises. Si le candidat s'appuie sur d'autres opérateurs économiques pour présenter sa candidature, il doit les mentionner dans son formulaire Dc2 (rubrique E) et produire, pour chacun d'eux, les mêmes documents et informations que ceux qui sont exigés de lui pour justifier de ses capacités, ainsi qu'un engagement écrit de chacun d'eux justifiant qu'il dispose de leurs capacités pour l'exécution des prestations.\", \"ADRESSES_COMPLEMENTAIRES\": {\"ADRESSE\": [{\"TYPE\": {\"ADMIN_TECH\": \"\"}, \"DENOMINATION\": \"Ville de Paris - Direction Constructions Publiques et Architecture - Section Locale d'Architecture du 20ème arrondissement\", \"CORRESPONDANT\": \"M. SITRINI Mostapha\", \"ADRESSE\": \"154 Rue des Pyrénées\", \"CP\": \"75020\", \"VILLE\": \"Paris\", \"MEL\": \"dcpa-sla20-marchespublics@paris.fr\", \"URL\": \"https://marches.maximilien.fr\"}, {\"TYPE\": {\"ENVOYER_OFFRES\": \"\"}, \"DENOMINATION\": \"Ville de Paris - Direction Constructions Publiques et Architecture - Section Locale d'Architecture du 20ème arrondissement\", \"CORRESPONDANT\": \"Mme CAPPE Magali\", \"ADRESSE\": \"154 Rue des Pyrénées\", \"CP\": \"75020\", \"VILLE\": \"Paris\", \"MEL\": \"dcpa-sla20-marchespublics@paris.fr\", \"URL\": \"https://marches.maximilien.fr\"}]}}}"
      ]
     },
     "execution_count": 4,
     "metadata": {},
     "output_type": "execute_result"
    }
   ],
   "source": [
    "df_.loc[df_.B_42_DONNEES.notna(),:].tail(2)"
   ]
  }
 ],
 "metadata": {
  "kaggle": {
   "accelerator": "none",
   "dataSources": [],
   "dockerImageVersionId": 30786,
   "isGpuEnabled": false,
   "isInternetEnabled": true,
   "language": "python",
   "sourceType": "notebook"
  },
  "kernelspec": {
   "display_name": "Python 3 (ipykernel)",
   "language": "python",
   "name": "python3"
  },
  "language_info": {
   "codemirror_mode": {
    "name": "ipython",
    "version": 3
   },
   "file_extension": ".py",
   "mimetype": "text/x-python",
   "name": "python",
   "nbconvert_exporter": "python",
   "pygments_lexer": "ipython3",
   "version": "3.10.14"
  },
  "papermill": {
   "default_parameters": {},
   "duration": 8.22972,
   "end_time": "2024-10-19T09:47:35.960880",
   "environment_variables": {},
   "exception": null,
   "input_path": "__notebook__.ipynb",
   "output_path": "__notebook__.ipynb",
   "parameters": {},
   "start_time": "2024-10-19T09:47:27.731160",
   "version": "2.6.0"
  },
  "widgets": {
   "application/vnd.jupyter.widget-state+json": {
    "state": {},
    "version_major": 2,
    "version_minor": 0
   }
  }
 },
 "nbformat": 4,
 "nbformat_minor": 5
}
