{
 "cells": [
  {
   "cell_type": "markdown",
   "id": "1e146a52",
   "metadata": {
    "papermill": {
     "duration": 0.00502,
     "end_time": "2024-10-20T08:48:24.750592",
     "exception": false,
     "start_time": "2024-10-20T08:48:24.745572",
     "status": "completed"
    },
    "tags": []
   },
   "source": [
    "# Colonne «B_31_sousNatureLibelle» (Initialisation)"
   ]
  },
  {
   "cell_type": "markdown",
   "id": "b7797a75",
   "metadata": {
    "papermill": {
     "duration": 0.003613,
     "end_time": "2024-10-20T08:48:24.758498",
     "exception": false,
     "start_time": "2024-10-20T08:48:24.754885",
     "status": "completed"
    },
    "tags": []
   },
   "source": [
    "|NAVIGATION (travaux sur les annonces BOAMP de la Ville de Paris en 2024)|\n",
    "|---|\n",
    "|[Retour à l'INDEX (kaggle)](https://www.kaggle.com/code/aufilduboamp/index-ville-de-paris-aufilduboamp)|\n",
    "|[Rubrique AuFilDuBoamp.com](https://www.aufilduboamp.com/rubrique92.html)|\n",
    "|[Dépôt GitHub](https://github.com/AuFilDuBoamp/bsa_boamp_ville_de_paris_2024/tree/main)|\n",
    "|[Dépôt DataGouv](https://www.data.gouv.fr/fr/datasets/une-vie-de-siren-au-boamp-ville-de-paris-217500016/#/resources)|"
   ]
  },
  {
   "cell_type": "markdown",
   "id": "0128c311",
   "metadata": {
    "papermill": {
     "duration": 0.003459,
     "end_time": "2024-10-20T08:48:24.765890",
     "exception": false,
     "start_time": "2024-10-20T08:48:24.762431",
     "status": "completed"
    },
    "tags": []
   },
   "source": [
    "# Import(s) et réglages"
   ]
  },
  {
   "cell_type": "code",
   "execution_count": 1,
   "id": "e735705a",
   "metadata": {
    "execution": {
     "iopub.execute_input": "2024-10-20T08:48:24.775471Z",
     "iopub.status.busy": "2024-10-20T08:48:24.774908Z",
     "iopub.status.idle": "2024-10-20T08:48:25.679419Z",
     "shell.execute_reply": "2024-10-20T08:48:25.678375Z"
    },
    "papermill": {
     "duration": 0.912591,
     "end_time": "2024-10-20T08:48:25.682230",
     "exception": false,
     "start_time": "2024-10-20T08:48:24.769639",
     "status": "completed"
    },
    "tags": []
   },
   "outputs": [],
   "source": [
    "# import\n",
    "import pandas as pd\n",
    "#réglages\n",
    "pd.set_option('display.max_colwidth', 500)\n",
    "pd.set_option('display.max_columns', 200)\n",
    "pd.set_option('display.max_rows', 200)"
   ]
  },
  {
   "cell_type": "markdown",
   "id": "17fc4e84",
   "metadata": {
    "papermill": {
     "duration": 0.003621,
     "end_time": "2024-10-20T08:48:25.690186",
     "exception": false,
     "start_time": "2024-10-20T08:48:25.686565",
     "status": "completed"
    },
    "tags": []
   },
   "source": [
    "# Téléchargement des annonces de la Ville de Paris sur Datagouv"
   ]
  },
  {
   "cell_type": "code",
   "execution_count": 2,
   "id": "4db0575a",
   "metadata": {
    "execution": {
     "iopub.execute_input": "2024-10-20T08:48:25.699901Z",
     "iopub.status.busy": "2024-10-20T08:48:25.699381Z",
     "iopub.status.idle": "2024-10-20T08:48:28.253231Z",
     "shell.execute_reply": "2024-10-20T08:48:28.251604Z"
    },
    "papermill": {
     "duration": 2.562596,
     "end_time": "2024-10-20T08:48:28.256663",
     "exception": false,
     "start_time": "2024-10-20T08:48:25.694067",
     "status": "completed"
    },
    "scrolled": true,
    "tags": []
   },
   "outputs": [],
   "source": [
    "df = pd.read_csv('https://www.data.gouv.fr/fr/datasets/r/8571acc8-2f51-4d7e-9d87-bd5b8ec210e5', dtype='string')\n",
    "\n",
    "# Adresse ressources sur datagouv\n",
    "# -> https://www.data.gouv.fr/fr/datasets/une-vie-de-siren-au-boamp-ville-de-paris-217500016/#/resources"
   ]
  },
  {
   "cell_type": "markdown",
   "id": "34671d1a",
   "metadata": {
    "papermill": {
     "duration": 0.003916,
     "end_time": "2024-10-20T08:48:28.264977",
     "exception": false,
     "start_time": "2024-10-20T08:48:28.261061",
     "status": "completed"
    },
    "tags": []
   },
   "source": [
    "# Sélection de la colonne B_31_sousNatureLibelle"
   ]
  },
  {
   "cell_type": "code",
   "execution_count": 3,
   "id": "1a9465fa",
   "metadata": {
    "execution": {
     "iopub.execute_input": "2024-10-20T08:48:28.275771Z",
     "iopub.status.busy": "2024-10-20T08:48:28.275258Z",
     "iopub.status.idle": "2024-10-20T08:48:28.292621Z",
     "shell.execute_reply": "2024-10-20T08:48:28.290978Z"
    },
    "papermill": {
     "duration": 0.02645,
     "end_time": "2024-10-20T08:48:28.295793",
     "exception": false,
     "start_time": "2024-10-20T08:48:28.269343",
     "status": "completed"
    },
    "tags": []
   },
   "outputs": [],
   "source": [
    "df_ = df.loc[:, ['B_31_sousNatureLibelle']].copy()"
   ]
  },
  {
   "cell_type": "markdown",
   "id": "17167cdd",
   "metadata": {
    "papermill": {
     "duration": 0.003856,
     "end_time": "2024-10-20T08:48:28.303994",
     "exception": false,
     "start_time": "2024-10-20T08:48:28.300138",
     "status": "completed"
    },
    "tags": []
   },
   "source": [
    "# Lecture des dernières lignes"
   ]
  },
  {
   "cell_type": "code",
   "execution_count": 4,
   "id": "e2bd8156",
   "metadata": {
    "execution": {
     "iopub.execute_input": "2024-10-20T08:48:28.314579Z",
     "iopub.status.busy": "2024-10-20T08:48:28.314036Z",
     "iopub.status.idle": "2024-10-20T08:48:28.337479Z",
     "shell.execute_reply": "2024-10-20T08:48:28.335793Z"
    },
    "papermill": {
     "duration": 0.033001,
     "end_time": "2024-10-20T08:48:28.341128",
     "exception": false,
     "start_time": "2024-10-20T08:48:28.308127",
     "status": "completed"
    },
    "tags": []
   },
   "outputs": [
    {
     "data": {
      "text/html": [
       "<div>\n",
       "<style scoped>\n",
       "    .dataframe tbody tr th:only-of-type {\n",
       "        vertical-align: middle;\n",
       "    }\n",
       "\n",
       "    .dataframe tbody tr th {\n",
       "        vertical-align: top;\n",
       "    }\n",
       "\n",
       "    .dataframe thead th {\n",
       "        text-align: right;\n",
       "    }\n",
       "</style>\n",
       "<table border=\"1\" class=\"dataframe\">\n",
       "  <thead>\n",
       "    <tr style=\"text-align: right;\">\n",
       "      <th></th>\n",
       "      <th>B_31_sousNatureLibelle</th>\n",
       "    </tr>\n",
       "  </thead>\n",
       "  <tbody>\n",
       "    <tr>\n",
       "      <th>712</th>\n",
       "      <td>Rectificatif</td>\n",
       "    </tr>\n",
       "    <tr>\n",
       "      <th>735</th>\n",
       "      <td>Rectificatif</td>\n",
       "    </tr>\n",
       "    <tr>\n",
       "      <th>743</th>\n",
       "      <td>Concession</td>\n",
       "    </tr>\n",
       "    <tr>\n",
       "      <th>744</th>\n",
       "      <td>Rectificatif</td>\n",
       "    </tr>\n",
       "    <tr>\n",
       "      <th>754</th>\n",
       "      <td>Rectificatif</td>\n",
       "    </tr>\n",
       "  </tbody>\n",
       "</table>\n",
       "</div>"
      ],
      "text/plain": [
       "    B_31_sousNatureLibelle\n",
       "712           Rectificatif\n",
       "735           Rectificatif\n",
       "743             Concession\n",
       "744           Rectificatif\n",
       "754           Rectificatif"
      ]
     },
     "execution_count": 4,
     "metadata": {},
     "output_type": "execute_result"
    }
   ],
   "source": [
    "df_.loc[df_.B_31_sousNatureLibelle.notna(),:].tail()"
   ]
  },
  {
   "cell_type": "code",
   "execution_count": null,
   "id": "9eddc7e7",
   "metadata": {
    "papermill": {
     "duration": 0.004209,
     "end_time": "2024-10-20T08:48:28.350341",
     "exception": false,
     "start_time": "2024-10-20T08:48:28.346132",
     "status": "completed"
    },
    "tags": []
   },
   "outputs": [],
   "source": []
  }
 ],
 "metadata": {
  "kaggle": {
   "accelerator": "none",
   "dataSources": [],
   "dockerImageVersionId": 30786,
   "isGpuEnabled": false,
   "isInternetEnabled": true,
   "language": "python",
   "sourceType": "notebook"
  },
  "kernelspec": {
   "display_name": "Python 3 (ipykernel)",
   "language": "python",
   "name": "python3"
  },
  "language_info": {
   "codemirror_mode": {
    "name": "ipython",
    "version": 3
   },
   "file_extension": ".py",
   "mimetype": "text/x-python",
   "name": "python",
   "nbconvert_exporter": "python",
   "pygments_lexer": "ipython3",
   "version": "3.10.14"
  },
  "papermill": {
   "default_parameters": {},
   "duration": 7.460866,
   "end_time": "2024-10-20T08:48:28.980186",
   "environment_variables": {},
   "exception": null,
   "input_path": "__notebook__.ipynb",
   "output_path": "__notebook__.ipynb",
   "parameters": {},
   "start_time": "2024-10-20T08:48:21.519320",
   "version": "2.6.0"
  },
  "widgets": {
   "application/vnd.jupyter.widget-state+json": {
    "state": {},
    "version_major": 2,
    "version_minor": 0
   }
  }
 },
 "nbformat": 4,
 "nbformat_minor": 5
}
