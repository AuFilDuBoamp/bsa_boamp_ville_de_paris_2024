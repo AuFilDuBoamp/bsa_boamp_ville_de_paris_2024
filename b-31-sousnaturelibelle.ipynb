{
 "cells": [
  {
   "cell_type": "markdown",
   "id": "e66500a8",
   "metadata": {
    "papermill": {
     "duration": 0.004386,
     "end_time": "2024-10-19T09:28:58.056277",
     "exception": false,
     "start_time": "2024-10-19T09:28:58.051891",
     "status": "completed"
    },
    "tags": []
   },
   "source": [
    "# Colonne «B_31_sousNatureLibelle» (Initialisation)"
   ]
  },
  {
   "cell_type": "markdown",
   "id": "1873c6e4",
   "metadata": {
    "papermill": {
     "duration": 0.003435,
     "end_time": "2024-10-19T09:28:58.063926",
     "exception": false,
     "start_time": "2024-10-19T09:28:58.060491",
     "status": "completed"
    },
    "tags": []
   },
   "source": [
    "# Intro"
   ]
  },
  {
   "cell_type": "markdown",
   "id": "4d2b3b35",
   "metadata": {
    "papermill": {
     "duration": 0.003362,
     "end_time": "2024-10-19T09:28:58.071075",
     "exception": false,
     "start_time": "2024-10-19T09:28:58.067713",
     "status": "completed"
    },
    "tags": []
   },
   "source": [
    "# Import(s) et réglages"
   ]
  },
  {
   "cell_type": "code",
   "execution_count": 1,
   "id": "6c5edfc0",
   "metadata": {
    "execution": {
     "iopub.execute_input": "2024-10-19T09:28:58.080342Z",
     "iopub.status.busy": "2024-10-19T09:28:58.079889Z",
     "iopub.status.idle": "2024-10-19T09:28:58.977964Z",
     "shell.execute_reply": "2024-10-19T09:28:58.976800Z"
    },
    "papermill": {
     "duration": 0.905977,
     "end_time": "2024-10-19T09:28:58.980743",
     "exception": false,
     "start_time": "2024-10-19T09:28:58.074766",
     "status": "completed"
    },
    "tags": []
   },
   "outputs": [],
   "source": [
    "# import\n",
    "import pandas as pd\n",
    "#réglages\n",
    "pd.set_option('display.max_colwidth', 500)\n",
    "pd.set_option('display.max_columns', 200)\n",
    "pd.set_option('display.max_rows', 200)"
   ]
  },
  {
   "cell_type": "markdown",
   "id": "a7175c0e",
   "metadata": {
    "papermill": {
     "duration": 0.003548,
     "end_time": "2024-10-19T09:28:58.988337",
     "exception": false,
     "start_time": "2024-10-19T09:28:58.984789",
     "status": "completed"
    },
    "tags": []
   },
   "source": [
    "# Téléchargement des annonces de la Ville de Paris sur Datagouv"
   ]
  },
  {
   "cell_type": "code",
   "execution_count": 2,
   "id": "d5cd7509",
   "metadata": {
    "execution": {
     "iopub.execute_input": "2024-10-19T09:28:58.998160Z",
     "iopub.status.busy": "2024-10-19T09:28:58.997606Z",
     "iopub.status.idle": "2024-10-19T09:28:59.587933Z",
     "shell.execute_reply": "2024-10-19T09:28:59.586865Z"
    },
    "papermill": {
     "duration": 0.59846,
     "end_time": "2024-10-19T09:28:59.590716",
     "exception": false,
     "start_time": "2024-10-19T09:28:58.992256",
     "status": "completed"
    },
    "scrolled": true,
    "tags": []
   },
   "outputs": [],
   "source": [
    "df = pd.read_csv('https://www.data.gouv.fr/fr/datasets/r/8571acc8-2f51-4d7e-9d87-bd5b8ec210e5', dtype='string')\n",
    "\n",
    "# Adresse ressources sur datagouv\n",
    "# -> https://www.data.gouv.fr/fr/datasets/une-vie-de-siren-au-boamp-ville-de-paris-217500016/#/resources"
   ]
  },
  {
   "cell_type": "markdown",
   "id": "11332744",
   "metadata": {
    "papermill": {
     "duration": 0.00349,
     "end_time": "2024-10-19T09:28:59.598186",
     "exception": false,
     "start_time": "2024-10-19T09:28:59.594696",
     "status": "completed"
    },
    "tags": []
   },
   "source": [
    "# Sélection de la colonne B_31_sousNatureLibelle"
   ]
  },
  {
   "cell_type": "code",
   "execution_count": 3,
   "id": "83e94f02",
   "metadata": {
    "execution": {
     "iopub.execute_input": "2024-10-19T09:28:59.608210Z",
     "iopub.status.busy": "2024-10-19T09:28:59.607275Z",
     "iopub.status.idle": "2024-10-19T09:28:59.620885Z",
     "shell.execute_reply": "2024-10-19T09:28:59.619848Z"
    },
    "papermill": {
     "duration": 0.021459,
     "end_time": "2024-10-19T09:28:59.623494",
     "exception": false,
     "start_time": "2024-10-19T09:28:59.602035",
     "status": "completed"
    },
    "tags": []
   },
   "outputs": [],
   "source": [
    "df_ = df.loc[:, ['B_31_sousNatureLibelle']].copy()"
   ]
  },
  {
   "cell_type": "markdown",
   "id": "66ca8711",
   "metadata": {
    "papermill": {
     "duration": 0.003541,
     "end_time": "2024-10-19T09:28:59.631115",
     "exception": false,
     "start_time": "2024-10-19T09:28:59.627574",
     "status": "completed"
    },
    "tags": []
   },
   "source": [
    "# Lecture des dernières lignes"
   ]
  },
  {
   "cell_type": "code",
   "execution_count": 4,
   "id": "6d0c294c",
   "metadata": {
    "execution": {
     "iopub.execute_input": "2024-10-19T09:28:59.640518Z",
     "iopub.status.busy": "2024-10-19T09:28:59.640071Z",
     "iopub.status.idle": "2024-10-19T09:28:59.658253Z",
     "shell.execute_reply": "2024-10-19T09:28:59.657090Z"
    },
    "papermill": {
     "duration": 0.026014,
     "end_time": "2024-10-19T09:28:59.660883",
     "exception": false,
     "start_time": "2024-10-19T09:28:59.634869",
     "status": "completed"
    },
    "tags": []
   },
   "outputs": [
    {
     "data": {
      "text/html": [
       "<div>\n",
       "<style scoped>\n",
       "    .dataframe tbody tr th:only-of-type {\n",
       "        vertical-align: middle;\n",
       "    }\n",
       "\n",
       "    .dataframe tbody tr th {\n",
       "        vertical-align: top;\n",
       "    }\n",
       "\n",
       "    .dataframe thead th {\n",
       "        text-align: right;\n",
       "    }\n",
       "</style>\n",
       "<table border=\"1\" class=\"dataframe\">\n",
       "  <thead>\n",
       "    <tr style=\"text-align: right;\">\n",
       "      <th></th>\n",
       "      <th>B_31_sousNatureLibelle</th>\n",
       "    </tr>\n",
       "  </thead>\n",
       "  <tbody>\n",
       "    <tr>\n",
       "      <th>712</th>\n",
       "      <td>Rectificatif</td>\n",
       "    </tr>\n",
       "    <tr>\n",
       "      <th>734</th>\n",
       "      <td>Rectificatif</td>\n",
       "    </tr>\n",
       "    <tr>\n",
       "      <th>743</th>\n",
       "      <td>Concession</td>\n",
       "    </tr>\n",
       "    <tr>\n",
       "      <th>744</th>\n",
       "      <td>Rectificatif</td>\n",
       "    </tr>\n",
       "    <tr>\n",
       "      <th>753</th>\n",
       "      <td>Rectificatif</td>\n",
       "    </tr>\n",
       "  </tbody>\n",
       "</table>\n",
       "</div>"
      ],
      "text/plain": [
       "    B_31_sousNatureLibelle\n",
       "712           Rectificatif\n",
       "734           Rectificatif\n",
       "743             Concession\n",
       "744           Rectificatif\n",
       "753           Rectificatif"
      ]
     },
     "execution_count": 4,
     "metadata": {},
     "output_type": "execute_result"
    }
   ],
   "source": [
    "df_.loc[df_.B_31_sousNatureLibelle.notna(),:].tail()"
   ]
  },
  {
   "cell_type": "code",
   "execution_count": null,
   "id": "7109b056",
   "metadata": {
    "papermill": {
     "duration": 0.004016,
     "end_time": "2024-10-19T09:28:59.669366",
     "exception": false,
     "start_time": "2024-10-19T09:28:59.665350",
     "status": "completed"
    },
    "tags": []
   },
   "outputs": [],
   "source": []
  }
 ],
 "metadata": {
  "kaggle": {
   "accelerator": "none",
   "dataSources": [],
   "isGpuEnabled": false,
   "isInternetEnabled": true,
   "language": "python",
   "sourceType": "notebook"
  },
  "kernelspec": {
   "display_name": "Python 3 (ipykernel)",
   "language": "python",
   "name": "python3"
  },
  "language_info": {
   "codemirror_mode": {
    "name": "ipython",
    "version": 3
   },
   "file_extension": ".py",
   "mimetype": "text/x-python",
   "name": "python",
   "nbconvert_exporter": "python",
   "pygments_lexer": "ipython3",
   "version": "3.10.14"
  },
  "papermill": {
   "default_parameters": {},
   "duration": 5.090467,
   "end_time": "2024-10-19T09:29:00.196143",
   "environment_variables": {},
   "exception": null,
   "input_path": "__notebook__.ipynb",
   "output_path": "__notebook__.ipynb",
   "parameters": {},
   "start_time": "2024-10-19T09:28:55.105676",
   "version": "2.6.0"
  },
  "widgets": {
   "application/vnd.jupyter.widget-state+json": {
    "state": {},
    "version_major": 2,
    "version_minor": 0
   }
  }
 },
 "nbformat": 4,
 "nbformat_minor": 5
}
